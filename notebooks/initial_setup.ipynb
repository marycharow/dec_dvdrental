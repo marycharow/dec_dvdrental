{
 "cells": [
  {
   "cell_type": "code",
   "execution_count": 0,
   "metadata": {
    "application/vnd.databricks.v1+cell": {
     "cellMetadata": {
      "byteLimit": 2048000,
      "implicitDf": true,
      "rowLimit": 10000
     },
     "inputWidgets": {},
     "nuid": "9ab59477-3440-4bbe-b25e-96b927166780",
     "showTitle": false,
     "title": ""
    }
   },
   "outputs": [
    {
     "output_type": "display_data",
     "data": {
      "text/html": [
       "<style scoped>\n",
       "  .table-result-container {\n",
       "    max-height: 300px;\n",
       "    overflow: auto;\n",
       "  }\n",
       "  table, th, td {\n",
       "    border: 1px solid black;\n",
       "    border-collapse: collapse;\n",
       "  }\n",
       "  th, td {\n",
       "    padding: 5px;\n",
       "  }\n",
       "  th {\n",
       "    text-align: left;\n",
       "  }\n",
       "</style><div class='table-result-container'><table class='table-result'><thead style='background-color: white'><tr></tr></thead><tbody></tbody></table></div>"
      ]
     },
     "metadata": {
      "application/vnd.databricks.v1+output": {
       "addedWidgets": {},
       "aggData": [],
       "aggError": "",
       "aggOverflow": false,
       "aggSchema": [],
       "aggSeriesLimitReached": false,
       "aggType": "",
       "arguments": {},
       "columnCustomDisplayInfos": {},
       "data": [],
       "datasetInfos": [],
       "dbfsResultPath": null,
       "isJsonSchema": true,
       "metadata": {
        "dataframeName": null
       },
       "overflow": false,
       "plotOptions": {
        "customPlotOptions": {},
        "displayType": "table",
        "pivotAggregation": null,
        "pivotColumns": null,
        "xColumns": null,
        "yColumns": null
       },
       "removedWidgets": [],
       "schema": [],
       "type": "table"
      }
     },
     "output_type": "display_data"
    }
   ],
   "source": [
    "%sql\n",
    "GRANT USE SCHEMA, CREATE TABLE ON SCHEMA main.default TO `trevor@devwidgets.io`;"
   ]
  },
  {
   "cell_type": "code",
   "execution_count": 0,
   "metadata": {
    "application/vnd.databricks.v1+cell": {
     "cellMetadata": {
      "byteLimit": 2048000,
      "implicitDf": true,
      "rowLimit": 10000
     },
     "inputWidgets": {},
     "nuid": "22c806d0-de5f-4d31-8606-3349f0a8e3a5",
     "showTitle": false,
     "title": ""
    }
   },
   "outputs": [
    {
     "output_type": "display_data",
     "data": {
      "text/html": [
       "<style scoped>\n",
       "  .table-result-container {\n",
       "    max-height: 300px;\n",
       "    overflow: auto;\n",
       "  }\n",
       "  table, th, td {\n",
       "    border: 1px solid black;\n",
       "    border-collapse: collapse;\n",
       "  }\n",
       "  th, td {\n",
       "    padding: 5px;\n",
       "  }\n",
       "  th {\n",
       "    text-align: left;\n",
       "  }\n",
       "</style><div class='table-result-container'><table class='table-result'><thead style='background-color: white'><tr></tr></thead><tbody></tbody></table></div>"
      ]
     },
     "metadata": {
      "application/vnd.databricks.v1+output": {
       "addedWidgets": {},
       "aggData": [],
       "aggError": "",
       "aggOverflow": false,
       "aggSchema": [],
       "aggSeriesLimitReached": false,
       "aggType": "",
       "arguments": {},
       "columnCustomDisplayInfos": {},
       "data": [],
       "datasetInfos": [],
       "dbfsResultPath": null,
       "isJsonSchema": true,
       "metadata": {
        "dataframeName": null
       },
       "overflow": false,
       "plotOptions": {
        "customPlotOptions": {},
        "displayType": "table",
        "pivotAggregation": null,
        "pivotColumns": null,
        "xColumns": null,
        "yColumns": null
       },
       "removedWidgets": [],
       "schema": [],
       "type": "table"
      }
     },
     "output_type": "display_data"
    }
   ],
   "source": [
    "%sql\n",
    "CREATE TABLE IF NOT EXISTS main.default.department\n",
    "(\n",
    "  deptcode   INT,\n",
    "  deptname  STRING,\n",
    "  location  STRING\n",
    ");"
   ]
  },
  {
   "cell_type": "code",
   "execution_count": 0,
   "metadata": {
    "application/vnd.databricks.v1+cell": {
     "cellMetadata": {
      "byteLimit": 2048000,
      "implicitDf": true,
      "rowLimit": 10000
     },
     "inputWidgets": {},
     "nuid": "8094cdf8-dc86-48e5-8eb1-53ec129cb6d9",
     "showTitle": false,
     "title": ""
    }
   },
   "outputs": [
    {
     "output_type": "display_data",
     "data": {
      "text/html": [
       "<style scoped>\n",
       "  .table-result-container {\n",
       "    max-height: 300px;\n",
       "    overflow: auto;\n",
       "  }\n",
       "  table, th, td {\n",
       "    border: 1px solid black;\n",
       "    border-collapse: collapse;\n",
       "  }\n",
       "  th, td {\n",
       "    padding: 5px;\n",
       "  }\n",
       "  th {\n",
       "    text-align: left;\n",
       "  }\n",
       "</style><div class='table-result-container'><table class='table-result'><thead style='background-color: white'><tr><th>num_affected_rows</th><th>num_inserted_rows</th></tr></thead><tbody><tr><td>2</td><td>2</td></tr></tbody></table></div>"
      ]
     },
     "metadata": {
      "application/vnd.databricks.v1+output": {
       "addedWidgets": {},
       "aggData": [],
       "aggError": "",
       "aggOverflow": false,
       "aggSchema": [],
       "aggSeriesLimitReached": false,
       "aggType": "",
       "arguments": {},
       "columnCustomDisplayInfos": {},
       "data": [
        [
         2,
         2
        ]
       ],
       "datasetInfos": [],
       "dbfsResultPath": null,
       "isJsonSchema": true,
       "metadata": {
        "dataframeName": "_sqldf",
        "executionCount": 1
       },
       "overflow": false,
       "plotOptions": {
        "customPlotOptions": {},
        "displayType": "table",
        "pivotAggregation": null,
        "pivotColumns": null,
        "xColumns": null,
        "yColumns": null
       },
       "removedWidgets": [],
       "schema": [
        {
         "metadata": "{}",
         "name": "num_affected_rows",
         "type": "\"long\""
        },
        {
         "metadata": "{}",
         "name": "num_inserted_rows",
         "type": "\"long\""
        }
       ],
       "type": "table"
      }
     },
     "output_type": "display_data"
    }
   ],
   "source": [
    "%sql\n",
    "INSERT INTO main.default.department VALUES\n",
    "  (10, 'FINANCE', 'EDINBURGH'),\n",
    "  (20, 'SOFTWARE', 'PADDINGTON');"
   ]
  },
  {
   "cell_type": "code",
   "execution_count": 0,
   "metadata": {
    "application/vnd.databricks.v1+cell": {
     "cellMetadata": {
      "byteLimit": 2048000,
      "implicitDf": true,
      "rowLimit": 10000
     },
     "inputWidgets": {},
     "nuid": "3e46dc46-7aa5-4956-a3dd-0c193237abd3",
     "showTitle": false,
     "title": ""
    }
   },
   "outputs": [
    {
     "output_type": "display_data",
     "data": {
      "text/html": [
       "<style scoped>\n",
       "  .table-result-container {\n",
       "    max-height: 300px;\n",
       "    overflow: auto;\n",
       "  }\n",
       "  table, th, td {\n",
       "    border: 1px solid black;\n",
       "    border-collapse: collapse;\n",
       "  }\n",
       "  th, td {\n",
       "    padding: 5px;\n",
       "  }\n",
       "  th {\n",
       "    text-align: left;\n",
       "  }\n",
       "</style><div class='table-result-container'><table class='table-result'><thead style='background-color: white'><tr><th>_airbyte_ab_id</th><th>_airbyte_data</th><th>_airbyte_emitted_at</th></tr></thead><tbody><tr><td>93a535d9-bc65-4678-b369-91f698e92914</td><td>{\"customer_id\":524,\"store_id\":1,\"first_name\":\"Jared\",\"last_name\":\"Ely\",\"email\":\"jared.ely@sakilacustomer.org\",\"address_id\":530,\"activebool\":true,\"create_date\":\"2006-02-14\",\"last_update\":\"2013-05-26T14:49:45.738\",\"active\":1}</td><td>2023-10-12T15:55:37.269+0000</td></tr><tr><td>f1980f55-114e-4b14-a8bb-7986d2c85c1f</td><td>{\"customer_id\":1,\"store_id\":1,\"first_name\":\"Mary\",\"last_name\":\"Smith\",\"email\":\"mary.smith@sakilacustomer.org\",\"address_id\":5,\"activebool\":true,\"create_date\":\"2006-02-14\",\"last_update\":\"2013-05-26T14:49:45.738\",\"active\":1}</td><td>2023-10-12T15:55:37.269+0000</td></tr><tr><td>2b97a8a3-be73-4a9d-9113-ca279f8a2a61</td><td>{\"customer_id\":2,\"store_id\":1,\"first_name\":\"Patricia\",\"last_name\":\"Johnson\",\"email\":\"patricia.johnson@sakilacustomer.org\",\"address_id\":6,\"activebool\":true,\"create_date\":\"2006-02-14\",\"last_update\":\"2013-05-26T14:49:45.738\",\"active\":1}</td><td>2023-10-12T15:55:37.269+0000</td></tr><tr><td>0166f8ca-268e-4505-a7cc-3a7132476524</td><td>{\"customer_id\":3,\"store_id\":1,\"first_name\":\"Linda\",\"last_name\":\"Williams\",\"email\":\"linda.williams@sakilacustomer.org\",\"address_id\":7,\"activebool\":true,\"create_date\":\"2006-02-14\",\"last_update\":\"2013-05-26T14:49:45.738\",\"active\":1}</td><td>2023-10-12T15:55:37.269+0000</td></tr><tr><td>f20f7523-1faf-4cbb-a83f-3862fc3b5c81</td><td>{\"customer_id\":4,\"store_id\":2,\"first_name\":\"Barbara\",\"last_name\":\"Jones\",\"email\":\"barbara.jones@sakilacustomer.org\",\"address_id\":8,\"activebool\":true,\"create_date\":\"2006-02-14\",\"last_update\":\"2013-05-26T14:49:45.738\",\"active\":1}</td><td>2023-10-12T15:55:37.269+0000</td></tr><tr><td>f631ecff-3416-45d5-97bc-b2cf11a5120c</td><td>{\"customer_id\":5,\"store_id\":1,\"first_name\":\"Elizabeth\",\"last_name\":\"Brown\",\"email\":\"elizabeth.brown@sakilacustomer.org\",\"address_id\":9,\"activebool\":true,\"create_date\":\"2006-02-14\",\"last_update\":\"2013-05-26T14:49:45.738\",\"active\":1}</td><td>2023-10-12T15:55:37.269+0000</td></tr><tr><td>d13721d9-2028-4ce1-b5b6-8cea33b7a81e</td><td>{\"customer_id\":6,\"store_id\":2,\"first_name\":\"Jennifer\",\"last_name\":\"Davis\",\"email\":\"jennifer.davis@sakilacustomer.org\",\"address_id\":10,\"activebool\":true,\"create_date\":\"2006-02-14\",\"last_update\":\"2013-05-26T14:49:45.738\",\"active\":1}</td><td>2023-10-12T15:55:37.269+0000</td></tr><tr><td>4d0a4bc4-3e0f-45f7-a534-97c79b468a00</td><td>{\"customer_id\":7,\"store_id\":1,\"first_name\":\"Maria\",\"last_name\":\"Miller\",\"email\":\"maria.miller@sakilacustomer.org\",\"address_id\":11,\"activebool\":true,\"create_date\":\"2006-02-14\",\"last_update\":\"2013-05-26T14:49:45.738\",\"active\":1}</td><td>2023-10-12T15:55:37.269+0000</td></tr><tr><td>9d6a53b9-668b-420f-9402-851bc83c7d9c</td><td>{\"customer_id\":8,\"store_id\":2,\"first_name\":\"Susan\",\"last_name\":\"Wilson\",\"email\":\"susan.wilson@sakilacustomer.org\",\"address_id\":12,\"activebool\":true,\"create_date\":\"2006-02-14\",\"last_update\":\"2013-05-26T14:49:45.738\",\"active\":1}</td><td>2023-10-12T15:55:37.269+0000</td></tr><tr><td>7cc95b32-99d6-477e-9821-12762c1d8838</td><td>{\"customer_id\":9,\"store_id\":2,\"first_name\":\"Margaret\",\"last_name\":\"Moore\",\"email\":\"margaret.moore@sakilacustomer.org\",\"address_id\":13,\"activebool\":true,\"create_date\":\"2006-02-14\",\"last_update\":\"2013-05-26T14:49:45.738\",\"active\":1}</td><td>2023-10-12T15:55:37.269+0000</td></tr></tbody></table></div>"
      ]
     },
     "metadata": {
      "application/vnd.databricks.v1+output": {
       "addedWidgets": {},
       "aggData": [],
       "aggError": "",
       "aggOverflow": false,
       "aggSchema": [],
       "aggSeriesLimitReached": false,
       "aggType": "",
       "arguments": {},
       "columnCustomDisplayInfos": {},
       "data": [
        [
         "93a535d9-bc65-4678-b369-91f698e92914",
         "{\"customer_id\":524,\"store_id\":1,\"first_name\":\"Jared\",\"last_name\":\"Ely\",\"email\":\"jared.ely@sakilacustomer.org\",\"address_id\":530,\"activebool\":true,\"create_date\":\"2006-02-14\",\"last_update\":\"2013-05-26T14:49:45.738\",\"active\":1}",
         "2023-10-12T15:55:37.269+0000"
        ],
        [
         "f1980f55-114e-4b14-a8bb-7986d2c85c1f",
         "{\"customer_id\":1,\"store_id\":1,\"first_name\":\"Mary\",\"last_name\":\"Smith\",\"email\":\"mary.smith@sakilacustomer.org\",\"address_id\":5,\"activebool\":true,\"create_date\":\"2006-02-14\",\"last_update\":\"2013-05-26T14:49:45.738\",\"active\":1}",
         "2023-10-12T15:55:37.269+0000"
        ],
        [
         "2b97a8a3-be73-4a9d-9113-ca279f8a2a61",
         "{\"customer_id\":2,\"store_id\":1,\"first_name\":\"Patricia\",\"last_name\":\"Johnson\",\"email\":\"patricia.johnson@sakilacustomer.org\",\"address_id\":6,\"activebool\":true,\"create_date\":\"2006-02-14\",\"last_update\":\"2013-05-26T14:49:45.738\",\"active\":1}",
         "2023-10-12T15:55:37.269+0000"
        ],
        [
         "0166f8ca-268e-4505-a7cc-3a7132476524",
         "{\"customer_id\":3,\"store_id\":1,\"first_name\":\"Linda\",\"last_name\":\"Williams\",\"email\":\"linda.williams@sakilacustomer.org\",\"address_id\":7,\"activebool\":true,\"create_date\":\"2006-02-14\",\"last_update\":\"2013-05-26T14:49:45.738\",\"active\":1}",
         "2023-10-12T15:55:37.269+0000"
        ],
        [
         "f20f7523-1faf-4cbb-a83f-3862fc3b5c81",
         "{\"customer_id\":4,\"store_id\":2,\"first_name\":\"Barbara\",\"last_name\":\"Jones\",\"email\":\"barbara.jones@sakilacustomer.org\",\"address_id\":8,\"activebool\":true,\"create_date\":\"2006-02-14\",\"last_update\":\"2013-05-26T14:49:45.738\",\"active\":1}",
         "2023-10-12T15:55:37.269+0000"
        ],
        [
         "f631ecff-3416-45d5-97bc-b2cf11a5120c",
         "{\"customer_id\":5,\"store_id\":1,\"first_name\":\"Elizabeth\",\"last_name\":\"Brown\",\"email\":\"elizabeth.brown@sakilacustomer.org\",\"address_id\":9,\"activebool\":true,\"create_date\":\"2006-02-14\",\"last_update\":\"2013-05-26T14:49:45.738\",\"active\":1}",
         "2023-10-12T15:55:37.269+0000"
        ],
        [
         "d13721d9-2028-4ce1-b5b6-8cea33b7a81e",
         "{\"customer_id\":6,\"store_id\":2,\"first_name\":\"Jennifer\",\"last_name\":\"Davis\",\"email\":\"jennifer.davis@sakilacustomer.org\",\"address_id\":10,\"activebool\":true,\"create_date\":\"2006-02-14\",\"last_update\":\"2013-05-26T14:49:45.738\",\"active\":1}",
         "2023-10-12T15:55:37.269+0000"
        ],
        [
         "4d0a4bc4-3e0f-45f7-a534-97c79b468a00",
         "{\"customer_id\":7,\"store_id\":1,\"first_name\":\"Maria\",\"last_name\":\"Miller\",\"email\":\"maria.miller@sakilacustomer.org\",\"address_id\":11,\"activebool\":true,\"create_date\":\"2006-02-14\",\"last_update\":\"2013-05-26T14:49:45.738\",\"active\":1}",
         "2023-10-12T15:55:37.269+0000"
        ],
        [
         "9d6a53b9-668b-420f-9402-851bc83c7d9c",
         "{\"customer_id\":8,\"store_id\":2,\"first_name\":\"Susan\",\"last_name\":\"Wilson\",\"email\":\"susan.wilson@sakilacustomer.org\",\"address_id\":12,\"activebool\":true,\"create_date\":\"2006-02-14\",\"last_update\":\"2013-05-26T14:49:45.738\",\"active\":1}",
         "2023-10-12T15:55:37.269+0000"
        ],
        [
         "7cc95b32-99d6-477e-9821-12762c1d8838",
         "{\"customer_id\":9,\"store_id\":2,\"first_name\":\"Margaret\",\"last_name\":\"Moore\",\"email\":\"margaret.moore@sakilacustomer.org\",\"address_id\":13,\"activebool\":true,\"create_date\":\"2006-02-14\",\"last_update\":\"2013-05-26T14:49:45.738\",\"active\":1}",
         "2023-10-12T15:55:37.269+0000"
        ]
       ],
       "datasetInfos": [],
       "dbfsResultPath": null,
       "isJsonSchema": true,
       "metadata": {
        "dataframeName": "_sqldf",
        "executionCount": 2
       },
       "overflow": false,
       "plotOptions": {
        "customPlotOptions": {},
        "displayType": "table",
        "pivotAggregation": null,
        "pivotColumns": null,
        "xColumns": null,
        "yColumns": null
       },
       "removedWidgets": [],
       "schema": [
        {
         "metadata": "{}",
         "name": "_airbyte_ab_id",
         "type": "\"string\""
        },
        {
         "metadata": "{}",
         "name": "_airbyte_data",
         "type": "\"string\""
        },
        {
         "metadata": "{}",
         "name": "_airbyte_emitted_at",
         "type": "\"timestamp\""
        }
       ],
       "type": "table"
      }
     },
     "output_type": "display_data"
    }
   ],
   "source": [
    "%sql\n",
    "select * from main.default._airbyte_raw_customer limit 10;"
   ]
  },
  {
   "cell_type": "code",
   "execution_count": 0,
   "metadata": {
    "application/vnd.databricks.v1+cell": {
     "cellMetadata": {
      "byteLimit": 2048000,
      "rowLimit": 10000
     },
     "inputWidgets": {},
     "nuid": "cabaa7ef-35b6-4e19-a59f-ea37f33c4aa8",
     "showTitle": false,
     "title": ""
    }
   },
   "outputs": [],
   "source": [
    "df = spark.read.table(\"main.default._airbyte_raw_customer\")"
   ]
  },
  {
   "cell_type": "code",
   "execution_count": 0,
   "metadata": {
    "application/vnd.databricks.v1+cell": {
     "cellMetadata": {
      "byteLimit": 2048000,
      "rowLimit": 10000
     },
     "inputWidgets": {},
     "nuid": "f10b45ca-2ba4-4c91-b7a6-e86ffae9c50f",
     "showTitle": false,
     "title": ""
    }
   },
   "outputs": [
    {
     "output_type": "display_data",
     "data": {
      "text/html": [
       "<style scoped>\n",
       "  .table-result-container {\n",
       "    max-height: 300px;\n",
       "    overflow: auto;\n",
       "  }\n",
       "  table, th, td {\n",
       "    border: 1px solid black;\n",
       "    border-collapse: collapse;\n",
       "  }\n",
       "  th, td {\n",
       "    padding: 5px;\n",
       "  }\n",
       "  th {\n",
       "    text-align: left;\n",
       "  }\n",
       "</style><div class='table-result-container'><table class='table-result'><thead style='background-color: white'><tr><th>_airbyte_ab_id</th><th>_airbyte_data</th><th>_airbyte_emitted_at</th></tr></thead><tbody><tr><td>93a535d9-bc65-4678-b369-91f698e92914</td><td>{\"customer_id\":524,\"store_id\":1,\"first_name\":\"Jared\",\"last_name\":\"Ely\",\"email\":\"jared.ely@sakilacustomer.org\",\"address_id\":530,\"activebool\":true,\"create_date\":\"2006-02-14\",\"last_update\":\"2013-05-26T14:49:45.738\",\"active\":1}</td><td>2023-10-12T15:55:37.269+0000</td></tr><tr><td>f1980f55-114e-4b14-a8bb-7986d2c85c1f</td><td>{\"customer_id\":1,\"store_id\":1,\"first_name\":\"Mary\",\"last_name\":\"Smith\",\"email\":\"mary.smith@sakilacustomer.org\",\"address_id\":5,\"activebool\":true,\"create_date\":\"2006-02-14\",\"last_update\":\"2013-05-26T14:49:45.738\",\"active\":1}</td><td>2023-10-12T15:55:37.269+0000</td></tr><tr><td>2b97a8a3-be73-4a9d-9113-ca279f8a2a61</td><td>{\"customer_id\":2,\"store_id\":1,\"first_name\":\"Patricia\",\"last_name\":\"Johnson\",\"email\":\"patricia.johnson@sakilacustomer.org\",\"address_id\":6,\"activebool\":true,\"create_date\":\"2006-02-14\",\"last_update\":\"2013-05-26T14:49:45.738\",\"active\":1}</td><td>2023-10-12T15:55:37.269+0000</td></tr><tr><td>0166f8ca-268e-4505-a7cc-3a7132476524</td><td>{\"customer_id\":3,\"store_id\":1,\"first_name\":\"Linda\",\"last_name\":\"Williams\",\"email\":\"linda.williams@sakilacustomer.org\",\"address_id\":7,\"activebool\":true,\"create_date\":\"2006-02-14\",\"last_update\":\"2013-05-26T14:49:45.738\",\"active\":1}</td><td>2023-10-12T15:55:37.269+0000</td></tr><tr><td>f20f7523-1faf-4cbb-a83f-3862fc3b5c81</td><td>{\"customer_id\":4,\"store_id\":2,\"first_name\":\"Barbara\",\"last_name\":\"Jones\",\"email\":\"barbara.jones@sakilacustomer.org\",\"address_id\":8,\"activebool\":true,\"create_date\":\"2006-02-14\",\"last_update\":\"2013-05-26T14:49:45.738\",\"active\":1}</td><td>2023-10-12T15:55:37.269+0000</td></tr><tr><td>f631ecff-3416-45d5-97bc-b2cf11a5120c</td><td>{\"customer_id\":5,\"store_id\":1,\"first_name\":\"Elizabeth\",\"last_name\":\"Brown\",\"email\":\"elizabeth.brown@sakilacustomer.org\",\"address_id\":9,\"activebool\":true,\"create_date\":\"2006-02-14\",\"last_update\":\"2013-05-26T14:49:45.738\",\"active\":1}</td><td>2023-10-12T15:55:37.269+0000</td></tr><tr><td>d13721d9-2028-4ce1-b5b6-8cea33b7a81e</td><td>{\"customer_id\":6,\"store_id\":2,\"first_name\":\"Jennifer\",\"last_name\":\"Davis\",\"email\":\"jennifer.davis@sakilacustomer.org\",\"address_id\":10,\"activebool\":true,\"create_date\":\"2006-02-14\",\"last_update\":\"2013-05-26T14:49:45.738\",\"active\":1}</td><td>2023-10-12T15:55:37.269+0000</td></tr><tr><td>4d0a4bc4-3e0f-45f7-a534-97c79b468a00</td><td>{\"customer_id\":7,\"store_id\":1,\"first_name\":\"Maria\",\"last_name\":\"Miller\",\"email\":\"maria.miller@sakilacustomer.org\",\"address_id\":11,\"activebool\":true,\"create_date\":\"2006-02-14\",\"last_update\":\"2013-05-26T14:49:45.738\",\"active\":1}</td><td>2023-10-12T15:55:37.269+0000</td></tr><tr><td>9d6a53b9-668b-420f-9402-851bc83c7d9c</td><td>{\"customer_id\":8,\"store_id\":2,\"first_name\":\"Susan\",\"last_name\":\"Wilson\",\"email\":\"susan.wilson@sakilacustomer.org\",\"address_id\":12,\"activebool\":true,\"create_date\":\"2006-02-14\",\"last_update\":\"2013-05-26T14:49:45.738\",\"active\":1}</td><td>2023-10-12T15:55:37.269+0000</td></tr><tr><td>7cc95b32-99d6-477e-9821-12762c1d8838</td><td>{\"customer_id\":9,\"store_id\":2,\"first_name\":\"Margaret\",\"last_name\":\"Moore\",\"email\":\"margaret.moore@sakilacustomer.org\",\"address_id\":13,\"activebool\":true,\"create_date\":\"2006-02-14\",\"last_update\":\"2013-05-26T14:49:45.738\",\"active\":1}</td><td>2023-10-12T15:55:37.269+0000</td></tr><tr><td>33a5f89b-f40a-49c4-be45-e500d08841d2</td><td>{\"customer_id\":10,\"store_id\":1,\"first_name\":\"Dorothy\",\"last_name\":\"Taylor\",\"email\":\"dorothy.taylor@sakilacustomer.org\",\"address_id\":14,\"activebool\":true,\"create_date\":\"2006-02-14\",\"last_update\":\"2013-05-26T14:49:45.738\",\"active\":1}</td><td>2023-10-12T15:55:37.269+0000</td></tr><tr><td>908e788d-1e69-4d0e-a817-3942b9e90bfd</td><td>{\"customer_id\":11,\"store_id\":2,\"first_name\":\"Lisa\",\"last_name\":\"Anderson\",\"email\":\"lisa.anderson@sakilacustomer.org\",\"address_id\":15,\"activebool\":true,\"create_date\":\"2006-02-14\",\"last_update\":\"2013-05-26T14:49:45.738\",\"active\":1}</td><td>2023-10-12T15:55:37.269+0000</td></tr><tr><td>9284a198-070c-4541-a4c6-0613fce40579</td><td>{\"customer_id\":12,\"store_id\":1,\"first_name\":\"Nancy\",\"last_name\":\"Thomas\",\"email\":\"nancy.thomas@sakilacustomer.org\",\"address_id\":16,\"activebool\":true,\"create_date\":\"2006-02-14\",\"last_update\":\"2013-05-26T14:49:45.738\",\"active\":1}</td><td>2023-10-12T15:55:37.269+0000</td></tr><tr><td>bb8e2103-cc3f-49c7-af83-f417d4daa86d</td><td>{\"customer_id\":13,\"store_id\":2,\"first_name\":\"Karen\",\"last_name\":\"Jackson\",\"email\":\"karen.jackson@sakilacustomer.org\",\"address_id\":17,\"activebool\":true,\"create_date\":\"2006-02-14\",\"last_update\":\"2013-05-26T14:49:45.738\",\"active\":1}</td><td>2023-10-12T15:55:37.269+0000</td></tr><tr><td>281aa72d-19fb-49d2-b155-fc75a611f707</td><td>{\"customer_id\":14,\"store_id\":2,\"first_name\":\"Betty\",\"last_name\":\"White\",\"email\":\"betty.white@sakilacustomer.org\",\"address_id\":18,\"activebool\":true,\"create_date\":\"2006-02-14\",\"last_update\":\"2013-05-26T14:49:45.738\",\"active\":1}</td><td>2023-10-12T15:55:37.269+0000</td></tr><tr><td>c25ad9da-8aa8-4fe9-8e99-ae2166eb89ed</td><td>{\"customer_id\":15,\"store_id\":1,\"first_name\":\"Helen\",\"last_name\":\"Harris\",\"email\":\"helen.harris@sakilacustomer.org\",\"address_id\":19,\"activebool\":true,\"create_date\":\"2006-02-14\",\"last_update\":\"2013-05-26T14:49:45.738\",\"active\":1}</td><td>2023-10-12T15:55:37.269+0000</td></tr><tr><td>f224d1f4-20c3-45f9-8466-7e4a8d5ba231</td><td>{\"customer_id\":16,\"store_id\":2,\"first_name\":\"Sandra\",\"last_name\":\"Martin\",\"email\":\"sandra.martin@sakilacustomer.org\",\"address_id\":20,\"activebool\":true,\"create_date\":\"2006-02-14\",\"last_update\":\"2013-05-26T14:49:45.738\",\"active\":0}</td><td>2023-10-12T15:55:37.269+0000</td></tr><tr><td>29e24ddf-a265-41ed-9388-11cd79dc3f1a</td><td>{\"customer_id\":17,\"store_id\":1,\"first_name\":\"Donna\",\"last_name\":\"Thompson\",\"email\":\"donna.thompson@sakilacustomer.org\",\"address_id\":21,\"activebool\":true,\"create_date\":\"2006-02-14\",\"last_update\":\"2013-05-26T14:49:45.738\",\"active\":1}</td><td>2023-10-12T15:55:37.269+0000</td></tr><tr><td>ba33632e-9fd2-47a8-9f15-ec894d43fb6b</td><td>{\"customer_id\":18,\"store_id\":2,\"first_name\":\"Carol\",\"last_name\":\"Garcia\",\"email\":\"carol.garcia@sakilacustomer.org\",\"address_id\":22,\"activebool\":true,\"create_date\":\"2006-02-14\",\"last_update\":\"2013-05-26T14:49:45.738\",\"active\":1}</td><td>2023-10-12T15:55:37.269+0000</td></tr><tr><td>9c1baebc-4ca0-4cf0-9866-afb43f8cc4d2</td><td>{\"customer_id\":19,\"store_id\":1,\"first_name\":\"Ruth\",\"last_name\":\"Martinez\",\"email\":\"ruth.martinez@sakilacustomer.org\",\"address_id\":23,\"activebool\":true,\"create_date\":\"2006-02-14\",\"last_update\":\"2013-05-26T14:49:45.738\",\"active\":1}</td><td>2023-10-12T15:55:37.269+0000</td></tr><tr><td>6bfcf8dc-075e-4eb6-960a-8849bd8fa0cc</td><td>{\"customer_id\":20,\"store_id\":2,\"first_name\":\"Sharon\",\"last_name\":\"Robinson\",\"email\":\"sharon.robinson@sakilacustomer.org\",\"address_id\":24,\"activebool\":true,\"create_date\":\"2006-02-14\",\"last_update\":\"2013-05-26T14:49:45.738\",\"active\":1}</td><td>2023-10-12T15:55:37.269+0000</td></tr><tr><td>ade864f8-fadc-40d0-ad1d-5a7c84d8148e</td><td>{\"customer_id\":21,\"store_id\":1,\"first_name\":\"Michelle\",\"last_name\":\"Clark\",\"email\":\"michelle.clark@sakilacustomer.org\",\"address_id\":25,\"activebool\":true,\"create_date\":\"2006-02-14\",\"last_update\":\"2013-05-26T14:49:45.738\",\"active\":1}</td><td>2023-10-12T15:55:37.269+0000</td></tr><tr><td>3d7aded4-501e-4adf-9f21-a5efe62f183b</td><td>{\"customer_id\":22,\"store_id\":1,\"first_name\":\"Laura\",\"last_name\":\"Rodriguez\",\"email\":\"laura.rodriguez@sakilacustomer.org\",\"address_id\":26,\"activebool\":true,\"create_date\":\"2006-02-14\",\"last_update\":\"2013-05-26T14:49:45.738\",\"active\":1}</td><td>2023-10-12T15:55:37.269+0000</td></tr><tr><td>a63cda9a-4de6-4589-a172-87f617eab73a</td><td>{\"customer_id\":23,\"store_id\":2,\"first_name\":\"Sarah\",\"last_name\":\"Lewis\",\"email\":\"sarah.lewis@sakilacustomer.org\",\"address_id\":27,\"activebool\":true,\"create_date\":\"2006-02-14\",\"last_update\":\"2013-05-26T14:49:45.738\",\"active\":1}</td><td>2023-10-12T15:55:37.269+0000</td></tr><tr><td>146ea801-03e7-4b8e-a34a-402472ed9f27</td><td>{\"customer_id\":24,\"store_id\":2,\"first_name\":\"Kimberly\",\"last_name\":\"Lee\",\"email\":\"kimberly.lee@sakilacustomer.org\",\"address_id\":28,\"activebool\":true,\"create_date\":\"2006-02-14\",\"last_update\":\"2013-05-26T14:49:45.738\",\"active\":1}</td><td>2023-10-12T15:55:37.269+0000</td></tr><tr><td>20630ab3-5eba-40cb-b8ea-2af103538420</td><td>{\"customer_id\":25,\"store_id\":1,\"first_name\":\"Deborah\",\"last_name\":\"Walker\",\"email\":\"deborah.walker@sakilacustomer.org\",\"address_id\":29,\"activebool\":true,\"create_date\":\"2006-02-14\",\"last_update\":\"2013-05-26T14:49:45.738\",\"active\":1}</td><td>2023-10-12T15:55:37.269+0000</td></tr><tr><td>1ba0a24b-02a9-42f3-bce3-64aaec500f81</td><td>{\"customer_id\":26,\"store_id\":2,\"first_name\":\"Jessica\",\"last_name\":\"Hall\",\"email\":\"jessica.hall@sakilacustomer.org\",\"address_id\":30,\"activebool\":true,\"create_date\":\"2006-02-14\",\"last_update\":\"2013-05-26T14:49:45.738\",\"active\":1}</td><td>2023-10-12T15:55:37.269+0000</td></tr><tr><td>3be78d04-ae57-46ca-a13d-7b678cb623ff</td><td>{\"customer_id\":27,\"store_id\":2,\"first_name\":\"Shirley\",\"last_name\":\"Allen\",\"email\":\"shirley.allen@sakilacustomer.org\",\"address_id\":31,\"activebool\":true,\"create_date\":\"2006-02-14\",\"last_update\":\"2013-05-26T14:49:45.738\",\"active\":1}</td><td>2023-10-12T15:55:37.269+0000</td></tr><tr><td>604100b0-44d2-4f41-abe4-cd259434feab</td><td>{\"customer_id\":28,\"store_id\":1,\"first_name\":\"Cynthia\",\"last_name\":\"Young\",\"email\":\"cynthia.young@sakilacustomer.org\",\"address_id\":32,\"activebool\":true,\"create_date\":\"2006-02-14\",\"last_update\":\"2013-05-26T14:49:45.738\",\"active\":1}</td><td>2023-10-12T15:55:37.269+0000</td></tr><tr><td>a1bb15f7-cb1a-455e-9c61-364a840ba082</td><td>{\"customer_id\":29,\"store_id\":2,\"first_name\":\"Angela\",\"last_name\":\"Hernandez\",\"email\":\"angela.hernandez@sakilacustomer.org\",\"address_id\":33,\"activebool\":true,\"create_date\":\"2006-02-14\",\"last_update\":\"2013-05-26T14:49:45.738\",\"active\":1}</td><td>2023-10-12T15:55:37.269+0000</td></tr><tr><td>2adb688d-cdd6-4708-ac95-8683d81ff743</td><td>{\"customer_id\":30,\"store_id\":1,\"first_name\":\"Melissa\",\"last_name\":\"King\",\"email\":\"melissa.king@sakilacustomer.org\",\"address_id\":34,\"activebool\":true,\"create_date\":\"2006-02-14\",\"last_update\":\"2013-05-26T14:49:45.738\",\"active\":1}</td><td>2023-10-12T15:55:37.269+0000</td></tr><tr><td>bae7f416-4918-4dfd-9937-59772b7e4b74</td><td>{\"customer_id\":31,\"store_id\":2,\"first_name\":\"Brenda\",\"last_name\":\"Wright\",\"email\":\"brenda.wright@sakilacustomer.org\",\"address_id\":35,\"activebool\":true,\"create_date\":\"2006-02-14\",\"last_update\":\"2013-05-26T14:49:45.738\",\"active\":1}</td><td>2023-10-12T15:55:37.269+0000</td></tr><tr><td>87ec5eb6-8264-438f-9fe5-a6cc4a991a6e</td><td>{\"customer_id\":32,\"store_id\":1,\"first_name\":\"Amy\",\"last_name\":\"Lopez\",\"email\":\"amy.lopez@sakilacustomer.org\",\"address_id\":36,\"activebool\":true,\"create_date\":\"2006-02-14\",\"last_update\":\"2013-05-26T14:49:45.738\",\"active\":1}</td><td>2023-10-12T15:55:37.269+0000</td></tr><tr><td>b1c0b82e-c457-4e91-a6c1-945a137ad1d3</td><td>{\"customer_id\":33,\"store_id\":2,\"first_name\":\"Anna\",\"last_name\":\"Hill\",\"email\":\"anna.hill@sakilacustomer.org\",\"address_id\":37,\"activebool\":true,\"create_date\":\"2006-02-14\",\"last_update\":\"2013-05-26T14:49:45.738\",\"active\":1}</td><td>2023-10-12T15:55:37.269+0000</td></tr><tr><td>e99b3964-de91-4377-91ee-a03300718cd2</td><td>{\"customer_id\":34,\"store_id\":2,\"first_name\":\"Rebecca\",\"last_name\":\"Scott\",\"email\":\"rebecca.scott@sakilacustomer.org\",\"address_id\":38,\"activebool\":true,\"create_date\":\"2006-02-14\",\"last_update\":\"2013-05-26T14:49:45.738\",\"active\":1}</td><td>2023-10-12T15:55:37.269+0000</td></tr><tr><td>ea6e3b2f-c2bc-4356-8141-175ba41d65b3</td><td>{\"customer_id\":35,\"store_id\":2,\"first_name\":\"Virginia\",\"last_name\":\"Green\",\"email\":\"virginia.green@sakilacustomer.org\",\"address_id\":39,\"activebool\":true,\"create_date\":\"2006-02-14\",\"last_update\":\"2013-05-26T14:49:45.738\",\"active\":1}</td><td>2023-10-12T15:55:37.269+0000</td></tr><tr><td>6f1ab02a-1951-4482-b42f-417bd931e537</td><td>{\"customer_id\":36,\"store_id\":2,\"first_name\":\"Kathleen\",\"last_name\":\"Adams\",\"email\":\"kathleen.adams@sakilacustomer.org\",\"address_id\":40,\"activebool\":true,\"create_date\":\"2006-02-14\",\"last_update\":\"2013-05-26T14:49:45.738\",\"active\":1}</td><td>2023-10-12T15:55:37.269+0000</td></tr><tr><td>c0e78d0a-b0fc-4c14-b978-6c474896d0b6</td><td>{\"customer_id\":37,\"store_id\":1,\"first_name\":\"Pamela\",\"last_name\":\"Baker\",\"email\":\"pamela.baker@sakilacustomer.org\",\"address_id\":41,\"activebool\":true,\"create_date\":\"2006-02-14\",\"last_update\":\"2013-05-26T14:49:45.738\",\"active\":1}</td><td>2023-10-12T15:55:37.269+0000</td></tr><tr><td>8c91d77a-fda5-40f5-845b-f2a95bbc2945</td><td>{\"customer_id\":38,\"store_id\":1,\"first_name\":\"Martha\",\"last_name\":\"Gonzalez\",\"email\":\"martha.gonzalez@sakilacustomer.org\",\"address_id\":42,\"activebool\":true,\"create_date\":\"2006-02-14\",\"last_update\":\"2013-05-26T14:49:45.738\",\"active\":1}</td><td>2023-10-12T15:55:37.269+0000</td></tr><tr><td>65b4a94b-6344-4e4e-bd85-b4da9bdccc4d</td><td>{\"customer_id\":39,\"store_id\":1,\"first_name\":\"Debra\",\"last_name\":\"Nelson\",\"email\":\"debra.nelson@sakilacustomer.org\",\"address_id\":43,\"activebool\":true,\"create_date\":\"2006-02-14\",\"last_update\":\"2013-05-26T14:49:45.738\",\"active\":1}</td><td>2023-10-12T15:55:37.269+0000</td></tr><tr><td>a192d8af-bfc9-4635-bf1b-a740e0498b51</td><td>{\"customer_id\":40,\"store_id\":2,\"first_name\":\"Amanda\",\"last_name\":\"Carter\",\"email\":\"amanda.carter@sakilacustomer.org\",\"address_id\":44,\"activebool\":true,\"create_date\":\"2006-02-14\",\"last_update\":\"2013-05-26T14:49:45.738\",\"active\":1}</td><td>2023-10-12T15:55:37.269+0000</td></tr><tr><td>bc21aa77-91fa-412d-af8f-e90f4dc94eed</td><td>{\"customer_id\":41,\"store_id\":1,\"first_name\":\"Stephanie\",\"last_name\":\"Mitchell\",\"email\":\"stephanie.mitchell@sakilacustomer.org\",\"address_id\":45,\"activebool\":true,\"create_date\":\"2006-02-14\",\"last_update\":\"2013-05-26T14:49:45.738\",\"active\":1}</td><td>2023-10-12T15:55:37.269+0000</td></tr><tr><td>328740a1-a7fd-4c26-ab6f-a66c543acc07</td><td>{\"customer_id\":42,\"store_id\":2,\"first_name\":\"Carolyn\",\"last_name\":\"Perez\",\"email\":\"carolyn.perez@sakilacustomer.org\",\"address_id\":46,\"activebool\":true,\"create_date\":\"2006-02-14\",\"last_update\":\"2013-05-26T14:49:45.738\",\"active\":1}</td><td>2023-10-12T15:55:37.269+0000</td></tr><tr><td>cf8651b1-df2d-4834-8401-fa85b03eec7f</td><td>{\"customer_id\":43,\"store_id\":2,\"first_name\":\"Christine\",\"last_name\":\"Roberts\",\"email\":\"christine.roberts@sakilacustomer.org\",\"address_id\":47,\"activebool\":true,\"create_date\":\"2006-02-14\",\"last_update\":\"2013-05-26T14:49:45.738\",\"active\":1}</td><td>2023-10-12T15:55:37.269+0000</td></tr><tr><td>bd0d4de0-b6d1-4d97-af60-29324553447c</td><td>{\"customer_id\":44,\"store_id\":1,\"first_name\":\"Marie\",\"last_name\":\"Turner\",\"email\":\"marie.turner@sakilacustomer.org\",\"address_id\":48,\"activebool\":true,\"create_date\":\"2006-02-14\",\"last_update\":\"2013-05-26T14:49:45.738\",\"active\":1}</td><td>2023-10-12T15:55:37.269+0000</td></tr><tr><td>d54dc5d8-8d00-460f-abb6-8fb159c4ac96</td><td>{\"customer_id\":45,\"store_id\":1,\"first_name\":\"Janet\",\"last_name\":\"Phillips\",\"email\":\"janet.phillips@sakilacustomer.org\",\"address_id\":49,\"activebool\":true,\"create_date\":\"2006-02-14\",\"last_update\":\"2013-05-26T14:49:45.738\",\"active\":1}</td><td>2023-10-12T15:55:37.269+0000</td></tr><tr><td>4a9bcc1f-4b5f-40b1-a70f-9f8ef245b191</td><td>{\"customer_id\":46,\"store_id\":2,\"first_name\":\"Catherine\",\"last_name\":\"Campbell\",\"email\":\"catherine.campbell@sakilacustomer.org\",\"address_id\":50,\"activebool\":true,\"create_date\":\"2006-02-14\",\"last_update\":\"2013-05-26T14:49:45.738\",\"active\":1}</td><td>2023-10-12T15:55:37.269+0000</td></tr><tr><td>8269a1e5-aadb-4139-90c3-e9b779249661</td><td>{\"customer_id\":47,\"store_id\":1,\"first_name\":\"Frances\",\"last_name\":\"Parker\",\"email\":\"frances.parker@sakilacustomer.org\",\"address_id\":51,\"activebool\":true,\"create_date\":\"2006-02-14\",\"last_update\":\"2013-05-26T14:49:45.738\",\"active\":1}</td><td>2023-10-12T15:55:37.269+0000</td></tr><tr><td>c9da04a8-89e0-484a-b9a2-65a2ff1316ff</td><td>{\"customer_id\":48,\"store_id\":1,\"first_name\":\"Ann\",\"last_name\":\"Evans\",\"email\":\"ann.evans@sakilacustomer.org\",\"address_id\":52,\"activebool\":true,\"create_date\":\"2006-02-14\",\"last_update\":\"2013-05-26T14:49:45.738\",\"active\":1}</td><td>2023-10-12T15:55:37.269+0000</td></tr><tr><td>5f67cdd8-3ff8-4b7e-8f25-d967468a493b</td><td>{\"customer_id\":49,\"store_id\":2,\"first_name\":\"Joyce\",\"last_name\":\"Edwards\",\"email\":\"joyce.edwards@sakilacustomer.org\",\"address_id\":53,\"activebool\":true,\"create_date\":\"2006-02-14\",\"last_update\":\"2013-05-26T14:49:45.738\",\"active\":1}</td><td>2023-10-12T15:55:37.269+0000</td></tr><tr><td>fe7b9113-a28a-4e6c-840c-7e77fb374489</td><td>{\"customer_id\":50,\"store_id\":1,\"first_name\":\"Diane\",\"last_name\":\"Collins\",\"email\":\"diane.collins@sakilacustomer.org\",\"address_id\":54,\"activebool\":true,\"create_date\":\"2006-02-14\",\"last_update\":\"2013-05-26T14:49:45.738\",\"active\":1}</td><td>2023-10-12T15:55:37.269+0000</td></tr><tr><td>db10efc3-f11c-4431-ad85-815ba43851b7</td><td>{\"customer_id\":51,\"store_id\":1,\"first_name\":\"Alice\",\"last_name\":\"Stewart\",\"email\":\"alice.stewart@sakilacustomer.org\",\"address_id\":55,\"activebool\":true,\"create_date\":\"2006-02-14\",\"last_update\":\"2013-05-26T14:49:45.738\",\"active\":1}</td><td>2023-10-12T15:55:37.269+0000</td></tr><tr><td>6fcb209d-7e87-4ca5-afbb-49485344892b</td><td>{\"customer_id\":52,\"store_id\":1,\"first_name\":\"Julie\",\"last_name\":\"Sanchez\",\"email\":\"julie.sanchez@sakilacustomer.org\",\"address_id\":56,\"activebool\":true,\"create_date\":\"2006-02-14\",\"last_update\":\"2013-05-26T14:49:45.738\",\"active\":1}</td><td>2023-10-12T15:55:37.269+0000</td></tr><tr><td>d12cca76-5da3-42c3-b147-1d46339d6be1</td><td>{\"customer_id\":53,\"store_id\":1,\"first_name\":\"Heather\",\"last_name\":\"Morris\",\"email\":\"heather.morris@sakilacustomer.org\",\"address_id\":57,\"activebool\":true,\"create_date\":\"2006-02-14\",\"last_update\":\"2013-05-26T14:49:45.738\",\"active\":1}</td><td>2023-10-12T15:55:37.269+0000</td></tr><tr><td>b612f5cd-f9d7-4b07-b726-8cb780c7dd97</td><td>{\"customer_id\":54,\"store_id\":1,\"first_name\":\"Teresa\",\"last_name\":\"Rogers\",\"email\":\"teresa.rogers@sakilacustomer.org\",\"address_id\":58,\"activebool\":true,\"create_date\":\"2006-02-14\",\"last_update\":\"2013-05-26T14:49:45.738\",\"active\":1}</td><td>2023-10-12T15:55:37.269+0000</td></tr><tr><td>1b21c948-1eab-4215-98c8-5a1d2d7eece7</td><td>{\"customer_id\":55,\"store_id\":2,\"first_name\":\"Doris\",\"last_name\":\"Reed\",\"email\":\"doris.reed@sakilacustomer.org\",\"address_id\":59,\"activebool\":true,\"create_date\":\"2006-02-14\",\"last_update\":\"2013-05-26T14:49:45.738\",\"active\":1}</td><td>2023-10-12T15:55:37.269+0000</td></tr><tr><td>be03456c-2243-4ebb-8736-b419d20747b2</td><td>{\"customer_id\":56,\"store_id\":1,\"first_name\":\"Gloria\",\"last_name\":\"Cook\",\"email\":\"gloria.cook@sakilacustomer.org\",\"address_id\":60,\"activebool\":true,\"create_date\":\"2006-02-14\",\"last_update\":\"2013-05-26T14:49:45.738\",\"active\":1}</td><td>2023-10-12T15:55:37.269+0000</td></tr><tr><td>d9846780-a121-45fb-9e6e-40d307e4466f</td><td>{\"customer_id\":57,\"store_id\":2,\"first_name\":\"Evelyn\",\"last_name\":\"Morgan\",\"email\":\"evelyn.morgan@sakilacustomer.org\",\"address_id\":61,\"activebool\":true,\"create_date\":\"2006-02-14\",\"last_update\":\"2013-05-26T14:49:45.738\",\"active\":1}</td><td>2023-10-12T15:55:37.269+0000</td></tr><tr><td>4e3a8048-a954-402e-a66a-efd0a9f7f976</td><td>{\"customer_id\":58,\"store_id\":1,\"first_name\":\"Jean\",\"last_name\":\"Bell\",\"email\":\"jean.bell@sakilacustomer.org\",\"address_id\":62,\"activebool\":true,\"create_date\":\"2006-02-14\",\"last_update\":\"2013-05-26T14:49:45.738\",\"active\":1}</td><td>2023-10-12T15:55:37.269+0000</td></tr><tr><td>6897a355-d4db-4626-ac4e-3ac5d53529d1</td><td>{\"customer_id\":59,\"store_id\":1,\"first_name\":\"Cheryl\",\"last_name\":\"Murphy\",\"email\":\"cheryl.murphy@sakilacustomer.org\",\"address_id\":63,\"activebool\":true,\"create_date\":\"2006-02-14\",\"last_update\":\"2013-05-26T14:49:45.738\",\"active\":1}</td><td>2023-10-12T15:55:37.269+0000</td></tr><tr><td>729a4bf5-5f78-4472-93ff-524d0cf315bd</td><td>{\"customer_id\":60,\"store_id\":1,\"first_name\":\"Mildred\",\"last_name\":\"Bailey\",\"email\":\"mildred.bailey@sakilacustomer.org\",\"address_id\":64,\"activebool\":true,\"create_date\":\"2006-02-14\",\"last_update\":\"2013-05-26T14:49:45.738\",\"active\":1}</td><td>2023-10-12T15:55:37.269+0000</td></tr><tr><td>ca7da942-5d2d-4a48-af7d-8bc52275338c</td><td>{\"customer_id\":61,\"store_id\":2,\"first_name\":\"Katherine\",\"last_name\":\"Rivera\",\"email\":\"katherine.rivera@sakilacustomer.org\",\"address_id\":65,\"activebool\":true,\"create_date\":\"2006-02-14\",\"last_update\":\"2013-05-26T14:49:45.738\",\"active\":1}</td><td>2023-10-12T15:55:37.269+0000</td></tr><tr><td>6d96e755-aaf5-4ccf-95e0-053453ba246b</td><td>{\"customer_id\":62,\"store_id\":1,\"first_name\":\"Joan\",\"last_name\":\"Cooper\",\"email\":\"joan.cooper@sakilacustomer.org\",\"address_id\":66,\"activebool\":true,\"create_date\":\"2006-02-14\",\"last_update\":\"2013-05-26T14:49:45.738\",\"active\":1}</td><td>2023-10-12T15:55:37.269+0000</td></tr><tr><td>d1862039-d8b7-4b7f-8234-77a5f73efd97</td><td>{\"customer_id\":63,\"store_id\":1,\"first_name\":\"Ashley\",\"last_name\":\"Richardson\",\"email\":\"ashley.richardson@sakilacustomer.org\",\"address_id\":67,\"activebool\":true,\"create_date\":\"2006-02-14\",\"last_update\":\"2013-05-26T14:49:45.738\",\"active\":1}</td><td>2023-10-12T15:55:37.269+0000</td></tr><tr><td>3fd0804b-4ff3-4886-baa2-98b125e959e6</td><td>{\"customer_id\":64,\"store_id\":2,\"first_name\":\"Judith\",\"last_name\":\"Cox\",\"email\":\"judith.cox@sakilacustomer.org\",\"address_id\":68,\"activebool\":true,\"create_date\":\"2006-02-14\",\"last_update\":\"2013-05-26T14:49:45.738\",\"active\":0}</td><td>2023-10-12T15:55:37.269+0000</td></tr><tr><td>b13d5f49-f2fd-48cd-94c7-f6027fb1952c</td><td>{\"customer_id\":65,\"store_id\":2,\"first_name\":\"Rose\",\"last_name\":\"Howard\",\"email\":\"rose.howard@sakilacustomer.org\",\"address_id\":69,\"activebool\":true,\"create_date\":\"2006-02-14\",\"last_update\":\"2013-05-26T14:49:45.738\",\"active\":1}</td><td>2023-10-12T15:55:37.269+0000</td></tr><tr><td>c93c34e2-c95c-4b02-ab60-96873835b8a0</td><td>{\"customer_id\":66,\"store_id\":2,\"first_name\":\"Janice\",\"last_name\":\"Ward\",\"email\":\"janice.ward@sakilacustomer.org\",\"address_id\":70,\"activebool\":true,\"create_date\":\"2006-02-14\",\"last_update\":\"2013-05-26T14:49:45.738\",\"active\":1}</td><td>2023-10-12T15:55:37.269+0000</td></tr><tr><td>18bf4915-76f1-41a2-90d1-5f4878709fc5</td><td>{\"customer_id\":67,\"store_id\":1,\"first_name\":\"Kelly\",\"last_name\":\"Torres\",\"email\":\"kelly.torres@sakilacustomer.org\",\"address_id\":71,\"activebool\":true,\"create_date\":\"2006-02-14\",\"last_update\":\"2013-05-26T14:49:45.738\",\"active\":1}</td><td>2023-10-12T15:55:37.269+0000</td></tr><tr><td>326b3ae5-1016-4d3b-9750-9b663be058d8</td><td>{\"customer_id\":68,\"store_id\":1,\"first_name\":\"Nicole\",\"last_name\":\"Peterson\",\"email\":\"nicole.peterson@sakilacustomer.org\",\"address_id\":72,\"activebool\":true,\"create_date\":\"2006-02-14\",\"last_update\":\"2013-05-26T14:49:45.738\",\"active\":1}</td><td>2023-10-12T15:55:37.269+0000</td></tr><tr><td>7a4a1236-d7d7-4a05-8f1a-62c1021dcff7</td><td>{\"customer_id\":69,\"store_id\":2,\"first_name\":\"Judy\",\"last_name\":\"Gray\",\"email\":\"judy.gray@sakilacustomer.org\",\"address_id\":73,\"activebool\":true,\"create_date\":\"2006-02-14\",\"last_update\":\"2013-05-26T14:49:45.738\",\"active\":1}</td><td>2023-10-12T15:55:37.269+0000</td></tr><tr><td>632ce0cd-f277-4569-9336-d09209ed3f44</td><td>{\"customer_id\":70,\"store_id\":2,\"first_name\":\"Christina\",\"last_name\":\"Ramirez\",\"email\":\"christina.ramirez@sakilacustomer.org\",\"address_id\":74,\"activebool\":true,\"create_date\":\"2006-02-14\",\"last_update\":\"2013-05-26T14:49:45.738\",\"active\":1}</td><td>2023-10-12T15:55:37.269+0000</td></tr><tr><td>dd6d5e96-13f5-466e-9b64-6110cfdccf4d</td><td>{\"customer_id\":71,\"store_id\":1,\"first_name\":\"Kathy\",\"last_name\":\"James\",\"email\":\"kathy.james@sakilacustomer.org\",\"address_id\":75,\"activebool\":true,\"create_date\":\"2006-02-14\",\"last_update\":\"2013-05-26T14:49:45.738\",\"active\":1}</td><td>2023-10-12T15:55:37.269+0000</td></tr><tr><td>8ab12ae8-1725-4732-8ddf-84de2f819700</td><td>{\"customer_id\":72,\"store_id\":2,\"first_name\":\"Theresa\",\"last_name\":\"Watson\",\"email\":\"theresa.watson@sakilacustomer.org\",\"address_id\":76,\"activebool\":true,\"create_date\":\"2006-02-14\",\"last_update\":\"2013-05-26T14:49:45.738\",\"active\":1}</td><td>2023-10-12T15:55:37.269+0000</td></tr><tr><td>eba89c4b-ebc3-436f-b116-143ecfe581ab</td><td>{\"customer_id\":73,\"store_id\":2,\"first_name\":\"Beverly\",\"last_name\":\"Brooks\",\"email\":\"beverly.brooks@sakilacustomer.org\",\"address_id\":77,\"activebool\":true,\"create_date\":\"2006-02-14\",\"last_update\":\"2013-05-26T14:49:45.738\",\"active\":1}</td><td>2023-10-12T15:55:37.269+0000</td></tr><tr><td>d24aac96-8ff8-404b-bcc5-c7b54f1f8439</td><td>{\"customer_id\":74,\"store_id\":1,\"first_name\":\"Denise\",\"last_name\":\"Kelly\",\"email\":\"denise.kelly@sakilacustomer.org\",\"address_id\":78,\"activebool\":true,\"create_date\":\"2006-02-14\",\"last_update\":\"2013-05-26T14:49:45.738\",\"active\":1}</td><td>2023-10-12T15:55:37.269+0000</td></tr><tr><td>8e653882-6ecb-4ef5-9209-a4e22505f0d2</td><td>{\"customer_id\":75,\"store_id\":2,\"first_name\":\"Tammy\",\"last_name\":\"Sanders\",\"email\":\"tammy.sanders@sakilacustomer.org\",\"address_id\":79,\"activebool\":true,\"create_date\":\"2006-02-14\",\"last_update\":\"2013-05-26T14:49:45.738\",\"active\":1}</td><td>2023-10-12T15:55:37.269+0000</td></tr><tr><td>b7a8c8ca-1e99-41ca-b814-4c81ccf97ffd</td><td>{\"customer_id\":76,\"store_id\":2,\"first_name\":\"Irene\",\"last_name\":\"Price\",\"email\":\"irene.price@sakilacustomer.org\",\"address_id\":80,\"activebool\":true,\"create_date\":\"2006-02-14\",\"last_update\":\"2013-05-26T14:49:45.738\",\"active\":1}</td><td>2023-10-12T15:55:37.269+0000</td></tr><tr><td>ee432a87-73d5-4a32-acc1-dc28ec750e8d</td><td>{\"customer_id\":77,\"store_id\":2,\"first_name\":\"Jane\",\"last_name\":\"Bennett\",\"email\":\"jane.bennett@sakilacustomer.org\",\"address_id\":81,\"activebool\":true,\"create_date\":\"2006-02-14\",\"last_update\":\"2013-05-26T14:49:45.738\",\"active\":1}</td><td>2023-10-12T15:55:37.269+0000</td></tr><tr><td>77eb1c26-b9e8-45fa-8e57-f7ee14693533</td><td>{\"customer_id\":78,\"store_id\":1,\"first_name\":\"Lori\",\"last_name\":\"Wood\",\"email\":\"lori.wood@sakilacustomer.org\",\"address_id\":82,\"activebool\":true,\"create_date\":\"2006-02-14\",\"last_update\":\"2013-05-26T14:49:45.738\",\"active\":1}</td><td>2023-10-12T15:55:37.269+0000</td></tr><tr><td>47d52efe-ffda-4a84-a68b-aa55ab3c6ac0</td><td>{\"customer_id\":79,\"store_id\":1,\"first_name\":\"Rachel\",\"last_name\":\"Barnes\",\"email\":\"rachel.barnes@sakilacustomer.org\",\"address_id\":83,\"activebool\":true,\"create_date\":\"2006-02-14\",\"last_update\":\"2013-05-26T14:49:45.738\",\"active\":1}</td><td>2023-10-12T15:55:37.269+0000</td></tr><tr><td>92999b7f-46c7-447d-a446-5290e2aa163c</td><td>{\"customer_id\":80,\"store_id\":1,\"first_name\":\"Marilyn\",\"last_name\":\"Ross\",\"email\":\"marilyn.ross@sakilacustomer.org\",\"address_id\":84,\"activebool\":true,\"create_date\":\"2006-02-14\",\"last_update\":\"2013-05-26T14:49:45.738\",\"active\":1}</td><td>2023-10-12T15:55:37.269+0000</td></tr><tr><td>fcbef137-8c29-4295-80be-844bae46c080</td><td>{\"customer_id\":81,\"store_id\":1,\"first_name\":\"Andrea\",\"last_name\":\"Henderson\",\"email\":\"andrea.henderson@sakilacustomer.org\",\"address_id\":85,\"activebool\":true,\"create_date\":\"2006-02-14\",\"last_update\":\"2013-05-26T14:49:45.738\",\"active\":1}</td><td>2023-10-12T15:55:37.269+0000</td></tr><tr><td>ec0bf40f-71a7-4060-a1ea-a90b0b8502b2</td><td>{\"customer_id\":82,\"store_id\":1,\"first_name\":\"Kathryn\",\"last_name\":\"Coleman\",\"email\":\"kathryn.coleman@sakilacustomer.org\",\"address_id\":86,\"activebool\":true,\"create_date\":\"2006-02-14\",\"last_update\":\"2013-05-26T14:49:45.738\",\"active\":1}</td><td>2023-10-12T15:55:37.269+0000</td></tr><tr><td>b41caf76-1047-4328-9dd4-75bfa0eb37de</td><td>{\"customer_id\":83,\"store_id\":1,\"first_name\":\"Louise\",\"last_name\":\"Jenkins\",\"email\":\"louise.jenkins@sakilacustomer.org\",\"address_id\":87,\"activebool\":true,\"create_date\":\"2006-02-14\",\"last_update\":\"2013-05-26T14:49:45.738\",\"active\":1}</td><td>2023-10-12T15:55:37.269+0000</td></tr><tr><td>e6a1cd2f-771b-4422-8243-80c3ce50e421</td><td>{\"customer_id\":84,\"store_id\":2,\"first_name\":\"Sara\",\"last_name\":\"Perry\",\"email\":\"sara.perry@sakilacustomer.org\",\"address_id\":88,\"activebool\":true,\"create_date\":\"2006-02-14\",\"last_update\":\"2013-05-26T14:49:45.738\",\"active\":1}</td><td>2023-10-12T15:55:37.269+0000</td></tr><tr><td>d9b4b387-295f-4629-8b8a-2f37f50eca2a</td><td>{\"customer_id\":85,\"store_id\":2,\"first_name\":\"Anne\",\"last_name\":\"Powell\",\"email\":\"anne.powell@sakilacustomer.org\",\"address_id\":89,\"activebool\":true,\"create_date\":\"2006-02-14\",\"last_update\":\"2013-05-26T14:49:45.738\",\"active\":1}</td><td>2023-10-12T15:55:37.269+0000</td></tr><tr><td>c9bd3cc7-d9c3-46b4-b1d0-8c4ba2285647</td><td>{\"customer_id\":86,\"store_id\":2,\"first_name\":\"Jacqueline\",\"last_name\":\"Long\",\"email\":\"jacqueline.long@sakilacustomer.org\",\"address_id\":90,\"activebool\":true,\"create_date\":\"2006-02-14\",\"last_update\":\"2013-05-26T14:49:45.738\",\"active\":1}</td><td>2023-10-12T15:55:37.269+0000</td></tr><tr><td>9d4343d3-3b7b-4724-9fc1-6e503d1388eb</td><td>{\"customer_id\":87,\"store_id\":1,\"first_name\":\"Wanda\",\"last_name\":\"Patterson\",\"email\":\"wanda.patterson@sakilacustomer.org\",\"address_id\":91,\"activebool\":true,\"create_date\":\"2006-02-14\",\"last_update\":\"2013-05-26T14:49:45.738\",\"active\":1}</td><td>2023-10-12T15:55:37.269+0000</td></tr><tr><td>ad900bef-5ca6-4fcf-aadd-b4a9e67dfc3c</td><td>{\"customer_id\":88,\"store_id\":2,\"first_name\":\"Bonnie\",\"last_name\":\"Hughes\",\"email\":\"bonnie.hughes@sakilacustomer.org\",\"address_id\":92,\"activebool\":true,\"create_date\":\"2006-02-14\",\"last_update\":\"2013-05-26T14:49:45.738\",\"active\":1}</td><td>2023-10-12T15:55:37.269+0000</td></tr><tr><td>cb5eb3ac-a276-4a1b-b66e-cfc931ee85c6</td><td>{\"customer_id\":89,\"store_id\":1,\"first_name\":\"Julia\",\"last_name\":\"Flores\",\"email\":\"julia.flores@sakilacustomer.org\",\"address_id\":93,\"activebool\":true,\"create_date\":\"2006-02-14\",\"last_update\":\"2013-05-26T14:49:45.738\",\"active\":1}</td><td>2023-10-12T15:55:37.269+0000</td></tr><tr><td>0ddba22b-3e95-4673-8974-6249fb4e74c8</td><td>{\"customer_id\":90,\"store_id\":2,\"first_name\":\"Ruby\",\"last_name\":\"Washington\",\"email\":\"ruby.washington@sakilacustomer.org\",\"address_id\":94,\"activebool\":true,\"create_date\":\"2006-02-14\",\"last_update\":\"2013-05-26T14:49:45.738\",\"active\":1}</td><td>2023-10-12T15:55:37.269+0000</td></tr><tr><td>632b87d1-5491-42d8-ab4b-dcd59b0e67dc</td><td>{\"customer_id\":91,\"store_id\":2,\"first_name\":\"Lois\",\"last_name\":\"Butler\",\"email\":\"lois.butler@sakilacustomer.org\",\"address_id\":95,\"activebool\":true,\"create_date\":\"2006-02-14\",\"last_update\":\"2013-05-26T14:49:45.738\",\"active\":1}</td><td>2023-10-12T15:55:37.269+0000</td></tr><tr><td>c4c0817b-006c-4317-84a9-dca188558cd5</td><td>{\"customer_id\":92,\"store_id\":2,\"first_name\":\"Tina\",\"last_name\":\"Simmons\",\"email\":\"tina.simmons@sakilacustomer.org\",\"address_id\":96,\"activebool\":true,\"create_date\":\"2006-02-14\",\"last_update\":\"2013-05-26T14:49:45.738\",\"active\":1}</td><td>2023-10-12T15:55:37.269+0000</td></tr><tr><td>f78b655c-cfc0-4c2a-9cbd-48907e71cd94</td><td>{\"customer_id\":93,\"store_id\":1,\"first_name\":\"Phyllis\",\"last_name\":\"Foster\",\"email\":\"phyllis.foster@sakilacustomer.org\",\"address_id\":97,\"activebool\":true,\"create_date\":\"2006-02-14\",\"last_update\":\"2013-05-26T14:49:45.738\",\"active\":1}</td><td>2023-10-12T15:55:37.269+0000</td></tr><tr><td>9eeba3ab-40fe-456f-bff9-5519827d8ca9</td><td>{\"customer_id\":94,\"store_id\":1,\"first_name\":\"Norma\",\"last_name\":\"Gonzales\",\"email\":\"norma.gonzales@sakilacustomer.org\",\"address_id\":98,\"activebool\":true,\"create_date\":\"2006-02-14\",\"last_update\":\"2013-05-26T14:49:45.738\",\"active\":1}</td><td>2023-10-12T15:55:37.269+0000</td></tr><tr><td>f1bdd43a-fe50-4102-80d0-f78f13dff16f</td><td>{\"customer_id\":95,\"store_id\":2,\"first_name\":\"Paula\",\"last_name\":\"Bryant\",\"email\":\"paula.bryant@sakilacustomer.org\",\"address_id\":99,\"activebool\":true,\"create_date\":\"2006-02-14\",\"last_update\":\"2013-05-26T14:49:45.738\",\"active\":1}</td><td>2023-10-12T15:55:37.269+0000</td></tr><tr><td>b9ea1d24-e9ed-43be-a63e-ac3daec36970</td><td>{\"customer_id\":96,\"store_id\":1,\"first_name\":\"Diana\",\"last_name\":\"Alexander\",\"email\":\"diana.alexander@sakilacustomer.org\",\"address_id\":100,\"activebool\":true,\"create_date\":\"2006-02-14\",\"last_update\":\"2013-05-26T14:49:45.738\",\"active\":1}</td><td>2023-10-12T15:55:37.269+0000</td></tr><tr><td>b23b974b-6dd1-489d-9817-f5c126021b85</td><td>{\"customer_id\":97,\"store_id\":2,\"first_name\":\"Annie\",\"last_name\":\"Russell\",\"email\":\"annie.russell@sakilacustomer.org\",\"address_id\":101,\"activebool\":true,\"create_date\":\"2006-02-14\",\"last_update\":\"2013-05-26T14:49:45.738\",\"active\":1}</td><td>2023-10-12T15:55:37.269+0000</td></tr><tr><td>249c42e5-fb89-47b8-9cdc-2fd722924d5d</td><td>{\"customer_id\":98,\"store_id\":1,\"first_name\":\"Lillian\",\"last_name\":\"Griffin\",\"email\":\"lillian.griffin@sakilacustomer.org\",\"address_id\":102,\"activebool\":true,\"create_date\":\"2006-02-14\",\"last_update\":\"2013-05-26T14:49:45.738\",\"active\":1}</td><td>2023-10-12T15:55:37.269+0000</td></tr><tr><td>3a43c80d-27c0-4ab2-8e68-21810fd93865</td><td>{\"customer_id\":99,\"store_id\":2,\"first_name\":\"Emily\",\"last_name\":\"Diaz\",\"email\":\"emily.diaz@sakilacustomer.org\",\"address_id\":103,\"activebool\":true,\"create_date\":\"2006-02-14\",\"last_update\":\"2013-05-26T14:49:45.738\",\"active\":1}</td><td>2023-10-12T15:55:37.269+0000</td></tr><tr><td>92359f7d-5f50-4719-997a-229300e6a25b</td><td>{\"customer_id\":100,\"store_id\":1,\"first_name\":\"Robin\",\"last_name\":\"Hayes\",\"email\":\"robin.hayes@sakilacustomer.org\",\"address_id\":104,\"activebool\":true,\"create_date\":\"2006-02-14\",\"last_update\":\"2013-05-26T14:49:45.738\",\"active\":1}</td><td>2023-10-12T15:55:37.269+0000</td></tr><tr><td>fac53a0e-8abe-44ab-8081-89968dad87be</td><td>{\"customer_id\":101,\"store_id\":1,\"first_name\":\"Peggy\",\"last_name\":\"Myers\",\"email\":\"peggy.myers@sakilacustomer.org\",\"address_id\":105,\"activebool\":true,\"create_date\":\"2006-02-14\",\"last_update\":\"2013-05-26T14:49:45.738\",\"active\":1}</td><td>2023-10-12T15:55:37.269+0000</td></tr><tr><td>70a382e2-486e-4f47-b762-18f75123dcde</td><td>{\"customer_id\":102,\"store_id\":1,\"first_name\":\"Crystal\",\"last_name\":\"Ford\",\"email\":\"crystal.ford@sakilacustomer.org\",\"address_id\":106,\"activebool\":true,\"create_date\":\"2006-02-14\",\"last_update\":\"2013-05-26T14:49:45.738\",\"active\":1}</td><td>2023-10-12T15:55:37.269+0000</td></tr><tr><td>697a81d4-aeb1-404d-ab40-98779b99ae29</td><td>{\"customer_id\":103,\"store_id\":1,\"first_name\":\"Gladys\",\"last_name\":\"Hamilton\",\"email\":\"gladys.hamilton@sakilacustomer.org\",\"address_id\":107,\"activebool\":true,\"create_date\":\"2006-02-14\",\"last_update\":\"2013-05-26T14:49:45.738\",\"active\":1}</td><td>2023-10-12T15:55:37.269+0000</td></tr><tr><td>5d8dedc3-00dd-46d9-a292-ac45bb78965f</td><td>{\"customer_id\":104,\"store_id\":1,\"first_name\":\"Rita\",\"last_name\":\"Graham\",\"email\":\"rita.graham@sakilacustomer.org\",\"address_id\":108,\"activebool\":true,\"create_date\":\"2006-02-14\",\"last_update\":\"2013-05-26T14:49:45.738\",\"active\":1}</td><td>2023-10-12T15:55:37.269+0000</td></tr><tr><td>91fe3793-71a2-4a27-87ac-a7d00e5f07de</td><td>{\"customer_id\":105,\"store_id\":1,\"first_name\":\"Dawn\",\"last_name\":\"Sullivan\",\"email\":\"dawn.sullivan@sakilacustomer.org\",\"address_id\":109,\"activebool\":true,\"create_date\":\"2006-02-14\",\"last_update\":\"2013-05-26T14:49:45.738\",\"active\":1}</td><td>2023-10-12T15:55:37.269+0000</td></tr><tr><td>3a72886b-35cf-47b5-94db-590db3fccfb6</td><td>{\"customer_id\":106,\"store_id\":1,\"first_name\":\"Connie\",\"last_name\":\"Wallace\",\"email\":\"connie.wallace@sakilacustomer.org\",\"address_id\":110,\"activebool\":true,\"create_date\":\"2006-02-14\",\"last_update\":\"2013-05-26T14:49:45.738\",\"active\":1}</td><td>2023-10-12T15:55:37.269+0000</td></tr><tr><td>0e2d51b2-6af4-4d4e-8ad6-88a2b33247c1</td><td>{\"customer_id\":107,\"store_id\":1,\"first_name\":\"Florence\",\"last_name\":\"Woods\",\"email\":\"florence.woods@sakilacustomer.org\",\"address_id\":111,\"activebool\":true,\"create_date\":\"2006-02-14\",\"last_update\":\"2013-05-26T14:49:45.738\",\"active\":1}</td><td>2023-10-12T15:55:37.269+0000</td></tr><tr><td>6c227133-6865-45b0-9468-001ffb4d9323</td><td>{\"customer_id\":108,\"store_id\":1,\"first_name\":\"Tracy\",\"last_name\":\"Cole\",\"email\":\"tracy.cole@sakilacustomer.org\",\"address_id\":112,\"activebool\":true,\"create_date\":\"2006-02-14\",\"last_update\":\"2013-05-26T14:49:45.738\",\"active\":1}</td><td>2023-10-12T15:55:37.269+0000</td></tr><tr><td>468f76b6-d042-481d-8604-f76f4e2c7599</td><td>{\"customer_id\":109,\"store_id\":2,\"first_name\":\"Edna\",\"last_name\":\"West\",\"email\":\"edna.west@sakilacustomer.org\",\"address_id\":113,\"activebool\":true,\"create_date\":\"2006-02-14\",\"last_update\":\"2013-05-26T14:49:45.738\",\"active\":1}</td><td>2023-10-12T15:55:37.269+0000</td></tr><tr><td>88747937-c8bc-4975-9e4d-1dd4c431158a</td><td>{\"customer_id\":110,\"store_id\":2,\"first_name\":\"Tiffany\",\"last_name\":\"Jordan\",\"email\":\"tiffany.jordan@sakilacustomer.org\",\"address_id\":114,\"activebool\":true,\"create_date\":\"2006-02-14\",\"last_update\":\"2013-05-26T14:49:45.738\",\"active\":1}</td><td>2023-10-12T15:55:37.269+0000</td></tr><tr><td>c649616b-77a0-48fa-afd6-49b53006493f</td><td>{\"customer_id\":111,\"store_id\":1,\"first_name\":\"Carmen\",\"last_name\":\"Owens\",\"email\":\"carmen.owens@sakilacustomer.org\",\"address_id\":115,\"activebool\":true,\"create_date\":\"2006-02-14\",\"last_update\":\"2013-05-26T14:49:45.738\",\"active\":1}</td><td>2023-10-12T15:55:37.269+0000</td></tr><tr><td>253f0525-d2c5-4937-84c7-ad0fd932ea7e</td><td>{\"customer_id\":112,\"store_id\":2,\"first_name\":\"Rosa\",\"last_name\":\"Reynolds\",\"email\":\"rosa.reynolds@sakilacustomer.org\",\"address_id\":116,\"activebool\":true,\"create_date\":\"2006-02-14\",\"last_update\":\"2013-05-26T14:49:45.738\",\"active\":1}</td><td>2023-10-12T15:55:37.269+0000</td></tr><tr><td>e560da46-532a-4495-a244-b00f8b92381b</td><td>{\"customer_id\":113,\"store_id\":2,\"first_name\":\"Cindy\",\"last_name\":\"Fisher\",\"email\":\"cindy.fisher@sakilacustomer.org\",\"address_id\":117,\"activebool\":true,\"create_date\":\"2006-02-14\",\"last_update\":\"2013-05-26T14:49:45.738\",\"active\":1}</td><td>2023-10-12T15:55:37.269+0000</td></tr><tr><td>d0322495-9e30-4da8-990e-0dfb0485b19f</td><td>{\"customer_id\":114,\"store_id\":2,\"first_name\":\"Grace\",\"last_name\":\"Ellis\",\"email\":\"grace.ellis@sakilacustomer.org\",\"address_id\":118,\"activebool\":true,\"create_date\":\"2006-02-14\",\"last_update\":\"2013-05-26T14:49:45.738\",\"active\":1}</td><td>2023-10-12T15:55:37.269+0000</td></tr><tr><td>b60f34de-0734-4c00-a1e8-facbba5d6854</td><td>{\"customer_id\":115,\"store_id\":1,\"first_name\":\"Wendy\",\"last_name\":\"Harrison\",\"email\":\"wendy.harrison@sakilacustomer.org\",\"address_id\":119,\"activebool\":true,\"create_date\":\"2006-02-14\",\"last_update\":\"2013-05-26T14:49:45.738\",\"active\":1}</td><td>2023-10-12T15:55:37.269+0000</td></tr><tr><td>684563ae-8de8-4274-a776-06fe92c36742</td><td>{\"customer_id\":116,\"store_id\":1,\"first_name\":\"Victoria\",\"last_name\":\"Gibson\",\"email\":\"victoria.gibson@sakilacustomer.org\",\"address_id\":120,\"activebool\":true,\"create_date\":\"2006-02-14\",\"last_update\":\"2013-05-26T14:49:45.738\",\"active\":1}</td><td>2023-10-12T15:55:37.269+0000</td></tr><tr><td>a203411d-95fc-4c7b-ab75-50b7fc036a06</td><td>{\"customer_id\":117,\"store_id\":1,\"first_name\":\"Edith\",\"last_name\":\"Mcdonald\",\"email\":\"edith.mcdonald@sakilacustomer.org\",\"address_id\":121,\"activebool\":true,\"create_date\":\"2006-02-14\",\"last_update\":\"2013-05-26T14:49:45.738\",\"active\":1}</td><td>2023-10-12T15:55:37.269+0000</td></tr><tr><td>59684c50-d05c-4603-900b-6114407d98cf</td><td>{\"customer_id\":118,\"store_id\":1,\"first_name\":\"Kim\",\"last_name\":\"Cruz\",\"email\":\"kim.cruz@sakilacustomer.org\",\"address_id\":122,\"activebool\":true,\"create_date\":\"2006-02-14\",\"last_update\":\"2013-05-26T14:49:45.738\",\"active\":1}</td><td>2023-10-12T15:55:37.269+0000</td></tr><tr><td>cd214c91-9160-459c-bef8-400915e63801</td><td>{\"customer_id\":119,\"store_id\":1,\"first_name\":\"Sherry\",\"last_name\":\"Marshall\",\"email\":\"sherry.marshall@sakilacustomer.org\",\"address_id\":123,\"activebool\":true,\"create_date\":\"2006-02-14\",\"last_update\":\"2013-05-26T14:49:45.738\",\"active\":1}</td><td>2023-10-12T15:55:37.269+0000</td></tr><tr><td>b425411e-59fe-4131-a4a0-b0693f833b54</td><td>{\"customer_id\":120,\"store_id\":2,\"first_name\":\"Sylvia\",\"last_name\":\"Ortiz\",\"email\":\"sylvia.ortiz@sakilacustomer.org\",\"address_id\":124,\"activebool\":true,\"create_date\":\"2006-02-14\",\"last_update\":\"2013-05-26T14:49:45.738\",\"active\":1}</td><td>2023-10-12T15:55:37.269+0000</td></tr><tr><td>bab1e76e-7688-4eb2-bd38-025d16cbc26b</td><td>{\"customer_id\":121,\"store_id\":1,\"first_name\":\"Josephine\",\"last_name\":\"Gomez\",\"email\":\"josephine.gomez@sakilacustomer.org\",\"address_id\":125,\"activebool\":true,\"create_date\":\"2006-02-14\",\"last_update\":\"2013-05-26T14:49:45.738\",\"active\":1}</td><td>2023-10-12T15:55:37.269+0000</td></tr><tr><td>20ffa5c3-21f6-403f-b1fd-9d7cd510a8b7</td><td>{\"customer_id\":122,\"store_id\":1,\"first_name\":\"Thelma\",\"last_name\":\"Murray\",\"email\":\"thelma.murray@sakilacustomer.org\",\"address_id\":126,\"activebool\":true,\"create_date\":\"2006-02-14\",\"last_update\":\"2013-05-26T14:49:45.738\",\"active\":1}</td><td>2023-10-12T15:55:37.269+0000</td></tr><tr><td>1fff5011-a992-454c-ac56-be38d3601a33</td><td>{\"customer_id\":123,\"store_id\":2,\"first_name\":\"Shannon\",\"last_name\":\"Freeman\",\"email\":\"shannon.freeman@sakilacustomer.org\",\"address_id\":127,\"activebool\":true,\"create_date\":\"2006-02-14\",\"last_update\":\"2013-05-26T14:49:45.738\",\"active\":1}</td><td>2023-10-12T15:55:37.269+0000</td></tr><tr><td>c32721d0-dd19-43ca-8fb7-617fd2771f9e</td><td>{\"customer_id\":124,\"store_id\":1,\"first_name\":\"Sheila\",\"last_name\":\"Wells\",\"email\":\"sheila.wells@sakilacustomer.org\",\"address_id\":128,\"activebool\":true,\"create_date\":\"2006-02-14\",\"last_update\":\"2013-05-26T14:49:45.738\",\"active\":0}</td><td>2023-10-12T15:55:37.269+0000</td></tr><tr><td>5772d193-f4ae-49aa-b1eb-5f83a32c7bcc</td><td>{\"customer_id\":125,\"store_id\":1,\"first_name\":\"Ethel\",\"last_name\":\"Webb\",\"email\":\"ethel.webb@sakilacustomer.org\",\"address_id\":129,\"activebool\":true,\"create_date\":\"2006-02-14\",\"last_update\":\"2013-05-26T14:49:45.738\",\"active\":1}</td><td>2023-10-12T15:55:37.269+0000</td></tr><tr><td>e04d3bee-e5d0-4f0b-97a4-7a1948e35fde</td><td>{\"customer_id\":126,\"store_id\":1,\"first_name\":\"Ellen\",\"last_name\":\"Simpson\",\"email\":\"ellen.simpson@sakilacustomer.org\",\"address_id\":130,\"activebool\":true,\"create_date\":\"2006-02-14\",\"last_update\":\"2013-05-26T14:49:45.738\",\"active\":1}</td><td>2023-10-12T15:55:37.269+0000</td></tr><tr><td>3396db4d-0f1e-41b9-8c8f-7b3148874c74</td><td>{\"customer_id\":127,\"store_id\":2,\"first_name\":\"Elaine\",\"last_name\":\"Stevens\",\"email\":\"elaine.stevens@sakilacustomer.org\",\"address_id\":131,\"activebool\":true,\"create_date\":\"2006-02-14\",\"last_update\":\"2013-05-26T14:49:45.738\",\"active\":1}</td><td>2023-10-12T15:55:37.269+0000</td></tr><tr><td>9228bd5b-52b4-46f3-8a38-1d7969cf5b2c</td><td>{\"customer_id\":128,\"store_id\":1,\"first_name\":\"Marjorie\",\"last_name\":\"Tucker\",\"email\":\"marjorie.tucker@sakilacustomer.org\",\"address_id\":132,\"activebool\":true,\"create_date\":\"2006-02-14\",\"last_update\":\"2013-05-26T14:49:45.738\",\"active\":1}</td><td>2023-10-12T15:55:37.269+0000</td></tr><tr><td>7e0593bc-f84a-46f7-a150-4ad1ee5cd01b</td><td>{\"customer_id\":129,\"store_id\":1,\"first_name\":\"Carrie\",\"last_name\":\"Porter\",\"email\":\"carrie.porter@sakilacustomer.org\",\"address_id\":133,\"activebool\":true,\"create_date\":\"2006-02-14\",\"last_update\":\"2013-05-26T14:49:45.738\",\"active\":1}</td><td>2023-10-12T15:55:37.269+0000</td></tr><tr><td>3128d572-e5e1-42b3-b778-71c56a43a5ab</td><td>{\"customer_id\":130,\"store_id\":1,\"first_name\":\"Charlotte\",\"last_name\":\"Hunter\",\"email\":\"charlotte.hunter@sakilacustomer.org\",\"address_id\":134,\"activebool\":true,\"create_date\":\"2006-02-14\",\"last_update\":\"2013-05-26T14:49:45.738\",\"active\":1}</td><td>2023-10-12T15:55:37.269+0000</td></tr><tr><td>6f324642-5b83-486f-8eba-cdf83ad813d7</td><td>{\"customer_id\":131,\"store_id\":2,\"first_name\":\"Monica\",\"last_name\":\"Hicks\",\"email\":\"monica.hicks@sakilacustomer.org\",\"address_id\":135,\"activebool\":true,\"create_date\":\"2006-02-14\",\"last_update\":\"2013-05-26T14:49:45.738\",\"active\":1}</td><td>2023-10-12T15:55:37.269+0000</td></tr><tr><td>7d661484-6ec5-4a27-8c3e-26bf661eee63</td><td>{\"customer_id\":132,\"store_id\":2,\"first_name\":\"Esther\",\"last_name\":\"Crawford\",\"email\":\"esther.crawford@sakilacustomer.org\",\"address_id\":136,\"activebool\":true,\"create_date\":\"2006-02-14\",\"last_update\":\"2013-05-26T14:49:45.738\",\"active\":1}</td><td>2023-10-12T15:55:37.269+0000</td></tr><tr><td>1f40c208-2186-43a1-83b5-b486c308afe2</td><td>{\"customer_id\":133,\"store_id\":1,\"first_name\":\"Pauline\",\"last_name\":\"Henry\",\"email\":\"pauline.henry@sakilacustomer.org\",\"address_id\":137,\"activebool\":true,\"create_date\":\"2006-02-14\",\"last_update\":\"2013-05-26T14:49:45.738\",\"active\":1}</td><td>2023-10-12T15:55:37.269+0000</td></tr><tr><td>847446d5-206b-4d4c-a592-d055f25cddd2</td><td>{\"customer_id\":134,\"store_id\":1,\"first_name\":\"Emma\",\"last_name\":\"Boyd\",\"email\":\"emma.boyd@sakilacustomer.org\",\"address_id\":138,\"activebool\":true,\"create_date\":\"2006-02-14\",\"last_update\":\"2013-05-26T14:49:45.738\",\"active\":1}</td><td>2023-10-12T15:55:37.269+0000</td></tr><tr><td>7b93e887-5f41-4523-ab02-213593defa80</td><td>{\"customer_id\":135,\"store_id\":2,\"first_name\":\"Juanita\",\"last_name\":\"Mason\",\"email\":\"juanita.mason@sakilacustomer.org\",\"address_id\":139,\"activebool\":true,\"create_date\":\"2006-02-14\",\"last_update\":\"2013-05-26T14:49:45.738\",\"active\":1}</td><td>2023-10-12T15:55:37.269+0000</td></tr><tr><td>64f84d3b-228d-4e78-807d-e852f23e511e</td><td>{\"customer_id\":136,\"store_id\":2,\"first_name\":\"Anita\",\"last_name\":\"Morales\",\"email\":\"anita.morales@sakilacustomer.org\",\"address_id\":140,\"activebool\":true,\"create_date\":\"2006-02-14\",\"last_update\":\"2013-05-26T14:49:45.738\",\"active\":1}</td><td>2023-10-12T15:55:37.269+0000</td></tr><tr><td>6c25a49a-6c87-4081-8f6b-847a52b3d2db</td><td>{\"customer_id\":137,\"store_id\":2,\"first_name\":\"Rhonda\",\"last_name\":\"Kennedy\",\"email\":\"rhonda.kennedy@sakilacustomer.org\",\"address_id\":141,\"activebool\":true,\"create_date\":\"2006-02-14\",\"last_update\":\"2013-05-26T14:49:45.738\",\"active\":1}</td><td>2023-10-12T15:55:37.269+0000</td></tr><tr><td>7b38f48d-6c1d-44e5-b616-1b8abfd16e54</td><td>{\"customer_id\":138,\"store_id\":1,\"first_name\":\"Hazel\",\"last_name\":\"Warren\",\"email\":\"hazel.warren@sakilacustomer.org\",\"address_id\":142,\"activebool\":true,\"create_date\":\"2006-02-14\",\"last_update\":\"2013-05-26T14:49:45.738\",\"active\":1}</td><td>2023-10-12T15:55:37.269+0000</td></tr><tr><td>81ea0ba0-848a-41e4-8aa2-24b17298d6e3</td><td>{\"customer_id\":139,\"store_id\":1,\"first_name\":\"Amber\",\"last_name\":\"Dixon\",\"email\":\"amber.dixon@sakilacustomer.org\",\"address_id\":143,\"activebool\":true,\"create_date\":\"2006-02-14\",\"last_update\":\"2013-05-26T14:49:45.738\",\"active\":1}</td><td>2023-10-12T15:55:37.269+0000</td></tr><tr><td>eb9356c7-4c0f-435c-b0a9-21d97c264ed1</td><td>{\"customer_id\":140,\"store_id\":1,\"first_name\":\"Eva\",\"last_name\":\"Ramos\",\"email\":\"eva.ramos@sakilacustomer.org\",\"address_id\":144,\"activebool\":true,\"create_date\":\"2006-02-14\",\"last_update\":\"2013-05-26T14:49:45.738\",\"active\":1}</td><td>2023-10-12T15:55:37.269+0000</td></tr><tr><td>94cd7ece-25da-41c8-8517-75ddd72636f6</td><td>{\"customer_id\":141,\"store_id\":1,\"first_name\":\"Debbie\",\"last_name\":\"Reyes\",\"email\":\"debbie.reyes@sakilacustomer.org\",\"address_id\":145,\"activebool\":true,\"create_date\":\"2006-02-14\",\"last_update\":\"2013-05-26T14:49:45.738\",\"active\":1}</td><td>2023-10-12T15:55:37.269+0000</td></tr><tr><td>40b8990b-d96f-48d0-a02d-94494fcfab05</td><td>{\"customer_id\":142,\"store_id\":1,\"first_name\":\"April\",\"last_name\":\"Burns\",\"email\":\"april.burns@sakilacustomer.org\",\"address_id\":146,\"activebool\":true,\"create_date\":\"2006-02-14\",\"last_update\":\"2013-05-26T14:49:45.738\",\"active\":1}</td><td>2023-10-12T15:55:37.269+0000</td></tr><tr><td>e6176d5b-6a9d-4fe6-9683-57eef177b7d9</td><td>{\"customer_id\":143,\"store_id\":1,\"first_name\":\"Leslie\",\"last_name\":\"Gordon\",\"email\":\"leslie.gordon@sakilacustomer.org\",\"address_id\":147,\"activebool\":true,\"create_date\":\"2006-02-14\",\"last_update\":\"2013-05-26T14:49:45.738\",\"active\":1}</td><td>2023-10-12T15:55:37.269+0000</td></tr><tr><td>4e0f6bb4-6b66-4883-86ff-9e1b459ea633</td><td>{\"customer_id\":144,\"store_id\":1,\"first_name\":\"Clara\",\"last_name\":\"Shaw\",\"email\":\"clara.shaw@sakilacustomer.org\",\"address_id\":148,\"activebool\":true,\"create_date\":\"2006-02-14\",\"last_update\":\"2013-05-26T14:49:45.738\",\"active\":1}</td><td>2023-10-12T15:55:37.269+0000</td></tr><tr><td>c848f730-a48d-4595-96f1-3f3a4e168fce</td><td>{\"customer_id\":145,\"store_id\":1,\"first_name\":\"Lucille\",\"last_name\":\"Holmes\",\"email\":\"lucille.holmes@sakilacustomer.org\",\"address_id\":149,\"activebool\":true,\"create_date\":\"2006-02-14\",\"last_update\":\"2013-05-26T14:49:45.738\",\"active\":1}</td><td>2023-10-12T15:55:37.269+0000</td></tr><tr><td>bc979f65-c8f6-48b1-a934-72200b33c696</td><td>{\"customer_id\":146,\"store_id\":1,\"first_name\":\"Jamie\",\"last_name\":\"Rice\",\"email\":\"jamie.rice@sakilacustomer.org\",\"address_id\":150,\"activebool\":true,\"create_date\":\"2006-02-14\",\"last_update\":\"2013-05-26T14:49:45.738\",\"active\":1}</td><td>2023-10-12T15:55:37.269+0000</td></tr><tr><td>5313cc0a-459e-4dfa-b0b6-1a80a2694638</td><td>{\"customer_id\":147,\"store_id\":2,\"first_name\":\"Joanne\",\"last_name\":\"Robertson\",\"email\":\"joanne.robertson@sakilacustomer.org\",\"address_id\":151,\"activebool\":true,\"create_date\":\"2006-02-14\",\"last_update\":\"2013-05-26T14:49:45.738\",\"active\":1}</td><td>2023-10-12T15:55:37.269+0000</td></tr><tr><td>c067162d-32a4-4cab-b33f-7f06598f71ea</td><td>{\"customer_id\":148,\"store_id\":1,\"first_name\":\"Eleanor\",\"last_name\":\"Hunt\",\"email\":\"eleanor.hunt@sakilacustomer.org\",\"address_id\":152,\"activebool\":true,\"create_date\":\"2006-02-14\",\"last_update\":\"2013-05-26T14:49:45.738\",\"active\":1}</td><td>2023-10-12T15:55:37.269+0000</td></tr><tr><td>97db65fb-2efe-43dd-bf82-0a54949f2c39</td><td>{\"customer_id\":149,\"store_id\":1,\"first_name\":\"Valerie\",\"last_name\":\"Black\",\"email\":\"valerie.black@sakilacustomer.org\",\"address_id\":153,\"activebool\":true,\"create_date\":\"2006-02-14\",\"last_update\":\"2013-05-26T14:49:45.738\",\"active\":1}</td><td>2023-10-12T15:55:37.269+0000</td></tr><tr><td>31136acb-5276-4ba4-80ea-be93945e900b</td><td>{\"customer_id\":150,\"store_id\":2,\"first_name\":\"Danielle\",\"last_name\":\"Daniels\",\"email\":\"danielle.daniels@sakilacustomer.org\",\"address_id\":154,\"activebool\":true,\"create_date\":\"2006-02-14\",\"last_update\":\"2013-05-26T14:49:45.738\",\"active\":1}</td><td>2023-10-12T15:55:37.269+0000</td></tr><tr><td>8fa84176-6bfa-4f69-a0f0-8f9cde083d53</td><td>{\"customer_id\":151,\"store_id\":2,\"first_name\":\"Megan\",\"last_name\":\"Palmer\",\"email\":\"megan.palmer@sakilacustomer.org\",\"address_id\":155,\"activebool\":true,\"create_date\":\"2006-02-14\",\"last_update\":\"2013-05-26T14:49:45.738\",\"active\":1}</td><td>2023-10-12T15:55:37.269+0000</td></tr><tr><td>d45cadf3-adea-4c3f-80b4-29a0b97f4ef0</td><td>{\"customer_id\":152,\"store_id\":1,\"first_name\":\"Alicia\",\"last_name\":\"Mills\",\"email\":\"alicia.mills@sakilacustomer.org\",\"address_id\":156,\"activebool\":true,\"create_date\":\"2006-02-14\",\"last_update\":\"2013-05-26T14:49:45.738\",\"active\":1}</td><td>2023-10-12T15:55:37.269+0000</td></tr><tr><td>1f111977-cb8e-4b19-99f5-49adebba766c</td><td>{\"customer_id\":153,\"store_id\":2,\"first_name\":\"Suzanne\",\"last_name\":\"Nichols\",\"email\":\"suzanne.nichols@sakilacustomer.org\",\"address_id\":157,\"activebool\":true,\"create_date\":\"2006-02-14\",\"last_update\":\"2013-05-26T14:49:45.738\",\"active\":1}</td><td>2023-10-12T15:55:37.269+0000</td></tr><tr><td>c81e4b05-430b-4a55-bc89-d43e007a750f</td><td>{\"customer_id\":154,\"store_id\":2,\"first_name\":\"Michele\",\"last_name\":\"Grant\",\"email\":\"michele.grant@sakilacustomer.org\",\"address_id\":158,\"activebool\":true,\"create_date\":\"2006-02-14\",\"last_update\":\"2013-05-26T14:49:45.738\",\"active\":1}</td><td>2023-10-12T15:55:37.269+0000</td></tr><tr><td>1c4407ac-e838-4dc3-bad1-833f70a06807</td><td>{\"customer_id\":155,\"store_id\":1,\"first_name\":\"Gail\",\"last_name\":\"Knight\",\"email\":\"gail.knight@sakilacustomer.org\",\"address_id\":159,\"activebool\":true,\"create_date\":\"2006-02-14\",\"last_update\":\"2013-05-26T14:49:45.738\",\"active\":1}</td><td>2023-10-12T15:55:37.269+0000</td></tr><tr><td>1051f3d4-8280-46ad-acbe-3f140584b192</td><td>{\"customer_id\":156,\"store_id\":1,\"first_name\":\"Bertha\",\"last_name\":\"Ferguson\",\"email\":\"bertha.ferguson@sakilacustomer.org\",\"address_id\":160,\"activebool\":true,\"create_date\":\"2006-02-14\",\"last_update\":\"2013-05-26T14:49:45.738\",\"active\":1}</td><td>2023-10-12T15:55:37.269+0000</td></tr><tr><td>c0238a3f-f5ff-44a3-bc78-9283b2f66a42</td><td>{\"customer_id\":157,\"store_id\":2,\"first_name\":\"Darlene\",\"last_name\":\"Rose\",\"email\":\"darlene.rose@sakilacustomer.org\",\"address_id\":161,\"activebool\":true,\"create_date\":\"2006-02-14\",\"last_update\":\"2013-05-26T14:49:45.738\",\"active\":1}</td><td>2023-10-12T15:55:37.269+0000</td></tr><tr><td>8f0c2343-6683-48f0-969b-8467e73a1088</td><td>{\"customer_id\":158,\"store_id\":1,\"first_name\":\"Veronica\",\"last_name\":\"Stone\",\"email\":\"veronica.stone@sakilacustomer.org\",\"address_id\":162,\"activebool\":true,\"create_date\":\"2006-02-14\",\"last_update\":\"2013-05-26T14:49:45.738\",\"active\":1}</td><td>2023-10-12T15:55:37.269+0000</td></tr><tr><td>f97d0e3c-0de0-4d10-b9e4-814fc791a061</td><td>{\"customer_id\":159,\"store_id\":1,\"first_name\":\"Jill\",\"last_name\":\"Hawkins\",\"email\":\"jill.hawkins@sakilacustomer.org\",\"address_id\":163,\"activebool\":true,\"create_date\":\"2006-02-14\",\"last_update\":\"2013-05-26T14:49:45.738\",\"active\":1}</td><td>2023-10-12T15:55:37.269+0000</td></tr><tr><td>67f2233f-de52-417e-ada8-5d0f58b37082</td><td>{\"customer_id\":160,\"store_id\":2,\"first_name\":\"Erin\",\"last_name\":\"Dunn\",\"email\":\"erin.dunn@sakilacustomer.org\",\"address_id\":164,\"activebool\":true,\"create_date\":\"2006-02-14\",\"last_update\":\"2013-05-26T14:49:45.738\",\"active\":1}</td><td>2023-10-12T15:55:37.269+0000</td></tr><tr><td>f2779a12-2368-42b9-9906-659ac7f6e4e7</td><td>{\"customer_id\":161,\"store_id\":1,\"first_name\":\"Geraldine\",\"last_name\":\"Perkins\",\"email\":\"geraldine.perkins@sakilacustomer.org\",\"address_id\":165,\"activebool\":true,\"create_date\":\"2006-02-14\",\"last_update\":\"2013-05-26T14:49:45.738\",\"active\":1}</td><td>2023-10-12T15:55:37.269+0000</td></tr><tr><td>911f26fc-b31c-41a5-8842-09673fd31463</td><td>{\"customer_id\":162,\"store_id\":2,\"first_name\":\"Lauren\",\"last_name\":\"Hudson\",\"email\":\"lauren.hudson@sakilacustomer.org\",\"address_id\":166,\"activebool\":true,\"create_date\":\"2006-02-14\",\"last_update\":\"2013-05-26T14:49:45.738\",\"active\":1}</td><td>2023-10-12T15:55:37.269+0000</td></tr><tr><td>8338032e-1329-417f-8727-ea5ba77a3dac</td><td>{\"customer_id\":163,\"store_id\":1,\"first_name\":\"Cathy\",\"last_name\":\"Spencer\",\"email\":\"cathy.spencer@sakilacustomer.org\",\"address_id\":167,\"activebool\":true,\"create_date\":\"2006-02-14\",\"last_update\":\"2013-05-26T14:49:45.738\",\"active\":1}</td><td>2023-10-12T15:55:37.269+0000</td></tr><tr><td>87bc886d-9469-4421-9cde-75cd13095260</td><td>{\"customer_id\":164,\"store_id\":2,\"first_name\":\"Joann\",\"last_name\":\"Gardner\",\"email\":\"joann.gardner@sakilacustomer.org\",\"address_id\":168,\"activebool\":true,\"create_date\":\"2006-02-14\",\"last_update\":\"2013-05-26T14:49:45.738\",\"active\":1}</td><td>2023-10-12T15:55:37.269+0000</td></tr><tr><td>c8347ec1-c89c-483d-b8f4-8eeac2a77bfb</td><td>{\"customer_id\":165,\"store_id\":2,\"first_name\":\"Lorraine\",\"last_name\":\"Stephens\",\"email\":\"lorraine.stephens@sakilacustomer.org\",\"address_id\":169,\"activebool\":true,\"create_date\":\"2006-02-14\",\"last_update\":\"2013-05-26T14:49:45.738\",\"active\":1}</td><td>2023-10-12T15:55:37.269+0000</td></tr><tr><td>65c69430-7311-4ebc-8ecf-d9e6c764c8af</td><td>{\"customer_id\":166,\"store_id\":1,\"first_name\":\"Lynn\",\"last_name\":\"Payne\",\"email\":\"lynn.payne@sakilacustomer.org\",\"address_id\":170,\"activebool\":true,\"create_date\":\"2006-02-14\",\"last_update\":\"2013-05-26T14:49:45.738\",\"active\":1}</td><td>2023-10-12T15:55:37.269+0000</td></tr><tr><td>e46a70db-0f3f-4bce-8b88-15d161e3c792</td><td>{\"customer_id\":167,\"store_id\":2,\"first_name\":\"Sally\",\"last_name\":\"Pierce\",\"email\":\"sally.pierce@sakilacustomer.org\",\"address_id\":171,\"activebool\":true,\"create_date\":\"2006-02-14\",\"last_update\":\"2013-05-26T14:49:45.738\",\"active\":1}</td><td>2023-10-12T15:55:37.269+0000</td></tr><tr><td>dd62981f-4f80-4773-8001-f2ed32cebfed</td><td>{\"customer_id\":168,\"store_id\":1,\"first_name\":\"Regina\",\"last_name\":\"Berry\",\"email\":\"regina.berry@sakilacustomer.org\",\"address_id\":172,\"activebool\":true,\"create_date\":\"2006-02-14\",\"last_update\":\"2013-05-26T14:49:45.738\",\"active\":1}</td><td>2023-10-12T15:55:37.269+0000</td></tr><tr><td>fbb6b4fd-ffc8-4d35-9fcd-937b6fddc869</td><td>{\"customer_id\":169,\"store_id\":2,\"first_name\":\"Erica\",\"last_name\":\"Matthews\",\"email\":\"erica.matthews@sakilacustomer.org\",\"address_id\":173,\"activebool\":true,\"create_date\":\"2006-02-14\",\"last_update\":\"2013-05-26T14:49:45.738\",\"active\":0}</td><td>2023-10-12T15:55:37.269+0000</td></tr><tr><td>982f62e2-7bfe-4c2b-8fa4-79af34c2ed63</td><td>{\"customer_id\":170,\"store_id\":1,\"first_name\":\"Beatrice\",\"last_name\":\"Arnold\",\"email\":\"beatrice.arnold@sakilacustomer.org\",\"address_id\":174,\"activebool\":true,\"create_date\":\"2006-02-14\",\"last_update\":\"2013-05-26T14:49:45.738\",\"active\":1}</td><td>2023-10-12T15:55:37.269+0000</td></tr><tr><td>801e5f20-b8f3-4c18-befd-6e2670005925</td><td>{\"customer_id\":171,\"store_id\":2,\"first_name\":\"Dolores\",\"last_name\":\"Wagner\",\"email\":\"dolores.wagner@sakilacustomer.org\",\"address_id\":175,\"activebool\":true,\"create_date\":\"2006-02-14\",\"last_update\":\"2013-05-26T14:49:45.738\",\"active\":1}</td><td>2023-10-12T15:55:37.269+0000</td></tr><tr><td>d26e585b-ab8a-4f6e-996c-c10c6a3fab27</td><td>{\"customer_id\":172,\"store_id\":1,\"first_name\":\"Bernice\",\"last_name\":\"Willis\",\"email\":\"bernice.willis@sakilacustomer.org\",\"address_id\":176,\"activebool\":true,\"create_date\":\"2006-02-14\",\"last_update\":\"2013-05-26T14:49:45.738\",\"active\":1}</td><td>2023-10-12T15:55:37.269+0000</td></tr><tr><td>8e1beca7-955b-4af4-bd25-a52ff164af1a</td><td>{\"customer_id\":173,\"store_id\":1,\"first_name\":\"Audrey\",\"last_name\":\"Ray\",\"email\":\"audrey.ray@sakilacustomer.org\",\"address_id\":177,\"activebool\":true,\"create_date\":\"2006-02-14\",\"last_update\":\"2013-05-26T14:49:45.738\",\"active\":1}</td><td>2023-10-12T15:55:37.269+0000</td></tr><tr><td>5ecc7c85-6104-4918-ab88-266ae390ff70</td><td>{\"customer_id\":174,\"store_id\":2,\"first_name\":\"Yvonne\",\"last_name\":\"Watkins\",\"email\":\"yvonne.watkins@sakilacustomer.org\",\"address_id\":178,\"activebool\":true,\"create_date\":\"2006-02-14\",\"last_update\":\"2013-05-26T14:49:45.738\",\"active\":1}</td><td>2023-10-12T15:55:37.269+0000</td></tr><tr><td>1d6f108b-dd11-4ae6-a980-548284f0c86e</td><td>{\"customer_id\":175,\"store_id\":1,\"first_name\":\"Annette\",\"last_name\":\"Olson\",\"email\":\"annette.olson@sakilacustomer.org\",\"address_id\":179,\"activebool\":true,\"create_date\":\"2006-02-14\",\"last_update\":\"2013-05-26T14:49:45.738\",\"active\":1}</td><td>2023-10-12T15:55:37.269+0000</td></tr><tr><td>457c695a-55b5-4578-b385-8cc72c7dbcaa</td><td>{\"customer_id\":176,\"store_id\":1,\"first_name\":\"June\",\"last_name\":\"Carroll\",\"email\":\"june.carroll@sakilacustomer.org\",\"address_id\":180,\"activebool\":true,\"create_date\":\"2006-02-14\",\"last_update\":\"2013-05-26T14:49:45.738\",\"active\":1}</td><td>2023-10-12T15:55:37.269+0000</td></tr><tr><td>b28fbc3b-6b02-41dc-b298-0fbda5e80d05</td><td>{\"customer_id\":177,\"store_id\":2,\"first_name\":\"Samantha\",\"last_name\":\"Duncan\",\"email\":\"samantha.duncan@sakilacustomer.org\",\"address_id\":181,\"activebool\":true,\"create_date\":\"2006-02-14\",\"last_update\":\"2013-05-26T14:49:45.738\",\"active\":1}</td><td>2023-10-12T15:55:37.269+0000</td></tr><tr><td>dfaec8ac-42d5-4e94-83a9-cea96afa86f1</td><td>{\"customer_id\":178,\"store_id\":2,\"first_name\":\"Marion\",\"last_name\":\"Snyder\",\"email\":\"marion.snyder@sakilacustomer.org\",\"address_id\":182,\"activebool\":true,\"create_date\":\"2006-02-14\",\"last_update\":\"2013-05-26T14:49:45.738\",\"active\":1}</td><td>2023-10-12T15:55:37.269+0000</td></tr><tr><td>6efeadae-27c4-4042-933f-fefb1745083b</td><td>{\"customer_id\":179,\"store_id\":1,\"first_name\":\"Dana\",\"last_name\":\"Hart\",\"email\":\"dana.hart@sakilacustomer.org\",\"address_id\":183,\"activebool\":true,\"create_date\":\"2006-02-14\",\"last_update\":\"2013-05-26T14:49:45.738\",\"active\":1}</td><td>2023-10-12T15:55:37.269+0000</td></tr><tr><td>7bb59e52-7811-4232-adc6-c04f2ae4ec61</td><td>{\"customer_id\":180,\"store_id\":2,\"first_name\":\"Stacy\",\"last_name\":\"Cunningham\",\"email\":\"stacy.cunningham@sakilacustomer.org\",\"address_id\":184,\"activebool\":true,\"create_date\":\"2006-02-14\",\"last_update\":\"2013-05-26T14:49:45.738\",\"active\":1}</td><td>2023-10-12T15:55:37.269+0000</td></tr><tr><td>7a6f9f02-63ff-43f4-894c-4370cceae6fa</td><td>{\"customer_id\":181,\"store_id\":2,\"first_name\":\"Ana\",\"last_name\":\"Bradley\",\"email\":\"ana.bradley@sakilacustomer.org\",\"address_id\":185,\"activebool\":true,\"create_date\":\"2006-02-14\",\"last_update\":\"2013-05-26T14:49:45.738\",\"active\":1}</td><td>2023-10-12T15:55:37.269+0000</td></tr><tr><td>0ddc890b-c084-467e-a0bd-b4ed273f6552</td><td>{\"customer_id\":182,\"store_id\":1,\"first_name\":\"Renee\",\"last_name\":\"Lane\",\"email\":\"renee.lane@sakilacustomer.org\",\"address_id\":186,\"activebool\":true,\"create_date\":\"2006-02-14\",\"last_update\":\"2013-05-26T14:49:45.738\",\"active\":1}</td><td>2023-10-12T15:55:37.269+0000</td></tr><tr><td>ae31d256-a449-418b-af62-a9c15505417c</td><td>{\"customer_id\":183,\"store_id\":2,\"first_name\":\"Ida\",\"last_name\":\"Andrews\",\"email\":\"ida.andrews@sakilacustomer.org\",\"address_id\":187,\"activebool\":true,\"create_date\":\"2006-02-14\",\"last_update\":\"2013-05-26T14:49:45.738\",\"active\":1}</td><td>2023-10-12T15:55:37.269+0000</td></tr><tr><td>db2a085f-16a6-4bf2-9844-003f6e3dbb3b</td><td>{\"customer_id\":184,\"store_id\":1,\"first_name\":\"Vivian\",\"last_name\":\"Ruiz\",\"email\":\"vivian.ruiz@sakilacustomer.org\",\"address_id\":188,\"activebool\":true,\"create_date\":\"2006-02-14\",\"last_update\":\"2013-05-26T14:49:45.738\",\"active\":1}</td><td>2023-10-12T15:55:37.269+0000</td></tr><tr><td>342e9a3b-5fd9-49dc-97fb-b1e51432c5fc</td><td>{\"customer_id\":185,\"store_id\":1,\"first_name\":\"Roberta\",\"last_name\":\"Harper\",\"email\":\"roberta.harper@sakilacustomer.org\",\"address_id\":189,\"activebool\":true,\"create_date\":\"2006-02-14\",\"last_update\":\"2013-05-26T14:49:45.738\",\"active\":1}</td><td>2023-10-12T15:55:37.269+0000</td></tr><tr><td>a6e9a13c-7908-4756-b6ae-25362a5f1f0e</td><td>{\"customer_id\":186,\"store_id\":2,\"first_name\":\"Holly\",\"last_name\":\"Fox\",\"email\":\"holly.fox@sakilacustomer.org\",\"address_id\":190,\"activebool\":true,\"create_date\":\"2006-02-14\",\"last_update\":\"2013-05-26T14:49:45.738\",\"active\":1}</td><td>2023-10-12T15:55:37.269+0000</td></tr><tr><td>d16fe77c-f995-4024-a2c0-1b8a62afcabd</td><td>{\"customer_id\":187,\"store_id\":2,\"first_name\":\"Brittany\",\"last_name\":\"Riley\",\"email\":\"brittany.riley@sakilacustomer.org\",\"address_id\":191,\"activebool\":true,\"create_date\":\"2006-02-14\",\"last_update\":\"2013-05-26T14:49:45.738\",\"active\":1}</td><td>2023-10-12T15:55:37.269+0000</td></tr><tr><td>2b8762c1-3f30-4b35-b63d-5f49d6f00bc7</td><td>{\"customer_id\":188,\"store_id\":1,\"first_name\":\"Melanie\",\"last_name\":\"Armstrong\",\"email\":\"melanie.armstrong@sakilacustomer.org\",\"address_id\":192,\"activebool\":true,\"create_date\":\"2006-02-14\",\"last_update\":\"2013-05-26T14:49:45.738\",\"active\":1}</td><td>2023-10-12T15:55:37.269+0000</td></tr><tr><td>1324bc2d-20ea-44d3-bfa4-e60ec0ba2497</td><td>{\"customer_id\":189,\"store_id\":1,\"first_name\":\"Loretta\",\"last_name\":\"Carpenter\",\"email\":\"loretta.carpenter@sakilacustomer.org\",\"address_id\":193,\"activebool\":true,\"create_date\":\"2006-02-14\",\"last_update\":\"2013-05-26T14:49:45.738\",\"active\":1}</td><td>2023-10-12T15:55:37.269+0000</td></tr><tr><td>095250bc-3ba6-4e64-9680-1a63f42051e0</td><td>{\"customer_id\":190,\"store_id\":2,\"first_name\":\"Yolanda\",\"last_name\":\"Weaver\",\"email\":\"yolanda.weaver@sakilacustomer.org\",\"address_id\":194,\"activebool\":true,\"create_date\":\"2006-02-14\",\"last_update\":\"2013-05-26T14:49:45.738\",\"active\":1}</td><td>2023-10-12T15:55:37.269+0000</td></tr><tr><td>5ca2b3e8-7d33-4e8e-a4ee-3be07226781d</td><td>{\"customer_id\":191,\"store_id\":1,\"first_name\":\"Jeanette\",\"last_name\":\"Greene\",\"email\":\"jeanette.greene@sakilacustomer.org\",\"address_id\":195,\"activebool\":true,\"create_date\":\"2006-02-14\",\"last_update\":\"2013-05-26T14:49:45.738\",\"active\":1}</td><td>2023-10-12T15:55:37.269+0000</td></tr><tr><td>1e3bc2e3-244e-4815-9ef7-51dcf48c6a28</td><td>{\"customer_id\":192,\"store_id\":1,\"first_name\":\"Laurie\",\"last_name\":\"Lawrence\",\"email\":\"laurie.lawrence@sakilacustomer.org\",\"address_id\":196,\"activebool\":true,\"create_date\":\"2006-02-14\",\"last_update\":\"2013-05-26T14:49:45.738\",\"active\":1}</td><td>2023-10-12T15:55:37.269+0000</td></tr><tr><td>e61fb846-544b-4e06-af80-acda2b1709aa</td><td>{\"customer_id\":193,\"store_id\":2,\"first_name\":\"Katie\",\"last_name\":\"Elliott\",\"email\":\"katie.elliott@sakilacustomer.org\",\"address_id\":197,\"activebool\":true,\"create_date\":\"2006-02-14\",\"last_update\":\"2013-05-26T14:49:45.738\",\"active\":1}</td><td>2023-10-12T15:55:37.269+0000</td></tr><tr><td>51e69c42-bf35-4040-8926-33487be73a77</td><td>{\"customer_id\":194,\"store_id\":2,\"first_name\":\"Kristen\",\"last_name\":\"Chavez\",\"email\":\"kristen.chavez@sakilacustomer.org\",\"address_id\":198,\"activebool\":true,\"create_date\":\"2006-02-14\",\"last_update\":\"2013-05-26T14:49:45.738\",\"active\":1}</td><td>2023-10-12T15:55:37.269+0000</td></tr><tr><td>81b8b62e-351a-4549-a76d-8f9fec350aa2</td><td>{\"customer_id\":195,\"store_id\":1,\"first_name\":\"Vanessa\",\"last_name\":\"Sims\",\"email\":\"vanessa.sims@sakilacustomer.org\",\"address_id\":199,\"activebool\":true,\"create_date\":\"2006-02-14\",\"last_update\":\"2013-05-26T14:49:45.738\",\"active\":1}</td><td>2023-10-12T15:55:37.269+0000</td></tr><tr><td>ce7cc038-a478-4bb1-9f9f-29a1d12341f3</td><td>{\"customer_id\":196,\"store_id\":1,\"first_name\":\"Alma\",\"last_name\":\"Austin\",\"email\":\"alma.austin@sakilacustomer.org\",\"address_id\":200,\"activebool\":true,\"create_date\":\"2006-02-14\",\"last_update\":\"2013-05-26T14:49:45.738\",\"active\":1}</td><td>2023-10-12T15:55:37.269+0000</td></tr><tr><td>dc802dd1-e6e6-4ab3-9df3-f3446daaf937</td><td>{\"customer_id\":197,\"store_id\":2,\"first_name\":\"Sue\",\"last_name\":\"Peters\",\"email\":\"sue.peters@sakilacustomer.org\",\"address_id\":201,\"activebool\":true,\"create_date\":\"2006-02-14\",\"last_update\":\"2013-05-26T14:49:45.738\",\"active\":1}</td><td>2023-10-12T15:55:37.269+0000</td></tr><tr><td>a4812db1-69b7-48ee-8012-b8a62ff5ba75</td><td>{\"customer_id\":198,\"store_id\":2,\"first_name\":\"Elsie\",\"last_name\":\"Kelley\",\"email\":\"elsie.kelley@sakilacustomer.org\",\"address_id\":202,\"activebool\":true,\"create_date\":\"2006-02-14\",\"last_update\":\"2013-05-26T14:49:45.738\",\"active\":1}</td><td>2023-10-12T15:55:37.269+0000</td></tr><tr><td>92dbc224-e3cf-4b8b-ab87-54abf81540cc</td><td>{\"customer_id\":199,\"store_id\":2,\"first_name\":\"Beth\",\"last_name\":\"Franklin\",\"email\":\"beth.franklin@sakilacustomer.org\",\"address_id\":203,\"activebool\":true,\"create_date\":\"2006-02-14\",\"last_update\":\"2013-05-26T14:49:45.738\",\"active\":1}</td><td>2023-10-12T15:55:37.269+0000</td></tr><tr><td>2122bcde-c3c3-40b9-91d4-502f67aa4451</td><td>{\"customer_id\":200,\"store_id\":2,\"first_name\":\"Jeanne\",\"last_name\":\"Lawson\",\"email\":\"jeanne.lawson@sakilacustomer.org\",\"address_id\":204,\"activebool\":true,\"create_date\":\"2006-02-14\",\"last_update\":\"2013-05-26T14:49:45.738\",\"active\":1}</td><td>2023-10-12T15:55:37.269+0000</td></tr><tr><td>37d3d4b6-0561-4886-b9b7-0cbae20b952f</td><td>{\"customer_id\":201,\"store_id\":1,\"first_name\":\"Vicki\",\"last_name\":\"Fields\",\"email\":\"vicki.fields@sakilacustomer.org\",\"address_id\":205,\"activebool\":true,\"create_date\":\"2006-02-14\",\"last_update\":\"2013-05-26T14:49:45.738\",\"active\":1}</td><td>2023-10-12T15:55:37.269+0000</td></tr><tr><td>4e3b8d78-5b88-499c-a96c-0a3a5c085b15</td><td>{\"customer_id\":202,\"store_id\":2,\"first_name\":\"Carla\",\"last_name\":\"Gutierrez\",\"email\":\"carla.gutierrez@sakilacustomer.org\",\"address_id\":206,\"activebool\":true,\"create_date\":\"2006-02-14\",\"last_update\":\"2013-05-26T14:49:45.738\",\"active\":1}</td><td>2023-10-12T15:55:37.269+0000</td></tr><tr><td>b6e8280f-c536-434a-9957-9049465cf1d6</td><td>{\"customer_id\":203,\"store_id\":1,\"first_name\":\"Tara\",\"last_name\":\"Ryan\",\"email\":\"tara.ryan@sakilacustomer.org\",\"address_id\":207,\"activebool\":true,\"create_date\":\"2006-02-14\",\"last_update\":\"2013-05-26T14:49:45.738\",\"active\":1}</td><td>2023-10-12T15:55:37.269+0000</td></tr><tr><td>cb6e3c3f-4fc0-43d0-993b-1336fe53eac9</td><td>{\"customer_id\":204,\"store_id\":1,\"first_name\":\"Rosemary\",\"last_name\":\"Schmidt\",\"email\":\"rosemary.schmidt@sakilacustomer.org\",\"address_id\":208,\"activebool\":true,\"create_date\":\"2006-02-14\",\"last_update\":\"2013-05-26T14:49:45.738\",\"active\":1}</td><td>2023-10-12T15:55:37.269+0000</td></tr><tr><td>cb9767a7-1805-4e71-9c58-e931477d9f8a</td><td>{\"customer_id\":205,\"store_id\":2,\"first_name\":\"Eileen\",\"last_name\":\"Carr\",\"email\":\"eileen.carr@sakilacustomer.org\",\"address_id\":209,\"activebool\":true,\"create_date\":\"2006-02-14\",\"last_update\":\"2013-05-26T14:49:45.738\",\"active\":1}</td><td>2023-10-12T15:55:37.269+0000</td></tr><tr><td>b1b60621-52c0-4922-974e-b2cf41ec5079</td><td>{\"customer_id\":206,\"store_id\":1,\"first_name\":\"Terri\",\"last_name\":\"Vasquez\",\"email\":\"terri.vasquez@sakilacustomer.org\",\"address_id\":210,\"activebool\":true,\"create_date\":\"2006-02-14\",\"last_update\":\"2013-05-26T14:49:45.738\",\"active\":1}</td><td>2023-10-12T15:55:37.269+0000</td></tr><tr><td>0882d0ec-af7d-4c0a-9a15-cfbd65e9eefa</td><td>{\"customer_id\":207,\"store_id\":1,\"first_name\":\"Gertrude\",\"last_name\":\"Castillo\",\"email\":\"gertrude.castillo@sakilacustomer.org\",\"address_id\":211,\"activebool\":true,\"create_date\":\"2006-02-14\",\"last_update\":\"2013-05-26T14:49:45.738\",\"active\":1}</td><td>2023-10-12T15:55:37.269+0000</td></tr><tr><td>e939505b-9e6a-4081-bb86-47e8a8776510</td><td>{\"customer_id\":208,\"store_id\":1,\"first_name\":\"Lucy\",\"last_name\":\"Wheeler\",\"email\":\"lucy.wheeler@sakilacustomer.org\",\"address_id\":212,\"activebool\":true,\"create_date\":\"2006-02-14\",\"last_update\":\"2013-05-26T14:49:45.738\",\"active\":1}</td><td>2023-10-12T15:55:37.269+0000</td></tr><tr><td>b92594b1-64f0-4d5a-9796-c93db1d8bdd1</td><td>{\"customer_id\":209,\"store_id\":2,\"first_name\":\"Tonya\",\"last_name\":\"Chapman\",\"email\":\"tonya.chapman@sakilacustomer.org\",\"address_id\":213,\"activebool\":true,\"create_date\":\"2006-02-14\",\"last_update\":\"2013-05-26T14:49:45.738\",\"active\":1}</td><td>2023-10-12T15:55:37.269+0000</td></tr><tr><td>32d8402e-deac-4c88-a517-d410e7c6351a</td><td>{\"customer_id\":210,\"store_id\":2,\"first_name\":\"Ella\",\"last_name\":\"Oliver\",\"email\":\"ella.oliver@sakilacustomer.org\",\"address_id\":214,\"activebool\":true,\"create_date\":\"2006-02-14\",\"last_update\":\"2013-05-26T14:49:45.738\",\"active\":1}</td><td>2023-10-12T15:55:37.269+0000</td></tr><tr><td>755bf6c6-e49d-4317-9304-8b65c4613f47</td><td>{\"customer_id\":211,\"store_id\":1,\"first_name\":\"Stacey\",\"last_name\":\"Montgomery\",\"email\":\"stacey.montgomery@sakilacustomer.org\",\"address_id\":215,\"activebool\":true,\"create_date\":\"2006-02-14\",\"last_update\":\"2013-05-26T14:49:45.738\",\"active\":1}</td><td>2023-10-12T15:55:37.269+0000</td></tr><tr><td>2804db86-6232-4489-8d9c-f9e42e2a0044</td><td>{\"customer_id\":212,\"store_id\":2,\"first_name\":\"Wilma\",\"last_name\":\"Richards\",\"email\":\"wilma.richards@sakilacustomer.org\",\"address_id\":216,\"activebool\":true,\"create_date\":\"2006-02-14\",\"last_update\":\"2013-05-26T14:49:45.738\",\"active\":1}</td><td>2023-10-12T15:55:37.269+0000</td></tr><tr><td>7735f504-91a9-42da-9510-e51cd97dbb3b</td><td>{\"customer_id\":213,\"store_id\":1,\"first_name\":\"Gina\",\"last_name\":\"Williamson\",\"email\":\"gina.williamson@sakilacustomer.org\",\"address_id\":217,\"activebool\":true,\"create_date\":\"2006-02-14\",\"last_update\":\"2013-05-26T14:49:45.738\",\"active\":1}</td><td>2023-10-12T15:55:37.269+0000</td></tr><tr><td>6fd6f000-02e1-4b64-845c-1e53e9ad4ea8</td><td>{\"customer_id\":214,\"store_id\":1,\"first_name\":\"Kristin\",\"last_name\":\"Johnston\",\"email\":\"kristin.johnston@sakilacustomer.org\",\"address_id\":218,\"activebool\":true,\"create_date\":\"2006-02-14\",\"last_update\":\"2013-05-26T14:49:45.738\",\"active\":1}</td><td>2023-10-12T15:55:37.269+0000</td></tr><tr><td>0608c955-552e-43bc-8afb-0f864c634030</td><td>{\"customer_id\":215,\"store_id\":2,\"first_name\":\"Jessie\",\"last_name\":\"Banks\",\"email\":\"jessie.banks@sakilacustomer.org\",\"address_id\":219,\"activebool\":true,\"create_date\":\"2006-02-14\",\"last_update\":\"2013-05-26T14:49:45.738\",\"active\":1}</td><td>2023-10-12T15:55:37.269+0000</td></tr><tr><td>3b61aa6c-ec6c-443f-be76-8aea70aeec8d</td><td>{\"customer_id\":216,\"store_id\":1,\"first_name\":\"Natalie\",\"last_name\":\"Meyer\",\"email\":\"natalie.meyer@sakilacustomer.org\",\"address_id\":220,\"activebool\":true,\"create_date\":\"2006-02-14\",\"last_update\":\"2013-05-26T14:49:45.738\",\"active\":1}</td><td>2023-10-12T15:55:37.269+0000</td></tr><tr><td>521075ec-f819-41d5-b5eb-592abd07f210</td><td>{\"customer_id\":217,\"store_id\":2,\"first_name\":\"Agnes\",\"last_name\":\"Bishop\",\"email\":\"agnes.bishop@sakilacustomer.org\",\"address_id\":221,\"activebool\":true,\"create_date\":\"2006-02-14\",\"last_update\":\"2013-05-26T14:49:45.738\",\"active\":1}</td><td>2023-10-12T15:55:37.269+0000</td></tr><tr><td>e4967e05-aa7f-47cf-a778-74a1a7719c09</td><td>{\"customer_id\":218,\"store_id\":1,\"first_name\":\"Vera\",\"last_name\":\"Mccoy\",\"email\":\"vera.mccoy@sakilacustomer.org\",\"address_id\":222,\"activebool\":true,\"create_date\":\"2006-02-14\",\"last_update\":\"2013-05-26T14:49:45.738\",\"active\":1}</td><td>2023-10-12T15:55:37.269+0000</td></tr><tr><td>f28bb701-0373-4bc9-a7de-7a1b907b811a</td><td>{\"customer_id\":219,\"store_id\":2,\"first_name\":\"Willie\",\"last_name\":\"Howell\",\"email\":\"willie.howell@sakilacustomer.org\",\"address_id\":223,\"activebool\":true,\"create_date\":\"2006-02-14\",\"last_update\":\"2013-05-26T14:49:45.738\",\"active\":1}</td><td>2023-10-12T15:55:37.269+0000</td></tr><tr><td>145947a0-ef29-4fd1-88ac-46a149be79a8</td><td>{\"customer_id\":220,\"store_id\":2,\"first_name\":\"Charlene\",\"last_name\":\"Alvarez\",\"email\":\"charlene.alvarez@sakilacustomer.org\",\"address_id\":224,\"activebool\":true,\"create_date\":\"2006-02-14\",\"last_update\":\"2013-05-26T14:49:45.738\",\"active\":1}</td><td>2023-10-12T15:55:37.269+0000</td></tr><tr><td>d7f1e82f-7f3e-4168-b211-953dad38d5d3</td><td>{\"customer_id\":221,\"store_id\":1,\"first_name\":\"Bessie\",\"last_name\":\"Morrison\",\"email\":\"bessie.morrison@sakilacustomer.org\",\"address_id\":225,\"activebool\":true,\"create_date\":\"2006-02-14\",\"last_update\":\"2013-05-26T14:49:45.738\",\"active\":1}</td><td>2023-10-12T15:55:37.269+0000</td></tr><tr><td>8e9227f5-7011-4b34-9cd6-e02215161674</td><td>{\"customer_id\":222,\"store_id\":2,\"first_name\":\"Delores\",\"last_name\":\"Hansen\",\"email\":\"delores.hansen@sakilacustomer.org\",\"address_id\":226,\"activebool\":true,\"create_date\":\"2006-02-14\",\"last_update\":\"2013-05-26T14:49:45.738\",\"active\":1}</td><td>2023-10-12T15:55:37.269+0000</td></tr><tr><td>e321fa20-4901-4782-8e29-5aecd3351780</td><td>{\"customer_id\":223,\"store_id\":1,\"first_name\":\"Melinda\",\"last_name\":\"Fernandez\",\"email\":\"melinda.fernandez@sakilacustomer.org\",\"address_id\":227,\"activebool\":true,\"create_date\":\"2006-02-14\",\"last_update\":\"2013-05-26T14:49:45.738\",\"active\":1}</td><td>2023-10-12T15:55:37.269+0000</td></tr><tr><td>a01681fe-288f-4645-ad78-6a6d1809c63f</td><td>{\"customer_id\":224,\"store_id\":2,\"first_name\":\"Pearl\",\"last_name\":\"Garza\",\"email\":\"pearl.garza@sakilacustomer.org\",\"address_id\":228,\"activebool\":true,\"create_date\":\"2006-02-14\",\"last_update\":\"2013-05-26T14:49:45.738\",\"active\":1}</td><td>2023-10-12T15:55:37.269+0000</td></tr><tr><td>5f764cef-8f99-4581-b48f-6f9354251cd9</td><td>{\"customer_id\":225,\"store_id\":1,\"first_name\":\"Arlene\",\"last_name\":\"Harvey\",\"email\":\"arlene.harvey@sakilacustomer.org\",\"address_id\":229,\"activebool\":true,\"create_date\":\"2006-02-14\",\"last_update\":\"2013-05-26T14:49:45.738\",\"active\":1}</td><td>2023-10-12T15:55:37.269+0000</td></tr><tr><td>2f795505-6c0d-4591-b1bb-95487edf4131</td><td>{\"customer_id\":226,\"store_id\":2,\"first_name\":\"Maureen\",\"last_name\":\"Little\",\"email\":\"maureen.little@sakilacustomer.org\",\"address_id\":230,\"activebool\":true,\"create_date\":\"2006-02-14\",\"last_update\":\"2013-05-26T14:49:45.738\",\"active\":1}</td><td>2023-10-12T15:55:37.269+0000</td></tr><tr><td>890c0685-4646-4d37-9f81-0ec0a39b3e6a</td><td>{\"customer_id\":227,\"store_id\":1,\"first_name\":\"Colleen\",\"last_name\":\"Burton\",\"email\":\"colleen.burton@sakilacustomer.org\",\"address_id\":231,\"activebool\":true,\"create_date\":\"2006-02-14\",\"last_update\":\"2013-05-26T14:49:45.738\",\"active\":1}</td><td>2023-10-12T15:55:37.269+0000</td></tr><tr><td>dedde0b8-e229-496f-8a20-86fbc13d4291</td><td>{\"customer_id\":228,\"store_id\":2,\"first_name\":\"Allison\",\"last_name\":\"Stanley\",\"email\":\"allison.stanley@sakilacustomer.org\",\"address_id\":232,\"activebool\":true,\"create_date\":\"2006-02-14\",\"last_update\":\"2013-05-26T14:49:45.738\",\"active\":1}</td><td>2023-10-12T15:55:37.269+0000</td></tr><tr><td>23978567-22cf-42f6-a0b5-6311be99f4c0</td><td>{\"customer_id\":229,\"store_id\":1,\"first_name\":\"Tamara\",\"last_name\":\"Nguyen\",\"email\":\"tamara.nguyen@sakilacustomer.org\",\"address_id\":233,\"activebool\":true,\"create_date\":\"2006-02-14\",\"last_update\":\"2013-05-26T14:49:45.738\",\"active\":1}</td><td>2023-10-12T15:55:37.269+0000</td></tr><tr><td>b1afd631-d43c-4109-ae72-3f12e43cb617</td><td>{\"customer_id\":230,\"store_id\":2,\"first_name\":\"Joy\",\"last_name\":\"George\",\"email\":\"joy.george@sakilacustomer.org\",\"address_id\":234,\"activebool\":true,\"create_date\":\"2006-02-14\",\"last_update\":\"2013-05-26T14:49:45.738\",\"active\":1}</td><td>2023-10-12T15:55:37.269+0000</td></tr><tr><td>7e2f3525-eb14-408d-8b39-a3642204e5a9</td><td>{\"customer_id\":231,\"store_id\":1,\"first_name\":\"Georgia\",\"last_name\":\"Jacobs\",\"email\":\"georgia.jacobs@sakilacustomer.org\",\"address_id\":235,\"activebool\":true,\"create_date\":\"2006-02-14\",\"last_update\":\"2013-05-26T14:49:45.738\",\"active\":1}</td><td>2023-10-12T15:55:37.269+0000</td></tr><tr><td>d6723730-14d8-490d-92af-7a36f0a3f42d</td><td>{\"customer_id\":232,\"store_id\":2,\"first_name\":\"Constance\",\"last_name\":\"Reid\",\"email\":\"constance.reid@sakilacustomer.org\",\"address_id\":236,\"activebool\":true,\"create_date\":\"2006-02-14\",\"last_update\":\"2013-05-26T14:49:45.738\",\"active\":1}</td><td>2023-10-12T15:55:37.269+0000</td></tr><tr><td>2d2c1f5d-64e5-4cd9-b7c3-a31c715330b8</td><td>{\"customer_id\":233,\"store_id\":2,\"first_name\":\"Lillie\",\"last_name\":\"Kim\",\"email\":\"lillie.kim@sakilacustomer.org\",\"address_id\":237,\"activebool\":true,\"create_date\":\"2006-02-14\",\"last_update\":\"2013-05-26T14:49:45.738\",\"active\":1}</td><td>2023-10-12T15:55:37.269+0000</td></tr><tr><td>fb7ab269-a409-4246-bbfb-fae10e7aad0d</td><td>{\"customer_id\":234,\"store_id\":1,\"first_name\":\"Claudia\",\"last_name\":\"Fuller\",\"email\":\"claudia.fuller@sakilacustomer.org\",\"address_id\":238,\"activebool\":true,\"create_date\":\"2006-02-14\",\"last_update\":\"2013-05-26T14:49:45.738\",\"active\":1}</td><td>2023-10-12T15:55:37.269+0000</td></tr><tr><td>24631365-1d3c-47f6-9266-874cb83df642</td><td>{\"customer_id\":235,\"store_id\":1,\"first_name\":\"Jackie\",\"last_name\":\"Lynch\",\"email\":\"jackie.lynch@sakilacustomer.org\",\"address_id\":239,\"activebool\":true,\"create_date\":\"2006-02-14\",\"last_update\":\"2013-05-26T14:49:45.738\",\"active\":1}</td><td>2023-10-12T15:55:37.269+0000</td></tr><tr><td>0116323c-1123-4dea-87d1-4f94e72e2953</td><td>{\"customer_id\":236,\"store_id\":1,\"first_name\":\"Marcia\",\"last_name\":\"Dean\",\"email\":\"marcia.dean@sakilacustomer.org\",\"address_id\":240,\"activebool\":true,\"create_date\":\"2006-02-14\",\"last_update\":\"2013-05-26T14:49:45.738\",\"active\":1}</td><td>2023-10-12T15:55:37.269+0000</td></tr><tr><td>c984c059-b25e-455c-bef3-9fca9494cea8</td><td>{\"customer_id\":237,\"store_id\":1,\"first_name\":\"Tanya\",\"last_name\":\"Gilbert\",\"email\":\"tanya.gilbert@sakilacustomer.org\",\"address_id\":241,\"activebool\":true,\"create_date\":\"2006-02-14\",\"last_update\":\"2013-05-26T14:49:45.738\",\"active\":1}</td><td>2023-10-12T15:55:37.269+0000</td></tr><tr><td>047fef36-cb47-4916-b73d-78c8f34966bb</td><td>{\"customer_id\":238,\"store_id\":1,\"first_name\":\"Nellie\",\"last_name\":\"Garrett\",\"email\":\"nellie.garrett@sakilacustomer.org\",\"address_id\":242,\"activebool\":true,\"create_date\":\"2006-02-14\",\"last_update\":\"2013-05-26T14:49:45.738\",\"active\":1}</td><td>2023-10-12T15:55:37.269+0000</td></tr><tr><td>b41ed892-d59c-4f82-8a78-32967593d0cd</td><td>{\"customer_id\":239,\"store_id\":2,\"first_name\":\"Minnie\",\"last_name\":\"Romero\",\"email\":\"minnie.romero@sakilacustomer.org\",\"address_id\":243,\"activebool\":true,\"create_date\":\"2006-02-14\",\"last_update\":\"2013-05-26T14:49:45.738\",\"active\":1}</td><td>2023-10-12T15:55:37.269+0000</td></tr><tr><td>a6452519-8528-4d36-bc80-eb15550150b0</td><td>{\"customer_id\":240,\"store_id\":1,\"first_name\":\"Marlene\",\"last_name\":\"Welch\",\"email\":\"marlene.welch@sakilacustomer.org\",\"address_id\":244,\"activebool\":true,\"create_date\":\"2006-02-14\",\"last_update\":\"2013-05-26T14:49:45.738\",\"active\":1}</td><td>2023-10-12T15:55:37.269+0000</td></tr><tr><td>024af5a3-5629-4359-833a-e4f60d2413df</td><td>{\"customer_id\":241,\"store_id\":2,\"first_name\":\"Heidi\",\"last_name\":\"Larson\",\"email\":\"heidi.larson@sakilacustomer.org\",\"address_id\":245,\"activebool\":true,\"create_date\":\"2006-02-14\",\"last_update\":\"2013-05-26T14:49:45.738\",\"active\":0}</td><td>2023-10-12T15:55:37.269+0000</td></tr><tr><td>a4ad4cc0-3613-40dc-823e-e316fd27d1a3</td><td>{\"customer_id\":242,\"store_id\":1,\"first_name\":\"Glenda\",\"last_name\":\"Frazier\",\"email\":\"glenda.frazier@sakilacustomer.org\",\"address_id\":246,\"activebool\":true,\"create_date\":\"2006-02-14\",\"last_update\":\"2013-05-26T14:49:45.738\",\"active\":1}</td><td>2023-10-12T15:55:37.269+0000</td></tr><tr><td>2b91df2d-bd6b-4c7c-89db-8df9b3b78c08</td><td>{\"customer_id\":243,\"store_id\":1,\"first_name\":\"Lydia\",\"last_name\":\"Burke\",\"email\":\"lydia.burke@sakilacustomer.org\",\"address_id\":247,\"activebool\":true,\"create_date\":\"2006-02-14\",\"last_update\":\"2013-05-26T14:49:45.738\",\"active\":1}</td><td>2023-10-12T15:55:37.269+0000</td></tr><tr><td>2c29387d-c41d-458a-9b6e-3b08d5e852ff</td><td>{\"customer_id\":244,\"store_id\":2,\"first_name\":\"Viola\",\"last_name\":\"Hanson\",\"email\":\"viola.hanson@sakilacustomer.org\",\"address_id\":248,\"activebool\":true,\"create_date\":\"2006-02-14\",\"last_update\":\"2013-05-26T14:49:45.738\",\"active\":1}</td><td>2023-10-12T15:55:37.269+0000</td></tr><tr><td>1d691153-1bef-4b93-af27-8457e55ff153</td><td>{\"customer_id\":245,\"store_id\":1,\"first_name\":\"Courtney\",\"last_name\":\"Day\",\"email\":\"courtney.day@sakilacustomer.org\",\"address_id\":249,\"activebool\":true,\"create_date\":\"2006-02-14\",\"last_update\":\"2013-05-26T14:49:45.738\",\"active\":1}</td><td>2023-10-12T15:55:37.269+0000</td></tr><tr><td>6be1d8d0-1595-4357-a0be-b98e49ab625c</td><td>{\"customer_id\":246,\"store_id\":1,\"first_name\":\"Marian\",\"last_name\":\"Mendoza\",\"email\":\"marian.mendoza@sakilacustomer.org\",\"address_id\":250,\"activebool\":true,\"create_date\":\"2006-02-14\",\"last_update\":\"2013-05-26T14:49:45.738\",\"active\":1}</td><td>2023-10-12T15:55:37.269+0000</td></tr><tr><td>e7de8f6a-1e21-4190-bacd-09f1c0626a92</td><td>{\"customer_id\":247,\"store_id\":1,\"first_name\":\"Stella\",\"last_name\":\"Moreno\",\"email\":\"stella.moreno@sakilacustomer.org\",\"address_id\":251,\"activebool\":true,\"create_date\":\"2006-02-14\",\"last_update\":\"2013-05-26T14:49:45.738\",\"active\":1}</td><td>2023-10-12T15:55:37.269+0000</td></tr><tr><td>7354ae7b-e495-4d4d-b987-427fa61b8eaa</td><td>{\"customer_id\":248,\"store_id\":1,\"first_name\":\"Caroline\",\"last_name\":\"Bowman\",\"email\":\"caroline.bowman@sakilacustomer.org\",\"address_id\":252,\"activebool\":true,\"create_date\":\"2006-02-14\",\"last_update\":\"2013-05-26T14:49:45.738\",\"active\":1}</td><td>2023-10-12T15:55:37.269+0000</td></tr><tr><td>ecee20f9-4332-46ac-bab4-810a75085dfd</td><td>{\"customer_id\":249,\"store_id\":2,\"first_name\":\"Dora\",\"last_name\":\"Medina\",\"email\":\"dora.medina@sakilacustomer.org\",\"address_id\":253,\"activebool\":true,\"create_date\":\"2006-02-14\",\"last_update\":\"2013-05-26T14:49:45.738\",\"active\":1}</td><td>2023-10-12T15:55:37.269+0000</td></tr><tr><td>c3b7911f-4207-4af1-9e25-f79259354c8e</td><td>{\"customer_id\":250,\"store_id\":2,\"first_name\":\"Jo\",\"last_name\":\"Fowler\",\"email\":\"jo.fowler@sakilacustomer.org\",\"address_id\":254,\"activebool\":true,\"create_date\":\"2006-02-14\",\"last_update\":\"2013-05-26T14:49:45.738\",\"active\":1}</td><td>2023-10-12T15:55:37.269+0000</td></tr><tr><td>dd3026b5-7cd7-452b-8fa3-587cb6640b85</td><td>{\"customer_id\":251,\"store_id\":2,\"first_name\":\"Vickie\",\"last_name\":\"Brewer\",\"email\":\"vickie.brewer@sakilacustomer.org\",\"address_id\":255,\"activebool\":true,\"create_date\":\"2006-02-14\",\"last_update\":\"2013-05-26T14:49:45.738\",\"active\":1}</td><td>2023-10-12T15:55:37.269+0000</td></tr><tr><td>cb171a36-3188-4ce3-a780-3cae17c8eaae</td><td>{\"customer_id\":252,\"store_id\":2,\"first_name\":\"Mattie\",\"last_name\":\"Hoffman\",\"email\":\"mattie.hoffman@sakilacustomer.org\",\"address_id\":256,\"activebool\":true,\"create_date\":\"2006-02-14\",\"last_update\":\"2013-05-26T14:49:45.738\",\"active\":1}</td><td>2023-10-12T15:55:37.269+0000</td></tr><tr><td>9eb14a54-298b-418b-be6b-2301e5bc3881</td><td>{\"customer_id\":253,\"store_id\":1,\"first_name\":\"Terry\",\"last_name\":\"Carlson\",\"email\":\"terry.carlson@sakilacustomer.org\",\"address_id\":258,\"activebool\":true,\"create_date\":\"2006-02-14\",\"last_update\":\"2013-05-26T14:49:45.738\",\"active\":1}</td><td>2023-10-12T15:55:37.269+0000</td></tr><tr><td>93440a36-d363-47cf-92b4-4e23671d87f3</td><td>{\"customer_id\":254,\"store_id\":2,\"first_name\":\"Maxine\",\"last_name\":\"Silva\",\"email\":\"maxine.silva@sakilacustomer.org\",\"address_id\":259,\"activebool\":true,\"create_date\":\"2006-02-14\",\"last_update\":\"2013-05-26T14:49:45.738\",\"active\":1}</td><td>2023-10-12T15:55:37.269+0000</td></tr><tr><td>25dd6411-c029-4b57-b71e-a172eea0f08c</td><td>{\"customer_id\":255,\"store_id\":2,\"first_name\":\"Irma\",\"last_name\":\"Pearson\",\"email\":\"irma.pearson@sakilacustomer.org\",\"address_id\":260,\"activebool\":true,\"create_date\":\"2006-02-14\",\"last_update\":\"2013-05-26T14:49:45.738\",\"active\":1}</td><td>2023-10-12T15:55:37.269+0000</td></tr><tr><td>e6c09b79-836d-4df7-8ddc-c999de787e99</td><td>{\"customer_id\":256,\"store_id\":2,\"first_name\":\"Mabel\",\"last_name\":\"Holland\",\"email\":\"mabel.holland@sakilacustomer.org\",\"address_id\":261,\"activebool\":true,\"create_date\":\"2006-02-14\",\"last_update\":\"2013-05-26T14:49:45.738\",\"active\":1}</td><td>2023-10-12T15:55:37.269+0000</td></tr><tr><td>2aa60b38-5ffa-418a-a0b3-03cef6b9031e</td><td>{\"customer_id\":257,\"store_id\":2,\"first_name\":\"Marsha\",\"last_name\":\"Douglas\",\"email\":\"marsha.douglas@sakilacustomer.org\",\"address_id\":262,\"activebool\":true,\"create_date\":\"2006-02-14\",\"last_update\":\"2013-05-26T14:49:45.738\",\"active\":1}</td><td>2023-10-12T15:55:37.269+0000</td></tr><tr><td>df559e02-5134-405c-80e2-fb7b84937b01</td><td>{\"customer_id\":258,\"store_id\":1,\"first_name\":\"Myrtle\",\"last_name\":\"Fleming\",\"email\":\"myrtle.fleming@sakilacustomer.org\",\"address_id\":263,\"activebool\":true,\"create_date\":\"2006-02-14\",\"last_update\":\"2013-05-26T14:49:45.738\",\"active\":1}</td><td>2023-10-12T15:55:37.269+0000</td></tr><tr><td>e357b244-abad-4e26-8044-0da1ab3d4b98</td><td>{\"customer_id\":259,\"store_id\":2,\"first_name\":\"Lena\",\"last_name\":\"Jensen\",\"email\":\"lena.jensen@sakilacustomer.org\",\"address_id\":264,\"activebool\":true,\"create_date\":\"2006-02-14\",\"last_update\":\"2013-05-26T14:49:45.738\",\"active\":1}</td><td>2023-10-12T15:55:37.269+0000</td></tr><tr><td>632bf515-1423-459e-9037-5d87cae5a144</td><td>{\"customer_id\":260,\"store_id\":1,\"first_name\":\"Christy\",\"last_name\":\"Vargas\",\"email\":\"christy.vargas@sakilacustomer.org\",\"address_id\":265,\"activebool\":true,\"create_date\":\"2006-02-14\",\"last_update\":\"2013-05-26T14:49:45.738\",\"active\":1}</td><td>2023-10-12T15:55:37.269+0000</td></tr><tr><td>b9088b85-9720-4ab7-a97c-c270037425dc</td><td>{\"customer_id\":261,\"store_id\":1,\"first_name\":\"Deanna\",\"last_name\":\"Byrd\",\"email\":\"deanna.byrd@sakilacustomer.org\",\"address_id\":266,\"activebool\":true,\"create_date\":\"2006-02-14\",\"last_update\":\"2013-05-26T14:49:45.738\",\"active\":1}</td><td>2023-10-12T15:55:37.269+0000</td></tr><tr><td>318fe7da-1f15-4787-a259-cc3d701d7037</td><td>{\"customer_id\":262,\"store_id\":2,\"first_name\":\"Patsy\",\"last_name\":\"Davidson\",\"email\":\"patsy.davidson@sakilacustomer.org\",\"address_id\":267,\"activebool\":true,\"create_date\":\"2006-02-14\",\"last_update\":\"2013-05-26T14:49:45.738\",\"active\":1}</td><td>2023-10-12T15:55:37.269+0000</td></tr><tr><td>5efa0250-adb4-47ca-8af5-aab6cb0a7e6b</td><td>{\"customer_id\":263,\"store_id\":1,\"first_name\":\"Hilda\",\"last_name\":\"Hopkins\",\"email\":\"hilda.hopkins@sakilacustomer.org\",\"address_id\":268,\"activebool\":true,\"create_date\":\"2006-02-14\",\"last_update\":\"2013-05-26T14:49:45.738\",\"active\":1}</td><td>2023-10-12T15:55:37.269+0000</td></tr><tr><td>1a7a18ec-d46c-406c-a7a9-bcfd0483fc33</td><td>{\"customer_id\":264,\"store_id\":1,\"first_name\":\"Gwendolyn\",\"last_name\":\"May\",\"email\":\"gwendolyn.may@sakilacustomer.org\",\"address_id\":269,\"activebool\":true,\"create_date\":\"2006-02-14\",\"last_update\":\"2013-05-26T14:49:45.738\",\"active\":1}</td><td>2023-10-12T15:55:37.269+0000</td></tr><tr><td>cd685b1c-0518-43c8-a87b-5b1ada915033</td><td>{\"customer_id\":265,\"store_id\":2,\"first_name\":\"Jennie\",\"last_name\":\"Terry\",\"email\":\"jennie.terry@sakilacustomer.org\",\"address_id\":270,\"activebool\":true,\"create_date\":\"2006-02-14\",\"last_update\":\"2013-05-26T14:49:45.738\",\"active\":1}</td><td>2023-10-12T15:55:37.269+0000</td></tr><tr><td>cc519062-6170-4e21-ac93-9e4c6ae165dd</td><td>{\"customer_id\":266,\"store_id\":2,\"first_name\":\"Nora\",\"last_name\":\"Herrera\",\"email\":\"nora.herrera@sakilacustomer.org\",\"address_id\":271,\"activebool\":true,\"create_date\":\"2006-02-14\",\"last_update\":\"2013-05-26T14:49:45.738\",\"active\":1}</td><td>2023-10-12T15:55:37.269+0000</td></tr><tr><td>51ad910a-aa97-4c98-8f70-4c19b620e6e3</td><td>{\"customer_id\":267,\"store_id\":1,\"first_name\":\"Margie\",\"last_name\":\"Wade\",\"email\":\"margie.wade@sakilacustomer.org\",\"address_id\":272,\"activebool\":true,\"create_date\":\"2006-02-14\",\"last_update\":\"2013-05-26T14:49:45.738\",\"active\":1}</td><td>2023-10-12T15:55:37.269+0000</td></tr><tr><td>e554b575-1cbe-4d14-890a-1eede3b9fd86</td><td>{\"customer_id\":268,\"store_id\":1,\"first_name\":\"Nina\",\"last_name\":\"Soto\",\"email\":\"nina.soto@sakilacustomer.org\",\"address_id\":273,\"activebool\":true,\"create_date\":\"2006-02-14\",\"last_update\":\"2013-05-26T14:49:45.738\",\"active\":1}</td><td>2023-10-12T15:55:37.269+0000</td></tr><tr><td>295ddb60-ba66-4f6d-9ca3-6d7742ced889</td><td>{\"customer_id\":269,\"store_id\":1,\"first_name\":\"Cassandra\",\"last_name\":\"Walters\",\"email\":\"cassandra.walters@sakilacustomer.org\",\"address_id\":274,\"activebool\":true,\"create_date\":\"2006-02-14\",\"last_update\":\"2013-05-26T14:49:45.738\",\"active\":1}</td><td>2023-10-12T15:55:37.269+0000</td></tr><tr><td>74b01cb9-c945-4584-964c-4f1a5bb032a6</td><td>{\"customer_id\":270,\"store_id\":1,\"first_name\":\"Leah\",\"last_name\":\"Curtis\",\"email\":\"leah.curtis@sakilacustomer.org\",\"address_id\":275,\"activebool\":true,\"create_date\":\"2006-02-14\",\"last_update\":\"2013-05-26T14:49:45.738\",\"active\":1}</td><td>2023-10-12T15:55:37.269+0000</td></tr><tr><td>336a3af8-a61e-4b50-b144-a95e16e0b681</td><td>{\"customer_id\":271,\"store_id\":1,\"first_name\":\"Penny\",\"last_name\":\"Neal\",\"email\":\"penny.neal@sakilacustomer.org\",\"address_id\":276,\"activebool\":true,\"create_date\":\"2006-02-14\",\"last_update\":\"2013-05-26T14:49:45.738\",\"active\":0}</td><td>2023-10-12T15:55:37.269+0000</td></tr><tr><td>e7c02a24-2022-4e8d-91a7-0074e6a3b44b</td><td>{\"customer_id\":272,\"store_id\":1,\"first_name\":\"Kay\",\"last_name\":\"Caldwell\",\"email\":\"kay.caldwell@sakilacustomer.org\",\"address_id\":277,\"activebool\":true,\"create_date\":\"2006-02-14\",\"last_update\":\"2013-05-26T14:49:45.738\",\"active\":1}</td><td>2023-10-12T15:55:37.269+0000</td></tr><tr><td>1127fafb-1142-425c-b4b6-63a303a4b211</td><td>{\"customer_id\":273,\"store_id\":2,\"first_name\":\"Priscilla\",\"last_name\":\"Lowe\",\"email\":\"priscilla.lowe@sakilacustomer.org\",\"address_id\":278,\"activebool\":true,\"create_date\":\"2006-02-14\",\"last_update\":\"2013-05-26T14:49:45.738\",\"active\":1}</td><td>2023-10-12T15:55:37.269+0000</td></tr><tr><td>d0c9d75e-1924-4cda-b683-6de91454deab</td><td>{\"customer_id\":274,\"store_id\":1,\"first_name\":\"Naomi\",\"last_name\":\"Jennings\",\"email\":\"naomi.jennings@sakilacustomer.org\",\"address_id\":279,\"activebool\":true,\"create_date\":\"2006-02-14\",\"last_update\":\"2013-05-26T14:49:45.738\",\"active\":1}</td><td>2023-10-12T15:55:37.269+0000</td></tr><tr><td>1d3a0885-afec-460b-9011-dbbea62bb0dd</td><td>{\"customer_id\":275,\"store_id\":2,\"first_name\":\"Carole\",\"last_name\":\"Barnett\",\"email\":\"carole.barnett@sakilacustomer.org\",\"address_id\":280,\"activebool\":true,\"create_date\":\"2006-02-14\",\"last_update\":\"2013-05-26T14:49:45.738\",\"active\":1}</td><td>2023-10-12T15:55:37.269+0000</td></tr><tr><td>2c883763-a8c9-4d2e-9f6f-56b704593a68</td><td>{\"customer_id\":276,\"store_id\":1,\"first_name\":\"Brandy\",\"last_name\":\"Graves\",\"email\":\"brandy.graves@sakilacustomer.org\",\"address_id\":281,\"activebool\":true,\"create_date\":\"2006-02-14\",\"last_update\":\"2013-05-26T14:49:45.738\",\"active\":1}</td><td>2023-10-12T15:55:37.269+0000</td></tr><tr><td>06360122-b6b5-4191-9c97-33f2b3678c4e</td><td>{\"customer_id\":277,\"store_id\":2,\"first_name\":\"Olga\",\"last_name\":\"Jimenez\",\"email\":\"olga.jimenez@sakilacustomer.org\",\"address_id\":282,\"activebool\":true,\"create_date\":\"2006-02-14\",\"last_update\":\"2013-05-26T14:49:45.738\",\"active\":1}</td><td>2023-10-12T15:55:37.269+0000</td></tr><tr><td>b7197707-bc75-4bf1-b421-61900bc282c7</td><td>{\"customer_id\":278,\"store_id\":2,\"first_name\":\"Billie\",\"last_name\":\"Horton\",\"email\":\"billie.horton@sakilacustomer.org\",\"address_id\":283,\"activebool\":true,\"create_date\":\"2006-02-14\",\"last_update\":\"2013-05-26T14:49:45.738\",\"active\":1}</td><td>2023-10-12T15:55:37.269+0000</td></tr><tr><td>ac581888-57e9-4eeb-926e-ec007d703718</td><td>{\"customer_id\":279,\"store_id\":2,\"first_name\":\"Dianne\",\"last_name\":\"Shelton\",\"email\":\"dianne.shelton@sakilacustomer.org\",\"address_id\":284,\"activebool\":true,\"create_date\":\"2006-02-14\",\"last_update\":\"2013-05-26T14:49:45.738\",\"active\":1}</td><td>2023-10-12T15:55:37.269+0000</td></tr><tr><td>0c30fa53-1655-4404-833b-5edfe085aec0</td><td>{\"customer_id\":280,\"store_id\":2,\"first_name\":\"Tracey\",\"last_name\":\"Barrett\",\"email\":\"tracey.barrett@sakilacustomer.org\",\"address_id\":285,\"activebool\":true,\"create_date\":\"2006-02-14\",\"last_update\":\"2013-05-26T14:49:45.738\",\"active\":1}</td><td>2023-10-12T15:55:37.269+0000</td></tr><tr><td>63939666-ac0e-4ef0-ab9e-f771704d5317</td><td>{\"customer_id\":281,\"store_id\":2,\"first_name\":\"Leona\",\"last_name\":\"Obrien\",\"email\":\"leona.obrien@sakilacustomer.org\",\"address_id\":286,\"activebool\":true,\"create_date\":\"2006-02-14\",\"last_update\":\"2013-05-26T14:49:45.738\",\"active\":1}</td><td>2023-10-12T15:55:37.269+0000</td></tr><tr><td>d021fba0-d572-415e-b4ff-8234bf0be9a2</td><td>{\"customer_id\":282,\"store_id\":2,\"first_name\":\"Jenny\",\"last_name\":\"Castro\",\"email\":\"jenny.castro@sakilacustomer.org\",\"address_id\":287,\"activebool\":true,\"create_date\":\"2006-02-14\",\"last_update\":\"2013-05-26T14:49:45.738\",\"active\":1}</td><td>2023-10-12T15:55:37.269+0000</td></tr><tr><td>539561a8-6e2c-4eb2-b9bc-530eb3729967</td><td>{\"customer_id\":283,\"store_id\":1,\"first_name\":\"Felicia\",\"last_name\":\"Sutton\",\"email\":\"felicia.sutton@sakilacustomer.org\",\"address_id\":288,\"activebool\":true,\"create_date\":\"2006-02-14\",\"last_update\":\"2013-05-26T14:49:45.738\",\"active\":1}</td><td>2023-10-12T15:55:37.269+0000</td></tr><tr><td>05d08217-4f64-4d36-801e-b1d822698949</td><td>{\"customer_id\":284,\"store_id\":1,\"first_name\":\"Sonia\",\"last_name\":\"Gregory\",\"email\":\"sonia.gregory@sakilacustomer.org\",\"address_id\":289,\"activebool\":true,\"create_date\":\"2006-02-14\",\"last_update\":\"2013-05-26T14:49:45.738\",\"active\":1}</td><td>2023-10-12T15:55:37.269+0000</td></tr><tr><td>9f10f96c-fcfe-498e-ad3e-8a635558682b</td><td>{\"customer_id\":285,\"store_id\":1,\"first_name\":\"Miriam\",\"last_name\":\"Mckinney\",\"email\":\"miriam.mckinney@sakilacustomer.org\",\"address_id\":290,\"activebool\":true,\"create_date\":\"2006-02-14\",\"last_update\":\"2013-05-26T14:49:45.738\",\"active\":1}</td><td>2023-10-12T15:55:37.269+0000</td></tr><tr><td>660da5b1-d812-4c6e-8c83-ac213d17a7ee</td><td>{\"customer_id\":286,\"store_id\":1,\"first_name\":\"Velma\",\"last_name\":\"Lucas\",\"email\":\"velma.lucas@sakilacustomer.org\",\"address_id\":291,\"activebool\":true,\"create_date\":\"2006-02-14\",\"last_update\":\"2013-05-26T14:49:45.738\",\"active\":1}</td><td>2023-10-12T15:55:37.269+0000</td></tr><tr><td>ffb6338f-8b83-41b8-9954-2dcfce955185</td><td>{\"customer_id\":287,\"store_id\":2,\"first_name\":\"Becky\",\"last_name\":\"Miles\",\"email\":\"becky.miles@sakilacustomer.org\",\"address_id\":292,\"activebool\":true,\"create_date\":\"2006-02-14\",\"last_update\":\"2013-05-26T14:49:45.738\",\"active\":1}</td><td>2023-10-12T15:55:37.269+0000</td></tr><tr><td>134d994f-f50a-44b9-bfb2-b32e67b39898</td><td>{\"customer_id\":288,\"store_id\":1,\"first_name\":\"Bobbie\",\"last_name\":\"Craig\",\"email\":\"bobbie.craig@sakilacustomer.org\",\"address_id\":293,\"activebool\":true,\"create_date\":\"2006-02-14\",\"last_update\":\"2013-05-26T14:49:45.738\",\"active\":1}</td><td>2023-10-12T15:55:37.269+0000</td></tr><tr><td>48ddfe0e-ec14-48f3-8992-176956c57e87</td><td>{\"customer_id\":289,\"store_id\":1,\"first_name\":\"Violet\",\"last_name\":\"Rodriquez\",\"email\":\"violet.rodriquez@sakilacustomer.org\",\"address_id\":294,\"activebool\":true,\"create_date\":\"2006-02-14\",\"last_update\":\"2013-05-26T14:49:45.738\",\"active\":1}</td><td>2023-10-12T15:55:37.269+0000</td></tr><tr><td>bfb1e042-259e-4a83-998c-23afe2856900</td><td>{\"customer_id\":290,\"store_id\":1,\"first_name\":\"Kristina\",\"last_name\":\"Chambers\",\"email\":\"kristina.chambers@sakilacustomer.org\",\"address_id\":295,\"activebool\":true,\"create_date\":\"2006-02-14\",\"last_update\":\"2013-05-26T14:49:45.738\",\"active\":1}</td><td>2023-10-12T15:55:37.269+0000</td></tr><tr><td>05a857dc-3129-4fb5-9b90-3230fd9bc356</td><td>{\"customer_id\":291,\"store_id\":1,\"first_name\":\"Toni\",\"last_name\":\"Holt\",\"email\":\"toni.holt@sakilacustomer.org\",\"address_id\":296,\"activebool\":true,\"create_date\":\"2006-02-14\",\"last_update\":\"2013-05-26T14:49:45.738\",\"active\":1}</td><td>2023-10-12T15:55:37.269+0000</td></tr><tr><td>15e283a2-650b-4190-8545-2a9062fe94e9</td><td>{\"customer_id\":292,\"store_id\":2,\"first_name\":\"Misty\",\"last_name\":\"Lambert\",\"email\":\"misty.lambert@sakilacustomer.org\",\"address_id\":297,\"activebool\":true,\"create_date\":\"2006-02-14\",\"last_update\":\"2013-05-26T14:49:45.738\",\"active\":1}</td><td>2023-10-12T15:55:37.269+0000</td></tr><tr><td>dda24d87-704f-4e8d-a7d4-5b899b6bc7c1</td><td>{\"customer_id\":293,\"store_id\":2,\"first_name\":\"Mae\",\"last_name\":\"Fletcher\",\"email\":\"mae.fletcher@sakilacustomer.org\",\"address_id\":298,\"activebool\":true,\"create_date\":\"2006-02-14\",\"last_update\":\"2013-05-26T14:49:45.738\",\"active\":1}</td><td>2023-10-12T15:55:37.269+0000</td></tr><tr><td>8ba807e5-5b04-4655-b4b5-05918a9f4327</td><td>{\"customer_id\":294,\"store_id\":2,\"first_name\":\"Shelly\",\"last_name\":\"Watts\",\"email\":\"shelly.watts@sakilacustomer.org\",\"address_id\":299,\"activebool\":true,\"create_date\":\"2006-02-14\",\"last_update\":\"2013-05-26T14:49:45.738\",\"active\":1}</td><td>2023-10-12T15:55:37.269+0000</td></tr><tr><td>808180b6-80f9-4d2a-a42a-15dc825c952c</td><td>{\"customer_id\":295,\"store_id\":1,\"first_name\":\"Daisy\",\"last_name\":\"Bates\",\"email\":\"daisy.bates@sakilacustomer.org\",\"address_id\":300,\"activebool\":true,\"create_date\":\"2006-02-14\",\"last_update\":\"2013-05-26T14:49:45.738\",\"active\":1}</td><td>2023-10-12T15:55:37.269+0000</td></tr><tr><td>907b4f2e-e2b6-4769-889b-b0398ed71bf3</td><td>{\"customer_id\":296,\"store_id\":2,\"first_name\":\"Ramona\",\"last_name\":\"Hale\",\"email\":\"ramona.hale@sakilacustomer.org\",\"address_id\":301,\"activebool\":true,\"create_date\":\"2006-02-14\",\"last_update\":\"2013-05-26T14:49:45.738\",\"active\":1}</td><td>2023-10-12T15:55:37.269+0000</td></tr><tr><td>dccf1dc0-516a-4b30-ac46-c643f2044898</td><td>{\"customer_id\":297,\"store_id\":1,\"first_name\":\"Sherri\",\"last_name\":\"Rhodes\",\"email\":\"sherri.rhodes@sakilacustomer.org\",\"address_id\":302,\"activebool\":true,\"create_date\":\"2006-02-14\",\"last_update\":\"2013-05-26T14:49:45.738\",\"active\":1}</td><td>2023-10-12T15:55:37.269+0000</td></tr><tr><td>7c5492ad-52d5-4b1f-8299-8e18ce2ea7a4</td><td>{\"customer_id\":298,\"store_id\":1,\"first_name\":\"Erika\",\"last_name\":\"Pena\",\"email\":\"erika.pena@sakilacustomer.org\",\"address_id\":303,\"activebool\":true,\"create_date\":\"2006-02-14\",\"last_update\":\"2013-05-26T14:49:45.738\",\"active\":1}</td><td>2023-10-12T15:55:37.269+0000</td></tr><tr><td>6ccf3713-cfc8-481b-9107-f09518504245</td><td>{\"customer_id\":299,\"store_id\":2,\"first_name\":\"James\",\"last_name\":\"Gannon\",\"email\":\"james.gannon@sakilacustomer.org\",\"address_id\":304,\"activebool\":true,\"create_date\":\"2006-02-14\",\"last_update\":\"2013-05-26T14:49:45.738\",\"active\":1}</td><td>2023-10-12T15:55:37.269+0000</td></tr><tr><td>bc123014-4e51-4236-bd6b-4e4e1a5bd51f</td><td>{\"customer_id\":300,\"store_id\":1,\"first_name\":\"John\",\"last_name\":\"Farnsworth\",\"email\":\"john.farnsworth@sakilacustomer.org\",\"address_id\":305,\"activebool\":true,\"create_date\":\"2006-02-14\",\"last_update\":\"2013-05-26T14:49:45.738\",\"active\":1}</td><td>2023-10-12T15:55:37.269+0000</td></tr><tr><td>9051a270-736f-488a-b2f1-63c93903b638</td><td>{\"customer_id\":301,\"store_id\":2,\"first_name\":\"Robert\",\"last_name\":\"Baughman\",\"email\":\"robert.baughman@sakilacustomer.org\",\"address_id\":306,\"activebool\":true,\"create_date\":\"2006-02-14\",\"last_update\":\"2013-05-26T14:49:45.738\",\"active\":1}</td><td>2023-10-12T15:55:37.269+0000</td></tr><tr><td>ac6fd2f2-d4a4-4f98-8ff3-9309d60e98f7</td><td>{\"customer_id\":302,\"store_id\":1,\"first_name\":\"Michael\",\"last_name\":\"Silverman\",\"email\":\"michael.silverman@sakilacustomer.org\",\"address_id\":307,\"activebool\":true,\"create_date\":\"2006-02-14\",\"last_update\":\"2013-05-26T14:49:45.738\",\"active\":1}</td><td>2023-10-12T15:55:37.269+0000</td></tr><tr><td>ea55cc3d-070d-40fd-87a5-a89f88026538</td><td>{\"customer_id\":303,\"store_id\":2,\"first_name\":\"William\",\"last_name\":\"Satterfield\",\"email\":\"william.satterfield@sakilacustomer.org\",\"address_id\":308,\"activebool\":true,\"create_date\":\"2006-02-14\",\"last_update\":\"2013-05-26T14:49:45.738\",\"active\":1}</td><td>2023-10-12T15:55:37.269+0000</td></tr><tr><td>df2317fd-38a6-4117-b7ab-5762b69b202d</td><td>{\"customer_id\":304,\"store_id\":2,\"first_name\":\"David\",\"last_name\":\"Royal\",\"email\":\"david.royal@sakilacustomer.org\",\"address_id\":309,\"activebool\":true,\"create_date\":\"2006-02-14\",\"last_update\":\"2013-05-26T14:49:45.738\",\"active\":1}</td><td>2023-10-12T15:55:37.269+0000</td></tr><tr><td>99eec728-de10-4f0f-8564-f4424c147e50</td><td>{\"customer_id\":305,\"store_id\":1,\"first_name\":\"Richard\",\"last_name\":\"Mccrary\",\"email\":\"richard.mccrary@sakilacustomer.org\",\"address_id\":310,\"activebool\":true,\"create_date\":\"2006-02-14\",\"last_update\":\"2013-05-26T14:49:45.738\",\"active\":1}</td><td>2023-10-12T15:55:37.269+0000</td></tr><tr><td>2d9b3ce4-a97c-4684-94c0-3d0ef0d15c34</td><td>{\"customer_id\":306,\"store_id\":1,\"first_name\":\"Charles\",\"last_name\":\"Kowalski\",\"email\":\"charles.kowalski@sakilacustomer.org\",\"address_id\":311,\"activebool\":true,\"create_date\":\"2006-02-14\",\"last_update\":\"2013-05-26T14:49:45.738\",\"active\":1}</td><td>2023-10-12T15:55:37.269+0000</td></tr><tr><td>20e85954-be74-455c-8046-7c5091f9c3db</td><td>{\"customer_id\":307,\"store_id\":2,\"first_name\":\"Joseph\",\"last_name\":\"Joy\",\"email\":\"joseph.joy@sakilacustomer.org\",\"address_id\":312,\"activebool\":true,\"create_date\":\"2006-02-14\",\"last_update\":\"2013-05-26T14:49:45.738\",\"active\":1}</td><td>2023-10-12T15:55:37.269+0000</td></tr><tr><td>86271eec-0826-4a0d-910f-5638cf11362c</td><td>{\"customer_id\":308,\"store_id\":1,\"first_name\":\"Thomas\",\"last_name\":\"Grigsby\",\"email\":\"thomas.grigsby@sakilacustomer.org\",\"address_id\":313,\"activebool\":true,\"create_date\":\"2006-02-14\",\"last_update\":\"2013-05-26T14:49:45.738\",\"active\":1}</td><td>2023-10-12T15:55:37.269+0000</td></tr><tr><td>cd7eb7e3-d48a-4c59-8f7b-c45c4367f40c</td><td>{\"customer_id\":309,\"store_id\":1,\"first_name\":\"Christopher\",\"last_name\":\"Greco\",\"email\":\"christopher.greco@sakilacustomer.org\",\"address_id\":314,\"activebool\":true,\"create_date\":\"2006-02-14\",\"last_update\":\"2013-05-26T14:49:45.738\",\"active\":1}</td><td>2023-10-12T15:55:37.269+0000</td></tr><tr><td>4e8f4493-da8c-44a1-99d6-00f0db964e18</td><td>{\"customer_id\":310,\"store_id\":2,\"first_name\":\"Daniel\",\"last_name\":\"Cabral\",\"email\":\"daniel.cabral@sakilacustomer.org\",\"address_id\":315,\"activebool\":true,\"create_date\":\"2006-02-14\",\"last_update\":\"2013-05-26T14:49:45.738\",\"active\":1}</td><td>2023-10-12T15:55:37.269+0000</td></tr><tr><td>6b2cf5f4-3dbb-4048-9a61-aac90362358c</td><td>{\"customer_id\":311,\"store_id\":2,\"first_name\":\"Paul\",\"last_name\":\"Trout\",\"email\":\"paul.trout@sakilacustomer.org\",\"address_id\":316,\"activebool\":true,\"create_date\":\"2006-02-14\",\"last_update\":\"2013-05-26T14:49:45.738\",\"active\":1}</td><td>2023-10-12T15:55:37.269+0000</td></tr><tr><td>5040a29f-12de-4a8e-9e1c-a1a006cdbe75</td><td>{\"customer_id\":312,\"store_id\":2,\"first_name\":\"Mark\",\"last_name\":\"Rinehart\",\"email\":\"mark.rinehart@sakilacustomer.org\",\"address_id\":317,\"activebool\":true,\"create_date\":\"2006-02-14\",\"last_update\":\"2013-05-26T14:49:45.738\",\"active\":1}</td><td>2023-10-12T15:55:37.269+0000</td></tr><tr><td>99f3305a-9616-4889-8755-8ed5258647e0</td><td>{\"customer_id\":313,\"store_id\":2,\"first_name\":\"Donald\",\"last_name\":\"Mahon\",\"email\":\"donald.mahon@sakilacustomer.org\",\"address_id\":318,\"activebool\":true,\"create_date\":\"2006-02-14\",\"last_update\":\"2013-05-26T14:49:45.738\",\"active\":1}</td><td>2023-10-12T15:55:37.269+0000</td></tr><tr><td>cef5bb1a-d003-4d68-b79b-53da75db96f9</td><td>{\"customer_id\":314,\"store_id\":1,\"first_name\":\"George\",\"last_name\":\"Linton\",\"email\":\"george.linton@sakilacustomer.org\",\"address_id\":319,\"activebool\":true,\"create_date\":\"2006-02-14\",\"last_update\":\"2013-05-26T14:49:45.738\",\"active\":1}</td><td>2023-10-12T15:55:37.269+0000</td></tr><tr><td>5a24c75c-d8ce-4d2d-821d-4163247110b7</td><td>{\"customer_id\":315,\"store_id\":2,\"first_name\":\"Kenneth\",\"last_name\":\"Gooden\",\"email\":\"kenneth.gooden@sakilacustomer.org\",\"address_id\":320,\"activebool\":true,\"create_date\":\"2006-02-14\",\"last_update\":\"2013-05-26T14:49:45.738\",\"active\":0}</td><td>2023-10-12T15:55:37.269+0000</td></tr><tr><td>fc6ab3d4-fdff-4c51-9277-bdbb5d8c9934</td><td>{\"customer_id\":316,\"store_id\":1,\"first_name\":\"Steven\",\"last_name\":\"Curley\",\"email\":\"steven.curley@sakilacustomer.org\",\"address_id\":321,\"activebool\":true,\"create_date\":\"2006-02-14\",\"last_update\":\"2013-05-26T14:49:45.738\",\"active\":1}</td><td>2023-10-12T15:55:37.269+0000</td></tr><tr><td>be91bb8a-aecb-4537-8e18-565790b7fbba</td><td>{\"customer_id\":317,\"store_id\":2,\"first_name\":\"Edward\",\"last_name\":\"Baugh\",\"email\":\"edward.baugh@sakilacustomer.org\",\"address_id\":322,\"activebool\":true,\"create_date\":\"2006-02-14\",\"last_update\":\"2013-05-26T14:49:45.738\",\"active\":1}</td><td>2023-10-12T15:55:37.269+0000</td></tr><tr><td>c6139e6f-166f-4613-acbc-74fa4523f277</td><td>{\"customer_id\":318,\"store_id\":1,\"first_name\":\"Brian\",\"last_name\":\"Wyman\",\"email\":\"brian.wyman@sakilacustomer.org\",\"address_id\":323,\"activebool\":true,\"create_date\":\"2006-02-14\",\"last_update\":\"2013-05-26T14:49:45.738\",\"active\":1}</td><td>2023-10-12T15:55:37.269+0000</td></tr><tr><td>b7736479-49af-4304-8f23-c90968206097</td><td>{\"customer_id\":319,\"store_id\":2,\"first_name\":\"Ronald\",\"last_name\":\"Weiner\",\"email\":\"ronald.weiner@sakilacustomer.org\",\"address_id\":324,\"activebool\":true,\"create_date\":\"2006-02-14\",\"last_update\":\"2013-05-26T14:49:45.738\",\"active\":1}</td><td>2023-10-12T15:55:37.269+0000</td></tr><tr><td>87cdd745-7e32-4ccd-9ec5-b9008fea5332</td><td>{\"customer_id\":320,\"store_id\":2,\"first_name\":\"Anthony\",\"last_name\":\"Schwab\",\"email\":\"anthony.schwab@sakilacustomer.org\",\"address_id\":325,\"activebool\":true,\"create_date\":\"2006-02-14\",\"last_update\":\"2013-05-26T14:49:45.738\",\"active\":1}</td><td>2023-10-12T15:55:37.269+0000</td></tr><tr><td>ac37d845-4e2b-4200-86e1-b7237b4456a1</td><td>{\"customer_id\":321,\"store_id\":1,\"first_name\":\"Kevin\",\"last_name\":\"Schuler\",\"email\":\"kevin.schuler@sakilacustomer.org\",\"address_id\":326,\"activebool\":true,\"create_date\":\"2006-02-14\",\"last_update\":\"2013-05-26T14:49:45.738\",\"active\":1}</td><td>2023-10-12T15:55:37.269+0000</td></tr><tr><td>556c7619-f8d4-42a3-b4ec-d8a9d17414f5</td><td>{\"customer_id\":322,\"store_id\":1,\"first_name\":\"Jason\",\"last_name\":\"Morrissey\",\"email\":\"jason.morrissey@sakilacustomer.org\",\"address_id\":327,\"activebool\":true,\"create_date\":\"2006-02-14\",\"last_update\":\"2013-05-26T14:49:45.738\",\"active\":1}</td><td>2023-10-12T15:55:37.269+0000</td></tr><tr><td>b88c1ecd-6563-4a4b-b2b7-57a013202363</td><td>{\"customer_id\":323,\"store_id\":2,\"first_name\":\"Matthew\",\"last_name\":\"Mahan\",\"email\":\"matthew.mahan@sakilacustomer.org\",\"address_id\":328,\"activebool\":true,\"create_date\":\"2006-02-14\",\"last_update\":\"2013-05-26T14:49:45.738\",\"active\":1}</td><td>2023-10-12T15:55:37.269+0000</td></tr><tr><td>a65f1a24-e242-4592-876e-de9e55d773e3</td><td>{\"customer_id\":324,\"store_id\":2,\"first_name\":\"Gary\",\"last_name\":\"Coy\",\"email\":\"gary.coy@sakilacustomer.org\",\"address_id\":329,\"activebool\":true,\"create_date\":\"2006-02-14\",\"last_update\":\"2013-05-26T14:49:45.738\",\"active\":1}</td><td>2023-10-12T15:55:37.269+0000</td></tr><tr><td>2f872fcb-f0f3-4ac8-9485-12816d470ab0</td><td>{\"customer_id\":325,\"store_id\":1,\"first_name\":\"Timothy\",\"last_name\":\"Bunn\",\"email\":\"timothy.bunn@sakilacustomer.org\",\"address_id\":330,\"activebool\":true,\"create_date\":\"2006-02-14\",\"last_update\":\"2013-05-26T14:49:45.738\",\"active\":1}</td><td>2023-10-12T15:55:37.269+0000</td></tr><tr><td>b326052e-714c-4436-b3a5-67c46fef6f26</td><td>{\"customer_id\":326,\"store_id\":1,\"first_name\":\"Jose\",\"last_name\":\"Andrew\",\"email\":\"jose.andrew@sakilacustomer.org\",\"address_id\":331,\"activebool\":true,\"create_date\":\"2006-02-14\",\"last_update\":\"2013-05-26T14:49:45.738\",\"active\":1}</td><td>2023-10-12T15:55:37.269+0000</td></tr><tr><td>6d4c7e17-63b2-454b-9650-d6f587e970d2</td><td>{\"customer_id\":327,\"store_id\":2,\"first_name\":\"Larry\",\"last_name\":\"Thrasher\",\"email\":\"larry.thrasher@sakilacustomer.org\",\"address_id\":332,\"activebool\":true,\"create_date\":\"2006-02-14\",\"last_update\":\"2013-05-26T14:49:45.738\",\"active\":1}</td><td>2023-10-12T15:55:37.269+0000</td></tr><tr><td>aab7938f-44dc-4ec4-b5af-403b5b0f11ba</td><td>{\"customer_id\":328,\"store_id\":2,\"first_name\":\"Jeffrey\",\"last_name\":\"Spear\",\"email\":\"jeffrey.spear@sakilacustomer.org\",\"address_id\":333,\"activebool\":true,\"create_date\":\"2006-02-14\",\"last_update\":\"2013-05-26T14:49:45.738\",\"active\":1}</td><td>2023-10-12T15:55:37.269+0000</td></tr><tr><td>1bc9e651-f7fe-4c04-9513-6e320c7502e7</td><td>{\"customer_id\":329,\"store_id\":2,\"first_name\":\"Frank\",\"last_name\":\"Waggoner\",\"email\":\"frank.waggoner@sakilacustomer.org\",\"address_id\":334,\"activebool\":true,\"create_date\":\"2006-02-14\",\"last_update\":\"2013-05-26T14:49:45.738\",\"active\":1}</td><td>2023-10-12T15:55:37.269+0000</td></tr><tr><td>f397e013-7243-44ce-b5d1-1bb06a77c2ed</td><td>{\"customer_id\":330,\"store_id\":1,\"first_name\":\"Scott\",\"last_name\":\"Shelley\",\"email\":\"scott.shelley@sakilacustomer.org\",\"address_id\":335,\"activebool\":true,\"create_date\":\"2006-02-14\",\"last_update\":\"2013-05-26T14:49:45.738\",\"active\":1}</td><td>2023-10-12T15:55:37.269+0000</td></tr><tr><td>ddbe637f-10a8-44dd-92fc-986cfd35a764</td><td>{\"customer_id\":331,\"store_id\":1,\"first_name\":\"Eric\",\"last_name\":\"Robert\",\"email\":\"eric.robert@sakilacustomer.org\",\"address_id\":336,\"activebool\":true,\"create_date\":\"2006-02-14\",\"last_update\":\"2013-05-26T14:49:45.738\",\"active\":1}</td><td>2023-10-12T15:55:37.269+0000</td></tr><tr><td>aad332bf-e865-451e-a623-7341d8d84181</td><td>{\"customer_id\":332,\"store_id\":1,\"first_name\":\"Stephen\",\"last_name\":\"Qualls\",\"email\":\"stephen.qualls@sakilacustomer.org\",\"address_id\":337,\"activebool\":true,\"create_date\":\"2006-02-14\",\"last_update\":\"2013-05-26T14:49:45.738\",\"active\":1}</td><td>2023-10-12T15:55:37.269+0000</td></tr><tr><td>3b70f2b8-9afa-4cc9-90b9-0bbfe11cdaa3</td><td>{\"customer_id\":333,\"store_id\":2,\"first_name\":\"Andrew\",\"last_name\":\"Purdy\",\"email\":\"andrew.purdy@sakilacustomer.org\",\"address_id\":338,\"activebool\":true,\"create_date\":\"2006-02-14\",\"last_update\":\"2013-05-26T14:49:45.738\",\"active\":1}</td><td>2023-10-12T15:55:37.269+0000</td></tr><tr><td>55c8bd28-2e06-474e-9578-87d8bdb91196</td><td>{\"customer_id\":334,\"store_id\":2,\"first_name\":\"Raymond\",\"last_name\":\"Mcwhorter\",\"email\":\"raymond.mcwhorter@sakilacustomer.org\",\"address_id\":339,\"activebool\":true,\"create_date\":\"2006-02-14\",\"last_update\":\"2013-05-26T14:49:45.738\",\"active\":1}</td><td>2023-10-12T15:55:37.269+0000</td></tr><tr><td>596af08d-3148-4394-b069-ed8307b4ded0</td><td>{\"customer_id\":335,\"store_id\":1,\"first_name\":\"Gregory\",\"last_name\":\"Mauldin\",\"email\":\"gregory.mauldin@sakilacustomer.org\",\"address_id\":340,\"activebool\":true,\"create_date\":\"2006-02-14\",\"last_update\":\"2013-05-26T14:49:45.738\",\"active\":1}</td><td>2023-10-12T15:55:37.269+0000</td></tr><tr><td>b8ac8cdd-94ab-4e76-939e-1de55ed07849</td><td>{\"customer_id\":336,\"store_id\":1,\"first_name\":\"Joshua\",\"last_name\":\"Mark\",\"email\":\"joshua.mark@sakilacustomer.org\",\"address_id\":341,\"activebool\":true,\"create_date\":\"2006-02-14\",\"last_update\":\"2013-05-26T14:49:45.738\",\"active\":1}</td><td>2023-10-12T15:55:37.269+0000</td></tr><tr><td>58dedcf8-edce-4515-ad74-0574985eb260</td><td>{\"customer_id\":337,\"store_id\":1,\"first_name\":\"Jerry\",\"last_name\":\"Jordon\",\"email\":\"jerry.jordon@sakilacustomer.org\",\"address_id\":342,\"activebool\":true,\"create_date\":\"2006-02-14\",\"last_update\":\"2013-05-26T14:49:45.738\",\"active\":1}</td><td>2023-10-12T15:55:37.269+0000</td></tr><tr><td>08380bf8-8b4b-49b8-a908-19d268936bc8</td><td>{\"customer_id\":338,\"store_id\":1,\"first_name\":\"Dennis\",\"last_name\":\"Gilman\",\"email\":\"dennis.gilman@sakilacustomer.org\",\"address_id\":343,\"activebool\":true,\"create_date\":\"2006-02-14\",\"last_update\":\"2013-05-26T14:49:45.738\",\"active\":1}</td><td>2023-10-12T15:55:37.269+0000</td></tr><tr><td>f7e91426-b9e3-40a9-818f-0f1e0ab4a201</td><td>{\"customer_id\":339,\"store_id\":2,\"first_name\":\"Walter\",\"last_name\":\"Perryman\",\"email\":\"walter.perryman@sakilacustomer.org\",\"address_id\":344,\"activebool\":true,\"create_date\":\"2006-02-14\",\"last_update\":\"2013-05-26T14:49:45.738\",\"active\":1}</td><td>2023-10-12T15:55:37.269+0000</td></tr><tr><td>55eae4bc-fce8-43ac-984b-158670c76221</td><td>{\"customer_id\":340,\"store_id\":1,\"first_name\":\"Patrick\",\"last_name\":\"Newsom\",\"email\":\"patrick.newsom@sakilacustomer.org\",\"address_id\":345,\"activebool\":true,\"create_date\":\"2006-02-14\",\"last_update\":\"2013-05-26T14:49:45.738\",\"active\":1}</td><td>2023-10-12T15:55:37.269+0000</td></tr><tr><td>43412526-bdaf-41ef-90db-23e2a87dd854</td><td>{\"customer_id\":341,\"store_id\":1,\"first_name\":\"Peter\",\"last_name\":\"Menard\",\"email\":\"peter.menard@sakilacustomer.org\",\"address_id\":346,\"activebool\":true,\"create_date\":\"2006-02-14\",\"last_update\":\"2013-05-26T14:49:45.738\",\"active\":1}</td><td>2023-10-12T15:55:37.269+0000</td></tr><tr><td>21e53e51-6ea2-49c9-a0c7-f1dd3ab250c3</td><td>{\"customer_id\":342,\"store_id\":1,\"first_name\":\"Harold\",\"last_name\":\"Martino\",\"email\":\"harold.martino@sakilacustomer.org\",\"address_id\":347,\"activebool\":true,\"create_date\":\"2006-02-14\",\"last_update\":\"2013-05-26T14:49:45.738\",\"active\":1}</td><td>2023-10-12T15:55:37.269+0000</td></tr><tr><td>14b318b4-4564-466c-9167-61e8515d2fc1</td><td>{\"customer_id\":343,\"store_id\":1,\"first_name\":\"Douglas\",\"last_name\":\"Graf\",\"email\":\"douglas.graf@sakilacustomer.org\",\"address_id\":348,\"activebool\":true,\"create_date\":\"2006-02-14\",\"last_update\":\"2013-05-26T14:49:45.738\",\"active\":1}</td><td>2023-10-12T15:55:37.269+0000</td></tr><tr><td>49560cc5-a24e-465b-a595-5a9eea81c429</td><td>{\"customer_id\":344,\"store_id\":1,\"first_name\":\"Henry\",\"last_name\":\"Billingsley\",\"email\":\"henry.billingsley@sakilacustomer.org\",\"address_id\":349,\"activebool\":true,\"create_date\":\"2006-02-14\",\"last_update\":\"2013-05-26T14:49:45.738\",\"active\":1}</td><td>2023-10-12T15:55:37.269+0000</td></tr><tr><td>678d0d4f-2bae-4b0d-9bbe-bf304261e3cc</td><td>{\"customer_id\":345,\"store_id\":1,\"first_name\":\"Carl\",\"last_name\":\"Artis\",\"email\":\"carl.artis@sakilacustomer.org\",\"address_id\":350,\"activebool\":true,\"create_date\":\"2006-02-14\",\"last_update\":\"2013-05-26T14:49:45.738\",\"active\":1}</td><td>2023-10-12T15:55:37.269+0000</td></tr><tr><td>e5afaa50-93d4-426b-bfc2-4f4bb08e50f1</td><td>{\"customer_id\":346,\"store_id\":1,\"first_name\":\"Arthur\",\"last_name\":\"Simpkins\",\"email\":\"arthur.simpkins@sakilacustomer.org\",\"address_id\":351,\"activebool\":true,\"create_date\":\"2006-02-14\",\"last_update\":\"2013-05-26T14:49:45.738\",\"active\":1}</td><td>2023-10-12T15:55:37.269+0000</td></tr><tr><td>fb60284f-8d37-48a1-894a-5c375a5e4196</td><td>{\"customer_id\":347,\"store_id\":2,\"first_name\":\"Ryan\",\"last_name\":\"Salisbury\",\"email\":\"ryan.salisbury@sakilacustomer.org\",\"address_id\":352,\"activebool\":true,\"create_date\":\"2006-02-14\",\"last_update\":\"2013-05-26T14:49:45.738\",\"active\":1}</td><td>2023-10-12T15:55:37.269+0000</td></tr><tr><td>09c5bde9-5248-41b3-a63c-847ee6fdaf46</td><td>{\"customer_id\":348,\"store_id\":2,\"first_name\":\"Roger\",\"last_name\":\"Quintanilla\",\"email\":\"roger.quintanilla@sakilacustomer.org\",\"address_id\":353,\"activebool\":true,\"create_date\":\"2006-02-14\",\"last_update\":\"2013-05-26T14:49:45.738\",\"active\":1}</td><td>2023-10-12T15:55:37.269+0000</td></tr><tr><td>ef042b00-6a17-4b7b-a5e1-c829c47b4d3b</td><td>{\"customer_id\":349,\"store_id\":2,\"first_name\":\"Joe\",\"last_name\":\"Gilliland\",\"email\":\"joe.gilliland@sakilacustomer.org\",\"address_id\":354,\"activebool\":true,\"create_date\":\"2006-02-14\",\"last_update\":\"2013-05-26T14:49:45.738\",\"active\":1}</td><td>2023-10-12T15:55:37.269+0000</td></tr><tr><td>48136647-9654-455b-b301-bb7b1770c7be</td><td>{\"customer_id\":350,\"store_id\":1,\"first_name\":\"Juan\",\"last_name\":\"Fraley\",\"email\":\"juan.fraley@sakilacustomer.org\",\"address_id\":355,\"activebool\":true,\"create_date\":\"2006-02-14\",\"last_update\":\"2013-05-26T14:49:45.738\",\"active\":1}</td><td>2023-10-12T15:55:37.269+0000</td></tr><tr><td>f5ac5bc8-78f0-4358-af48-b89a1a01e51e</td><td>{\"customer_id\":351,\"store_id\":1,\"first_name\":\"Jack\",\"last_name\":\"Foust\",\"email\":\"jack.foust@sakilacustomer.org\",\"address_id\":356,\"activebool\":true,\"create_date\":\"2006-02-14\",\"last_update\":\"2013-05-26T14:49:45.738\",\"active\":1}</td><td>2023-10-12T15:55:37.269+0000</td></tr><tr><td>85408a59-cc36-4f4e-9ad3-70c99bd22c83</td><td>{\"customer_id\":352,\"store_id\":1,\"first_name\":\"Albert\",\"last_name\":\"Crouse\",\"email\":\"albert.crouse@sakilacustomer.org\",\"address_id\":357,\"activebool\":true,\"create_date\":\"2006-02-14\",\"last_update\":\"2013-05-26T14:49:45.738\",\"active\":1}</td><td>2023-10-12T15:55:37.269+0000</td></tr><tr><td>3c276725-b1b0-4663-bbf3-ee4e002ef64a</td><td>{\"customer_id\":353,\"store_id\":1,\"first_name\":\"Jonathan\",\"last_name\":\"Scarborough\",\"email\":\"jonathan.scarborough@sakilacustomer.org\",\"address_id\":358,\"activebool\":true,\"create_date\":\"2006-02-14\",\"last_update\":\"2013-05-26T14:49:45.738\",\"active\":1}</td><td>2023-10-12T15:55:37.269+0000</td></tr><tr><td>a8820d7c-1f6e-465c-ac91-46756da1b5c0</td><td>{\"customer_id\":354,\"store_id\":2,\"first_name\":\"Justin\",\"last_name\":\"Ngo\",\"email\":\"justin.ngo@sakilacustomer.org\",\"address_id\":359,\"activebool\":true,\"create_date\":\"2006-02-14\",\"last_update\":\"2013-05-26T14:49:45.738\",\"active\":1}</td><td>2023-10-12T15:55:37.269+0000</td></tr><tr><td>8246fc2a-8a28-4258-8179-5fc25e339545</td><td>{\"customer_id\":355,\"store_id\":2,\"first_name\":\"Terry\",\"last_name\":\"Grissom\",\"email\":\"terry.grissom@sakilacustomer.org\",\"address_id\":360,\"activebool\":true,\"create_date\":\"2006-02-14\",\"last_update\":\"2013-05-26T14:49:45.738\",\"active\":1}</td><td>2023-10-12T15:55:37.269+0000</td></tr><tr><td>beae0795-c91b-4117-9f26-1096cab2d8db</td><td>{\"customer_id\":356,\"store_id\":2,\"first_name\":\"Gerald\",\"last_name\":\"Fultz\",\"email\":\"gerald.fultz@sakilacustomer.org\",\"address_id\":361,\"activebool\":true,\"create_date\":\"2006-02-14\",\"last_update\":\"2013-05-26T14:49:45.738\",\"active\":1}</td><td>2023-10-12T15:55:37.269+0000</td></tr><tr><td>64935a3e-de48-455e-afaa-8724c58bec41</td><td>{\"customer_id\":357,\"store_id\":1,\"first_name\":\"Keith\",\"last_name\":\"Rico\",\"email\":\"keith.rico@sakilacustomer.org\",\"address_id\":362,\"activebool\":true,\"create_date\":\"2006-02-14\",\"last_update\":\"2013-05-26T14:49:45.738\",\"active\":1}</td><td>2023-10-12T15:55:37.269+0000</td></tr><tr><td>f7616979-a08b-45cc-940e-6355cf54efae</td><td>{\"customer_id\":358,\"store_id\":2,\"first_name\":\"Samuel\",\"last_name\":\"Marlow\",\"email\":\"samuel.marlow@sakilacustomer.org\",\"address_id\":363,\"activebool\":true,\"create_date\":\"2006-02-14\",\"last_update\":\"2013-05-26T14:49:45.738\",\"active\":1}</td><td>2023-10-12T15:55:37.269+0000</td></tr><tr><td>085e1fd3-50ae-4fd5-ae40-1a19f272692c</td><td>{\"customer_id\":359,\"store_id\":2,\"first_name\":\"Willie\",\"last_name\":\"Markham\",\"email\":\"willie.markham@sakilacustomer.org\",\"address_id\":364,\"activebool\":true,\"create_date\":\"2006-02-14\",\"last_update\":\"2013-05-26T14:49:45.738\",\"active\":1}</td><td>2023-10-12T15:55:37.269+0000</td></tr><tr><td>2ebaedc4-20c8-4d25-b41d-3c3d74c403ab</td><td>{\"customer_id\":360,\"store_id\":2,\"first_name\":\"Ralph\",\"last_name\":\"Madrigal\",\"email\":\"ralph.madrigal@sakilacustomer.org\",\"address_id\":365,\"activebool\":true,\"create_date\":\"2006-02-14\",\"last_update\":\"2013-05-26T14:49:45.738\",\"active\":1}</td><td>2023-10-12T15:55:37.269+0000</td></tr><tr><td>a52f169b-6deb-4271-99ae-4954aa2e68f0</td><td>{\"customer_id\":361,\"store_id\":2,\"first_name\":\"Lawrence\",\"last_name\":\"Lawton\",\"email\":\"lawrence.lawton@sakilacustomer.org\",\"address_id\":366,\"activebool\":true,\"create_date\":\"2006-02-14\",\"last_update\":\"2013-05-26T14:49:45.738\",\"active\":1}</td><td>2023-10-12T15:55:37.269+0000</td></tr><tr><td>4ac591bc-3d77-4abb-b8f4-141594dbea61</td><td>{\"customer_id\":362,\"store_id\":1,\"first_name\":\"Nicholas\",\"last_name\":\"Barfield\",\"email\":\"nicholas.barfield@sakilacustomer.org\",\"address_id\":367,\"activebool\":true,\"create_date\":\"2006-02-14\",\"last_update\":\"2013-05-26T14:49:45.738\",\"active\":1}</td><td>2023-10-12T15:55:37.269+0000</td></tr><tr><td>cf62f34c-e1c1-4089-b785-0cb17289a05a</td><td>{\"customer_id\":363,\"store_id\":2,\"first_name\":\"Roy\",\"last_name\":\"Whiting\",\"email\":\"roy.whiting@sakilacustomer.org\",\"address_id\":368,\"activebool\":true,\"create_date\":\"2006-02-14\",\"last_update\":\"2013-05-26T14:49:45.738\",\"active\":1}</td><td>2023-10-12T15:55:37.269+0000</td></tr><tr><td>f343998d-ca9d-4740-980d-bcbbd9e660eb</td><td>{\"customer_id\":364,\"store_id\":1,\"first_name\":\"Benjamin\",\"last_name\":\"Varney\",\"email\":\"benjamin.varney@sakilacustomer.org\",\"address_id\":369,\"activebool\":true,\"create_date\":\"2006-02-14\",\"last_update\":\"2013-05-26T14:49:45.738\",\"active\":1}</td><td>2023-10-12T15:55:37.269+0000</td></tr><tr><td>f99f85bc-7fc8-414a-8a35-fc37c7f6d47a</td><td>{\"customer_id\":365,\"store_id\":2,\"first_name\":\"Bruce\",\"last_name\":\"Schwarz\",\"email\":\"bruce.schwarz@sakilacustomer.org\",\"address_id\":370,\"activebool\":true,\"create_date\":\"2006-02-14\",\"last_update\":\"2013-05-26T14:49:45.738\",\"active\":1}</td><td>2023-10-12T15:55:37.269+0000</td></tr><tr><td>950f296c-4828-47ce-99c3-94d82a5d0194</td><td>{\"customer_id\":366,\"store_id\":1,\"first_name\":\"Brandon\",\"last_name\":\"Huey\",\"email\":\"brandon.huey@sakilacustomer.org\",\"address_id\":371,\"activebool\":true,\"create_date\":\"2006-02-14\",\"last_update\":\"2013-05-26T14:49:45.738\",\"active\":1}</td><td>2023-10-12T15:55:37.269+0000</td></tr><tr><td>01cb8492-2684-4d82-9faa-6b36b97caab2</td><td>{\"customer_id\":367,\"store_id\":1,\"first_name\":\"Adam\",\"last_name\":\"Gooch\",\"email\":\"adam.gooch@sakilacustomer.org\",\"address_id\":372,\"activebool\":true,\"create_date\":\"2006-02-14\",\"last_update\":\"2013-05-26T14:49:45.738\",\"active\":1}</td><td>2023-10-12T15:55:37.269+0000</td></tr><tr><td>02c28109-111d-479e-9f0c-5117da124b08</td><td>{\"customer_id\":368,\"store_id\":1,\"first_name\":\"Harry\",\"last_name\":\"Arce\",\"email\":\"harry.arce@sakilacustomer.org\",\"address_id\":373,\"activebool\":true,\"create_date\":\"2006-02-14\",\"last_update\":\"2013-05-26T14:49:45.738\",\"active\":0}</td><td>2023-10-12T15:55:37.269+0000</td></tr><tr><td>d15ca63f-7843-409d-b713-6e1818088709</td><td>{\"customer_id\":369,\"store_id\":2,\"first_name\":\"Fred\",\"last_name\":\"Wheat\",\"email\":\"fred.wheat@sakilacustomer.org\",\"address_id\":374,\"activebool\":true,\"create_date\":\"2006-02-14\",\"last_update\":\"2013-05-26T14:49:45.738\",\"active\":1}</td><td>2023-10-12T15:55:37.269+0000</td></tr><tr><td>789da7c3-0317-477b-b60e-082d7dee5152</td><td>{\"customer_id\":370,\"store_id\":2,\"first_name\":\"Wayne\",\"last_name\":\"Truong\",\"email\":\"wayne.truong@sakilacustomer.org\",\"address_id\":375,\"activebool\":true,\"create_date\":\"2006-02-14\",\"last_update\":\"2013-05-26T14:49:45.738\",\"active\":1}</td><td>2023-10-12T15:55:37.269+0000</td></tr><tr><td>5c513484-9ac0-4022-9678-0449b84d0841</td><td>{\"customer_id\":371,\"store_id\":1,\"first_name\":\"Billy\",\"last_name\":\"Poulin\",\"email\":\"billy.poulin@sakilacustomer.org\",\"address_id\":376,\"activebool\":true,\"create_date\":\"2006-02-14\",\"last_update\":\"2013-05-26T14:49:45.738\",\"active\":1}</td><td>2023-10-12T15:55:37.269+0000</td></tr><tr><td>314b772b-c034-4df3-bb8e-5433540e2546</td><td>{\"customer_id\":372,\"store_id\":2,\"first_name\":\"Steve\",\"last_name\":\"Mackenzie\",\"email\":\"steve.mackenzie@sakilacustomer.org\",\"address_id\":377,\"activebool\":true,\"create_date\":\"2006-02-14\",\"last_update\":\"2013-05-26T14:49:45.738\",\"active\":1}</td><td>2023-10-12T15:55:37.269+0000</td></tr><tr><td>3025b95e-7412-4b8f-802d-bd99bdd34eba</td><td>{\"customer_id\":373,\"store_id\":1,\"first_name\":\"Louis\",\"last_name\":\"Leone\",\"email\":\"louis.leone@sakilacustomer.org\",\"address_id\":378,\"activebool\":true,\"create_date\":\"2006-02-14\",\"last_update\":\"2013-05-26T14:49:45.738\",\"active\":1}</td><td>2023-10-12T15:55:37.269+0000</td></tr><tr><td>ecb69601-f0b5-42f0-aa08-04ae7e6fafe8</td><td>{\"customer_id\":374,\"store_id\":2,\"first_name\":\"Jeremy\",\"last_name\":\"Hurtado\",\"email\":\"jeremy.hurtado@sakilacustomer.org\",\"address_id\":379,\"activebool\":true,\"create_date\":\"2006-02-14\",\"last_update\":\"2013-05-26T14:49:45.738\",\"active\":1}</td><td>2023-10-12T15:55:37.269+0000</td></tr><tr><td>72a75504-4292-4366-a4bc-6bd1f5d075c7</td><td>{\"customer_id\":375,\"store_id\":2,\"first_name\":\"Aaron\",\"last_name\":\"Selby\",\"email\":\"aaron.selby@sakilacustomer.org\",\"address_id\":380,\"activebool\":true,\"create_date\":\"2006-02-14\",\"last_update\":\"2013-05-26T14:49:45.738\",\"active\":1}</td><td>2023-10-12T15:55:37.269+0000</td></tr><tr><td>e897695b-c7ce-450c-b3cf-bc2560f2726b</td><td>{\"customer_id\":376,\"store_id\":1,\"first_name\":\"Randy\",\"last_name\":\"Gaither\",\"email\":\"randy.gaither@sakilacustomer.org\",\"address_id\":381,\"activebool\":true,\"create_date\":\"2006-02-14\",\"last_update\":\"2013-05-26T14:49:45.738\",\"active\":1}</td><td>2023-10-12T15:55:37.269+0000</td></tr><tr><td>34e3e4bc-104e-4c44-aac3-1fb6b6f1a9f7</td><td>{\"customer_id\":377,\"store_id\":1,\"first_name\":\"Howard\",\"last_name\":\"Fortner\",\"email\":\"howard.fortner@sakilacustomer.org\",\"address_id\":382,\"activebool\":true,\"create_date\":\"2006-02-14\",\"last_update\":\"2013-05-26T14:49:45.738\",\"active\":1}</td><td>2023-10-12T15:55:37.269+0000</td></tr><tr><td>5f4dfae3-be75-445a-8749-db3aa89e2425</td><td>{\"customer_id\":378,\"store_id\":1,\"first_name\":\"Eugene\",\"last_name\":\"Culpepper\",\"email\":\"eugene.culpepper@sakilacustomer.org\",\"address_id\":383,\"activebool\":true,\"create_date\":\"2006-02-14\",\"last_update\":\"2013-05-26T14:49:45.738\",\"active\":1}</td><td>2023-10-12T15:55:37.269+0000</td></tr><tr><td>71b3c62f-f1ec-4ea8-850c-a1896db6a6b2</td><td>{\"customer_id\":379,\"store_id\":1,\"first_name\":\"Carlos\",\"last_name\":\"Coughlin\",\"email\":\"carlos.coughlin@sakilacustomer.org\",\"address_id\":384,\"activebool\":true,\"create_date\":\"2006-02-14\",\"last_update\":\"2013-05-26T14:49:45.738\",\"active\":1}</td><td>2023-10-12T15:55:37.269+0000</td></tr><tr><td>1de63123-e954-4932-bf86-67ee84a39749</td><td>{\"customer_id\":380,\"store_id\":1,\"first_name\":\"Russell\",\"last_name\":\"Brinson\",\"email\":\"russell.brinson@sakilacustomer.org\",\"address_id\":385,\"activebool\":true,\"create_date\":\"2006-02-14\",\"last_update\":\"2013-05-26T14:49:45.738\",\"active\":1}</td><td>2023-10-12T15:55:37.269+0000</td></tr><tr><td>40f72c67-4af3-4e84-9c85-bf3890b3ce47</td><td>{\"customer_id\":381,\"store_id\":2,\"first_name\":\"Bobby\",\"last_name\":\"Boudreau\",\"email\":\"bobby.boudreau@sakilacustomer.org\",\"address_id\":386,\"activebool\":true,\"create_date\":\"2006-02-14\",\"last_update\":\"2013-05-26T14:49:45.738\",\"active\":1}</td><td>2023-10-12T15:55:37.269+0000</td></tr><tr><td>45f04e62-ca36-4dbb-952e-10ed0c6a23aa</td><td>{\"customer_id\":382,\"store_id\":2,\"first_name\":\"Victor\",\"last_name\":\"Barkley\",\"email\":\"victor.barkley@sakilacustomer.org\",\"address_id\":387,\"activebool\":true,\"create_date\":\"2006-02-14\",\"last_update\":\"2013-05-26T14:49:45.738\",\"active\":1}</td><td>2023-10-12T15:55:37.269+0000</td></tr><tr><td>97ce22e7-7381-463c-8b78-5b36b5a28e54</td><td>{\"customer_id\":383,\"store_id\":1,\"first_name\":\"Martin\",\"last_name\":\"Bales\",\"email\":\"martin.bales@sakilacustomer.org\",\"address_id\":388,\"activebool\":true,\"create_date\":\"2006-02-14\",\"last_update\":\"2013-05-26T14:49:45.738\",\"active\":1}</td><td>2023-10-12T15:55:37.269+0000</td></tr><tr><td>806a7c68-71d9-40f8-aa1a-ba43cbd95639</td><td>{\"customer_id\":384,\"store_id\":2,\"first_name\":\"Ernest\",\"last_name\":\"Stepp\",\"email\":\"ernest.stepp@sakilacustomer.org\",\"address_id\":389,\"activebool\":true,\"create_date\":\"2006-02-14\",\"last_update\":\"2013-05-26T14:49:45.738\",\"active\":1}</td><td>2023-10-12T15:55:37.269+0000</td></tr><tr><td>ec6ab2a7-1b1e-4fb1-9932-48be748e2808</td><td>{\"customer_id\":385,\"store_id\":1,\"first_name\":\"Phillip\",\"last_name\":\"Holm\",\"email\":\"phillip.holm@sakilacustomer.org\",\"address_id\":390,\"activebool\":true,\"create_date\":\"2006-02-14\",\"last_update\":\"2013-05-26T14:49:45.738\",\"active\":1}</td><td>2023-10-12T15:55:37.269+0000</td></tr><tr><td>cd716e62-0484-4753-9011-dbb2d9416640</td><td>{\"customer_id\":386,\"store_id\":1,\"first_name\":\"Todd\",\"last_name\":\"Tan\",\"email\":\"todd.tan@sakilacustomer.org\",\"address_id\":391,\"activebool\":true,\"create_date\":\"2006-02-14\",\"last_update\":\"2013-05-26T14:49:45.738\",\"active\":1}</td><td>2023-10-12T15:55:37.269+0000</td></tr><tr><td>5dc81672-6ea7-4306-ae43-2391ab404c75</td><td>{\"customer_id\":387,\"store_id\":2,\"first_name\":\"Jesse\",\"last_name\":\"Schilling\",\"email\":\"jesse.schilling@sakilacustomer.org\",\"address_id\":392,\"activebool\":true,\"create_date\":\"2006-02-14\",\"last_update\":\"2013-05-26T14:49:45.738\",\"active\":1}</td><td>2023-10-12T15:55:37.269+0000</td></tr><tr><td>9c0c60af-91cc-4d87-a2ea-65af74e8c51b</td><td>{\"customer_id\":388,\"store_id\":2,\"first_name\":\"Craig\",\"last_name\":\"Morrell\",\"email\":\"craig.morrell@sakilacustomer.org\",\"address_id\":393,\"activebool\":true,\"create_date\":\"2006-02-14\",\"last_update\":\"2013-05-26T14:49:45.738\",\"active\":1}</td><td>2023-10-12T15:55:37.269+0000</td></tr><tr><td>7cc80aac-3f26-4a38-928d-dffa1e72d45e</td><td>{\"customer_id\":389,\"store_id\":1,\"first_name\":\"Alan\",\"last_name\":\"Kahn\",\"email\":\"alan.kahn@sakilacustomer.org\",\"address_id\":394,\"activebool\":true,\"create_date\":\"2006-02-14\",\"last_update\":\"2013-05-26T14:49:45.738\",\"active\":1}</td><td>2023-10-12T15:55:37.269+0000</td></tr><tr><td>1608fed7-f59d-479c-ae95-766d1a324e08</td><td>{\"customer_id\":390,\"store_id\":1,\"first_name\":\"Shawn\",\"last_name\":\"Heaton\",\"email\":\"shawn.heaton@sakilacustomer.org\",\"address_id\":395,\"activebool\":true,\"create_date\":\"2006-02-14\",\"last_update\":\"2013-05-26T14:49:45.738\",\"active\":1}</td><td>2023-10-12T15:55:37.269+0000</td></tr><tr><td>f87e1759-112d-4f39-b798-c7b13ea93888</td><td>{\"customer_id\":391,\"store_id\":1,\"first_name\":\"Clarence\",\"last_name\":\"Gamez\",\"email\":\"clarence.gamez@sakilacustomer.org\",\"address_id\":396,\"activebool\":true,\"create_date\":\"2006-02-14\",\"last_update\":\"2013-05-26T14:49:45.738\",\"active\":1}</td><td>2023-10-12T15:55:37.269+0000</td></tr><tr><td>fd7a26a6-4e90-4e57-b86a-18fcc707890a</td><td>{\"customer_id\":392,\"store_id\":2,\"first_name\":\"Sean\",\"last_name\":\"Douglass\",\"email\":\"sean.douglass@sakilacustomer.org\",\"address_id\":397,\"activebool\":true,\"create_date\":\"2006-02-14\",\"last_update\":\"2013-05-26T14:49:45.738\",\"active\":1}</td><td>2023-10-12T15:55:37.269+0000</td></tr><tr><td>5e78e9aa-9920-45ad-a29c-063a719d2159</td><td>{\"customer_id\":393,\"store_id\":1,\"first_name\":\"Philip\",\"last_name\":\"Causey\",\"email\":\"philip.causey@sakilacustomer.org\",\"address_id\":398,\"activebool\":true,\"create_date\":\"2006-02-14\",\"last_update\":\"2013-05-26T14:49:45.738\",\"active\":1}</td><td>2023-10-12T15:55:37.269+0000</td></tr><tr><td>74714fbf-2390-4ce6-8dd8-d5278f2ae0e1</td><td>{\"customer_id\":394,\"store_id\":2,\"first_name\":\"Chris\",\"last_name\":\"Brothers\",\"email\":\"chris.brothers@sakilacustomer.org\",\"address_id\":399,\"activebool\":true,\"create_date\":\"2006-02-14\",\"last_update\":\"2013-05-26T14:49:45.738\",\"active\":1}</td><td>2023-10-12T15:55:37.269+0000</td></tr><tr><td>8f9699c8-ccc6-4be3-9575-51055b483917</td><td>{\"customer_id\":395,\"store_id\":2,\"first_name\":\"Johnny\",\"last_name\":\"Turpin\",\"email\":\"johnny.turpin@sakilacustomer.org\",\"address_id\":400,\"activebool\":true,\"create_date\":\"2006-02-14\",\"last_update\":\"2013-05-26T14:49:45.738\",\"active\":1}</td><td>2023-10-12T15:55:37.269+0000</td></tr><tr><td>16c2ceb7-901e-4d28-a8d1-76377d71d98e</td><td>{\"customer_id\":396,\"store_id\":1,\"first_name\":\"Earl\",\"last_name\":\"Shanks\",\"email\":\"earl.shanks@sakilacustomer.org\",\"address_id\":401,\"activebool\":true,\"create_date\":\"2006-02-14\",\"last_update\":\"2013-05-26T14:49:45.738\",\"active\":1}</td><td>2023-10-12T15:55:37.269+0000</td></tr><tr><td>610a5e87-5588-41d0-8bdc-f6ebaee66099</td><td>{\"customer_id\":397,\"store_id\":1,\"first_name\":\"Jimmy\",\"last_name\":\"Schrader\",\"email\":\"jimmy.schrader@sakilacustomer.org\",\"address_id\":402,\"activebool\":true,\"create_date\":\"2006-02-14\",\"last_update\":\"2013-05-26T14:49:45.738\",\"active\":1}</td><td>2023-10-12T15:55:37.269+0000</td></tr><tr><td>643b9d61-5c59-4337-9d32-4658bb60a24e</td><td>{\"customer_id\":398,\"store_id\":1,\"first_name\":\"Antonio\",\"last_name\":\"Meek\",\"email\":\"antonio.meek@sakilacustomer.org\",\"address_id\":403,\"activebool\":true,\"create_date\":\"2006-02-14\",\"last_update\":\"2013-05-26T14:49:45.738\",\"active\":1}</td><td>2023-10-12T15:55:37.269+0000</td></tr><tr><td>80b54083-0b5b-4c69-869a-61a165fa0897</td><td>{\"customer_id\":399,\"store_id\":1,\"first_name\":\"Danny\",\"last_name\":\"Isom\",\"email\":\"danny.isom@sakilacustomer.org\",\"address_id\":404,\"activebool\":true,\"create_date\":\"2006-02-14\",\"last_update\":\"2013-05-26T14:49:45.738\",\"active\":1}</td><td>2023-10-12T15:55:37.269+0000</td></tr><tr><td>aad9f2c2-934f-40bd-87d8-fe5bf6da1aad</td><td>{\"customer_id\":400,\"store_id\":2,\"first_name\":\"Bryan\",\"last_name\":\"Hardison\",\"email\":\"bryan.hardison@sakilacustomer.org\",\"address_id\":405,\"activebool\":true,\"create_date\":\"2006-02-14\",\"last_update\":\"2013-05-26T14:49:45.738\",\"active\":1}</td><td>2023-10-12T15:55:37.269+0000</td></tr><tr><td>6d7964da-0d0f-4934-b93c-b45f995baad3</td><td>{\"customer_id\":401,\"store_id\":2,\"first_name\":\"Tony\",\"last_name\":\"Carranza\",\"email\":\"tony.carranza@sakilacustomer.org\",\"address_id\":406,\"activebool\":true,\"create_date\":\"2006-02-14\",\"last_update\":\"2013-05-26T14:49:45.738\",\"active\":1}</td><td>2023-10-12T15:55:37.269+0000</td></tr><tr><td>300e5c91-ad7b-48c3-8ebd-edf2906011a6</td><td>{\"customer_id\":402,\"store_id\":1,\"first_name\":\"Luis\",\"last_name\":\"Yanez\",\"email\":\"luis.yanez@sakilacustomer.org\",\"address_id\":407,\"activebool\":true,\"create_date\":\"2006-02-14\",\"last_update\":\"2013-05-26T14:49:45.738\",\"active\":1}</td><td>2023-10-12T15:55:37.269+0000</td></tr><tr><td>a1627a82-f0f0-48dd-a327-1cdb353727b8</td><td>{\"customer_id\":403,\"store_id\":1,\"first_name\":\"Mike\",\"last_name\":\"Way\",\"email\":\"mike.way@sakilacustomer.org\",\"address_id\":408,\"activebool\":true,\"create_date\":\"2006-02-14\",\"last_update\":\"2013-05-26T14:49:45.738\",\"active\":1}</td><td>2023-10-12T15:55:37.269+0000</td></tr><tr><td>897b9703-fe32-4454-a004-45d041f456e5</td><td>{\"customer_id\":404,\"store_id\":2,\"first_name\":\"Stanley\",\"last_name\":\"Scroggins\",\"email\":\"stanley.scroggins@sakilacustomer.org\",\"address_id\":409,\"activebool\":true,\"create_date\":\"2006-02-14\",\"last_update\":\"2013-05-26T14:49:45.738\",\"active\":1}</td><td>2023-10-12T15:55:37.269+0000</td></tr><tr><td>80072232-843c-4f2f-8a16-6be3f21781b7</td><td>{\"customer_id\":405,\"store_id\":1,\"first_name\":\"Leonard\",\"last_name\":\"Schofield\",\"email\":\"leonard.schofield@sakilacustomer.org\",\"address_id\":410,\"activebool\":true,\"create_date\":\"2006-02-14\",\"last_update\":\"2013-05-26T14:49:45.738\",\"active\":1}</td><td>2023-10-12T15:55:37.269+0000</td></tr><tr><td>51c46cf4-c2c0-4d6a-bb90-ac6a46146d7d</td><td>{\"customer_id\":406,\"store_id\":1,\"first_name\":\"Nathan\",\"last_name\":\"Runyon\",\"email\":\"nathan.runyon@sakilacustomer.org\",\"address_id\":411,\"activebool\":true,\"create_date\":\"2006-02-14\",\"last_update\":\"2013-05-26T14:49:45.738\",\"active\":0}</td><td>2023-10-12T15:55:37.269+0000</td></tr><tr><td>7bfe085f-e38c-416a-b3fb-6064f25d101b</td><td>{\"customer_id\":407,\"store_id\":1,\"first_name\":\"Dale\",\"last_name\":\"Ratcliff\",\"email\":\"dale.ratcliff@sakilacustomer.org\",\"address_id\":412,\"activebool\":true,\"create_date\":\"2006-02-14\",\"last_update\":\"2013-05-26T14:49:45.738\",\"active\":1}</td><td>2023-10-12T15:55:37.269+0000</td></tr><tr><td>59abd48d-f485-4fe0-8beb-5d3c19a1ea89</td><td>{\"customer_id\":408,\"store_id\":1,\"first_name\":\"Manuel\",\"last_name\":\"Murrell\",\"email\":\"manuel.murrell@sakilacustomer.org\",\"address_id\":413,\"activebool\":true,\"create_date\":\"2006-02-14\",\"last_update\":\"2013-05-26T14:49:45.738\",\"active\":1}</td><td>2023-10-12T15:55:37.269+0000</td></tr><tr><td>7a8f916b-893e-4e3f-a821-58dc6eb2fd12</td><td>{\"customer_id\":409,\"store_id\":2,\"first_name\":\"Rodney\",\"last_name\":\"Moeller\",\"email\":\"rodney.moeller@sakilacustomer.org\",\"address_id\":414,\"activebool\":true,\"create_date\":\"2006-02-14\",\"last_update\":\"2013-05-26T14:49:45.738\",\"active\":1}</td><td>2023-10-12T15:55:37.269+0000</td></tr><tr><td>b92e7ebc-14b1-43dc-a12f-db1275eb7304</td><td>{\"customer_id\":410,\"store_id\":2,\"first_name\":\"Curtis\",\"last_name\":\"Irby\",\"email\":\"curtis.irby@sakilacustomer.org\",\"address_id\":415,\"activebool\":true,\"create_date\":\"2006-02-14\",\"last_update\":\"2013-05-26T14:49:45.738\",\"active\":1}</td><td>2023-10-12T15:55:37.269+0000</td></tr><tr><td>6a25ed79-7390-418d-a835-1bbc34827a13</td><td>{\"customer_id\":411,\"store_id\":1,\"first_name\":\"Norman\",\"last_name\":\"Currier\",\"email\":\"norman.currier@sakilacustomer.org\",\"address_id\":416,\"activebool\":true,\"create_date\":\"2006-02-14\",\"last_update\":\"2013-05-26T14:49:45.738\",\"active\":1}</td><td>2023-10-12T15:55:37.269+0000</td></tr><tr><td>e8fd922b-d3db-4365-8715-f5037e8345e0</td><td>{\"customer_id\":412,\"store_id\":2,\"first_name\":\"Allen\",\"last_name\":\"Butterfield\",\"email\":\"allen.butterfield@sakilacustomer.org\",\"address_id\":417,\"activebool\":true,\"create_date\":\"2006-02-14\",\"last_update\":\"2013-05-26T14:49:45.738\",\"active\":1}</td><td>2023-10-12T15:55:37.269+0000</td></tr><tr><td>2ed74701-dda0-4fee-b036-31a38c91da12</td><td>{\"customer_id\":413,\"store_id\":2,\"first_name\":\"Marvin\",\"last_name\":\"Yee\",\"email\":\"marvin.yee@sakilacustomer.org\",\"address_id\":418,\"activebool\":true,\"create_date\":\"2006-02-14\",\"last_update\":\"2013-05-26T14:49:45.738\",\"active\":1}</td><td>2023-10-12T15:55:37.269+0000</td></tr><tr><td>eaa92985-761c-4a83-962d-87d3f36b6859</td><td>{\"customer_id\":414,\"store_id\":1,\"first_name\":\"Vincent\",\"last_name\":\"Ralston\",\"email\":\"vincent.ralston@sakilacustomer.org\",\"address_id\":419,\"activebool\":true,\"create_date\":\"2006-02-14\",\"last_update\":\"2013-05-26T14:49:45.738\",\"active\":1}</td><td>2023-10-12T15:55:37.269+0000</td></tr><tr><td>a00702d2-adf7-4220-adaa-434765aebaff</td><td>{\"customer_id\":415,\"store_id\":1,\"first_name\":\"Glenn\",\"last_name\":\"Pullen\",\"email\":\"glenn.pullen@sakilacustomer.org\",\"address_id\":420,\"activebool\":true,\"create_date\":\"2006-02-14\",\"last_update\":\"2013-05-26T14:49:45.738\",\"active\":1}</td><td>2023-10-12T15:55:37.269+0000</td></tr><tr><td>75805140-c953-4024-9892-5ceb377e015c</td><td>{\"customer_id\":416,\"store_id\":2,\"first_name\":\"Jeffery\",\"last_name\":\"Pinson\",\"email\":\"jeffery.pinson@sakilacustomer.org\",\"address_id\":421,\"activebool\":true,\"create_date\":\"2006-02-14\",\"last_update\":\"2013-05-26T14:49:45.738\",\"active\":1}</td><td>2023-10-12T15:55:37.269+0000</td></tr><tr><td>a4f30751-bf33-46eb-9cb1-936121934e3c</td><td>{\"customer_id\":417,\"store_id\":1,\"first_name\":\"Travis\",\"last_name\":\"Estep\",\"email\":\"travis.estep@sakilacustomer.org\",\"address_id\":422,\"activebool\":true,\"create_date\":\"2006-02-14\",\"last_update\":\"2013-05-26T14:49:45.738\",\"active\":1}</td><td>2023-10-12T15:55:37.269+0000</td></tr><tr><td>2286f654-ce35-42b0-a97e-c1805641a52e</td><td>{\"customer_id\":418,\"store_id\":2,\"first_name\":\"Jeff\",\"last_name\":\"East\",\"email\":\"jeff.east@sakilacustomer.org\",\"address_id\":423,\"activebool\":true,\"create_date\":\"2006-02-14\",\"last_update\":\"2013-05-26T14:49:45.738\",\"active\":1}</td><td>2023-10-12T15:55:37.269+0000</td></tr><tr><td>b42b4ac1-d860-42f6-9a4f-3918c8e9ad95</td><td>{\"customer_id\":419,\"store_id\":1,\"first_name\":\"Chad\",\"last_name\":\"Carbone\",\"email\":\"chad.carbone@sakilacustomer.org\",\"address_id\":424,\"activebool\":true,\"create_date\":\"2006-02-14\",\"last_update\":\"2013-05-26T14:49:45.738\",\"active\":1}</td><td>2023-10-12T15:55:37.269+0000</td></tr><tr><td>6f114c45-3ad3-46e2-adfd-d966f57d8059</td><td>{\"customer_id\":420,\"store_id\":1,\"first_name\":\"Jacob\",\"last_name\":\"Lance\",\"email\":\"jacob.lance@sakilacustomer.org\",\"address_id\":425,\"activebool\":true,\"create_date\":\"2006-02-14\",\"last_update\":\"2013-05-26T14:49:45.738\",\"active\":1}</td><td>2023-10-12T15:55:37.269+0000</td></tr><tr><td>cc76ecf1-a95e-4ed7-828e-24eb23447a71</td><td>{\"customer_id\":421,\"store_id\":1,\"first_name\":\"Lee\",\"last_name\":\"Hawks\",\"email\":\"lee.hawks@sakilacustomer.org\",\"address_id\":426,\"activebool\":true,\"create_date\":\"2006-02-14\",\"last_update\":\"2013-05-26T14:49:45.738\",\"active\":1}</td><td>2023-10-12T15:55:37.269+0000</td></tr><tr><td>cfff3d3c-b3b2-4777-a83f-7a2e9d5ec9a4</td><td>{\"customer_id\":422,\"store_id\":1,\"first_name\":\"Melvin\",\"last_name\":\"Ellington\",\"email\":\"melvin.ellington@sakilacustomer.org\",\"address_id\":427,\"activebool\":true,\"create_date\":\"2006-02-14\",\"last_update\":\"2013-05-26T14:49:45.738\",\"active\":1}</td><td>2023-10-12T15:55:37.269+0000</td></tr><tr><td>a8eb282a-ea31-459b-b237-fea2ce03e063</td><td>{\"customer_id\":423,\"store_id\":2,\"first_name\":\"Alfred\",\"last_name\":\"Casillas\",\"email\":\"alfred.casillas@sakilacustomer.org\",\"address_id\":428,\"activebool\":true,\"create_date\":\"2006-02-14\",\"last_update\":\"2013-05-26T14:49:45.738\",\"active\":1}</td><td>2023-10-12T15:55:37.269+0000</td></tr><tr><td>932c3d1b-3f7b-4c66-a736-ccd5afcfb486</td><td>{\"customer_id\":424,\"store_id\":2,\"first_name\":\"Kyle\",\"last_name\":\"Spurlock\",\"email\":\"kyle.spurlock@sakilacustomer.org\",\"address_id\":429,\"activebool\":true,\"create_date\":\"2006-02-14\",\"last_update\":\"2013-05-26T14:49:45.738\",\"active\":1}</td><td>2023-10-12T15:55:37.269+0000</td></tr><tr><td>7322d98a-ffc8-4d42-a652-ef858d0c2071</td><td>{\"customer_id\":425,\"store_id\":2,\"first_name\":\"Francis\",\"last_name\":\"Sikes\",\"email\":\"francis.sikes@sakilacustomer.org\",\"address_id\":430,\"activebool\":true,\"create_date\":\"2006-02-14\",\"last_update\":\"2013-05-26T14:49:45.738\",\"active\":1}</td><td>2023-10-12T15:55:37.269+0000</td></tr><tr><td>0211090c-3594-48ea-8333-5ebea8979798</td><td>{\"customer_id\":426,\"store_id\":1,\"first_name\":\"Bradley\",\"last_name\":\"Motley\",\"email\":\"bradley.motley@sakilacustomer.org\",\"address_id\":431,\"activebool\":true,\"create_date\":\"2006-02-14\",\"last_update\":\"2013-05-26T14:49:45.738\",\"active\":1}</td><td>2023-10-12T15:55:37.269+0000</td></tr><tr><td>30dad659-addf-4a4a-ba1d-e9259ab63132</td><td>{\"customer_id\":427,\"store_id\":2,\"first_name\":\"Jesus\",\"last_name\":\"Mccartney\",\"email\":\"jesus.mccartney@sakilacustomer.org\",\"address_id\":432,\"activebool\":true,\"create_date\":\"2006-02-14\",\"last_update\":\"2013-05-26T14:49:45.738\",\"active\":1}</td><td>2023-10-12T15:55:37.269+0000</td></tr><tr><td>de42872e-5fe0-46db-a746-0d65b54a59e7</td><td>{\"customer_id\":428,\"store_id\":2,\"first_name\":\"Herbert\",\"last_name\":\"Kruger\",\"email\":\"herbert.kruger@sakilacustomer.org\",\"address_id\":433,\"activebool\":true,\"create_date\":\"2006-02-14\",\"last_update\":\"2013-05-26T14:49:45.738\",\"active\":1}</td><td>2023-10-12T15:55:37.269+0000</td></tr><tr><td>79b72d95-6187-41e5-85b6-78596702fbf9</td><td>{\"customer_id\":429,\"store_id\":2,\"first_name\":\"Frederick\",\"last_name\":\"Isbell\",\"email\":\"frederick.isbell@sakilacustomer.org\",\"address_id\":434,\"activebool\":true,\"create_date\":\"2006-02-14\",\"last_update\":\"2013-05-26T14:49:45.738\",\"active\":1}</td><td>2023-10-12T15:55:37.269+0000</td></tr><tr><td>d367aee8-cc06-47d6-9086-0580a7d7c31c</td><td>{\"customer_id\":430,\"store_id\":1,\"first_name\":\"Ray\",\"last_name\":\"Houle\",\"email\":\"ray.houle@sakilacustomer.org\",\"address_id\":435,\"activebool\":true,\"create_date\":\"2006-02-14\",\"last_update\":\"2013-05-26T14:49:45.738\",\"active\":1}</td><td>2023-10-12T15:55:37.269+0000</td></tr><tr><td>d75be4af-5a28-4b2a-a54c-d400ff78bab5</td><td>{\"customer_id\":431,\"store_id\":2,\"first_name\":\"Joel\",\"last_name\":\"Francisco\",\"email\":\"joel.francisco@sakilacustomer.org\",\"address_id\":436,\"activebool\":true,\"create_date\":\"2006-02-14\",\"last_update\":\"2013-05-26T14:49:45.738\",\"active\":1}</td><td>2023-10-12T15:55:37.269+0000</td></tr><tr><td>f6222fea-bec5-45de-b11d-23e58f1f0ccf</td><td>{\"customer_id\":432,\"store_id\":1,\"first_name\":\"Edwin\",\"last_name\":\"Burk\",\"email\":\"edwin.burk@sakilacustomer.org\",\"address_id\":437,\"activebool\":true,\"create_date\":\"2006-02-14\",\"last_update\":\"2013-05-26T14:49:45.738\",\"active\":1}</td><td>2023-10-12T15:55:37.269+0000</td></tr><tr><td>a923501e-22c9-401f-89f1-afffb62050c3</td><td>{\"customer_id\":433,\"store_id\":1,\"first_name\":\"Don\",\"last_name\":\"Bone\",\"email\":\"don.bone@sakilacustomer.org\",\"address_id\":438,\"activebool\":true,\"create_date\":\"2006-02-14\",\"last_update\":\"2013-05-26T14:49:45.738\",\"active\":1}</td><td>2023-10-12T15:55:37.269+0000</td></tr><tr><td>65f8dca1-a828-4b13-adb3-52daaf3480c9</td><td>{\"customer_id\":434,\"store_id\":1,\"first_name\":\"Eddie\",\"last_name\":\"Tomlin\",\"email\":\"eddie.tomlin@sakilacustomer.org\",\"address_id\":439,\"activebool\":true,\"create_date\":\"2006-02-14\",\"last_update\":\"2013-05-26T14:49:45.738\",\"active\":1}</td><td>2023-10-12T15:55:37.269+0000</td></tr><tr><td>50c91e9a-56b6-4eef-96a1-dfd71b20d6bf</td><td>{\"customer_id\":435,\"store_id\":2,\"first_name\":\"Ricky\",\"last_name\":\"Shelby\",\"email\":\"ricky.shelby@sakilacustomer.org\",\"address_id\":440,\"activebool\":true,\"create_date\":\"2006-02-14\",\"last_update\":\"2013-05-26T14:49:45.738\",\"active\":1}</td><td>2023-10-12T15:55:37.269+0000</td></tr><tr><td>ce59b14c-a92e-4704-a306-758da1f58962</td><td>{\"customer_id\":436,\"store_id\":1,\"first_name\":\"Troy\",\"last_name\":\"Quigley\",\"email\":\"troy.quigley@sakilacustomer.org\",\"address_id\":441,\"activebool\":true,\"create_date\":\"2006-02-14\",\"last_update\":\"2013-05-26T14:49:45.738\",\"active\":1}</td><td>2023-10-12T15:55:37.269+0000</td></tr><tr><td>d93094cf-aa0f-4aeb-84d7-ea7e44244189</td><td>{\"customer_id\":437,\"store_id\":2,\"first_name\":\"Randall\",\"last_name\":\"Neumann\",\"email\":\"randall.neumann@sakilacustomer.org\",\"address_id\":442,\"activebool\":true,\"create_date\":\"2006-02-14\",\"last_update\":\"2013-05-26T14:49:45.738\",\"active\":1}</td><td>2023-10-12T15:55:37.269+0000</td></tr><tr><td>673b7aa6-9625-4d13-978f-65003a565000</td><td>{\"customer_id\":438,\"store_id\":1,\"first_name\":\"Barry\",\"last_name\":\"Lovelace\",\"email\":\"barry.lovelace@sakilacustomer.org\",\"address_id\":443,\"activebool\":true,\"create_date\":\"2006-02-14\",\"last_update\":\"2013-05-26T14:49:45.738\",\"active\":1}</td><td>2023-10-12T15:55:37.269+0000</td></tr><tr><td>78f2b499-5c26-493f-8ebb-139ef2717a2c</td><td>{\"customer_id\":439,\"store_id\":2,\"first_name\":\"Alexander\",\"last_name\":\"Fennell\",\"email\":\"alexander.fennell@sakilacustomer.org\",\"address_id\":444,\"activebool\":true,\"create_date\":\"2006-02-14\",\"last_update\":\"2013-05-26T14:49:45.738\",\"active\":1}</td><td>2023-10-12T15:55:37.269+0000</td></tr><tr><td>04936774-e5ca-4fa5-9152-80cdeb8ae49e</td><td>{\"customer_id\":440,\"store_id\":1,\"first_name\":\"Bernard\",\"last_name\":\"Colby\",\"email\":\"bernard.colby@sakilacustomer.org\",\"address_id\":445,\"activebool\":true,\"create_date\":\"2006-02-14\",\"last_update\":\"2013-05-26T14:49:45.738\",\"active\":1}</td><td>2023-10-12T15:55:37.269+0000</td></tr><tr><td>a2b3c817-ea5c-41dc-a07f-6ba14650a5d3</td><td>{\"customer_id\":441,\"store_id\":1,\"first_name\":\"Mario\",\"last_name\":\"Cheatham\",\"email\":\"mario.cheatham@sakilacustomer.org\",\"address_id\":446,\"activebool\":true,\"create_date\":\"2006-02-14\",\"last_update\":\"2013-05-26T14:49:45.738\",\"active\":1}</td><td>2023-10-12T15:55:37.269+0000</td></tr><tr><td>c8a37540-e569-4891-ba32-735350844da8</td><td>{\"customer_id\":442,\"store_id\":1,\"first_name\":\"Leroy\",\"last_name\":\"Bustamante\",\"email\":\"leroy.bustamante@sakilacustomer.org\",\"address_id\":447,\"activebool\":true,\"create_date\":\"2006-02-14\",\"last_update\":\"2013-05-26T14:49:45.738\",\"active\":1}</td><td>2023-10-12T15:55:37.269+0000</td></tr><tr><td>42af4f85-0b50-4466-846b-bfc0dae3fb46</td><td>{\"customer_id\":443,\"store_id\":2,\"first_name\":\"Francisco\",\"last_name\":\"Skidmore\",\"email\":\"francisco.skidmore@sakilacustomer.org\",\"address_id\":448,\"activebool\":true,\"create_date\":\"2006-02-14\",\"last_update\":\"2013-05-26T14:49:45.738\",\"active\":1}</td><td>2023-10-12T15:55:37.269+0000</td></tr><tr><td>45a51aef-c1bf-40d5-b4fe-c62c9660d041</td><td>{\"customer_id\":444,\"store_id\":2,\"first_name\":\"Marcus\",\"last_name\":\"Hidalgo\",\"email\":\"marcus.hidalgo@sakilacustomer.org\",\"address_id\":449,\"activebool\":true,\"create_date\":\"2006-02-14\",\"last_update\":\"2013-05-26T14:49:45.738\",\"active\":1}</td><td>2023-10-12T15:55:37.269+0000</td></tr><tr><td>7a80943f-dbf0-44e6-9d5d-f9e0d171439c</td><td>{\"customer_id\":445,\"store_id\":1,\"first_name\":\"Micheal\",\"last_name\":\"Forman\",\"email\":\"micheal.forman@sakilacustomer.org\",\"address_id\":450,\"activebool\":true,\"create_date\":\"2006-02-14\",\"last_update\":\"2013-05-26T14:49:45.738\",\"active\":1}</td><td>2023-10-12T15:55:37.269+0000</td></tr><tr><td>fb95169b-6901-4107-9e0a-59d2790d1753</td><td>{\"customer_id\":446,\"store_id\":2,\"first_name\":\"Theodore\",\"last_name\":\"Culp\",\"email\":\"theodore.culp@sakilacustomer.org\",\"address_id\":451,\"activebool\":true,\"create_date\":\"2006-02-14\",\"last_update\":\"2013-05-26T14:49:45.738\",\"active\":0}</td><td>2023-10-12T15:55:37.269+0000</td></tr><tr><td>39a71b3b-4c6b-4603-a335-0c0395acb7e1</td><td>{\"customer_id\":447,\"store_id\":1,\"first_name\":\"Clifford\",\"last_name\":\"Bowens\",\"email\":\"clifford.bowens@sakilacustomer.org\",\"address_id\":452,\"activebool\":true,\"create_date\":\"2006-02-14\",\"last_update\":\"2013-05-26T14:49:45.738\",\"active\":1}</td><td>2023-10-12T15:55:37.269+0000</td></tr><tr><td>0fa7f5ee-512d-4390-843d-08088b217f80</td><td>{\"customer_id\":448,\"store_id\":1,\"first_name\":\"Miguel\",\"last_name\":\"Betancourt\",\"email\":\"miguel.betancourt@sakilacustomer.org\",\"address_id\":453,\"activebool\":true,\"create_date\":\"2006-02-14\",\"last_update\":\"2013-05-26T14:49:45.738\",\"active\":1}</td><td>2023-10-12T15:55:37.269+0000</td></tr><tr><td>92bca71f-0fd0-4a5b-8456-10684f1adc92</td><td>{\"customer_id\":449,\"store_id\":2,\"first_name\":\"Oscar\",\"last_name\":\"Aquino\",\"email\":\"oscar.aquino@sakilacustomer.org\",\"address_id\":454,\"activebool\":true,\"create_date\":\"2006-02-14\",\"last_update\":\"2013-05-26T14:49:45.738\",\"active\":1}</td><td>2023-10-12T15:55:37.269+0000</td></tr><tr><td>82224e84-6c2e-4bcb-9d63-9bd7d432a065</td><td>{\"customer_id\":450,\"store_id\":1,\"first_name\":\"Jay\",\"last_name\":\"Robb\",\"email\":\"jay.robb@sakilacustomer.org\",\"address_id\":455,\"activebool\":true,\"create_date\":\"2006-02-14\",\"last_update\":\"2013-05-26T14:49:45.738\",\"active\":1}</td><td>2023-10-12T15:55:37.269+0000</td></tr><tr><td>829e905d-e0df-4ffa-ace8-e4169b1dc577</td><td>{\"customer_id\":451,\"store_id\":1,\"first_name\":\"Jim\",\"last_name\":\"Rea\",\"email\":\"jim.rea@sakilacustomer.org\",\"address_id\":456,\"activebool\":true,\"create_date\":\"2006-02-14\",\"last_update\":\"2013-05-26T14:49:45.738\",\"active\":1}</td><td>2023-10-12T15:55:37.269+0000</td></tr><tr><td>f49e2446-ee72-45c0-afd4-806a7649746c</td><td>{\"customer_id\":452,\"store_id\":1,\"first_name\":\"Tom\",\"last_name\":\"Milner\",\"email\":\"tom.milner@sakilacustomer.org\",\"address_id\":457,\"activebool\":true,\"create_date\":\"2006-02-14\",\"last_update\":\"2013-05-26T14:49:45.738\",\"active\":1}</td><td>2023-10-12T15:55:37.269+0000</td></tr><tr><td>b1937fd7-1dc0-4687-826e-df9d11c42e42</td><td>{\"customer_id\":453,\"store_id\":1,\"first_name\":\"Calvin\",\"last_name\":\"Martel\",\"email\":\"calvin.martel@sakilacustomer.org\",\"address_id\":458,\"activebool\":true,\"create_date\":\"2006-02-14\",\"last_update\":\"2013-05-26T14:49:45.738\",\"active\":1}</td><td>2023-10-12T15:55:37.269+0000</td></tr><tr><td>75cb9c04-46e4-45be-922e-c473e9508049</td><td>{\"customer_id\":454,\"store_id\":2,\"first_name\":\"Alex\",\"last_name\":\"Gresham\",\"email\":\"alex.gresham@sakilacustomer.org\",\"address_id\":459,\"activebool\":true,\"create_date\":\"2006-02-14\",\"last_update\":\"2013-05-26T14:49:45.738\",\"active\":1}</td><td>2023-10-12T15:55:37.269+0000</td></tr><tr><td>7aea9ffd-54c3-4461-ae23-d00ca21d5755</td><td>{\"customer_id\":455,\"store_id\":2,\"first_name\":\"Jon\",\"last_name\":\"Wiles\",\"email\":\"jon.wiles@sakilacustomer.org\",\"address_id\":460,\"activebool\":true,\"create_date\":\"2006-02-14\",\"last_update\":\"2013-05-26T14:49:45.738\",\"active\":1}</td><td>2023-10-12T15:55:37.269+0000</td></tr><tr><td>c20b6a26-af71-44df-ab83-47ff9ebd4a52</td><td>{\"customer_id\":456,\"store_id\":2,\"first_name\":\"Ronnie\",\"last_name\":\"Ricketts\",\"email\":\"ronnie.ricketts@sakilacustomer.org\",\"address_id\":461,\"activebool\":true,\"create_date\":\"2006-02-14\",\"last_update\":\"2013-05-26T14:49:45.738\",\"active\":1}</td><td>2023-10-12T15:55:37.269+0000</td></tr><tr><td>ade8cd45-7c01-4a22-b544-0f8d3fe7021e</td><td>{\"customer_id\":457,\"store_id\":2,\"first_name\":\"Bill\",\"last_name\":\"Gavin\",\"email\":\"bill.gavin@sakilacustomer.org\",\"address_id\":462,\"activebool\":true,\"create_date\":\"2006-02-14\",\"last_update\":\"2013-05-26T14:49:45.738\",\"active\":1}</td><td>2023-10-12T15:55:37.269+0000</td></tr><tr><td>bd3158c3-2a6a-4b61-9d0d-3237c52f2fa7</td><td>{\"customer_id\":458,\"store_id\":1,\"first_name\":\"Lloyd\",\"last_name\":\"Dowd\",\"email\":\"lloyd.dowd@sakilacustomer.org\",\"address_id\":463,\"activebool\":true,\"create_date\":\"2006-02-14\",\"last_update\":\"2013-05-26T14:49:45.738\",\"active\":1}</td><td>2023-10-12T15:55:37.269+0000</td></tr><tr><td>1e1ef066-951f-48e0-8f37-4ee57df37309</td><td>{\"customer_id\":459,\"store_id\":1,\"first_name\":\"Tommy\",\"last_name\":\"Collazo\",\"email\":\"tommy.collazo@sakilacustomer.org\",\"address_id\":464,\"activebool\":true,\"create_date\":\"2006-02-14\",\"last_update\":\"2013-05-26T14:49:45.738\",\"active\":1}</td><td>2023-10-12T15:55:37.269+0000</td></tr><tr><td>9aeb2492-9b35-4a8a-b4e4-727d65dd31b2</td><td>{\"customer_id\":460,\"store_id\":1,\"first_name\":\"Leon\",\"last_name\":\"Bostic\",\"email\":\"leon.bostic@sakilacustomer.org\",\"address_id\":465,\"activebool\":true,\"create_date\":\"2006-02-14\",\"last_update\":\"2013-05-26T14:49:45.738\",\"active\":1}</td><td>2023-10-12T15:55:37.269+0000</td></tr><tr><td>ae1242cb-8c2b-439b-ae25-e17a0e5238db</td><td>{\"customer_id\":461,\"store_id\":1,\"first_name\":\"Derek\",\"last_name\":\"Blakely\",\"email\":\"derek.blakely@sakilacustomer.org\",\"address_id\":466,\"activebool\":true,\"create_date\":\"2006-02-14\",\"last_update\":\"2013-05-26T14:49:45.738\",\"active\":1}</td><td>2023-10-12T15:55:37.269+0000</td></tr><tr><td>655902a6-c240-4e7d-bd9f-d356401d2f7d</td><td>{\"customer_id\":462,\"store_id\":2,\"first_name\":\"Warren\",\"last_name\":\"Sherrod\",\"email\":\"warren.sherrod@sakilacustomer.org\",\"address_id\":467,\"activebool\":true,\"create_date\":\"2006-02-14\",\"last_update\":\"2013-05-26T14:49:45.738\",\"active\":1}</td><td>2023-10-12T15:55:37.269+0000</td></tr><tr><td>0280266e-1912-41da-819c-4bb95478caed</td><td>{\"customer_id\":463,\"store_id\":2,\"first_name\":\"Darrell\",\"last_name\":\"Power\",\"email\":\"darrell.power@sakilacustomer.org\",\"address_id\":468,\"activebool\":true,\"create_date\":\"2006-02-14\",\"last_update\":\"2013-05-26T14:49:45.738\",\"active\":1}</td><td>2023-10-12T15:55:37.269+0000</td></tr><tr><td>494c237f-4195-4cb8-b439-779c6d20c766</td><td>{\"customer_id\":464,\"store_id\":1,\"first_name\":\"Jerome\",\"last_name\":\"Kenyon\",\"email\":\"jerome.kenyon@sakilacustomer.org\",\"address_id\":469,\"activebool\":true,\"create_date\":\"2006-02-14\",\"last_update\":\"2013-05-26T14:49:45.738\",\"active\":1}</td><td>2023-10-12T15:55:37.269+0000</td></tr><tr><td>0bab8676-bd1c-4fda-9916-7d87b5eee139</td><td>{\"customer_id\":465,\"store_id\":1,\"first_name\":\"Floyd\",\"last_name\":\"Gandy\",\"email\":\"floyd.gandy@sakilacustomer.org\",\"address_id\":470,\"activebool\":true,\"create_date\":\"2006-02-14\",\"last_update\":\"2013-05-26T14:49:45.738\",\"active\":1}</td><td>2023-10-12T15:55:37.269+0000</td></tr><tr><td>f2f9bd37-7e78-4efe-b291-5e7866329943</td><td>{\"customer_id\":466,\"store_id\":1,\"first_name\":\"Leo\",\"last_name\":\"Ebert\",\"email\":\"leo.ebert@sakilacustomer.org\",\"address_id\":471,\"activebool\":true,\"create_date\":\"2006-02-14\",\"last_update\":\"2013-05-26T14:49:45.738\",\"active\":1}</td><td>2023-10-12T15:55:37.269+0000</td></tr><tr><td>1b6c3d99-1ad2-481c-9f23-3cb2fbd57356</td><td>{\"customer_id\":467,\"store_id\":2,\"first_name\":\"Alvin\",\"last_name\":\"Deloach\",\"email\":\"alvin.deloach@sakilacustomer.org\",\"address_id\":472,\"activebool\":true,\"create_date\":\"2006-02-14\",\"last_update\":\"2013-05-26T14:49:45.738\",\"active\":1}</td><td>2023-10-12T15:55:37.269+0000</td></tr><tr><td>a1700537-1ff2-4d24-97c9-0452a0826554</td><td>{\"customer_id\":468,\"store_id\":1,\"first_name\":\"Tim\",\"last_name\":\"Cary\",\"email\":\"tim.cary@sakilacustomer.org\",\"address_id\":473,\"activebool\":true,\"create_date\":\"2006-02-14\",\"last_update\":\"2013-05-26T14:49:45.738\",\"active\":1}</td><td>2023-10-12T15:55:37.269+0000</td></tr><tr><td>71049030-19c0-47dd-b23c-36c887f27e9f</td><td>{\"customer_id\":469,\"store_id\":2,\"first_name\":\"Wesley\",\"last_name\":\"Bull\",\"email\":\"wesley.bull@sakilacustomer.org\",\"address_id\":474,\"activebool\":true,\"create_date\":\"2006-02-14\",\"last_update\":\"2013-05-26T14:49:45.738\",\"active\":1}</td><td>2023-10-12T15:55:37.269+0000</td></tr><tr><td>1830a932-4a93-4343-946a-245a88e2d318</td><td>{\"customer_id\":470,\"store_id\":1,\"first_name\":\"Gordon\",\"last_name\":\"Allard\",\"email\":\"gordon.allard@sakilacustomer.org\",\"address_id\":475,\"activebool\":true,\"create_date\":\"2006-02-14\",\"last_update\":\"2013-05-26T14:49:45.738\",\"active\":1}</td><td>2023-10-12T15:55:37.269+0000</td></tr><tr><td>ea1cb126-76c0-485e-8826-aa0bb5b64883</td><td>{\"customer_id\":471,\"store_id\":1,\"first_name\":\"Dean\",\"last_name\":\"Sauer\",\"email\":\"dean.sauer@sakilacustomer.org\",\"address_id\":476,\"activebool\":true,\"create_date\":\"2006-02-14\",\"last_update\":\"2013-05-26T14:49:45.738\",\"active\":1}</td><td>2023-10-12T15:55:37.269+0000</td></tr><tr><td>6f4e4346-81f5-4ec2-91af-606acee6995f</td><td>{\"customer_id\":472,\"store_id\":1,\"first_name\":\"Greg\",\"last_name\":\"Robins\",\"email\":\"greg.robins@sakilacustomer.org\",\"address_id\":477,\"activebool\":true,\"create_date\":\"2006-02-14\",\"last_update\":\"2013-05-26T14:49:45.738\",\"active\":1}</td><td>2023-10-12T15:55:37.269+0000</td></tr><tr><td>d640ff40-c954-4d49-9b93-fce3224a0d43</td><td>{\"customer_id\":473,\"store_id\":2,\"first_name\":\"Jorge\",\"last_name\":\"Olivares\",\"email\":\"jorge.olivares@sakilacustomer.org\",\"address_id\":478,\"activebool\":true,\"create_date\":\"2006-02-14\",\"last_update\":\"2013-05-26T14:49:45.738\",\"active\":1}</td><td>2023-10-12T15:55:37.269+0000</td></tr><tr><td>cf7d71df-7797-4ab5-9e7e-7816672a5041</td><td>{\"customer_id\":474,\"store_id\":2,\"first_name\":\"Dustin\",\"last_name\":\"Gillette\",\"email\":\"dustin.gillette@sakilacustomer.org\",\"address_id\":479,\"activebool\":true,\"create_date\":\"2006-02-14\",\"last_update\":\"2013-05-26T14:49:45.738\",\"active\":1}</td><td>2023-10-12T15:55:37.269+0000</td></tr><tr><td>80529924-dae9-4db1-80f4-c2de057b8c99</td><td>{\"customer_id\":475,\"store_id\":2,\"first_name\":\"Pedro\",\"last_name\":\"Chestnut\",\"email\":\"pedro.chestnut@sakilacustomer.org\",\"address_id\":480,\"activebool\":true,\"create_date\":\"2006-02-14\",\"last_update\":\"2013-05-26T14:49:45.738\",\"active\":1}</td><td>2023-10-12T15:55:37.269+0000</td></tr><tr><td>489ff1a7-1e56-4322-9742-900ed43d5318</td><td>{\"customer_id\":476,\"store_id\":1,\"first_name\":\"Derrick\",\"last_name\":\"Bourque\",\"email\":\"derrick.bourque@sakilacustomer.org\",\"address_id\":481,\"activebool\":true,\"create_date\":\"2006-02-14\",\"last_update\":\"2013-05-26T14:49:45.738\",\"active\":1}</td><td>2023-10-12T15:55:37.269+0000</td></tr><tr><td>fa4e873e-b79c-4aa0-b34b-51c91de12a00</td><td>{\"customer_id\":477,\"store_id\":1,\"first_name\":\"Dan\",\"last_name\":\"Paine\",\"email\":\"dan.paine@sakilacustomer.org\",\"address_id\":482,\"activebool\":true,\"create_date\":\"2006-02-14\",\"last_update\":\"2013-05-26T14:49:45.738\",\"active\":1}</td><td>2023-10-12T15:55:37.269+0000</td></tr><tr><td>d5266e95-2575-45e6-8450-3e75b5cbf7aa</td><td>{\"customer_id\":478,\"store_id\":1,\"first_name\":\"Lewis\",\"last_name\":\"Lyman\",\"email\":\"lewis.lyman@sakilacustomer.org\",\"address_id\":483,\"activebool\":true,\"create_date\":\"2006-02-14\",\"last_update\":\"2013-05-26T14:49:45.738\",\"active\":1}</td><td>2023-10-12T15:55:37.269+0000</td></tr><tr><td>2149b5ab-8acd-49a1-857c-f9974668a458</td><td>{\"customer_id\":479,\"store_id\":1,\"first_name\":\"Zachary\",\"last_name\":\"Hite\",\"email\":\"zachary.hite@sakilacustomer.org\",\"address_id\":484,\"activebool\":true,\"create_date\":\"2006-02-14\",\"last_update\":\"2013-05-26T14:49:45.738\",\"active\":1}</td><td>2023-10-12T15:55:37.269+0000</td></tr><tr><td>0e881c97-23ff-4864-872c-49cc656f06ae</td><td>{\"customer_id\":480,\"store_id\":1,\"first_name\":\"Corey\",\"last_name\":\"Hauser\",\"email\":\"corey.hauser@sakilacustomer.org\",\"address_id\":485,\"activebool\":true,\"create_date\":\"2006-02-14\",\"last_update\":\"2013-05-26T14:49:45.738\",\"active\":1}</td><td>2023-10-12T15:55:37.269+0000</td></tr><tr><td>ab8d9647-a399-46c0-9332-0d948e6bda84</td><td>{\"customer_id\":481,\"store_id\":1,\"first_name\":\"Herman\",\"last_name\":\"Devore\",\"email\":\"herman.devore@sakilacustomer.org\",\"address_id\":486,\"activebool\":true,\"create_date\":\"2006-02-14\",\"last_update\":\"2013-05-26T14:49:45.738\",\"active\":1}</td><td>2023-10-12T15:55:37.269+0000</td></tr><tr><td>6a702d0f-f0e6-466b-bd49-6e0fe08e8c34</td><td>{\"customer_id\":482,\"store_id\":1,\"first_name\":\"Maurice\",\"last_name\":\"Crawley\",\"email\":\"maurice.crawley@sakilacustomer.org\",\"address_id\":487,\"activebool\":true,\"create_date\":\"2006-02-14\",\"last_update\":\"2013-05-26T14:49:45.738\",\"active\":0}</td><td>2023-10-12T15:55:37.269+0000</td></tr><tr><td>d52757b6-f51b-4131-bbaa-96ffe8033b50</td><td>{\"customer_id\":483,\"store_id\":2,\"first_name\":\"Vernon\",\"last_name\":\"Chapa\",\"email\":\"vernon.chapa@sakilacustomer.org\",\"address_id\":488,\"activebool\":true,\"create_date\":\"2006-02-14\",\"last_update\":\"2013-05-26T14:49:45.738\",\"active\":1}</td><td>2023-10-12T15:55:37.269+0000</td></tr><tr><td>8d92d67d-67cf-4e7b-9d34-0e5a8020af22</td><td>{\"customer_id\":484,\"store_id\":1,\"first_name\":\"Roberto\",\"last_name\":\"Vu\",\"email\":\"roberto.vu@sakilacustomer.org\",\"address_id\":489,\"activebool\":true,\"create_date\":\"2006-02-14\",\"last_update\":\"2013-05-26T14:49:45.738\",\"active\":1}</td><td>2023-10-12T15:55:37.269+0000</td></tr><tr><td>4ece4682-b7dc-491c-956a-31ccbb90e62f</td><td>{\"customer_id\":485,\"store_id\":1,\"first_name\":\"Clyde\",\"last_name\":\"Tobias\",\"email\":\"clyde.tobias@sakilacustomer.org\",\"address_id\":490,\"activebool\":true,\"create_date\":\"2006-02-14\",\"last_update\":\"2013-05-26T14:49:45.738\",\"active\":1}</td><td>2023-10-12T15:55:37.269+0000</td></tr><tr><td>6fb7a4a8-f801-47fd-a463-6efc99a099f4</td><td>{\"customer_id\":486,\"store_id\":1,\"first_name\":\"Glen\",\"last_name\":\"Talbert\",\"email\":\"glen.talbert@sakilacustomer.org\",\"address_id\":491,\"activebool\":true,\"create_date\":\"2006-02-14\",\"last_update\":\"2013-05-26T14:49:45.738\",\"active\":1}</td><td>2023-10-12T15:55:37.269+0000</td></tr><tr><td>73870d6f-25a5-4031-b796-7a3464f18301</td><td>{\"customer_id\":487,\"store_id\":2,\"first_name\":\"Hector\",\"last_name\":\"Poindexter\",\"email\":\"hector.poindexter@sakilacustomer.org\",\"address_id\":492,\"activebool\":true,\"create_date\":\"2006-02-14\",\"last_update\":\"2013-05-26T14:49:45.738\",\"active\":1}</td><td>2023-10-12T15:55:37.269+0000</td></tr><tr><td>059dcb5d-b14c-4123-8c6b-1ceb938d0381</td><td>{\"customer_id\":488,\"store_id\":2,\"first_name\":\"Shane\",\"last_name\":\"Millard\",\"email\":\"shane.millard@sakilacustomer.org\",\"address_id\":493,\"activebool\":true,\"create_date\":\"2006-02-14\",\"last_update\":\"2013-05-26T14:49:45.738\",\"active\":1}</td><td>2023-10-12T15:55:37.269+0000</td></tr><tr><td>457acb96-7735-462b-8922-a2a352e5e7e2</td><td>{\"customer_id\":489,\"store_id\":1,\"first_name\":\"Ricardo\",\"last_name\":\"Meador\",\"email\":\"ricardo.meador@sakilacustomer.org\",\"address_id\":494,\"activebool\":true,\"create_date\":\"2006-02-14\",\"last_update\":\"2013-05-26T14:49:45.738\",\"active\":1}</td><td>2023-10-12T15:55:37.269+0000</td></tr><tr><td>62ae1199-0052-432f-b32b-f97a80f0e5a1</td><td>{\"customer_id\":490,\"store_id\":1,\"first_name\":\"Sam\",\"last_name\":\"Mcduffie\",\"email\":\"sam.mcduffie@sakilacustomer.org\",\"address_id\":495,\"activebool\":true,\"create_date\":\"2006-02-14\",\"last_update\":\"2013-05-26T14:49:45.738\",\"active\":1}</td><td>2023-10-12T15:55:37.269+0000</td></tr><tr><td>1f618769-4a39-45ae-91e9-c6c6f9b1ad8e</td><td>{\"customer_id\":491,\"store_id\":2,\"first_name\":\"Rick\",\"last_name\":\"Mattox\",\"email\":\"rick.mattox@sakilacustomer.org\",\"address_id\":496,\"activebool\":true,\"create_date\":\"2006-02-14\",\"last_update\":\"2013-05-26T14:49:45.738\",\"active\":1}</td><td>2023-10-12T15:55:37.269+0000</td></tr><tr><td>2b07b542-2a07-4620-842b-4c05563848e7</td><td>{\"customer_id\":492,\"store_id\":2,\"first_name\":\"Lester\",\"last_name\":\"Kraus\",\"email\":\"lester.kraus@sakilacustomer.org\",\"address_id\":497,\"activebool\":true,\"create_date\":\"2006-02-14\",\"last_update\":\"2013-05-26T14:49:45.738\",\"active\":1}</td><td>2023-10-12T15:55:37.269+0000</td></tr><tr><td>2993eec8-2ab4-446a-b416-e4d0c72ba31e</td><td>{\"customer_id\":493,\"store_id\":1,\"first_name\":\"Brent\",\"last_name\":\"Harkins\",\"email\":\"brent.harkins@sakilacustomer.org\",\"address_id\":498,\"activebool\":true,\"create_date\":\"2006-02-14\",\"last_update\":\"2013-05-26T14:49:45.738\",\"active\":1}</td><td>2023-10-12T15:55:37.269+0000</td></tr><tr><td>5ecbba6d-1d03-4347-b883-451c36b9e35c</td><td>{\"customer_id\":494,\"store_id\":2,\"first_name\":\"Ramon\",\"last_name\":\"Choate\",\"email\":\"ramon.choate@sakilacustomer.org\",\"address_id\":499,\"activebool\":true,\"create_date\":\"2006-02-14\",\"last_update\":\"2013-05-26T14:49:45.738\",\"active\":1}</td><td>2023-10-12T15:55:37.269+0000</td></tr><tr><td>08b09d58-744b-41fb-9d52-e39764359afe</td><td>{\"customer_id\":495,\"store_id\":2,\"first_name\":\"Charlie\",\"last_name\":\"Bess\",\"email\":\"charlie.bess@sakilacustomer.org\",\"address_id\":500,\"activebool\":true,\"create_date\":\"2006-02-14\",\"last_update\":\"2013-05-26T14:49:45.738\",\"active\":1}</td><td>2023-10-12T15:55:37.269+0000</td></tr><tr><td>d74470a7-61e5-4d52-b671-b8263973e7df</td><td>{\"customer_id\":496,\"store_id\":2,\"first_name\":\"Tyler\",\"last_name\":\"Wren\",\"email\":\"tyler.wren@sakilacustomer.org\",\"address_id\":501,\"activebool\":true,\"create_date\":\"2006-02-14\",\"last_update\":\"2013-05-26T14:49:45.738\",\"active\":1}</td><td>2023-10-12T15:55:37.269+0000</td></tr><tr><td>f96f39d4-f2f1-4ff2-8425-f89be54503d8</td><td>{\"customer_id\":497,\"store_id\":2,\"first_name\":\"Gilbert\",\"last_name\":\"Sledge\",\"email\":\"gilbert.sledge@sakilacustomer.org\",\"address_id\":502,\"activebool\":true,\"create_date\":\"2006-02-14\",\"last_update\":\"2013-05-26T14:49:45.738\",\"active\":1}</td><td>2023-10-12T15:55:37.269+0000</td></tr><tr><td>5e92a391-3e4d-4be9-9035-1456f76f8693</td><td>{\"customer_id\":498,\"store_id\":1,\"first_name\":\"Gene\",\"last_name\":\"Sanborn\",\"email\":\"gene.sanborn@sakilacustomer.org\",\"address_id\":503,\"activebool\":true,\"create_date\":\"2006-02-14\",\"last_update\":\"2013-05-26T14:49:45.738\",\"active\":1}</td><td>2023-10-12T15:55:37.269+0000</td></tr><tr><td>14b27c9a-3d37-445b-b585-1630e084d45a</td><td>{\"customer_id\":499,\"store_id\":2,\"first_name\":\"Marc\",\"last_name\":\"Outlaw\",\"email\":\"marc.outlaw@sakilacustomer.org\",\"address_id\":504,\"activebool\":true,\"create_date\":\"2006-02-14\",\"last_update\":\"2013-05-26T14:49:45.738\",\"active\":1}</td><td>2023-10-12T15:55:37.269+0000</td></tr><tr><td>8e936c6d-bcce-4d71-9692-cedebb789a43</td><td>{\"customer_id\":500,\"store_id\":1,\"first_name\":\"Reginald\",\"last_name\":\"Kinder\",\"email\":\"reginald.kinder@sakilacustomer.org\",\"address_id\":505,\"activebool\":true,\"create_date\":\"2006-02-14\",\"last_update\":\"2013-05-26T14:49:45.738\",\"active\":1}</td><td>2023-10-12T15:55:37.269+0000</td></tr><tr><td>ac532355-0c90-402f-a838-c922e9174335</td><td>{\"customer_id\":501,\"store_id\":1,\"first_name\":\"Ruben\",\"last_name\":\"Geary\",\"email\":\"ruben.geary@sakilacustomer.org\",\"address_id\":506,\"activebool\":true,\"create_date\":\"2006-02-14\",\"last_update\":\"2013-05-26T14:49:45.738\",\"active\":1}</td><td>2023-10-12T15:55:37.269+0000</td></tr><tr><td>eb1d28ba-fd4d-4e26-a762-346024e53e03</td><td>{\"customer_id\":502,\"store_id\":1,\"first_name\":\"Brett\",\"last_name\":\"Cornwell\",\"email\":\"brett.cornwell@sakilacustomer.org\",\"address_id\":507,\"activebool\":true,\"create_date\":\"2006-02-14\",\"last_update\":\"2013-05-26T14:49:45.738\",\"active\":1}</td><td>2023-10-12T15:55:37.269+0000</td></tr><tr><td>792932a2-dd7b-4fab-9a46-2afe03cf82b6</td><td>{\"customer_id\":503,\"store_id\":1,\"first_name\":\"Angel\",\"last_name\":\"Barclay\",\"email\":\"angel.barclay@sakilacustomer.org\",\"address_id\":508,\"activebool\":true,\"create_date\":\"2006-02-14\",\"last_update\":\"2013-05-26T14:49:45.738\",\"active\":1}</td><td>2023-10-12T15:55:37.269+0000</td></tr><tr><td>75deafb0-5aba-4bf6-a08a-758d01fe3258</td><td>{\"customer_id\":504,\"store_id\":1,\"first_name\":\"Nathaniel\",\"last_name\":\"Adam\",\"email\":\"nathaniel.adam@sakilacustomer.org\",\"address_id\":509,\"activebool\":true,\"create_date\":\"2006-02-14\",\"last_update\":\"2013-05-26T14:49:45.738\",\"active\":1}</td><td>2023-10-12T15:55:37.269+0000</td></tr><tr><td>2cafdafc-0b12-4c18-9b73-c73e4c7c5a91</td><td>{\"customer_id\":505,\"store_id\":1,\"first_name\":\"Rafael\",\"last_name\":\"Abney\",\"email\":\"rafael.abney@sakilacustomer.org\",\"address_id\":510,\"activebool\":true,\"create_date\":\"2006-02-14\",\"last_update\":\"2013-05-26T14:49:45.738\",\"active\":1}</td><td>2023-10-12T15:55:37.269+0000</td></tr><tr><td>8a0ee214-dea3-449a-8a9e-bc3f3e7d2566</td><td>{\"customer_id\":506,\"store_id\":2,\"first_name\":\"Leslie\",\"last_name\":\"Seward\",\"email\":\"leslie.seward@sakilacustomer.org\",\"address_id\":511,\"activebool\":true,\"create_date\":\"2006-02-14\",\"last_update\":\"2013-05-26T14:49:45.738\",\"active\":1}</td><td>2023-10-12T15:55:37.269+0000</td></tr><tr><td>5a1f239c-5db8-4865-9248-a03b5523c037</td><td>{\"customer_id\":507,\"store_id\":2,\"first_name\":\"Edgar\",\"last_name\":\"Rhoads\",\"email\":\"edgar.rhoads@sakilacustomer.org\",\"address_id\":512,\"activebool\":true,\"create_date\":\"2006-02-14\",\"last_update\":\"2013-05-26T14:49:45.738\",\"active\":1}</td><td>2023-10-12T15:55:37.269+0000</td></tr><tr><td>08f27538-3c10-458f-b5ef-ab7d546a8872</td><td>{\"customer_id\":508,\"store_id\":2,\"first_name\":\"Milton\",\"last_name\":\"Howland\",\"email\":\"milton.howland@sakilacustomer.org\",\"address_id\":513,\"activebool\":true,\"create_date\":\"2006-02-14\",\"last_update\":\"2013-05-26T14:49:45.738\",\"active\":1}</td><td>2023-10-12T15:55:37.269+0000</td></tr><tr><td>f3fb6c49-68b4-4ce7-8f13-2882f943a723</td><td>{\"customer_id\":509,\"store_id\":1,\"first_name\":\"Raul\",\"last_name\":\"Fortier\",\"email\":\"raul.fortier@sakilacustomer.org\",\"address_id\":514,\"activebool\":true,\"create_date\":\"2006-02-14\",\"last_update\":\"2013-05-26T14:49:45.738\",\"active\":1}</td><td>2023-10-12T15:55:37.269+0000</td></tr><tr><td>802b2ddd-292d-4c13-84a3-585b6ca70332</td><td>{\"customer_id\":510,\"store_id\":2,\"first_name\":\"Ben\",\"last_name\":\"Easter\",\"email\":\"ben.easter@sakilacustomer.org\",\"address_id\":515,\"activebool\":true,\"create_date\":\"2006-02-14\",\"last_update\":\"2013-05-26T14:49:45.738\",\"active\":0}</td><td>2023-10-12T15:55:37.269+0000</td></tr><tr><td>fc60cf17-8fbd-404d-8988-c54dbabd5622</td><td>{\"customer_id\":511,\"store_id\":1,\"first_name\":\"Chester\",\"last_name\":\"Benner\",\"email\":\"chester.benner@sakilacustomer.org\",\"address_id\":516,\"activebool\":true,\"create_date\":\"2006-02-14\",\"last_update\":\"2013-05-26T14:49:45.738\",\"active\":1}</td><td>2023-10-12T15:55:37.269+0000</td></tr><tr><td>2895f455-fca5-4e40-b405-8a6623b5a93d</td><td>{\"customer_id\":512,\"store_id\":1,\"first_name\":\"Cecil\",\"last_name\":\"Vines\",\"email\":\"cecil.vines@sakilacustomer.org\",\"address_id\":517,\"activebool\":true,\"create_date\":\"2006-02-14\",\"last_update\":\"2013-05-26T14:49:45.738\",\"active\":1}</td><td>2023-10-12T15:55:37.269+0000</td></tr><tr><td>d3f82f68-faad-425e-a2b2-fd522675a8d4</td><td>{\"customer_id\":513,\"store_id\":2,\"first_name\":\"Duane\",\"last_name\":\"Tubbs\",\"email\":\"duane.tubbs@sakilacustomer.org\",\"address_id\":519,\"activebool\":true,\"create_date\":\"2006-02-14\",\"last_update\":\"2013-05-26T14:49:45.738\",\"active\":1}</td><td>2023-10-12T15:55:37.269+0000</td></tr><tr><td>1abc4bda-c821-43b7-b7a7-8b5b9335bd96</td><td>{\"customer_id\":514,\"store_id\":2,\"first_name\":\"Franklin\",\"last_name\":\"Troutman\",\"email\":\"franklin.troutman@sakilacustomer.org\",\"address_id\":520,\"activebool\":true,\"create_date\":\"2006-02-14\",\"last_update\":\"2013-05-26T14:49:45.738\",\"active\":1}</td><td>2023-10-12T15:55:37.269+0000</td></tr><tr><td>560f2cd9-4884-45cc-a2c7-58bcf6a19e3d</td><td>{\"customer_id\":515,\"store_id\":1,\"first_name\":\"Andre\",\"last_name\":\"Rapp\",\"email\":\"andre.rapp@sakilacustomer.org\",\"address_id\":521,\"activebool\":true,\"create_date\":\"2006-02-14\",\"last_update\":\"2013-05-26T14:49:45.738\",\"active\":1}</td><td>2023-10-12T15:55:37.269+0000</td></tr><tr><td>bb55c378-2030-454e-841a-8a3b1e66e8cf</td><td>{\"customer_id\":516,\"store_id\":2,\"first_name\":\"Elmer\",\"last_name\":\"Noe\",\"email\":\"elmer.noe@sakilacustomer.org\",\"address_id\":522,\"activebool\":true,\"create_date\":\"2006-02-14\",\"last_update\":\"2013-05-26T14:49:45.738\",\"active\":1}</td><td>2023-10-12T15:55:37.269+0000</td></tr><tr><td>b99b451e-a6eb-4f33-830d-b9b48cfc4a9b</td><td>{\"customer_id\":517,\"store_id\":2,\"first_name\":\"Brad\",\"last_name\":\"Mccurdy\",\"email\":\"brad.mccurdy@sakilacustomer.org\",\"address_id\":523,\"activebool\":true,\"create_date\":\"2006-02-14\",\"last_update\":\"2013-05-26T14:49:45.738\",\"active\":1}</td><td>2023-10-12T15:55:37.269+0000</td></tr><tr><td>dc3669c1-29da-4070-97f3-e81c08c66e84</td><td>{\"customer_id\":518,\"store_id\":1,\"first_name\":\"Gabriel\",\"last_name\":\"Harder\",\"email\":\"gabriel.harder@sakilacustomer.org\",\"address_id\":524,\"activebool\":true,\"create_date\":\"2006-02-14\",\"last_update\":\"2013-05-26T14:49:45.738\",\"active\":1}</td><td>2023-10-12T15:55:37.269+0000</td></tr><tr><td>8327370f-8b51-4d98-a85a-0b72ef01fd7b</td><td>{\"customer_id\":519,\"store_id\":2,\"first_name\":\"Ron\",\"last_name\":\"Deluca\",\"email\":\"ron.deluca@sakilacustomer.org\",\"address_id\":525,\"activebool\":true,\"create_date\":\"2006-02-14\",\"last_update\":\"2013-05-26T14:49:45.738\",\"active\":1}</td><td>2023-10-12T15:55:37.269+0000</td></tr><tr><td>5c29c2ba-4756-41bc-b637-36d9f2c632c7</td><td>{\"customer_id\":520,\"store_id\":2,\"first_name\":\"Mitchell\",\"last_name\":\"Westmoreland\",\"email\":\"mitchell.westmoreland@sakilacustomer.org\",\"address_id\":526,\"activebool\":true,\"create_date\":\"2006-02-14\",\"last_update\":\"2013-05-26T14:49:45.738\",\"active\":1}</td><td>2023-10-12T15:55:37.269+0000</td></tr><tr><td>134329ae-0751-40cc-9649-0f2bb5c2bddb</td><td>{\"customer_id\":521,\"store_id\":2,\"first_name\":\"Roland\",\"last_name\":\"South\",\"email\":\"roland.south@sakilacustomer.org\",\"address_id\":527,\"activebool\":true,\"create_date\":\"2006-02-14\",\"last_update\":\"2013-05-26T14:49:45.738\",\"active\":1}</td><td>2023-10-12T15:55:37.269+0000</td></tr><tr><td>0acce8e3-73fd-47bd-824b-c1e7241c34b8</td><td>{\"customer_id\":522,\"store_id\":2,\"first_name\":\"Arnold\",\"last_name\":\"Havens\",\"email\":\"arnold.havens@sakilacustomer.org\",\"address_id\":528,\"activebool\":true,\"create_date\":\"2006-02-14\",\"last_update\":\"2013-05-26T14:49:45.738\",\"active\":1}</td><td>2023-10-12T15:55:37.269+0000</td></tr><tr><td>eeb6dbd0-24c2-4b98-a76d-419e024f5bcc</td><td>{\"customer_id\":523,\"store_id\":1,\"first_name\":\"Harvey\",\"last_name\":\"Guajardo\",\"email\":\"harvey.guajardo@sakilacustomer.org\",\"address_id\":529,\"activebool\":true,\"create_date\":\"2006-02-14\",\"last_update\":\"2013-05-26T14:49:45.738\",\"active\":1}</td><td>2023-10-12T15:55:37.269+0000</td></tr><tr><td>937ae093-7f63-478e-83e4-a98ae9715246</td><td>{\"customer_id\":525,\"store_id\":2,\"first_name\":\"Adrian\",\"last_name\":\"Clary\",\"email\":\"adrian.clary@sakilacustomer.org\",\"address_id\":531,\"activebool\":true,\"create_date\":\"2006-02-14\",\"last_update\":\"2013-05-26T14:49:45.738\",\"active\":1}</td><td>2023-10-12T15:55:37.269+0000</td></tr><tr><td>da617b77-8a1a-4af9-81ef-baaed9b3ae5d</td><td>{\"customer_id\":526,\"store_id\":2,\"first_name\":\"Karl\",\"last_name\":\"Seal\",\"email\":\"karl.seal@sakilacustomer.org\",\"address_id\":532,\"activebool\":true,\"create_date\":\"2006-02-14\",\"last_update\":\"2013-05-26T14:49:45.738\",\"active\":1}</td><td>2023-10-12T15:55:37.269+0000</td></tr><tr><td>2ae0bada-b367-463f-a021-621b784610b8</td><td>{\"customer_id\":527,\"store_id\":1,\"first_name\":\"Cory\",\"last_name\":\"Meehan\",\"email\":\"cory.meehan@sakilacustomer.org\",\"address_id\":533,\"activebool\":true,\"create_date\":\"2006-02-14\",\"last_update\":\"2013-05-26T14:49:45.738\",\"active\":1}</td><td>2023-10-12T15:55:37.269+0000</td></tr><tr><td>acf06ba2-2175-4e74-b748-d323e54abce1</td><td>{\"customer_id\":528,\"store_id\":1,\"first_name\":\"Claude\",\"last_name\":\"Herzog\",\"email\":\"claude.herzog@sakilacustomer.org\",\"address_id\":534,\"activebool\":true,\"create_date\":\"2006-02-14\",\"last_update\":\"2013-05-26T14:49:45.738\",\"active\":1}</td><td>2023-10-12T15:55:37.269+0000</td></tr><tr><td>343f9afb-b31d-45f5-9f64-2810a1cbb5a5</td><td>{\"customer_id\":529,\"store_id\":2,\"first_name\":\"Erik\",\"last_name\":\"Guillen\",\"email\":\"erik.guillen@sakilacustomer.org\",\"address_id\":535,\"activebool\":true,\"create_date\":\"2006-02-14\",\"last_update\":\"2013-05-26T14:49:45.738\",\"active\":1}</td><td>2023-10-12T15:55:37.269+0000</td></tr><tr><td>42a31653-ffc4-4e40-9854-41cb38cc5f82</td><td>{\"customer_id\":530,\"store_id\":2,\"first_name\":\"Darryl\",\"last_name\":\"Ashcraft\",\"email\":\"darryl.ashcraft@sakilacustomer.org\",\"address_id\":536,\"activebool\":true,\"create_date\":\"2006-02-14\",\"last_update\":\"2013-05-26T14:49:45.738\",\"active\":1}</td><td>2023-10-12T15:55:37.269+0000</td></tr><tr><td>d9d5652b-4461-4b0c-b44d-7edc01debc70</td><td>{\"customer_id\":531,\"store_id\":2,\"first_name\":\"Jamie\",\"last_name\":\"Waugh\",\"email\":\"jamie.waugh@sakilacustomer.org\",\"address_id\":537,\"activebool\":true,\"create_date\":\"2006-02-14\",\"last_update\":\"2013-05-26T14:49:45.738\",\"active\":1}</td><td>2023-10-12T15:55:37.269+0000</td></tr><tr><td>d77d68bc-000d-4ce7-a665-16ff3bd42d4b</td><td>{\"customer_id\":532,\"store_id\":2,\"first_name\":\"Neil\",\"last_name\":\"Renner\",\"email\":\"neil.renner@sakilacustomer.org\",\"address_id\":538,\"activebool\":true,\"create_date\":\"2006-02-14\",\"last_update\":\"2013-05-26T14:49:45.738\",\"active\":1}</td><td>2023-10-12T15:55:37.269+0000</td></tr><tr><td>57cf67db-a9e7-4f5e-9f3d-4a50c417241e</td><td>{\"customer_id\":533,\"store_id\":1,\"first_name\":\"Jessie\",\"last_name\":\"Milam\",\"email\":\"jessie.milam@sakilacustomer.org\",\"address_id\":539,\"activebool\":true,\"create_date\":\"2006-02-14\",\"last_update\":\"2013-05-26T14:49:45.738\",\"active\":1}</td><td>2023-10-12T15:55:37.269+0000</td></tr><tr><td>bc991be5-4e8c-46ad-9027-23a911e56ec0</td><td>{\"customer_id\":534,\"store_id\":1,\"first_name\":\"Christian\",\"last_name\":\"Jung\",\"email\":\"christian.jung@sakilacustomer.org\",\"address_id\":540,\"activebool\":true,\"create_date\":\"2006-02-14\",\"last_update\":\"2013-05-26T14:49:45.738\",\"active\":0}</td><td>2023-10-12T15:55:37.269+0000</td></tr><tr><td>08c272e0-f932-446f-831a-b2a697745e3c</td><td>{\"customer_id\":535,\"store_id\":1,\"first_name\":\"Javier\",\"last_name\":\"Elrod\",\"email\":\"javier.elrod@sakilacustomer.org\",\"address_id\":541,\"activebool\":true,\"create_date\":\"2006-02-14\",\"last_update\":\"2013-05-26T14:49:45.738\",\"active\":1}</td><td>2023-10-12T15:55:37.269+0000</td></tr><tr><td>ddc244c0-31be-45b4-889c-ddea2ec51062</td><td>{\"customer_id\":536,\"store_id\":2,\"first_name\":\"Fernando\",\"last_name\":\"Churchill\",\"email\":\"fernando.churchill@sakilacustomer.org\",\"address_id\":542,\"activebool\":true,\"create_date\":\"2006-02-14\",\"last_update\":\"2013-05-26T14:49:45.738\",\"active\":1}</td><td>2023-10-12T15:55:37.269+0000</td></tr><tr><td>f2ceff78-9c4e-4dfb-be85-dd480e6a7a2a</td><td>{\"customer_id\":537,\"store_id\":2,\"first_name\":\"Clinton\",\"last_name\":\"Buford\",\"email\":\"clinton.buford@sakilacustomer.org\",\"address_id\":543,\"activebool\":true,\"create_date\":\"2006-02-14\",\"last_update\":\"2013-05-26T14:49:45.738\",\"active\":1}</td><td>2023-10-12T15:55:37.269+0000</td></tr><tr><td>af75f9db-cae3-4529-af3c-246f186699e4</td><td>{\"customer_id\":538,\"store_id\":2,\"first_name\":\"Ted\",\"last_name\":\"Breaux\",\"email\":\"ted.breaux@sakilacustomer.org\",\"address_id\":544,\"activebool\":true,\"create_date\":\"2006-02-14\",\"last_update\":\"2013-05-26T14:49:45.738\",\"active\":1}</td><td>2023-10-12T15:55:37.269+0000</td></tr><tr><td>0d0213fc-4edc-4eac-8c0b-1e79eba78524</td><td>{\"customer_id\":539,\"store_id\":1,\"first_name\":\"Mathew\",\"last_name\":\"Bolin\",\"email\":\"mathew.bolin@sakilacustomer.org\",\"address_id\":545,\"activebool\":true,\"create_date\":\"2006-02-14\",\"last_update\":\"2013-05-26T14:49:45.738\",\"active\":1}</td><td>2023-10-12T15:55:37.269+0000</td></tr><tr><td>6ffded95-fdef-42a3-b071-6055ca805300</td><td>{\"customer_id\":540,\"store_id\":1,\"first_name\":\"Tyrone\",\"last_name\":\"Asher\",\"email\":\"tyrone.asher@sakilacustomer.org\",\"address_id\":546,\"activebool\":true,\"create_date\":\"2006-02-14\",\"last_update\":\"2013-05-26T14:49:45.738\",\"active\":1}</td><td>2023-10-12T15:55:37.269+0000</td></tr><tr><td>e97b3de8-b5e4-44ec-b70c-be0efc8ab344</td><td>{\"customer_id\":541,\"store_id\":2,\"first_name\":\"Darren\",\"last_name\":\"Windham\",\"email\":\"darren.windham@sakilacustomer.org\",\"address_id\":547,\"activebool\":true,\"create_date\":\"2006-02-14\",\"last_update\":\"2013-05-26T14:49:45.738\",\"active\":1}</td><td>2023-10-12T15:55:37.269+0000</td></tr><tr><td>14196f11-6cfc-4c0c-86ad-1f6c248c2aba</td><td>{\"customer_id\":542,\"store_id\":2,\"first_name\":\"Lonnie\",\"last_name\":\"Tirado\",\"email\":\"lonnie.tirado@sakilacustomer.org\",\"address_id\":548,\"activebool\":true,\"create_date\":\"2006-02-14\",\"last_update\":\"2013-05-26T14:49:45.738\",\"active\":1}</td><td>2023-10-12T15:55:37.269+0000</td></tr><tr><td>397a0b90-6f72-4da7-92f9-4b663e057864</td><td>{\"customer_id\":543,\"store_id\":1,\"first_name\":\"Lance\",\"last_name\":\"Pemberton\",\"email\":\"lance.pemberton@sakilacustomer.org\",\"address_id\":549,\"activebool\":true,\"create_date\":\"2006-02-14\",\"last_update\":\"2013-05-26T14:49:45.738\",\"active\":1}</td><td>2023-10-12T15:55:37.269+0000</td></tr><tr><td>a2819973-d67c-410c-ab61-a2290842c9e0</td><td>{\"customer_id\":544,\"store_id\":2,\"first_name\":\"Cody\",\"last_name\":\"Nolen\",\"email\":\"cody.nolen@sakilacustomer.org\",\"address_id\":550,\"activebool\":true,\"create_date\":\"2006-02-14\",\"last_update\":\"2013-05-26T14:49:45.738\",\"active\":1}</td><td>2023-10-12T15:55:37.269+0000</td></tr><tr><td>2356ab73-c8c1-4bde-9660-4ea66fa91102</td><td>{\"customer_id\":545,\"store_id\":2,\"first_name\":\"Julio\",\"last_name\":\"Noland\",\"email\":\"julio.noland@sakilacustomer.org\",\"address_id\":551,\"activebool\":true,\"create_date\":\"2006-02-14\",\"last_update\":\"2013-05-26T14:49:45.738\",\"active\":1}</td><td>2023-10-12T15:55:37.269+0000</td></tr><tr><td>c76052d6-2ae1-4376-b314-8ada153ea5ae</td><td>{\"customer_id\":546,\"store_id\":1,\"first_name\":\"Kelly\",\"last_name\":\"Knott\",\"email\":\"kelly.knott@sakilacustomer.org\",\"address_id\":552,\"activebool\":true,\"create_date\":\"2006-02-14\",\"last_update\":\"2013-05-26T14:49:45.738\",\"active\":1}</td><td>2023-10-12T15:55:37.269+0000</td></tr><tr><td>b9597cda-688f-4f2f-8af0-c81ae7bb274f</td><td>{\"customer_id\":547,\"store_id\":1,\"first_name\":\"Kurt\",\"last_name\":\"Emmons\",\"email\":\"kurt.emmons@sakilacustomer.org\",\"address_id\":553,\"activebool\":true,\"create_date\":\"2006-02-14\",\"last_update\":\"2013-05-26T14:49:45.738\",\"active\":1}</td><td>2023-10-12T15:55:37.269+0000</td></tr><tr><td>bb2ebce2-9058-49fe-aec3-aefd412b0541</td><td>{\"customer_id\":548,\"store_id\":1,\"first_name\":\"Allan\",\"last_name\":\"Cornish\",\"email\":\"allan.cornish@sakilacustomer.org\",\"address_id\":554,\"activebool\":true,\"create_date\":\"2006-02-14\",\"last_update\":\"2013-05-26T14:49:45.738\",\"active\":1}</td><td>2023-10-12T15:55:37.269+0000</td></tr><tr><td>a0dbdb81-353b-4281-a1f1-8456ceb09f73</td><td>{\"customer_id\":549,\"store_id\":1,\"first_name\":\"Nelson\",\"last_name\":\"Christenson\",\"email\":\"nelson.christenson@sakilacustomer.org\",\"address_id\":555,\"activebool\":true,\"create_date\":\"2006-02-14\",\"last_update\":\"2013-05-26T14:49:45.738\",\"active\":1}</td><td>2023-10-12T15:55:37.269+0000</td></tr><tr><td>7a0cc83d-ea0a-4bc3-a7ee-f4416371792e</td><td>{\"customer_id\":550,\"store_id\":2,\"first_name\":\"Guy\",\"last_name\":\"Brownlee\",\"email\":\"guy.brownlee@sakilacustomer.org\",\"address_id\":556,\"activebool\":true,\"create_date\":\"2006-02-14\",\"last_update\":\"2013-05-26T14:49:45.738\",\"active\":1}</td><td>2023-10-12T15:55:37.269+0000</td></tr><tr><td>3ca1aae8-5f11-4a3b-86c5-3de07edc3f20</td><td>{\"customer_id\":551,\"store_id\":2,\"first_name\":\"Clayton\",\"last_name\":\"Barbee\",\"email\":\"clayton.barbee@sakilacustomer.org\",\"address_id\":557,\"activebool\":true,\"create_date\":\"2006-02-14\",\"last_update\":\"2013-05-26T14:49:45.738\",\"active\":1}</td><td>2023-10-12T15:55:37.269+0000</td></tr><tr><td>c1b1049f-6b02-4f35-8661-b6cd6ccf10bf</td><td>{\"customer_id\":552,\"store_id\":2,\"first_name\":\"Hugh\",\"last_name\":\"Waldrop\",\"email\":\"hugh.waldrop@sakilacustomer.org\",\"address_id\":558,\"activebool\":true,\"create_date\":\"2006-02-14\",\"last_update\":\"2013-05-26T14:49:45.738\",\"active\":1}</td><td>2023-10-12T15:55:37.269+0000</td></tr><tr><td>dd289d9a-e152-4ee6-9a06-821255f1e755</td><td>{\"customer_id\":553,\"store_id\":1,\"first_name\":\"Max\",\"last_name\":\"Pitt\",\"email\":\"max.pitt@sakilacustomer.org\",\"address_id\":559,\"activebool\":true,\"create_date\":\"2006-02-14\",\"last_update\":\"2013-05-26T14:49:45.738\",\"active\":1}</td><td>2023-10-12T15:55:37.269+0000</td></tr><tr><td>3d835806-c6f8-4b05-a2a7-ef7ff9e71f86</td><td>{\"customer_id\":554,\"store_id\":1,\"first_name\":\"Dwayne\",\"last_name\":\"Olvera\",\"email\":\"dwayne.olvera@sakilacustomer.org\",\"address_id\":560,\"activebool\":true,\"create_date\":\"2006-02-14\",\"last_update\":\"2013-05-26T14:49:45.738\",\"active\":1}</td><td>2023-10-12T15:55:37.269+0000</td></tr><tr><td>64ce816c-f4d0-4f5a-a791-49aecd9873dc</td><td>{\"customer_id\":555,\"store_id\":1,\"first_name\":\"Dwight\",\"last_name\":\"Lombardi\",\"email\":\"dwight.lombardi@sakilacustomer.org\",\"address_id\":561,\"activebool\":true,\"create_date\":\"2006-02-14\",\"last_update\":\"2013-05-26T14:49:45.738\",\"active\":1}</td><td>2023-10-12T15:55:37.269+0000</td></tr><tr><td>a414ca6d-3cbe-4b43-8d6a-4efa8c7723ca</td><td>{\"customer_id\":556,\"store_id\":2,\"first_name\":\"Armando\",\"last_name\":\"Gruber\",\"email\":\"armando.gruber@sakilacustomer.org\",\"address_id\":562,\"activebool\":true,\"create_date\":\"2006-02-14\",\"last_update\":\"2013-05-26T14:49:45.738\",\"active\":1}</td><td>2023-10-12T15:55:37.269+0000</td></tr><tr><td>ab3d4637-790d-4d69-a0e8-8811e144500f</td><td>{\"customer_id\":557,\"store_id\":1,\"first_name\":\"Felix\",\"last_name\":\"Gaffney\",\"email\":\"felix.gaffney@sakilacustomer.org\",\"address_id\":563,\"activebool\":true,\"create_date\":\"2006-02-14\",\"last_update\":\"2013-05-26T14:49:45.738\",\"active\":1}</td><td>2023-10-12T15:55:37.269+0000</td></tr><tr><td>06087fb1-bc6b-44ac-9d90-80af2c77628f</td><td>{\"customer_id\":558,\"store_id\":1,\"first_name\":\"Jimmie\",\"last_name\":\"Eggleston\",\"email\":\"jimmie.eggleston@sakilacustomer.org\",\"address_id\":564,\"activebool\":true,\"create_date\":\"2006-02-14\",\"last_update\":\"2013-05-26T14:49:45.738\",\"active\":0}</td><td>2023-10-12T15:55:37.269+0000</td></tr><tr><td>9a669ca4-2fc1-4efb-b52c-c1e8b6930215</td><td>{\"customer_id\":559,\"store_id\":2,\"first_name\":\"Everett\",\"last_name\":\"Banda\",\"email\":\"everett.banda@sakilacustomer.org\",\"address_id\":565,\"activebool\":true,\"create_date\":\"2006-02-14\",\"last_update\":\"2013-05-26T14:49:45.738\",\"active\":1}</td><td>2023-10-12T15:55:37.269+0000</td></tr><tr><td>d1dab645-91e2-463a-bfbb-29716a26d1d1</td><td>{\"customer_id\":560,\"store_id\":1,\"first_name\":\"Jordan\",\"last_name\":\"Archuleta\",\"email\":\"jordan.archuleta@sakilacustomer.org\",\"address_id\":566,\"activebool\":true,\"create_date\":\"2006-02-14\",\"last_update\":\"2013-05-26T14:49:45.738\",\"active\":1}</td><td>2023-10-12T15:55:37.269+0000</td></tr><tr><td>2cda5698-644f-4e67-a731-16686fa08407</td><td>{\"customer_id\":561,\"store_id\":2,\"first_name\":\"Ian\",\"last_name\":\"Still\",\"email\":\"ian.still@sakilacustomer.org\",\"address_id\":567,\"activebool\":true,\"create_date\":\"2006-02-14\",\"last_update\":\"2013-05-26T14:49:45.738\",\"active\":1}</td><td>2023-10-12T15:55:37.269+0000</td></tr><tr><td>8e98fe19-8557-4d5a-97aa-c5c9532c3da2</td><td>{\"customer_id\":562,\"store_id\":1,\"first_name\":\"Wallace\",\"last_name\":\"Slone\",\"email\":\"wallace.slone@sakilacustomer.org\",\"address_id\":568,\"activebool\":true,\"create_date\":\"2006-02-14\",\"last_update\":\"2013-05-26T14:49:45.738\",\"active\":1}</td><td>2023-10-12T15:55:37.269+0000</td></tr><tr><td>517a7d1f-a6ad-4ffc-b9df-a1ead8eef6c6</td><td>{\"customer_id\":563,\"store_id\":2,\"first_name\":\"Ken\",\"last_name\":\"Prewitt\",\"email\":\"ken.prewitt@sakilacustomer.org\",\"address_id\":569,\"activebool\":true,\"create_date\":\"2006-02-14\",\"last_update\":\"2013-05-26T14:49:45.738\",\"active\":1}</td><td>2023-10-12T15:55:37.269+0000</td></tr><tr><td>757e134d-0db0-4c6a-b04f-adb1648c3299</td><td>{\"customer_id\":564,\"store_id\":2,\"first_name\":\"Bob\",\"last_name\":\"Pfeiffer\",\"email\":\"bob.pfeiffer@sakilacustomer.org\",\"address_id\":570,\"activebool\":true,\"create_date\":\"2006-02-14\",\"last_update\":\"2013-05-26T14:49:45.738\",\"active\":1}</td><td>2023-10-12T15:55:37.269+0000</td></tr><tr><td>e72eec68-0d71-4b90-9920-3097a252d359</td><td>{\"customer_id\":565,\"store_id\":2,\"first_name\":\"Jaime\",\"last_name\":\"Nettles\",\"email\":\"jaime.nettles@sakilacustomer.org\",\"address_id\":571,\"activebool\":true,\"create_date\":\"2006-02-14\",\"last_update\":\"2013-05-26T14:49:45.738\",\"active\":1}</td><td>2023-10-12T15:55:37.269+0000</td></tr><tr><td>a5dfcd46-6c7d-4587-baf2-bd2dafc355bf</td><td>{\"customer_id\":566,\"store_id\":1,\"first_name\":\"Casey\",\"last_name\":\"Mena\",\"email\":\"casey.mena@sakilacustomer.org\",\"address_id\":572,\"activebool\":true,\"create_date\":\"2006-02-14\",\"last_update\":\"2013-05-26T14:49:45.738\",\"active\":1}</td><td>2023-10-12T15:55:37.269+0000</td></tr><tr><td>168d123f-bc38-4838-bce8-19ae35d7345b</td><td>{\"customer_id\":567,\"store_id\":2,\"first_name\":\"Alfredo\",\"last_name\":\"Mcadams\",\"email\":\"alfredo.mcadams@sakilacustomer.org\",\"address_id\":573,\"activebool\":true,\"create_date\":\"2006-02-14\",\"last_update\":\"2013-05-26T14:49:45.738\",\"active\":1}</td><td>2023-10-12T15:55:37.269+0000</td></tr><tr><td>0fa4dcc7-3284-4d33-9a48-3ca0aff84d10</td><td>{\"customer_id\":568,\"store_id\":2,\"first_name\":\"Alberto\",\"last_name\":\"Henning\",\"email\":\"alberto.henning@sakilacustomer.org\",\"address_id\":574,\"activebool\":true,\"create_date\":\"2006-02-14\",\"last_update\":\"2013-05-26T14:49:45.738\",\"active\":1}</td><td>2023-10-12T15:55:37.269+0000</td></tr><tr><td>2f685d7d-87a8-4969-abea-90dc6c881b34</td><td>{\"customer_id\":569,\"store_id\":2,\"first_name\":\"Dave\",\"last_name\":\"Gardiner\",\"email\":\"dave.gardiner@sakilacustomer.org\",\"address_id\":575,\"activebool\":true,\"create_date\":\"2006-02-14\",\"last_update\":\"2013-05-26T14:49:45.738\",\"active\":1}</td><td>2023-10-12T15:55:37.269+0000</td></tr><tr><td>42880ddc-4737-43c3-81cf-d1cc884c7df8</td><td>{\"customer_id\":570,\"store_id\":2,\"first_name\":\"Ivan\",\"last_name\":\"Cromwell\",\"email\":\"ivan.cromwell@sakilacustomer.org\",\"address_id\":576,\"activebool\":true,\"create_date\":\"2006-02-14\",\"last_update\":\"2013-05-26T14:49:45.738\",\"active\":1}</td><td>2023-10-12T15:55:37.269+0000</td></tr><tr><td>e763c1d1-e0ee-42c2-af47-9b75441f0acd</td><td>{\"customer_id\":571,\"store_id\":2,\"first_name\":\"Johnnie\",\"last_name\":\"Chisholm\",\"email\":\"johnnie.chisholm@sakilacustomer.org\",\"address_id\":577,\"activebool\":true,\"create_date\":\"2006-02-14\",\"last_update\":\"2013-05-26T14:49:45.738\",\"active\":1}</td><td>2023-10-12T15:55:37.269+0000</td></tr><tr><td>7b1beccf-055d-43dc-8ea1-70133159f1ee</td><td>{\"customer_id\":572,\"store_id\":1,\"first_name\":\"Sidney\",\"last_name\":\"Burleson\",\"email\":\"sidney.burleson@sakilacustomer.org\",\"address_id\":578,\"activebool\":true,\"create_date\":\"2006-02-14\",\"last_update\":\"2013-05-26T14:49:45.738\",\"active\":1}</td><td>2023-10-12T15:55:37.269+0000</td></tr><tr><td>f6411d3a-a063-434c-bc37-3ab69b1dff07</td><td>{\"customer_id\":573,\"store_id\":1,\"first_name\":\"Byron\",\"last_name\":\"Box\",\"email\":\"byron.box@sakilacustomer.org\",\"address_id\":579,\"activebool\":true,\"create_date\":\"2006-02-14\",\"last_update\":\"2013-05-26T14:49:45.738\",\"active\":1}</td><td>2023-10-12T15:55:37.269+0000</td></tr><tr><td>be425aa1-daeb-425f-bc1b-cb4003c1e340</td><td>{\"customer_id\":574,\"store_id\":2,\"first_name\":\"Julian\",\"last_name\":\"Vest\",\"email\":\"julian.vest@sakilacustomer.org\",\"address_id\":580,\"activebool\":true,\"create_date\":\"2006-02-14\",\"last_update\":\"2013-05-26T14:49:45.738\",\"active\":1}</td><td>2023-10-12T15:55:37.269+0000</td></tr><tr><td>1d54d547-8393-4c30-8450-1957b90bfd1f</td><td>{\"customer_id\":575,\"store_id\":2,\"first_name\":\"Isaac\",\"last_name\":\"Oglesby\",\"email\":\"isaac.oglesby@sakilacustomer.org\",\"address_id\":581,\"activebool\":true,\"create_date\":\"2006-02-14\",\"last_update\":\"2013-05-26T14:49:45.738\",\"active\":1}</td><td>2023-10-12T15:55:37.269+0000</td></tr><tr><td>2323ec79-f020-461d-aa15-97835b6e8297</td><td>{\"customer_id\":576,\"store_id\":2,\"first_name\":\"Morris\",\"last_name\":\"Mccarter\",\"email\":\"morris.mccarter@sakilacustomer.org\",\"address_id\":582,\"activebool\":true,\"create_date\":\"2006-02-14\",\"last_update\":\"2013-05-26T14:49:45.738\",\"active\":1}</td><td>2023-10-12T15:55:37.269+0000</td></tr><tr><td>0aae322a-7581-4d54-91b9-af82fe5a77e3</td><td>{\"customer_id\":577,\"store_id\":2,\"first_name\":\"Clifton\",\"last_name\":\"Malcolm\",\"email\":\"clifton.malcolm@sakilacustomer.org\",\"address_id\":583,\"activebool\":true,\"create_date\":\"2006-02-14\",\"last_update\":\"2013-05-26T14:49:45.738\",\"active\":1}</td><td>2023-10-12T15:55:37.269+0000</td></tr><tr><td>58242212-fc4e-49d7-91c4-7431ffba0e77</td><td>{\"customer_id\":578,\"store_id\":2,\"first_name\":\"Willard\",\"last_name\":\"Lumpkin\",\"email\":\"willard.lumpkin@sakilacustomer.org\",\"address_id\":584,\"activebool\":true,\"create_date\":\"2006-02-14\",\"last_update\":\"2013-05-26T14:49:45.738\",\"active\":1}</td><td>2023-10-12T15:55:37.269+0000</td></tr><tr><td>8c3bc7ae-9d6e-4136-baf1-5780e3ad3aba</td><td>{\"customer_id\":579,\"store_id\":2,\"first_name\":\"Daryl\",\"last_name\":\"Larue\",\"email\":\"daryl.larue@sakilacustomer.org\",\"address_id\":585,\"activebool\":true,\"create_date\":\"2006-02-14\",\"last_update\":\"2013-05-26T14:49:45.738\",\"active\":1}</td><td>2023-10-12T15:55:37.269+0000</td></tr><tr><td>bcfb18e7-b82c-45ef-a6d4-e57985a979f1</td><td>{\"customer_id\":580,\"store_id\":1,\"first_name\":\"Ross\",\"last_name\":\"Grey\",\"email\":\"ross.grey@sakilacustomer.org\",\"address_id\":586,\"activebool\":true,\"create_date\":\"2006-02-14\",\"last_update\":\"2013-05-26T14:49:45.738\",\"active\":1}</td><td>2023-10-12T15:55:37.269+0000</td></tr><tr><td>d973189d-6ac8-48a1-a5e1-95bcb6f87557</td><td>{\"customer_id\":581,\"store_id\":1,\"first_name\":\"Virgil\",\"last_name\":\"Wofford\",\"email\":\"virgil.wofford@sakilacustomer.org\",\"address_id\":587,\"activebool\":true,\"create_date\":\"2006-02-14\",\"last_update\":\"2013-05-26T14:49:45.738\",\"active\":1}</td><td>2023-10-12T15:55:37.269+0000</td></tr><tr><td>245d8850-9c67-4ff1-9250-33f68c30da04</td><td>{\"customer_id\":582,\"store_id\":2,\"first_name\":\"Andy\",\"last_name\":\"Vanhorn\",\"email\":\"andy.vanhorn@sakilacustomer.org\",\"address_id\":588,\"activebool\":true,\"create_date\":\"2006-02-14\",\"last_update\":\"2013-05-26T14:49:45.738\",\"active\":1}</td><td>2023-10-12T15:55:37.269+0000</td></tr><tr><td>811a0a31-c6b9-4c67-8f64-edae384c2c7f</td><td>{\"customer_id\":583,\"store_id\":1,\"first_name\":\"Marshall\",\"last_name\":\"Thorn\",\"email\":\"marshall.thorn@sakilacustomer.org\",\"address_id\":589,\"activebool\":true,\"create_date\":\"2006-02-14\",\"last_update\":\"2013-05-26T14:49:45.738\",\"active\":1}</td><td>2023-10-12T15:55:37.269+0000</td></tr><tr><td>179418e5-38cd-453c-80dd-a4e7d9757797</td><td>{\"customer_id\":584,\"store_id\":2,\"first_name\":\"Salvador\",\"last_name\":\"Teel\",\"email\":\"salvador.teel@sakilacustomer.org\",\"address_id\":590,\"activebool\":true,\"create_date\":\"2006-02-14\",\"last_update\":\"2013-05-26T14:49:45.738\",\"active\":1}</td><td>2023-10-12T15:55:37.269+0000</td></tr><tr><td>ec9f1871-6fa7-4d91-82dd-7d51101601e6</td><td>{\"customer_id\":585,\"store_id\":1,\"first_name\":\"Perry\",\"last_name\":\"Swafford\",\"email\":\"perry.swafford@sakilacustomer.org\",\"address_id\":591,\"activebool\":true,\"create_date\":\"2006-02-14\",\"last_update\":\"2013-05-26T14:49:45.738\",\"active\":1}</td><td>2023-10-12T15:55:37.269+0000</td></tr><tr><td>81c4b34f-8c3a-4cdb-b853-7cdf364000b3</td><td>{\"customer_id\":586,\"store_id\":1,\"first_name\":\"Kirk\",\"last_name\":\"Stclair\",\"email\":\"kirk.stclair@sakilacustomer.org\",\"address_id\":592,\"activebool\":true,\"create_date\":\"2006-02-14\",\"last_update\":\"2013-05-26T14:49:45.738\",\"active\":1}</td><td>2023-10-12T15:55:37.269+0000</td></tr><tr><td>a0c54498-b0be-4ca7-9fd8-73a1404ce60b</td><td>{\"customer_id\":587,\"store_id\":1,\"first_name\":\"Sergio\",\"last_name\":\"Stanfield\",\"email\":\"sergio.stanfield@sakilacustomer.org\",\"address_id\":593,\"activebool\":true,\"create_date\":\"2006-02-14\",\"last_update\":\"2013-05-26T14:49:45.738\",\"active\":1}</td><td>2023-10-12T15:55:37.269+0000</td></tr><tr><td>990340aa-5422-4847-897d-dbdc66f09cb3</td><td>{\"customer_id\":588,\"store_id\":1,\"first_name\":\"Marion\",\"last_name\":\"Ocampo\",\"email\":\"marion.ocampo@sakilacustomer.org\",\"address_id\":594,\"activebool\":true,\"create_date\":\"2006-02-14\",\"last_update\":\"2013-05-26T14:49:45.738\",\"active\":1}</td><td>2023-10-12T15:55:37.269+0000</td></tr><tr><td>b6a8f34c-2027-4590-ad14-e69e72a00b6a</td><td>{\"customer_id\":589,\"store_id\":1,\"first_name\":\"Tracy\",\"last_name\":\"Herrmann\",\"email\":\"tracy.herrmann@sakilacustomer.org\",\"address_id\":595,\"activebool\":true,\"create_date\":\"2006-02-14\",\"last_update\":\"2013-05-26T14:49:45.738\",\"active\":1}</td><td>2023-10-12T15:55:37.269+0000</td></tr><tr><td>12085f87-8c3f-4ed4-bf99-70ec174c04d2</td><td>{\"customer_id\":590,\"store_id\":2,\"first_name\":\"Seth\",\"last_name\":\"Hannon\",\"email\":\"seth.hannon@sakilacustomer.org\",\"address_id\":596,\"activebool\":true,\"create_date\":\"2006-02-14\",\"last_update\":\"2013-05-26T14:49:45.738\",\"active\":1}</td><td>2023-10-12T15:55:37.269+0000</td></tr><tr><td>f39e4e6b-5e25-42f2-997d-9760e5a808c8</td><td>{\"customer_id\":591,\"store_id\":1,\"first_name\":\"Kent\",\"last_name\":\"Arsenault\",\"email\":\"kent.arsenault@sakilacustomer.org\",\"address_id\":597,\"activebool\":true,\"create_date\":\"2006-02-14\",\"last_update\":\"2013-05-26T14:49:45.738\",\"active\":1}</td><td>2023-10-12T15:55:37.269+0000</td></tr><tr><td>6443cfce-3275-40ea-9dd6-fba1b1197e68</td><td>{\"customer_id\":592,\"store_id\":1,\"first_name\":\"Terrance\",\"last_name\":\"Roush\",\"email\":\"terrance.roush@sakilacustomer.org\",\"address_id\":598,\"activebool\":true,\"create_date\":\"2006-02-14\",\"last_update\":\"2013-05-26T14:49:45.738\",\"active\":0}</td><td>2023-10-12T15:55:37.269+0000</td></tr><tr><td>bfe0762a-dfbc-4778-87b7-e92dfcc23b6a</td><td>{\"customer_id\":593,\"store_id\":2,\"first_name\":\"Rene\",\"last_name\":\"Mcalister\",\"email\":\"rene.mcalister@sakilacustomer.org\",\"address_id\":599,\"activebool\":true,\"create_date\":\"2006-02-14\",\"last_update\":\"2013-05-26T14:49:45.738\",\"active\":1}</td><td>2023-10-12T15:55:37.269+0000</td></tr><tr><td>97f42609-113a-42f5-8680-f09c52a2e6e0</td><td>{\"customer_id\":594,\"store_id\":1,\"first_name\":\"Eduardo\",\"last_name\":\"Hiatt\",\"email\":\"eduardo.hiatt@sakilacustomer.org\",\"address_id\":600,\"activebool\":true,\"create_date\":\"2006-02-14\",\"last_update\":\"2013-05-26T14:49:45.738\",\"active\":1}</td><td>2023-10-12T15:55:37.269+0000</td></tr><tr><td>5e21e61e-8243-4f41-aea4-713ecb78716f</td><td>{\"customer_id\":595,\"store_id\":1,\"first_name\":\"Terrence\",\"last_name\":\"Gunderson\",\"email\":\"terrence.gunderson@sakilacustomer.org\",\"address_id\":601,\"activebool\":true,\"create_date\":\"2006-02-14\",\"last_update\":\"2013-05-26T14:49:45.738\",\"active\":1}</td><td>2023-10-12T15:55:37.269+0000</td></tr><tr><td>f36342bd-a6f9-4eb4-a15a-6d574fdb56a5</td><td>{\"customer_id\":596,\"store_id\":1,\"first_name\":\"Enrique\",\"last_name\":\"Forsythe\",\"email\":\"enrique.forsythe@sakilacustomer.org\",\"address_id\":602,\"activebool\":true,\"create_date\":\"2006-02-14\",\"last_update\":\"2013-05-26T14:49:45.738\",\"active\":1}</td><td>2023-10-12T15:55:37.269+0000</td></tr><tr><td>94503810-2be2-4c41-9071-c2b9308a5e12</td><td>{\"customer_id\":597,\"store_id\":1,\"first_name\":\"Freddie\",\"last_name\":\"Duggan\",\"email\":\"freddie.duggan@sakilacustomer.org\",\"address_id\":603,\"activebool\":true,\"create_date\":\"2006-02-14\",\"last_update\":\"2013-05-26T14:49:45.738\",\"active\":1}</td><td>2023-10-12T15:55:37.269+0000</td></tr><tr><td>358de6db-0971-40e9-b4e4-d0827d404aa8</td><td>{\"customer_id\":598,\"store_id\":1,\"first_name\":\"Wade\",\"last_name\":\"Delvalle\",\"email\":\"wade.delvalle@sakilacustomer.org\",\"address_id\":604,\"activebool\":true,\"create_date\":\"2006-02-14\",\"last_update\":\"2013-05-26T14:49:45.738\",\"active\":1}</td><td>2023-10-12T15:55:37.269+0000</td></tr><tr><td>563f9a51-c7cb-4ed0-b9b0-8ae537380f6e</td><td>{\"customer_id\":599,\"store_id\":2,\"first_name\":\"Austin\",\"last_name\":\"Cintron\",\"email\":\"austin.cintron@sakilacustomer.org\",\"address_id\":605,\"activebool\":true,\"create_date\":\"2006-02-14\",\"last_update\":\"2013-05-26T14:49:45.738\",\"active\":1}</td><td>2023-10-12T15:55:37.269+0000</td></tr></tbody></table></div>"
      ]
     },
     "metadata": {
      "application/vnd.databricks.v1+output": {
       "addedWidgets": {},
       "aggData": [],
       "aggError": "",
       "aggOverflow": false,
       "aggSchema": [],
       "aggSeriesLimitReached": false,
       "aggType": "",
       "arguments": {},
       "columnCustomDisplayInfos": {},
       "data": [
        [
         "93a535d9-bc65-4678-b369-91f698e92914",
         "{\"customer_id\":524,\"store_id\":1,\"first_name\":\"Jared\",\"last_name\":\"Ely\",\"email\":\"jared.ely@sakilacustomer.org\",\"address_id\":530,\"activebool\":true,\"create_date\":\"2006-02-14\",\"last_update\":\"2013-05-26T14:49:45.738\",\"active\":1}",
         "2023-10-12T15:55:37.269+0000"
        ],
        [
         "f1980f55-114e-4b14-a8bb-7986d2c85c1f",
         "{\"customer_id\":1,\"store_id\":1,\"first_name\":\"Mary\",\"last_name\":\"Smith\",\"email\":\"mary.smith@sakilacustomer.org\",\"address_id\":5,\"activebool\":true,\"create_date\":\"2006-02-14\",\"last_update\":\"2013-05-26T14:49:45.738\",\"active\":1}",
         "2023-10-12T15:55:37.269+0000"
        ],
        [
         "2b97a8a3-be73-4a9d-9113-ca279f8a2a61",
         "{\"customer_id\":2,\"store_id\":1,\"first_name\":\"Patricia\",\"last_name\":\"Johnson\",\"email\":\"patricia.johnson@sakilacustomer.org\",\"address_id\":6,\"activebool\":true,\"create_date\":\"2006-02-14\",\"last_update\":\"2013-05-26T14:49:45.738\",\"active\":1}",
         "2023-10-12T15:55:37.269+0000"
        ],
        [
         "0166f8ca-268e-4505-a7cc-3a7132476524",
         "{\"customer_id\":3,\"store_id\":1,\"first_name\":\"Linda\",\"last_name\":\"Williams\",\"email\":\"linda.williams@sakilacustomer.org\",\"address_id\":7,\"activebool\":true,\"create_date\":\"2006-02-14\",\"last_update\":\"2013-05-26T14:49:45.738\",\"active\":1}",
         "2023-10-12T15:55:37.269+0000"
        ],
        [
         "f20f7523-1faf-4cbb-a83f-3862fc3b5c81",
         "{\"customer_id\":4,\"store_id\":2,\"first_name\":\"Barbara\",\"last_name\":\"Jones\",\"email\":\"barbara.jones@sakilacustomer.org\",\"address_id\":8,\"activebool\":true,\"create_date\":\"2006-02-14\",\"last_update\":\"2013-05-26T14:49:45.738\",\"active\":1}",
         "2023-10-12T15:55:37.269+0000"
        ],
        [
         "f631ecff-3416-45d5-97bc-b2cf11a5120c",
         "{\"customer_id\":5,\"store_id\":1,\"first_name\":\"Elizabeth\",\"last_name\":\"Brown\",\"email\":\"elizabeth.brown@sakilacustomer.org\",\"address_id\":9,\"activebool\":true,\"create_date\":\"2006-02-14\",\"last_update\":\"2013-05-26T14:49:45.738\",\"active\":1}",
         "2023-10-12T15:55:37.269+0000"
        ],
        [
         "d13721d9-2028-4ce1-b5b6-8cea33b7a81e",
         "{\"customer_id\":6,\"store_id\":2,\"first_name\":\"Jennifer\",\"last_name\":\"Davis\",\"email\":\"jennifer.davis@sakilacustomer.org\",\"address_id\":10,\"activebool\":true,\"create_date\":\"2006-02-14\",\"last_update\":\"2013-05-26T14:49:45.738\",\"active\":1}",
         "2023-10-12T15:55:37.269+0000"
        ],
        [
         "4d0a4bc4-3e0f-45f7-a534-97c79b468a00",
         "{\"customer_id\":7,\"store_id\":1,\"first_name\":\"Maria\",\"last_name\":\"Miller\",\"email\":\"maria.miller@sakilacustomer.org\",\"address_id\":11,\"activebool\":true,\"create_date\":\"2006-02-14\",\"last_update\":\"2013-05-26T14:49:45.738\",\"active\":1}",
         "2023-10-12T15:55:37.269+0000"
        ],
        [
         "9d6a53b9-668b-420f-9402-851bc83c7d9c",
         "{\"customer_id\":8,\"store_id\":2,\"first_name\":\"Susan\",\"last_name\":\"Wilson\",\"email\":\"susan.wilson@sakilacustomer.org\",\"address_id\":12,\"activebool\":true,\"create_date\":\"2006-02-14\",\"last_update\":\"2013-05-26T14:49:45.738\",\"active\":1}",
         "2023-10-12T15:55:37.269+0000"
        ],
        [
         "7cc95b32-99d6-477e-9821-12762c1d8838",
         "{\"customer_id\":9,\"store_id\":2,\"first_name\":\"Margaret\",\"last_name\":\"Moore\",\"email\":\"margaret.moore@sakilacustomer.org\",\"address_id\":13,\"activebool\":true,\"create_date\":\"2006-02-14\",\"last_update\":\"2013-05-26T14:49:45.738\",\"active\":1}",
         "2023-10-12T15:55:37.269+0000"
        ],
        [
         "33a5f89b-f40a-49c4-be45-e500d08841d2",
         "{\"customer_id\":10,\"store_id\":1,\"first_name\":\"Dorothy\",\"last_name\":\"Taylor\",\"email\":\"dorothy.taylor@sakilacustomer.org\",\"address_id\":14,\"activebool\":true,\"create_date\":\"2006-02-14\",\"last_update\":\"2013-05-26T14:49:45.738\",\"active\":1}",
         "2023-10-12T15:55:37.269+0000"
        ],
        [
         "908e788d-1e69-4d0e-a817-3942b9e90bfd",
         "{\"customer_id\":11,\"store_id\":2,\"first_name\":\"Lisa\",\"last_name\":\"Anderson\",\"email\":\"lisa.anderson@sakilacustomer.org\",\"address_id\":15,\"activebool\":true,\"create_date\":\"2006-02-14\",\"last_update\":\"2013-05-26T14:49:45.738\",\"active\":1}",
         "2023-10-12T15:55:37.269+0000"
        ],
        [
         "9284a198-070c-4541-a4c6-0613fce40579",
         "{\"customer_id\":12,\"store_id\":1,\"first_name\":\"Nancy\",\"last_name\":\"Thomas\",\"email\":\"nancy.thomas@sakilacustomer.org\",\"address_id\":16,\"activebool\":true,\"create_date\":\"2006-02-14\",\"last_update\":\"2013-05-26T14:49:45.738\",\"active\":1}",
         "2023-10-12T15:55:37.269+0000"
        ],
        [
         "bb8e2103-cc3f-49c7-af83-f417d4daa86d",
         "{\"customer_id\":13,\"store_id\":2,\"first_name\":\"Karen\",\"last_name\":\"Jackson\",\"email\":\"karen.jackson@sakilacustomer.org\",\"address_id\":17,\"activebool\":true,\"create_date\":\"2006-02-14\",\"last_update\":\"2013-05-26T14:49:45.738\",\"active\":1}",
         "2023-10-12T15:55:37.269+0000"
        ],
        [
         "281aa72d-19fb-49d2-b155-fc75a611f707",
         "{\"customer_id\":14,\"store_id\":2,\"first_name\":\"Betty\",\"last_name\":\"White\",\"email\":\"betty.white@sakilacustomer.org\",\"address_id\":18,\"activebool\":true,\"create_date\":\"2006-02-14\",\"last_update\":\"2013-05-26T14:49:45.738\",\"active\":1}",
         "2023-10-12T15:55:37.269+0000"
        ],
        [
         "c25ad9da-8aa8-4fe9-8e99-ae2166eb89ed",
         "{\"customer_id\":15,\"store_id\":1,\"first_name\":\"Helen\",\"last_name\":\"Harris\",\"email\":\"helen.harris@sakilacustomer.org\",\"address_id\":19,\"activebool\":true,\"create_date\":\"2006-02-14\",\"last_update\":\"2013-05-26T14:49:45.738\",\"active\":1}",
         "2023-10-12T15:55:37.269+0000"
        ],
        [
         "f224d1f4-20c3-45f9-8466-7e4a8d5ba231",
         "{\"customer_id\":16,\"store_id\":2,\"first_name\":\"Sandra\",\"last_name\":\"Martin\",\"email\":\"sandra.martin@sakilacustomer.org\",\"address_id\":20,\"activebool\":true,\"create_date\":\"2006-02-14\",\"last_update\":\"2013-05-26T14:49:45.738\",\"active\":0}",
         "2023-10-12T15:55:37.269+0000"
        ],
        [
         "29e24ddf-a265-41ed-9388-11cd79dc3f1a",
         "{\"customer_id\":17,\"store_id\":1,\"first_name\":\"Donna\",\"last_name\":\"Thompson\",\"email\":\"donna.thompson@sakilacustomer.org\",\"address_id\":21,\"activebool\":true,\"create_date\":\"2006-02-14\",\"last_update\":\"2013-05-26T14:49:45.738\",\"active\":1}",
         "2023-10-12T15:55:37.269+0000"
        ],
        [
         "ba33632e-9fd2-47a8-9f15-ec894d43fb6b",
         "{\"customer_id\":18,\"store_id\":2,\"first_name\":\"Carol\",\"last_name\":\"Garcia\",\"email\":\"carol.garcia@sakilacustomer.org\",\"address_id\":22,\"activebool\":true,\"create_date\":\"2006-02-14\",\"last_update\":\"2013-05-26T14:49:45.738\",\"active\":1}",
         "2023-10-12T15:55:37.269+0000"
        ],
        [
         "9c1baebc-4ca0-4cf0-9866-afb43f8cc4d2",
         "{\"customer_id\":19,\"store_id\":1,\"first_name\":\"Ruth\",\"last_name\":\"Martinez\",\"email\":\"ruth.martinez@sakilacustomer.org\",\"address_id\":23,\"activebool\":true,\"create_date\":\"2006-02-14\",\"last_update\":\"2013-05-26T14:49:45.738\",\"active\":1}",
         "2023-10-12T15:55:37.269+0000"
        ],
        [
         "6bfcf8dc-075e-4eb6-960a-8849bd8fa0cc",
         "{\"customer_id\":20,\"store_id\":2,\"first_name\":\"Sharon\",\"last_name\":\"Robinson\",\"email\":\"sharon.robinson@sakilacustomer.org\",\"address_id\":24,\"activebool\":true,\"create_date\":\"2006-02-14\",\"last_update\":\"2013-05-26T14:49:45.738\",\"active\":1}",
         "2023-10-12T15:55:37.269+0000"
        ],
        [
         "ade864f8-fadc-40d0-ad1d-5a7c84d8148e",
         "{\"customer_id\":21,\"store_id\":1,\"first_name\":\"Michelle\",\"last_name\":\"Clark\",\"email\":\"michelle.clark@sakilacustomer.org\",\"address_id\":25,\"activebool\":true,\"create_date\":\"2006-02-14\",\"last_update\":\"2013-05-26T14:49:45.738\",\"active\":1}",
         "2023-10-12T15:55:37.269+0000"
        ],
        [
         "3d7aded4-501e-4adf-9f21-a5efe62f183b",
         "{\"customer_id\":22,\"store_id\":1,\"first_name\":\"Laura\",\"last_name\":\"Rodriguez\",\"email\":\"laura.rodriguez@sakilacustomer.org\",\"address_id\":26,\"activebool\":true,\"create_date\":\"2006-02-14\",\"last_update\":\"2013-05-26T14:49:45.738\",\"active\":1}",
         "2023-10-12T15:55:37.269+0000"
        ],
        [
         "a63cda9a-4de6-4589-a172-87f617eab73a",
         "{\"customer_id\":23,\"store_id\":2,\"first_name\":\"Sarah\",\"last_name\":\"Lewis\",\"email\":\"sarah.lewis@sakilacustomer.org\",\"address_id\":27,\"activebool\":true,\"create_date\":\"2006-02-14\",\"last_update\":\"2013-05-26T14:49:45.738\",\"active\":1}",
         "2023-10-12T15:55:37.269+0000"
        ],
        [
         "146ea801-03e7-4b8e-a34a-402472ed9f27",
         "{\"customer_id\":24,\"store_id\":2,\"first_name\":\"Kimberly\",\"last_name\":\"Lee\",\"email\":\"kimberly.lee@sakilacustomer.org\",\"address_id\":28,\"activebool\":true,\"create_date\":\"2006-02-14\",\"last_update\":\"2013-05-26T14:49:45.738\",\"active\":1}",
         "2023-10-12T15:55:37.269+0000"
        ],
        [
         "20630ab3-5eba-40cb-b8ea-2af103538420",
         "{\"customer_id\":25,\"store_id\":1,\"first_name\":\"Deborah\",\"last_name\":\"Walker\",\"email\":\"deborah.walker@sakilacustomer.org\",\"address_id\":29,\"activebool\":true,\"create_date\":\"2006-02-14\",\"last_update\":\"2013-05-26T14:49:45.738\",\"active\":1}",
         "2023-10-12T15:55:37.269+0000"
        ],
        [
         "1ba0a24b-02a9-42f3-bce3-64aaec500f81",
         "{\"customer_id\":26,\"store_id\":2,\"first_name\":\"Jessica\",\"last_name\":\"Hall\",\"email\":\"jessica.hall@sakilacustomer.org\",\"address_id\":30,\"activebool\":true,\"create_date\":\"2006-02-14\",\"last_update\":\"2013-05-26T14:49:45.738\",\"active\":1}",
         "2023-10-12T15:55:37.269+0000"
        ],
        [
         "3be78d04-ae57-46ca-a13d-7b678cb623ff",
         "{\"customer_id\":27,\"store_id\":2,\"first_name\":\"Shirley\",\"last_name\":\"Allen\",\"email\":\"shirley.allen@sakilacustomer.org\",\"address_id\":31,\"activebool\":true,\"create_date\":\"2006-02-14\",\"last_update\":\"2013-05-26T14:49:45.738\",\"active\":1}",
         "2023-10-12T15:55:37.269+0000"
        ],
        [
         "604100b0-44d2-4f41-abe4-cd259434feab",
         "{\"customer_id\":28,\"store_id\":1,\"first_name\":\"Cynthia\",\"last_name\":\"Young\",\"email\":\"cynthia.young@sakilacustomer.org\",\"address_id\":32,\"activebool\":true,\"create_date\":\"2006-02-14\",\"last_update\":\"2013-05-26T14:49:45.738\",\"active\":1}",
         "2023-10-12T15:55:37.269+0000"
        ],
        [
         "a1bb15f7-cb1a-455e-9c61-364a840ba082",
         "{\"customer_id\":29,\"store_id\":2,\"first_name\":\"Angela\",\"last_name\":\"Hernandez\",\"email\":\"angela.hernandez@sakilacustomer.org\",\"address_id\":33,\"activebool\":true,\"create_date\":\"2006-02-14\",\"last_update\":\"2013-05-26T14:49:45.738\",\"active\":1}",
         "2023-10-12T15:55:37.269+0000"
        ],
        [
         "2adb688d-cdd6-4708-ac95-8683d81ff743",
         "{\"customer_id\":30,\"store_id\":1,\"first_name\":\"Melissa\",\"last_name\":\"King\",\"email\":\"melissa.king@sakilacustomer.org\",\"address_id\":34,\"activebool\":true,\"create_date\":\"2006-02-14\",\"last_update\":\"2013-05-26T14:49:45.738\",\"active\":1}",
         "2023-10-12T15:55:37.269+0000"
        ],
        [
         "bae7f416-4918-4dfd-9937-59772b7e4b74",
         "{\"customer_id\":31,\"store_id\":2,\"first_name\":\"Brenda\",\"last_name\":\"Wright\",\"email\":\"brenda.wright@sakilacustomer.org\",\"address_id\":35,\"activebool\":true,\"create_date\":\"2006-02-14\",\"last_update\":\"2013-05-26T14:49:45.738\",\"active\":1}",
         "2023-10-12T15:55:37.269+0000"
        ],
        [
         "87ec5eb6-8264-438f-9fe5-a6cc4a991a6e",
         "{\"customer_id\":32,\"store_id\":1,\"first_name\":\"Amy\",\"last_name\":\"Lopez\",\"email\":\"amy.lopez@sakilacustomer.org\",\"address_id\":36,\"activebool\":true,\"create_date\":\"2006-02-14\",\"last_update\":\"2013-05-26T14:49:45.738\",\"active\":1}",
         "2023-10-12T15:55:37.269+0000"
        ],
        [
         "b1c0b82e-c457-4e91-a6c1-945a137ad1d3",
         "{\"customer_id\":33,\"store_id\":2,\"first_name\":\"Anna\",\"last_name\":\"Hill\",\"email\":\"anna.hill@sakilacustomer.org\",\"address_id\":37,\"activebool\":true,\"create_date\":\"2006-02-14\",\"last_update\":\"2013-05-26T14:49:45.738\",\"active\":1}",
         "2023-10-12T15:55:37.269+0000"
        ],
        [
         "e99b3964-de91-4377-91ee-a03300718cd2",
         "{\"customer_id\":34,\"store_id\":2,\"first_name\":\"Rebecca\",\"last_name\":\"Scott\",\"email\":\"rebecca.scott@sakilacustomer.org\",\"address_id\":38,\"activebool\":true,\"create_date\":\"2006-02-14\",\"last_update\":\"2013-05-26T14:49:45.738\",\"active\":1}",
         "2023-10-12T15:55:37.269+0000"
        ],
        [
         "ea6e3b2f-c2bc-4356-8141-175ba41d65b3",
         "{\"customer_id\":35,\"store_id\":2,\"first_name\":\"Virginia\",\"last_name\":\"Green\",\"email\":\"virginia.green@sakilacustomer.org\",\"address_id\":39,\"activebool\":true,\"create_date\":\"2006-02-14\",\"last_update\":\"2013-05-26T14:49:45.738\",\"active\":1}",
         "2023-10-12T15:55:37.269+0000"
        ],
        [
         "6f1ab02a-1951-4482-b42f-417bd931e537",
         "{\"customer_id\":36,\"store_id\":2,\"first_name\":\"Kathleen\",\"last_name\":\"Adams\",\"email\":\"kathleen.adams@sakilacustomer.org\",\"address_id\":40,\"activebool\":true,\"create_date\":\"2006-02-14\",\"last_update\":\"2013-05-26T14:49:45.738\",\"active\":1}",
         "2023-10-12T15:55:37.269+0000"
        ],
        [
         "c0e78d0a-b0fc-4c14-b978-6c474896d0b6",
         "{\"customer_id\":37,\"store_id\":1,\"first_name\":\"Pamela\",\"last_name\":\"Baker\",\"email\":\"pamela.baker@sakilacustomer.org\",\"address_id\":41,\"activebool\":true,\"create_date\":\"2006-02-14\",\"last_update\":\"2013-05-26T14:49:45.738\",\"active\":1}",
         "2023-10-12T15:55:37.269+0000"
        ],
        [
         "8c91d77a-fda5-40f5-845b-f2a95bbc2945",
         "{\"customer_id\":38,\"store_id\":1,\"first_name\":\"Martha\",\"last_name\":\"Gonzalez\",\"email\":\"martha.gonzalez@sakilacustomer.org\",\"address_id\":42,\"activebool\":true,\"create_date\":\"2006-02-14\",\"last_update\":\"2013-05-26T14:49:45.738\",\"active\":1}",
         "2023-10-12T15:55:37.269+0000"
        ],
        [
         "65b4a94b-6344-4e4e-bd85-b4da9bdccc4d",
         "{\"customer_id\":39,\"store_id\":1,\"first_name\":\"Debra\",\"last_name\":\"Nelson\",\"email\":\"debra.nelson@sakilacustomer.org\",\"address_id\":43,\"activebool\":true,\"create_date\":\"2006-02-14\",\"last_update\":\"2013-05-26T14:49:45.738\",\"active\":1}",
         "2023-10-12T15:55:37.269+0000"
        ],
        [
         "a192d8af-bfc9-4635-bf1b-a740e0498b51",
         "{\"customer_id\":40,\"store_id\":2,\"first_name\":\"Amanda\",\"last_name\":\"Carter\",\"email\":\"amanda.carter@sakilacustomer.org\",\"address_id\":44,\"activebool\":true,\"create_date\":\"2006-02-14\",\"last_update\":\"2013-05-26T14:49:45.738\",\"active\":1}",
         "2023-10-12T15:55:37.269+0000"
        ],
        [
         "bc21aa77-91fa-412d-af8f-e90f4dc94eed",
         "{\"customer_id\":41,\"store_id\":1,\"first_name\":\"Stephanie\",\"last_name\":\"Mitchell\",\"email\":\"stephanie.mitchell@sakilacustomer.org\",\"address_id\":45,\"activebool\":true,\"create_date\":\"2006-02-14\",\"last_update\":\"2013-05-26T14:49:45.738\",\"active\":1}",
         "2023-10-12T15:55:37.269+0000"
        ],
        [
         "328740a1-a7fd-4c26-ab6f-a66c543acc07",
         "{\"customer_id\":42,\"store_id\":2,\"first_name\":\"Carolyn\",\"last_name\":\"Perez\",\"email\":\"carolyn.perez@sakilacustomer.org\",\"address_id\":46,\"activebool\":true,\"create_date\":\"2006-02-14\",\"last_update\":\"2013-05-26T14:49:45.738\",\"active\":1}",
         "2023-10-12T15:55:37.269+0000"
        ],
        [
         "cf8651b1-df2d-4834-8401-fa85b03eec7f",
         "{\"customer_id\":43,\"store_id\":2,\"first_name\":\"Christine\",\"last_name\":\"Roberts\",\"email\":\"christine.roberts@sakilacustomer.org\",\"address_id\":47,\"activebool\":true,\"create_date\":\"2006-02-14\",\"last_update\":\"2013-05-26T14:49:45.738\",\"active\":1}",
         "2023-10-12T15:55:37.269+0000"
        ],
        [
         "bd0d4de0-b6d1-4d97-af60-29324553447c",
         "{\"customer_id\":44,\"store_id\":1,\"first_name\":\"Marie\",\"last_name\":\"Turner\",\"email\":\"marie.turner@sakilacustomer.org\",\"address_id\":48,\"activebool\":true,\"create_date\":\"2006-02-14\",\"last_update\":\"2013-05-26T14:49:45.738\",\"active\":1}",
         "2023-10-12T15:55:37.269+0000"
        ],
        [
         "d54dc5d8-8d00-460f-abb6-8fb159c4ac96",
         "{\"customer_id\":45,\"store_id\":1,\"first_name\":\"Janet\",\"last_name\":\"Phillips\",\"email\":\"janet.phillips@sakilacustomer.org\",\"address_id\":49,\"activebool\":true,\"create_date\":\"2006-02-14\",\"last_update\":\"2013-05-26T14:49:45.738\",\"active\":1}",
         "2023-10-12T15:55:37.269+0000"
        ],
        [
         "4a9bcc1f-4b5f-40b1-a70f-9f8ef245b191",
         "{\"customer_id\":46,\"store_id\":2,\"first_name\":\"Catherine\",\"last_name\":\"Campbell\",\"email\":\"catherine.campbell@sakilacustomer.org\",\"address_id\":50,\"activebool\":true,\"create_date\":\"2006-02-14\",\"last_update\":\"2013-05-26T14:49:45.738\",\"active\":1}",
         "2023-10-12T15:55:37.269+0000"
        ],
        [
         "8269a1e5-aadb-4139-90c3-e9b779249661",
         "{\"customer_id\":47,\"store_id\":1,\"first_name\":\"Frances\",\"last_name\":\"Parker\",\"email\":\"frances.parker@sakilacustomer.org\",\"address_id\":51,\"activebool\":true,\"create_date\":\"2006-02-14\",\"last_update\":\"2013-05-26T14:49:45.738\",\"active\":1}",
         "2023-10-12T15:55:37.269+0000"
        ],
        [
         "c9da04a8-89e0-484a-b9a2-65a2ff1316ff",
         "{\"customer_id\":48,\"store_id\":1,\"first_name\":\"Ann\",\"last_name\":\"Evans\",\"email\":\"ann.evans@sakilacustomer.org\",\"address_id\":52,\"activebool\":true,\"create_date\":\"2006-02-14\",\"last_update\":\"2013-05-26T14:49:45.738\",\"active\":1}",
         "2023-10-12T15:55:37.269+0000"
        ],
        [
         "5f67cdd8-3ff8-4b7e-8f25-d967468a493b",
         "{\"customer_id\":49,\"store_id\":2,\"first_name\":\"Joyce\",\"last_name\":\"Edwards\",\"email\":\"joyce.edwards@sakilacustomer.org\",\"address_id\":53,\"activebool\":true,\"create_date\":\"2006-02-14\",\"last_update\":\"2013-05-26T14:49:45.738\",\"active\":1}",
         "2023-10-12T15:55:37.269+0000"
        ],
        [
         "fe7b9113-a28a-4e6c-840c-7e77fb374489",
         "{\"customer_id\":50,\"store_id\":1,\"first_name\":\"Diane\",\"last_name\":\"Collins\",\"email\":\"diane.collins@sakilacustomer.org\",\"address_id\":54,\"activebool\":true,\"create_date\":\"2006-02-14\",\"last_update\":\"2013-05-26T14:49:45.738\",\"active\":1}",
         "2023-10-12T15:55:37.269+0000"
        ],
        [
         "db10efc3-f11c-4431-ad85-815ba43851b7",
         "{\"customer_id\":51,\"store_id\":1,\"first_name\":\"Alice\",\"last_name\":\"Stewart\",\"email\":\"alice.stewart@sakilacustomer.org\",\"address_id\":55,\"activebool\":true,\"create_date\":\"2006-02-14\",\"last_update\":\"2013-05-26T14:49:45.738\",\"active\":1}",
         "2023-10-12T15:55:37.269+0000"
        ],
        [
         "6fcb209d-7e87-4ca5-afbb-49485344892b",
         "{\"customer_id\":52,\"store_id\":1,\"first_name\":\"Julie\",\"last_name\":\"Sanchez\",\"email\":\"julie.sanchez@sakilacustomer.org\",\"address_id\":56,\"activebool\":true,\"create_date\":\"2006-02-14\",\"last_update\":\"2013-05-26T14:49:45.738\",\"active\":1}",
         "2023-10-12T15:55:37.269+0000"
        ],
        [
         "d12cca76-5da3-42c3-b147-1d46339d6be1",
         "{\"customer_id\":53,\"store_id\":1,\"first_name\":\"Heather\",\"last_name\":\"Morris\",\"email\":\"heather.morris@sakilacustomer.org\",\"address_id\":57,\"activebool\":true,\"create_date\":\"2006-02-14\",\"last_update\":\"2013-05-26T14:49:45.738\",\"active\":1}",
         "2023-10-12T15:55:37.269+0000"
        ],
        [
         "b612f5cd-f9d7-4b07-b726-8cb780c7dd97",
         "{\"customer_id\":54,\"store_id\":1,\"first_name\":\"Teresa\",\"last_name\":\"Rogers\",\"email\":\"teresa.rogers@sakilacustomer.org\",\"address_id\":58,\"activebool\":true,\"create_date\":\"2006-02-14\",\"last_update\":\"2013-05-26T14:49:45.738\",\"active\":1}",
         "2023-10-12T15:55:37.269+0000"
        ],
        [
         "1b21c948-1eab-4215-98c8-5a1d2d7eece7",
         "{\"customer_id\":55,\"store_id\":2,\"first_name\":\"Doris\",\"last_name\":\"Reed\",\"email\":\"doris.reed@sakilacustomer.org\",\"address_id\":59,\"activebool\":true,\"create_date\":\"2006-02-14\",\"last_update\":\"2013-05-26T14:49:45.738\",\"active\":1}",
         "2023-10-12T15:55:37.269+0000"
        ],
        [
         "be03456c-2243-4ebb-8736-b419d20747b2",
         "{\"customer_id\":56,\"store_id\":1,\"first_name\":\"Gloria\",\"last_name\":\"Cook\",\"email\":\"gloria.cook@sakilacustomer.org\",\"address_id\":60,\"activebool\":true,\"create_date\":\"2006-02-14\",\"last_update\":\"2013-05-26T14:49:45.738\",\"active\":1}",
         "2023-10-12T15:55:37.269+0000"
        ],
        [
         "d9846780-a121-45fb-9e6e-40d307e4466f",
         "{\"customer_id\":57,\"store_id\":2,\"first_name\":\"Evelyn\",\"last_name\":\"Morgan\",\"email\":\"evelyn.morgan@sakilacustomer.org\",\"address_id\":61,\"activebool\":true,\"create_date\":\"2006-02-14\",\"last_update\":\"2013-05-26T14:49:45.738\",\"active\":1}",
         "2023-10-12T15:55:37.269+0000"
        ],
        [
         "4e3a8048-a954-402e-a66a-efd0a9f7f976",
         "{\"customer_id\":58,\"store_id\":1,\"first_name\":\"Jean\",\"last_name\":\"Bell\",\"email\":\"jean.bell@sakilacustomer.org\",\"address_id\":62,\"activebool\":true,\"create_date\":\"2006-02-14\",\"last_update\":\"2013-05-26T14:49:45.738\",\"active\":1}",
         "2023-10-12T15:55:37.269+0000"
        ],
        [
         "6897a355-d4db-4626-ac4e-3ac5d53529d1",
         "{\"customer_id\":59,\"store_id\":1,\"first_name\":\"Cheryl\",\"last_name\":\"Murphy\",\"email\":\"cheryl.murphy@sakilacustomer.org\",\"address_id\":63,\"activebool\":true,\"create_date\":\"2006-02-14\",\"last_update\":\"2013-05-26T14:49:45.738\",\"active\":1}",
         "2023-10-12T15:55:37.269+0000"
        ],
        [
         "729a4bf5-5f78-4472-93ff-524d0cf315bd",
         "{\"customer_id\":60,\"store_id\":1,\"first_name\":\"Mildred\",\"last_name\":\"Bailey\",\"email\":\"mildred.bailey@sakilacustomer.org\",\"address_id\":64,\"activebool\":true,\"create_date\":\"2006-02-14\",\"last_update\":\"2013-05-26T14:49:45.738\",\"active\":1}",
         "2023-10-12T15:55:37.269+0000"
        ],
        [
         "ca7da942-5d2d-4a48-af7d-8bc52275338c",
         "{\"customer_id\":61,\"store_id\":2,\"first_name\":\"Katherine\",\"last_name\":\"Rivera\",\"email\":\"katherine.rivera@sakilacustomer.org\",\"address_id\":65,\"activebool\":true,\"create_date\":\"2006-02-14\",\"last_update\":\"2013-05-26T14:49:45.738\",\"active\":1}",
         "2023-10-12T15:55:37.269+0000"
        ],
        [
         "6d96e755-aaf5-4ccf-95e0-053453ba246b",
         "{\"customer_id\":62,\"store_id\":1,\"first_name\":\"Joan\",\"last_name\":\"Cooper\",\"email\":\"joan.cooper@sakilacustomer.org\",\"address_id\":66,\"activebool\":true,\"create_date\":\"2006-02-14\",\"last_update\":\"2013-05-26T14:49:45.738\",\"active\":1}",
         "2023-10-12T15:55:37.269+0000"
        ],
        [
         "d1862039-d8b7-4b7f-8234-77a5f73efd97",
         "{\"customer_id\":63,\"store_id\":1,\"first_name\":\"Ashley\",\"last_name\":\"Richardson\",\"email\":\"ashley.richardson@sakilacustomer.org\",\"address_id\":67,\"activebool\":true,\"create_date\":\"2006-02-14\",\"last_update\":\"2013-05-26T14:49:45.738\",\"active\":1}",
         "2023-10-12T15:55:37.269+0000"
        ],
        [
         "3fd0804b-4ff3-4886-baa2-98b125e959e6",
         "{\"customer_id\":64,\"store_id\":2,\"first_name\":\"Judith\",\"last_name\":\"Cox\",\"email\":\"judith.cox@sakilacustomer.org\",\"address_id\":68,\"activebool\":true,\"create_date\":\"2006-02-14\",\"last_update\":\"2013-05-26T14:49:45.738\",\"active\":0}",
         "2023-10-12T15:55:37.269+0000"
        ],
        [
         "b13d5f49-f2fd-48cd-94c7-f6027fb1952c",
         "{\"customer_id\":65,\"store_id\":2,\"first_name\":\"Rose\",\"last_name\":\"Howard\",\"email\":\"rose.howard@sakilacustomer.org\",\"address_id\":69,\"activebool\":true,\"create_date\":\"2006-02-14\",\"last_update\":\"2013-05-26T14:49:45.738\",\"active\":1}",
         "2023-10-12T15:55:37.269+0000"
        ],
        [
         "c93c34e2-c95c-4b02-ab60-96873835b8a0",
         "{\"customer_id\":66,\"store_id\":2,\"first_name\":\"Janice\",\"last_name\":\"Ward\",\"email\":\"janice.ward@sakilacustomer.org\",\"address_id\":70,\"activebool\":true,\"create_date\":\"2006-02-14\",\"last_update\":\"2013-05-26T14:49:45.738\",\"active\":1}",
         "2023-10-12T15:55:37.269+0000"
        ],
        [
         "18bf4915-76f1-41a2-90d1-5f4878709fc5",
         "{\"customer_id\":67,\"store_id\":1,\"first_name\":\"Kelly\",\"last_name\":\"Torres\",\"email\":\"kelly.torres@sakilacustomer.org\",\"address_id\":71,\"activebool\":true,\"create_date\":\"2006-02-14\",\"last_update\":\"2013-05-26T14:49:45.738\",\"active\":1}",
         "2023-10-12T15:55:37.269+0000"
        ],
        [
         "326b3ae5-1016-4d3b-9750-9b663be058d8",
         "{\"customer_id\":68,\"store_id\":1,\"first_name\":\"Nicole\",\"last_name\":\"Peterson\",\"email\":\"nicole.peterson@sakilacustomer.org\",\"address_id\":72,\"activebool\":true,\"create_date\":\"2006-02-14\",\"last_update\":\"2013-05-26T14:49:45.738\",\"active\":1}",
         "2023-10-12T15:55:37.269+0000"
        ],
        [
         "7a4a1236-d7d7-4a05-8f1a-62c1021dcff7",
         "{\"customer_id\":69,\"store_id\":2,\"first_name\":\"Judy\",\"last_name\":\"Gray\",\"email\":\"judy.gray@sakilacustomer.org\",\"address_id\":73,\"activebool\":true,\"create_date\":\"2006-02-14\",\"last_update\":\"2013-05-26T14:49:45.738\",\"active\":1}",
         "2023-10-12T15:55:37.269+0000"
        ],
        [
         "632ce0cd-f277-4569-9336-d09209ed3f44",
         "{\"customer_id\":70,\"store_id\":2,\"first_name\":\"Christina\",\"last_name\":\"Ramirez\",\"email\":\"christina.ramirez@sakilacustomer.org\",\"address_id\":74,\"activebool\":true,\"create_date\":\"2006-02-14\",\"last_update\":\"2013-05-26T14:49:45.738\",\"active\":1}",
         "2023-10-12T15:55:37.269+0000"
        ],
        [
         "dd6d5e96-13f5-466e-9b64-6110cfdccf4d",
         "{\"customer_id\":71,\"store_id\":1,\"first_name\":\"Kathy\",\"last_name\":\"James\",\"email\":\"kathy.james@sakilacustomer.org\",\"address_id\":75,\"activebool\":true,\"create_date\":\"2006-02-14\",\"last_update\":\"2013-05-26T14:49:45.738\",\"active\":1}",
         "2023-10-12T15:55:37.269+0000"
        ],
        [
         "8ab12ae8-1725-4732-8ddf-84de2f819700",
         "{\"customer_id\":72,\"store_id\":2,\"first_name\":\"Theresa\",\"last_name\":\"Watson\",\"email\":\"theresa.watson@sakilacustomer.org\",\"address_id\":76,\"activebool\":true,\"create_date\":\"2006-02-14\",\"last_update\":\"2013-05-26T14:49:45.738\",\"active\":1}",
         "2023-10-12T15:55:37.269+0000"
        ],
        [
         "eba89c4b-ebc3-436f-b116-143ecfe581ab",
         "{\"customer_id\":73,\"store_id\":2,\"first_name\":\"Beverly\",\"last_name\":\"Brooks\",\"email\":\"beverly.brooks@sakilacustomer.org\",\"address_id\":77,\"activebool\":true,\"create_date\":\"2006-02-14\",\"last_update\":\"2013-05-26T14:49:45.738\",\"active\":1}",
         "2023-10-12T15:55:37.269+0000"
        ],
        [
         "d24aac96-8ff8-404b-bcc5-c7b54f1f8439",
         "{\"customer_id\":74,\"store_id\":1,\"first_name\":\"Denise\",\"last_name\":\"Kelly\",\"email\":\"denise.kelly@sakilacustomer.org\",\"address_id\":78,\"activebool\":true,\"create_date\":\"2006-02-14\",\"last_update\":\"2013-05-26T14:49:45.738\",\"active\":1}",
         "2023-10-12T15:55:37.269+0000"
        ],
        [
         "8e653882-6ecb-4ef5-9209-a4e22505f0d2",
         "{\"customer_id\":75,\"store_id\":2,\"first_name\":\"Tammy\",\"last_name\":\"Sanders\",\"email\":\"tammy.sanders@sakilacustomer.org\",\"address_id\":79,\"activebool\":true,\"create_date\":\"2006-02-14\",\"last_update\":\"2013-05-26T14:49:45.738\",\"active\":1}",
         "2023-10-12T15:55:37.269+0000"
        ],
        [
         "b7a8c8ca-1e99-41ca-b814-4c81ccf97ffd",
         "{\"customer_id\":76,\"store_id\":2,\"first_name\":\"Irene\",\"last_name\":\"Price\",\"email\":\"irene.price@sakilacustomer.org\",\"address_id\":80,\"activebool\":true,\"create_date\":\"2006-02-14\",\"last_update\":\"2013-05-26T14:49:45.738\",\"active\":1}",
         "2023-10-12T15:55:37.269+0000"
        ],
        [
         "ee432a87-73d5-4a32-acc1-dc28ec750e8d",
         "{\"customer_id\":77,\"store_id\":2,\"first_name\":\"Jane\",\"last_name\":\"Bennett\",\"email\":\"jane.bennett@sakilacustomer.org\",\"address_id\":81,\"activebool\":true,\"create_date\":\"2006-02-14\",\"last_update\":\"2013-05-26T14:49:45.738\",\"active\":1}",
         "2023-10-12T15:55:37.269+0000"
        ],
        [
         "77eb1c26-b9e8-45fa-8e57-f7ee14693533",
         "{\"customer_id\":78,\"store_id\":1,\"first_name\":\"Lori\",\"last_name\":\"Wood\",\"email\":\"lori.wood@sakilacustomer.org\",\"address_id\":82,\"activebool\":true,\"create_date\":\"2006-02-14\",\"last_update\":\"2013-05-26T14:49:45.738\",\"active\":1}",
         "2023-10-12T15:55:37.269+0000"
        ],
        [
         "47d52efe-ffda-4a84-a68b-aa55ab3c6ac0",
         "{\"customer_id\":79,\"store_id\":1,\"first_name\":\"Rachel\",\"last_name\":\"Barnes\",\"email\":\"rachel.barnes@sakilacustomer.org\",\"address_id\":83,\"activebool\":true,\"create_date\":\"2006-02-14\",\"last_update\":\"2013-05-26T14:49:45.738\",\"active\":1}",
         "2023-10-12T15:55:37.269+0000"
        ],
        [
         "92999b7f-46c7-447d-a446-5290e2aa163c",
         "{\"customer_id\":80,\"store_id\":1,\"first_name\":\"Marilyn\",\"last_name\":\"Ross\",\"email\":\"marilyn.ross@sakilacustomer.org\",\"address_id\":84,\"activebool\":true,\"create_date\":\"2006-02-14\",\"last_update\":\"2013-05-26T14:49:45.738\",\"active\":1}",
         "2023-10-12T15:55:37.269+0000"
        ],
        [
         "fcbef137-8c29-4295-80be-844bae46c080",
         "{\"customer_id\":81,\"store_id\":1,\"first_name\":\"Andrea\",\"last_name\":\"Henderson\",\"email\":\"andrea.henderson@sakilacustomer.org\",\"address_id\":85,\"activebool\":true,\"create_date\":\"2006-02-14\",\"last_update\":\"2013-05-26T14:49:45.738\",\"active\":1}",
         "2023-10-12T15:55:37.269+0000"
        ],
        [
         "ec0bf40f-71a7-4060-a1ea-a90b0b8502b2",
         "{\"customer_id\":82,\"store_id\":1,\"first_name\":\"Kathryn\",\"last_name\":\"Coleman\",\"email\":\"kathryn.coleman@sakilacustomer.org\",\"address_id\":86,\"activebool\":true,\"create_date\":\"2006-02-14\",\"last_update\":\"2013-05-26T14:49:45.738\",\"active\":1}",
         "2023-10-12T15:55:37.269+0000"
        ],
        [
         "b41caf76-1047-4328-9dd4-75bfa0eb37de",
         "{\"customer_id\":83,\"store_id\":1,\"first_name\":\"Louise\",\"last_name\":\"Jenkins\",\"email\":\"louise.jenkins@sakilacustomer.org\",\"address_id\":87,\"activebool\":true,\"create_date\":\"2006-02-14\",\"last_update\":\"2013-05-26T14:49:45.738\",\"active\":1}",
         "2023-10-12T15:55:37.269+0000"
        ],
        [
         "e6a1cd2f-771b-4422-8243-80c3ce50e421",
         "{\"customer_id\":84,\"store_id\":2,\"first_name\":\"Sara\",\"last_name\":\"Perry\",\"email\":\"sara.perry@sakilacustomer.org\",\"address_id\":88,\"activebool\":true,\"create_date\":\"2006-02-14\",\"last_update\":\"2013-05-26T14:49:45.738\",\"active\":1}",
         "2023-10-12T15:55:37.269+0000"
        ],
        [
         "d9b4b387-295f-4629-8b8a-2f37f50eca2a",
         "{\"customer_id\":85,\"store_id\":2,\"first_name\":\"Anne\",\"last_name\":\"Powell\",\"email\":\"anne.powell@sakilacustomer.org\",\"address_id\":89,\"activebool\":true,\"create_date\":\"2006-02-14\",\"last_update\":\"2013-05-26T14:49:45.738\",\"active\":1}",
         "2023-10-12T15:55:37.269+0000"
        ],
        [
         "c9bd3cc7-d9c3-46b4-b1d0-8c4ba2285647",
         "{\"customer_id\":86,\"store_id\":2,\"first_name\":\"Jacqueline\",\"last_name\":\"Long\",\"email\":\"jacqueline.long@sakilacustomer.org\",\"address_id\":90,\"activebool\":true,\"create_date\":\"2006-02-14\",\"last_update\":\"2013-05-26T14:49:45.738\",\"active\":1}",
         "2023-10-12T15:55:37.269+0000"
        ],
        [
         "9d4343d3-3b7b-4724-9fc1-6e503d1388eb",
         "{\"customer_id\":87,\"store_id\":1,\"first_name\":\"Wanda\",\"last_name\":\"Patterson\",\"email\":\"wanda.patterson@sakilacustomer.org\",\"address_id\":91,\"activebool\":true,\"create_date\":\"2006-02-14\",\"last_update\":\"2013-05-26T14:49:45.738\",\"active\":1}",
         "2023-10-12T15:55:37.269+0000"
        ],
        [
         "ad900bef-5ca6-4fcf-aadd-b4a9e67dfc3c",
         "{\"customer_id\":88,\"store_id\":2,\"first_name\":\"Bonnie\",\"last_name\":\"Hughes\",\"email\":\"bonnie.hughes@sakilacustomer.org\",\"address_id\":92,\"activebool\":true,\"create_date\":\"2006-02-14\",\"last_update\":\"2013-05-26T14:49:45.738\",\"active\":1}",
         "2023-10-12T15:55:37.269+0000"
        ],
        [
         "cb5eb3ac-a276-4a1b-b66e-cfc931ee85c6",
         "{\"customer_id\":89,\"store_id\":1,\"first_name\":\"Julia\",\"last_name\":\"Flores\",\"email\":\"julia.flores@sakilacustomer.org\",\"address_id\":93,\"activebool\":true,\"create_date\":\"2006-02-14\",\"last_update\":\"2013-05-26T14:49:45.738\",\"active\":1}",
         "2023-10-12T15:55:37.269+0000"
        ],
        [
         "0ddba22b-3e95-4673-8974-6249fb4e74c8",
         "{\"customer_id\":90,\"store_id\":2,\"first_name\":\"Ruby\",\"last_name\":\"Washington\",\"email\":\"ruby.washington@sakilacustomer.org\",\"address_id\":94,\"activebool\":true,\"create_date\":\"2006-02-14\",\"last_update\":\"2013-05-26T14:49:45.738\",\"active\":1}",
         "2023-10-12T15:55:37.269+0000"
        ],
        [
         "632b87d1-5491-42d8-ab4b-dcd59b0e67dc",
         "{\"customer_id\":91,\"store_id\":2,\"first_name\":\"Lois\",\"last_name\":\"Butler\",\"email\":\"lois.butler@sakilacustomer.org\",\"address_id\":95,\"activebool\":true,\"create_date\":\"2006-02-14\",\"last_update\":\"2013-05-26T14:49:45.738\",\"active\":1}",
         "2023-10-12T15:55:37.269+0000"
        ],
        [
         "c4c0817b-006c-4317-84a9-dca188558cd5",
         "{\"customer_id\":92,\"store_id\":2,\"first_name\":\"Tina\",\"last_name\":\"Simmons\",\"email\":\"tina.simmons@sakilacustomer.org\",\"address_id\":96,\"activebool\":true,\"create_date\":\"2006-02-14\",\"last_update\":\"2013-05-26T14:49:45.738\",\"active\":1}",
         "2023-10-12T15:55:37.269+0000"
        ],
        [
         "f78b655c-cfc0-4c2a-9cbd-48907e71cd94",
         "{\"customer_id\":93,\"store_id\":1,\"first_name\":\"Phyllis\",\"last_name\":\"Foster\",\"email\":\"phyllis.foster@sakilacustomer.org\",\"address_id\":97,\"activebool\":true,\"create_date\":\"2006-02-14\",\"last_update\":\"2013-05-26T14:49:45.738\",\"active\":1}",
         "2023-10-12T15:55:37.269+0000"
        ],
        [
         "9eeba3ab-40fe-456f-bff9-5519827d8ca9",
         "{\"customer_id\":94,\"store_id\":1,\"first_name\":\"Norma\",\"last_name\":\"Gonzales\",\"email\":\"norma.gonzales@sakilacustomer.org\",\"address_id\":98,\"activebool\":true,\"create_date\":\"2006-02-14\",\"last_update\":\"2013-05-26T14:49:45.738\",\"active\":1}",
         "2023-10-12T15:55:37.269+0000"
        ],
        [
         "f1bdd43a-fe50-4102-80d0-f78f13dff16f",
         "{\"customer_id\":95,\"store_id\":2,\"first_name\":\"Paula\",\"last_name\":\"Bryant\",\"email\":\"paula.bryant@sakilacustomer.org\",\"address_id\":99,\"activebool\":true,\"create_date\":\"2006-02-14\",\"last_update\":\"2013-05-26T14:49:45.738\",\"active\":1}",
         "2023-10-12T15:55:37.269+0000"
        ],
        [
         "b9ea1d24-e9ed-43be-a63e-ac3daec36970",
         "{\"customer_id\":96,\"store_id\":1,\"first_name\":\"Diana\",\"last_name\":\"Alexander\",\"email\":\"diana.alexander@sakilacustomer.org\",\"address_id\":100,\"activebool\":true,\"create_date\":\"2006-02-14\",\"last_update\":\"2013-05-26T14:49:45.738\",\"active\":1}",
         "2023-10-12T15:55:37.269+0000"
        ],
        [
         "b23b974b-6dd1-489d-9817-f5c126021b85",
         "{\"customer_id\":97,\"store_id\":2,\"first_name\":\"Annie\",\"last_name\":\"Russell\",\"email\":\"annie.russell@sakilacustomer.org\",\"address_id\":101,\"activebool\":true,\"create_date\":\"2006-02-14\",\"last_update\":\"2013-05-26T14:49:45.738\",\"active\":1}",
         "2023-10-12T15:55:37.269+0000"
        ],
        [
         "249c42e5-fb89-47b8-9cdc-2fd722924d5d",
         "{\"customer_id\":98,\"store_id\":1,\"first_name\":\"Lillian\",\"last_name\":\"Griffin\",\"email\":\"lillian.griffin@sakilacustomer.org\",\"address_id\":102,\"activebool\":true,\"create_date\":\"2006-02-14\",\"last_update\":\"2013-05-26T14:49:45.738\",\"active\":1}",
         "2023-10-12T15:55:37.269+0000"
        ],
        [
         "3a43c80d-27c0-4ab2-8e68-21810fd93865",
         "{\"customer_id\":99,\"store_id\":2,\"first_name\":\"Emily\",\"last_name\":\"Diaz\",\"email\":\"emily.diaz@sakilacustomer.org\",\"address_id\":103,\"activebool\":true,\"create_date\":\"2006-02-14\",\"last_update\":\"2013-05-26T14:49:45.738\",\"active\":1}",
         "2023-10-12T15:55:37.269+0000"
        ],
        [
         "92359f7d-5f50-4719-997a-229300e6a25b",
         "{\"customer_id\":100,\"store_id\":1,\"first_name\":\"Robin\",\"last_name\":\"Hayes\",\"email\":\"robin.hayes@sakilacustomer.org\",\"address_id\":104,\"activebool\":true,\"create_date\":\"2006-02-14\",\"last_update\":\"2013-05-26T14:49:45.738\",\"active\":1}",
         "2023-10-12T15:55:37.269+0000"
        ],
        [
         "fac53a0e-8abe-44ab-8081-89968dad87be",
         "{\"customer_id\":101,\"store_id\":1,\"first_name\":\"Peggy\",\"last_name\":\"Myers\",\"email\":\"peggy.myers@sakilacustomer.org\",\"address_id\":105,\"activebool\":true,\"create_date\":\"2006-02-14\",\"last_update\":\"2013-05-26T14:49:45.738\",\"active\":1}",
         "2023-10-12T15:55:37.269+0000"
        ],
        [
         "70a382e2-486e-4f47-b762-18f75123dcde",
         "{\"customer_id\":102,\"store_id\":1,\"first_name\":\"Crystal\",\"last_name\":\"Ford\",\"email\":\"crystal.ford@sakilacustomer.org\",\"address_id\":106,\"activebool\":true,\"create_date\":\"2006-02-14\",\"last_update\":\"2013-05-26T14:49:45.738\",\"active\":1}",
         "2023-10-12T15:55:37.269+0000"
        ],
        [
         "697a81d4-aeb1-404d-ab40-98779b99ae29",
         "{\"customer_id\":103,\"store_id\":1,\"first_name\":\"Gladys\",\"last_name\":\"Hamilton\",\"email\":\"gladys.hamilton@sakilacustomer.org\",\"address_id\":107,\"activebool\":true,\"create_date\":\"2006-02-14\",\"last_update\":\"2013-05-26T14:49:45.738\",\"active\":1}",
         "2023-10-12T15:55:37.269+0000"
        ],
        [
         "5d8dedc3-00dd-46d9-a292-ac45bb78965f",
         "{\"customer_id\":104,\"store_id\":1,\"first_name\":\"Rita\",\"last_name\":\"Graham\",\"email\":\"rita.graham@sakilacustomer.org\",\"address_id\":108,\"activebool\":true,\"create_date\":\"2006-02-14\",\"last_update\":\"2013-05-26T14:49:45.738\",\"active\":1}",
         "2023-10-12T15:55:37.269+0000"
        ],
        [
         "91fe3793-71a2-4a27-87ac-a7d00e5f07de",
         "{\"customer_id\":105,\"store_id\":1,\"first_name\":\"Dawn\",\"last_name\":\"Sullivan\",\"email\":\"dawn.sullivan@sakilacustomer.org\",\"address_id\":109,\"activebool\":true,\"create_date\":\"2006-02-14\",\"last_update\":\"2013-05-26T14:49:45.738\",\"active\":1}",
         "2023-10-12T15:55:37.269+0000"
        ],
        [
         "3a72886b-35cf-47b5-94db-590db3fccfb6",
         "{\"customer_id\":106,\"store_id\":1,\"first_name\":\"Connie\",\"last_name\":\"Wallace\",\"email\":\"connie.wallace@sakilacustomer.org\",\"address_id\":110,\"activebool\":true,\"create_date\":\"2006-02-14\",\"last_update\":\"2013-05-26T14:49:45.738\",\"active\":1}",
         "2023-10-12T15:55:37.269+0000"
        ],
        [
         "0e2d51b2-6af4-4d4e-8ad6-88a2b33247c1",
         "{\"customer_id\":107,\"store_id\":1,\"first_name\":\"Florence\",\"last_name\":\"Woods\",\"email\":\"florence.woods@sakilacustomer.org\",\"address_id\":111,\"activebool\":true,\"create_date\":\"2006-02-14\",\"last_update\":\"2013-05-26T14:49:45.738\",\"active\":1}",
         "2023-10-12T15:55:37.269+0000"
        ],
        [
         "6c227133-6865-45b0-9468-001ffb4d9323",
         "{\"customer_id\":108,\"store_id\":1,\"first_name\":\"Tracy\",\"last_name\":\"Cole\",\"email\":\"tracy.cole@sakilacustomer.org\",\"address_id\":112,\"activebool\":true,\"create_date\":\"2006-02-14\",\"last_update\":\"2013-05-26T14:49:45.738\",\"active\":1}",
         "2023-10-12T15:55:37.269+0000"
        ],
        [
         "468f76b6-d042-481d-8604-f76f4e2c7599",
         "{\"customer_id\":109,\"store_id\":2,\"first_name\":\"Edna\",\"last_name\":\"West\",\"email\":\"edna.west@sakilacustomer.org\",\"address_id\":113,\"activebool\":true,\"create_date\":\"2006-02-14\",\"last_update\":\"2013-05-26T14:49:45.738\",\"active\":1}",
         "2023-10-12T15:55:37.269+0000"
        ],
        [
         "88747937-c8bc-4975-9e4d-1dd4c431158a",
         "{\"customer_id\":110,\"store_id\":2,\"first_name\":\"Tiffany\",\"last_name\":\"Jordan\",\"email\":\"tiffany.jordan@sakilacustomer.org\",\"address_id\":114,\"activebool\":true,\"create_date\":\"2006-02-14\",\"last_update\":\"2013-05-26T14:49:45.738\",\"active\":1}",
         "2023-10-12T15:55:37.269+0000"
        ],
        [
         "c649616b-77a0-48fa-afd6-49b53006493f",
         "{\"customer_id\":111,\"store_id\":1,\"first_name\":\"Carmen\",\"last_name\":\"Owens\",\"email\":\"carmen.owens@sakilacustomer.org\",\"address_id\":115,\"activebool\":true,\"create_date\":\"2006-02-14\",\"last_update\":\"2013-05-26T14:49:45.738\",\"active\":1}",
         "2023-10-12T15:55:37.269+0000"
        ],
        [
         "253f0525-d2c5-4937-84c7-ad0fd932ea7e",
         "{\"customer_id\":112,\"store_id\":2,\"first_name\":\"Rosa\",\"last_name\":\"Reynolds\",\"email\":\"rosa.reynolds@sakilacustomer.org\",\"address_id\":116,\"activebool\":true,\"create_date\":\"2006-02-14\",\"last_update\":\"2013-05-26T14:49:45.738\",\"active\":1}",
         "2023-10-12T15:55:37.269+0000"
        ],
        [
         "e560da46-532a-4495-a244-b00f8b92381b",
         "{\"customer_id\":113,\"store_id\":2,\"first_name\":\"Cindy\",\"last_name\":\"Fisher\",\"email\":\"cindy.fisher@sakilacustomer.org\",\"address_id\":117,\"activebool\":true,\"create_date\":\"2006-02-14\",\"last_update\":\"2013-05-26T14:49:45.738\",\"active\":1}",
         "2023-10-12T15:55:37.269+0000"
        ],
        [
         "d0322495-9e30-4da8-990e-0dfb0485b19f",
         "{\"customer_id\":114,\"store_id\":2,\"first_name\":\"Grace\",\"last_name\":\"Ellis\",\"email\":\"grace.ellis@sakilacustomer.org\",\"address_id\":118,\"activebool\":true,\"create_date\":\"2006-02-14\",\"last_update\":\"2013-05-26T14:49:45.738\",\"active\":1}",
         "2023-10-12T15:55:37.269+0000"
        ],
        [
         "b60f34de-0734-4c00-a1e8-facbba5d6854",
         "{\"customer_id\":115,\"store_id\":1,\"first_name\":\"Wendy\",\"last_name\":\"Harrison\",\"email\":\"wendy.harrison@sakilacustomer.org\",\"address_id\":119,\"activebool\":true,\"create_date\":\"2006-02-14\",\"last_update\":\"2013-05-26T14:49:45.738\",\"active\":1}",
         "2023-10-12T15:55:37.269+0000"
        ],
        [
         "684563ae-8de8-4274-a776-06fe92c36742",
         "{\"customer_id\":116,\"store_id\":1,\"first_name\":\"Victoria\",\"last_name\":\"Gibson\",\"email\":\"victoria.gibson@sakilacustomer.org\",\"address_id\":120,\"activebool\":true,\"create_date\":\"2006-02-14\",\"last_update\":\"2013-05-26T14:49:45.738\",\"active\":1}",
         "2023-10-12T15:55:37.269+0000"
        ],
        [
         "a203411d-95fc-4c7b-ab75-50b7fc036a06",
         "{\"customer_id\":117,\"store_id\":1,\"first_name\":\"Edith\",\"last_name\":\"Mcdonald\",\"email\":\"edith.mcdonald@sakilacustomer.org\",\"address_id\":121,\"activebool\":true,\"create_date\":\"2006-02-14\",\"last_update\":\"2013-05-26T14:49:45.738\",\"active\":1}",
         "2023-10-12T15:55:37.269+0000"
        ],
        [
         "59684c50-d05c-4603-900b-6114407d98cf",
         "{\"customer_id\":118,\"store_id\":1,\"first_name\":\"Kim\",\"last_name\":\"Cruz\",\"email\":\"kim.cruz@sakilacustomer.org\",\"address_id\":122,\"activebool\":true,\"create_date\":\"2006-02-14\",\"last_update\":\"2013-05-26T14:49:45.738\",\"active\":1}",
         "2023-10-12T15:55:37.269+0000"
        ],
        [
         "cd214c91-9160-459c-bef8-400915e63801",
         "{\"customer_id\":119,\"store_id\":1,\"first_name\":\"Sherry\",\"last_name\":\"Marshall\",\"email\":\"sherry.marshall@sakilacustomer.org\",\"address_id\":123,\"activebool\":true,\"create_date\":\"2006-02-14\",\"last_update\":\"2013-05-26T14:49:45.738\",\"active\":1}",
         "2023-10-12T15:55:37.269+0000"
        ],
        [
         "b425411e-59fe-4131-a4a0-b0693f833b54",
         "{\"customer_id\":120,\"store_id\":2,\"first_name\":\"Sylvia\",\"last_name\":\"Ortiz\",\"email\":\"sylvia.ortiz@sakilacustomer.org\",\"address_id\":124,\"activebool\":true,\"create_date\":\"2006-02-14\",\"last_update\":\"2013-05-26T14:49:45.738\",\"active\":1}",
         "2023-10-12T15:55:37.269+0000"
        ],
        [
         "bab1e76e-7688-4eb2-bd38-025d16cbc26b",
         "{\"customer_id\":121,\"store_id\":1,\"first_name\":\"Josephine\",\"last_name\":\"Gomez\",\"email\":\"josephine.gomez@sakilacustomer.org\",\"address_id\":125,\"activebool\":true,\"create_date\":\"2006-02-14\",\"last_update\":\"2013-05-26T14:49:45.738\",\"active\":1}",
         "2023-10-12T15:55:37.269+0000"
        ],
        [
         "20ffa5c3-21f6-403f-b1fd-9d7cd510a8b7",
         "{\"customer_id\":122,\"store_id\":1,\"first_name\":\"Thelma\",\"last_name\":\"Murray\",\"email\":\"thelma.murray@sakilacustomer.org\",\"address_id\":126,\"activebool\":true,\"create_date\":\"2006-02-14\",\"last_update\":\"2013-05-26T14:49:45.738\",\"active\":1}",
         "2023-10-12T15:55:37.269+0000"
        ],
        [
         "1fff5011-a992-454c-ac56-be38d3601a33",
         "{\"customer_id\":123,\"store_id\":2,\"first_name\":\"Shannon\",\"last_name\":\"Freeman\",\"email\":\"shannon.freeman@sakilacustomer.org\",\"address_id\":127,\"activebool\":true,\"create_date\":\"2006-02-14\",\"last_update\":\"2013-05-26T14:49:45.738\",\"active\":1}",
         "2023-10-12T15:55:37.269+0000"
        ],
        [
         "c32721d0-dd19-43ca-8fb7-617fd2771f9e",
         "{\"customer_id\":124,\"store_id\":1,\"first_name\":\"Sheila\",\"last_name\":\"Wells\",\"email\":\"sheila.wells@sakilacustomer.org\",\"address_id\":128,\"activebool\":true,\"create_date\":\"2006-02-14\",\"last_update\":\"2013-05-26T14:49:45.738\",\"active\":0}",
         "2023-10-12T15:55:37.269+0000"
        ],
        [
         "5772d193-f4ae-49aa-b1eb-5f83a32c7bcc",
         "{\"customer_id\":125,\"store_id\":1,\"first_name\":\"Ethel\",\"last_name\":\"Webb\",\"email\":\"ethel.webb@sakilacustomer.org\",\"address_id\":129,\"activebool\":true,\"create_date\":\"2006-02-14\",\"last_update\":\"2013-05-26T14:49:45.738\",\"active\":1}",
         "2023-10-12T15:55:37.269+0000"
        ],
        [
         "e04d3bee-e5d0-4f0b-97a4-7a1948e35fde",
         "{\"customer_id\":126,\"store_id\":1,\"first_name\":\"Ellen\",\"last_name\":\"Simpson\",\"email\":\"ellen.simpson@sakilacustomer.org\",\"address_id\":130,\"activebool\":true,\"create_date\":\"2006-02-14\",\"last_update\":\"2013-05-26T14:49:45.738\",\"active\":1}",
         "2023-10-12T15:55:37.269+0000"
        ],
        [
         "3396db4d-0f1e-41b9-8c8f-7b3148874c74",
         "{\"customer_id\":127,\"store_id\":2,\"first_name\":\"Elaine\",\"last_name\":\"Stevens\",\"email\":\"elaine.stevens@sakilacustomer.org\",\"address_id\":131,\"activebool\":true,\"create_date\":\"2006-02-14\",\"last_update\":\"2013-05-26T14:49:45.738\",\"active\":1}",
         "2023-10-12T15:55:37.269+0000"
        ],
        [
         "9228bd5b-52b4-46f3-8a38-1d7969cf5b2c",
         "{\"customer_id\":128,\"store_id\":1,\"first_name\":\"Marjorie\",\"last_name\":\"Tucker\",\"email\":\"marjorie.tucker@sakilacustomer.org\",\"address_id\":132,\"activebool\":true,\"create_date\":\"2006-02-14\",\"last_update\":\"2013-05-26T14:49:45.738\",\"active\":1}",
         "2023-10-12T15:55:37.269+0000"
        ],
        [
         "7e0593bc-f84a-46f7-a150-4ad1ee5cd01b",
         "{\"customer_id\":129,\"store_id\":1,\"first_name\":\"Carrie\",\"last_name\":\"Porter\",\"email\":\"carrie.porter@sakilacustomer.org\",\"address_id\":133,\"activebool\":true,\"create_date\":\"2006-02-14\",\"last_update\":\"2013-05-26T14:49:45.738\",\"active\":1}",
         "2023-10-12T15:55:37.269+0000"
        ],
        [
         "3128d572-e5e1-42b3-b778-71c56a43a5ab",
         "{\"customer_id\":130,\"store_id\":1,\"first_name\":\"Charlotte\",\"last_name\":\"Hunter\",\"email\":\"charlotte.hunter@sakilacustomer.org\",\"address_id\":134,\"activebool\":true,\"create_date\":\"2006-02-14\",\"last_update\":\"2013-05-26T14:49:45.738\",\"active\":1}",
         "2023-10-12T15:55:37.269+0000"
        ],
        [
         "6f324642-5b83-486f-8eba-cdf83ad813d7",
         "{\"customer_id\":131,\"store_id\":2,\"first_name\":\"Monica\",\"last_name\":\"Hicks\",\"email\":\"monica.hicks@sakilacustomer.org\",\"address_id\":135,\"activebool\":true,\"create_date\":\"2006-02-14\",\"last_update\":\"2013-05-26T14:49:45.738\",\"active\":1}",
         "2023-10-12T15:55:37.269+0000"
        ],
        [
         "7d661484-6ec5-4a27-8c3e-26bf661eee63",
         "{\"customer_id\":132,\"store_id\":2,\"first_name\":\"Esther\",\"last_name\":\"Crawford\",\"email\":\"esther.crawford@sakilacustomer.org\",\"address_id\":136,\"activebool\":true,\"create_date\":\"2006-02-14\",\"last_update\":\"2013-05-26T14:49:45.738\",\"active\":1}",
         "2023-10-12T15:55:37.269+0000"
        ],
        [
         "1f40c208-2186-43a1-83b5-b486c308afe2",
         "{\"customer_id\":133,\"store_id\":1,\"first_name\":\"Pauline\",\"last_name\":\"Henry\",\"email\":\"pauline.henry@sakilacustomer.org\",\"address_id\":137,\"activebool\":true,\"create_date\":\"2006-02-14\",\"last_update\":\"2013-05-26T14:49:45.738\",\"active\":1}",
         "2023-10-12T15:55:37.269+0000"
        ],
        [
         "847446d5-206b-4d4c-a592-d055f25cddd2",
         "{\"customer_id\":134,\"store_id\":1,\"first_name\":\"Emma\",\"last_name\":\"Boyd\",\"email\":\"emma.boyd@sakilacustomer.org\",\"address_id\":138,\"activebool\":true,\"create_date\":\"2006-02-14\",\"last_update\":\"2013-05-26T14:49:45.738\",\"active\":1}",
         "2023-10-12T15:55:37.269+0000"
        ],
        [
         "7b93e887-5f41-4523-ab02-213593defa80",
         "{\"customer_id\":135,\"store_id\":2,\"first_name\":\"Juanita\",\"last_name\":\"Mason\",\"email\":\"juanita.mason@sakilacustomer.org\",\"address_id\":139,\"activebool\":true,\"create_date\":\"2006-02-14\",\"last_update\":\"2013-05-26T14:49:45.738\",\"active\":1}",
         "2023-10-12T15:55:37.269+0000"
        ],
        [
         "64f84d3b-228d-4e78-807d-e852f23e511e",
         "{\"customer_id\":136,\"store_id\":2,\"first_name\":\"Anita\",\"last_name\":\"Morales\",\"email\":\"anita.morales@sakilacustomer.org\",\"address_id\":140,\"activebool\":true,\"create_date\":\"2006-02-14\",\"last_update\":\"2013-05-26T14:49:45.738\",\"active\":1}",
         "2023-10-12T15:55:37.269+0000"
        ],
        [
         "6c25a49a-6c87-4081-8f6b-847a52b3d2db",
         "{\"customer_id\":137,\"store_id\":2,\"first_name\":\"Rhonda\",\"last_name\":\"Kennedy\",\"email\":\"rhonda.kennedy@sakilacustomer.org\",\"address_id\":141,\"activebool\":true,\"create_date\":\"2006-02-14\",\"last_update\":\"2013-05-26T14:49:45.738\",\"active\":1}",
         "2023-10-12T15:55:37.269+0000"
        ],
        [
         "7b38f48d-6c1d-44e5-b616-1b8abfd16e54",
         "{\"customer_id\":138,\"store_id\":1,\"first_name\":\"Hazel\",\"last_name\":\"Warren\",\"email\":\"hazel.warren@sakilacustomer.org\",\"address_id\":142,\"activebool\":true,\"create_date\":\"2006-02-14\",\"last_update\":\"2013-05-26T14:49:45.738\",\"active\":1}",
         "2023-10-12T15:55:37.269+0000"
        ],
        [
         "81ea0ba0-848a-41e4-8aa2-24b17298d6e3",
         "{\"customer_id\":139,\"store_id\":1,\"first_name\":\"Amber\",\"last_name\":\"Dixon\",\"email\":\"amber.dixon@sakilacustomer.org\",\"address_id\":143,\"activebool\":true,\"create_date\":\"2006-02-14\",\"last_update\":\"2013-05-26T14:49:45.738\",\"active\":1}",
         "2023-10-12T15:55:37.269+0000"
        ],
        [
         "eb9356c7-4c0f-435c-b0a9-21d97c264ed1",
         "{\"customer_id\":140,\"store_id\":1,\"first_name\":\"Eva\",\"last_name\":\"Ramos\",\"email\":\"eva.ramos@sakilacustomer.org\",\"address_id\":144,\"activebool\":true,\"create_date\":\"2006-02-14\",\"last_update\":\"2013-05-26T14:49:45.738\",\"active\":1}",
         "2023-10-12T15:55:37.269+0000"
        ],
        [
         "94cd7ece-25da-41c8-8517-75ddd72636f6",
         "{\"customer_id\":141,\"store_id\":1,\"first_name\":\"Debbie\",\"last_name\":\"Reyes\",\"email\":\"debbie.reyes@sakilacustomer.org\",\"address_id\":145,\"activebool\":true,\"create_date\":\"2006-02-14\",\"last_update\":\"2013-05-26T14:49:45.738\",\"active\":1}",
         "2023-10-12T15:55:37.269+0000"
        ],
        [
         "40b8990b-d96f-48d0-a02d-94494fcfab05",
         "{\"customer_id\":142,\"store_id\":1,\"first_name\":\"April\",\"last_name\":\"Burns\",\"email\":\"april.burns@sakilacustomer.org\",\"address_id\":146,\"activebool\":true,\"create_date\":\"2006-02-14\",\"last_update\":\"2013-05-26T14:49:45.738\",\"active\":1}",
         "2023-10-12T15:55:37.269+0000"
        ],
        [
         "e6176d5b-6a9d-4fe6-9683-57eef177b7d9",
         "{\"customer_id\":143,\"store_id\":1,\"first_name\":\"Leslie\",\"last_name\":\"Gordon\",\"email\":\"leslie.gordon@sakilacustomer.org\",\"address_id\":147,\"activebool\":true,\"create_date\":\"2006-02-14\",\"last_update\":\"2013-05-26T14:49:45.738\",\"active\":1}",
         "2023-10-12T15:55:37.269+0000"
        ],
        [
         "4e0f6bb4-6b66-4883-86ff-9e1b459ea633",
         "{\"customer_id\":144,\"store_id\":1,\"first_name\":\"Clara\",\"last_name\":\"Shaw\",\"email\":\"clara.shaw@sakilacustomer.org\",\"address_id\":148,\"activebool\":true,\"create_date\":\"2006-02-14\",\"last_update\":\"2013-05-26T14:49:45.738\",\"active\":1}",
         "2023-10-12T15:55:37.269+0000"
        ],
        [
         "c848f730-a48d-4595-96f1-3f3a4e168fce",
         "{\"customer_id\":145,\"store_id\":1,\"first_name\":\"Lucille\",\"last_name\":\"Holmes\",\"email\":\"lucille.holmes@sakilacustomer.org\",\"address_id\":149,\"activebool\":true,\"create_date\":\"2006-02-14\",\"last_update\":\"2013-05-26T14:49:45.738\",\"active\":1}",
         "2023-10-12T15:55:37.269+0000"
        ],
        [
         "bc979f65-c8f6-48b1-a934-72200b33c696",
         "{\"customer_id\":146,\"store_id\":1,\"first_name\":\"Jamie\",\"last_name\":\"Rice\",\"email\":\"jamie.rice@sakilacustomer.org\",\"address_id\":150,\"activebool\":true,\"create_date\":\"2006-02-14\",\"last_update\":\"2013-05-26T14:49:45.738\",\"active\":1}",
         "2023-10-12T15:55:37.269+0000"
        ],
        [
         "5313cc0a-459e-4dfa-b0b6-1a80a2694638",
         "{\"customer_id\":147,\"store_id\":2,\"first_name\":\"Joanne\",\"last_name\":\"Robertson\",\"email\":\"joanne.robertson@sakilacustomer.org\",\"address_id\":151,\"activebool\":true,\"create_date\":\"2006-02-14\",\"last_update\":\"2013-05-26T14:49:45.738\",\"active\":1}",
         "2023-10-12T15:55:37.269+0000"
        ],
        [
         "c067162d-32a4-4cab-b33f-7f06598f71ea",
         "{\"customer_id\":148,\"store_id\":1,\"first_name\":\"Eleanor\",\"last_name\":\"Hunt\",\"email\":\"eleanor.hunt@sakilacustomer.org\",\"address_id\":152,\"activebool\":true,\"create_date\":\"2006-02-14\",\"last_update\":\"2013-05-26T14:49:45.738\",\"active\":1}",
         "2023-10-12T15:55:37.269+0000"
        ],
        [
         "97db65fb-2efe-43dd-bf82-0a54949f2c39",
         "{\"customer_id\":149,\"store_id\":1,\"first_name\":\"Valerie\",\"last_name\":\"Black\",\"email\":\"valerie.black@sakilacustomer.org\",\"address_id\":153,\"activebool\":true,\"create_date\":\"2006-02-14\",\"last_update\":\"2013-05-26T14:49:45.738\",\"active\":1}",
         "2023-10-12T15:55:37.269+0000"
        ],
        [
         "31136acb-5276-4ba4-80ea-be93945e900b",
         "{\"customer_id\":150,\"store_id\":2,\"first_name\":\"Danielle\",\"last_name\":\"Daniels\",\"email\":\"danielle.daniels@sakilacustomer.org\",\"address_id\":154,\"activebool\":true,\"create_date\":\"2006-02-14\",\"last_update\":\"2013-05-26T14:49:45.738\",\"active\":1}",
         "2023-10-12T15:55:37.269+0000"
        ],
        [
         "8fa84176-6bfa-4f69-a0f0-8f9cde083d53",
         "{\"customer_id\":151,\"store_id\":2,\"first_name\":\"Megan\",\"last_name\":\"Palmer\",\"email\":\"megan.palmer@sakilacustomer.org\",\"address_id\":155,\"activebool\":true,\"create_date\":\"2006-02-14\",\"last_update\":\"2013-05-26T14:49:45.738\",\"active\":1}",
         "2023-10-12T15:55:37.269+0000"
        ],
        [
         "d45cadf3-adea-4c3f-80b4-29a0b97f4ef0",
         "{\"customer_id\":152,\"store_id\":1,\"first_name\":\"Alicia\",\"last_name\":\"Mills\",\"email\":\"alicia.mills@sakilacustomer.org\",\"address_id\":156,\"activebool\":true,\"create_date\":\"2006-02-14\",\"last_update\":\"2013-05-26T14:49:45.738\",\"active\":1}",
         "2023-10-12T15:55:37.269+0000"
        ],
        [
         "1f111977-cb8e-4b19-99f5-49adebba766c",
         "{\"customer_id\":153,\"store_id\":2,\"first_name\":\"Suzanne\",\"last_name\":\"Nichols\",\"email\":\"suzanne.nichols@sakilacustomer.org\",\"address_id\":157,\"activebool\":true,\"create_date\":\"2006-02-14\",\"last_update\":\"2013-05-26T14:49:45.738\",\"active\":1}",
         "2023-10-12T15:55:37.269+0000"
        ],
        [
         "c81e4b05-430b-4a55-bc89-d43e007a750f",
         "{\"customer_id\":154,\"store_id\":2,\"first_name\":\"Michele\",\"last_name\":\"Grant\",\"email\":\"michele.grant@sakilacustomer.org\",\"address_id\":158,\"activebool\":true,\"create_date\":\"2006-02-14\",\"last_update\":\"2013-05-26T14:49:45.738\",\"active\":1}",
         "2023-10-12T15:55:37.269+0000"
        ],
        [
         "1c4407ac-e838-4dc3-bad1-833f70a06807",
         "{\"customer_id\":155,\"store_id\":1,\"first_name\":\"Gail\",\"last_name\":\"Knight\",\"email\":\"gail.knight@sakilacustomer.org\",\"address_id\":159,\"activebool\":true,\"create_date\":\"2006-02-14\",\"last_update\":\"2013-05-26T14:49:45.738\",\"active\":1}",
         "2023-10-12T15:55:37.269+0000"
        ],
        [
         "1051f3d4-8280-46ad-acbe-3f140584b192",
         "{\"customer_id\":156,\"store_id\":1,\"first_name\":\"Bertha\",\"last_name\":\"Ferguson\",\"email\":\"bertha.ferguson@sakilacustomer.org\",\"address_id\":160,\"activebool\":true,\"create_date\":\"2006-02-14\",\"last_update\":\"2013-05-26T14:49:45.738\",\"active\":1}",
         "2023-10-12T15:55:37.269+0000"
        ],
        [
         "c0238a3f-f5ff-44a3-bc78-9283b2f66a42",
         "{\"customer_id\":157,\"store_id\":2,\"first_name\":\"Darlene\",\"last_name\":\"Rose\",\"email\":\"darlene.rose@sakilacustomer.org\",\"address_id\":161,\"activebool\":true,\"create_date\":\"2006-02-14\",\"last_update\":\"2013-05-26T14:49:45.738\",\"active\":1}",
         "2023-10-12T15:55:37.269+0000"
        ],
        [
         "8f0c2343-6683-48f0-969b-8467e73a1088",
         "{\"customer_id\":158,\"store_id\":1,\"first_name\":\"Veronica\",\"last_name\":\"Stone\",\"email\":\"veronica.stone@sakilacustomer.org\",\"address_id\":162,\"activebool\":true,\"create_date\":\"2006-02-14\",\"last_update\":\"2013-05-26T14:49:45.738\",\"active\":1}",
         "2023-10-12T15:55:37.269+0000"
        ],
        [
         "f97d0e3c-0de0-4d10-b9e4-814fc791a061",
         "{\"customer_id\":159,\"store_id\":1,\"first_name\":\"Jill\",\"last_name\":\"Hawkins\",\"email\":\"jill.hawkins@sakilacustomer.org\",\"address_id\":163,\"activebool\":true,\"create_date\":\"2006-02-14\",\"last_update\":\"2013-05-26T14:49:45.738\",\"active\":1}",
         "2023-10-12T15:55:37.269+0000"
        ],
        [
         "67f2233f-de52-417e-ada8-5d0f58b37082",
         "{\"customer_id\":160,\"store_id\":2,\"first_name\":\"Erin\",\"last_name\":\"Dunn\",\"email\":\"erin.dunn@sakilacustomer.org\",\"address_id\":164,\"activebool\":true,\"create_date\":\"2006-02-14\",\"last_update\":\"2013-05-26T14:49:45.738\",\"active\":1}",
         "2023-10-12T15:55:37.269+0000"
        ],
        [
         "f2779a12-2368-42b9-9906-659ac7f6e4e7",
         "{\"customer_id\":161,\"store_id\":1,\"first_name\":\"Geraldine\",\"last_name\":\"Perkins\",\"email\":\"geraldine.perkins@sakilacustomer.org\",\"address_id\":165,\"activebool\":true,\"create_date\":\"2006-02-14\",\"last_update\":\"2013-05-26T14:49:45.738\",\"active\":1}",
         "2023-10-12T15:55:37.269+0000"
        ],
        [
         "911f26fc-b31c-41a5-8842-09673fd31463",
         "{\"customer_id\":162,\"store_id\":2,\"first_name\":\"Lauren\",\"last_name\":\"Hudson\",\"email\":\"lauren.hudson@sakilacustomer.org\",\"address_id\":166,\"activebool\":true,\"create_date\":\"2006-02-14\",\"last_update\":\"2013-05-26T14:49:45.738\",\"active\":1}",
         "2023-10-12T15:55:37.269+0000"
        ],
        [
         "8338032e-1329-417f-8727-ea5ba77a3dac",
         "{\"customer_id\":163,\"store_id\":1,\"first_name\":\"Cathy\",\"last_name\":\"Spencer\",\"email\":\"cathy.spencer@sakilacustomer.org\",\"address_id\":167,\"activebool\":true,\"create_date\":\"2006-02-14\",\"last_update\":\"2013-05-26T14:49:45.738\",\"active\":1}",
         "2023-10-12T15:55:37.269+0000"
        ],
        [
         "87bc886d-9469-4421-9cde-75cd13095260",
         "{\"customer_id\":164,\"store_id\":2,\"first_name\":\"Joann\",\"last_name\":\"Gardner\",\"email\":\"joann.gardner@sakilacustomer.org\",\"address_id\":168,\"activebool\":true,\"create_date\":\"2006-02-14\",\"last_update\":\"2013-05-26T14:49:45.738\",\"active\":1}",
         "2023-10-12T15:55:37.269+0000"
        ],
        [
         "c8347ec1-c89c-483d-b8f4-8eeac2a77bfb",
         "{\"customer_id\":165,\"store_id\":2,\"first_name\":\"Lorraine\",\"last_name\":\"Stephens\",\"email\":\"lorraine.stephens@sakilacustomer.org\",\"address_id\":169,\"activebool\":true,\"create_date\":\"2006-02-14\",\"last_update\":\"2013-05-26T14:49:45.738\",\"active\":1}",
         "2023-10-12T15:55:37.269+0000"
        ],
        [
         "65c69430-7311-4ebc-8ecf-d9e6c764c8af",
         "{\"customer_id\":166,\"store_id\":1,\"first_name\":\"Lynn\",\"last_name\":\"Payne\",\"email\":\"lynn.payne@sakilacustomer.org\",\"address_id\":170,\"activebool\":true,\"create_date\":\"2006-02-14\",\"last_update\":\"2013-05-26T14:49:45.738\",\"active\":1}",
         "2023-10-12T15:55:37.269+0000"
        ],
        [
         "e46a70db-0f3f-4bce-8b88-15d161e3c792",
         "{\"customer_id\":167,\"store_id\":2,\"first_name\":\"Sally\",\"last_name\":\"Pierce\",\"email\":\"sally.pierce@sakilacustomer.org\",\"address_id\":171,\"activebool\":true,\"create_date\":\"2006-02-14\",\"last_update\":\"2013-05-26T14:49:45.738\",\"active\":1}",
         "2023-10-12T15:55:37.269+0000"
        ],
        [
         "dd62981f-4f80-4773-8001-f2ed32cebfed",
         "{\"customer_id\":168,\"store_id\":1,\"first_name\":\"Regina\",\"last_name\":\"Berry\",\"email\":\"regina.berry@sakilacustomer.org\",\"address_id\":172,\"activebool\":true,\"create_date\":\"2006-02-14\",\"last_update\":\"2013-05-26T14:49:45.738\",\"active\":1}",
         "2023-10-12T15:55:37.269+0000"
        ],
        [
         "fbb6b4fd-ffc8-4d35-9fcd-937b6fddc869",
         "{\"customer_id\":169,\"store_id\":2,\"first_name\":\"Erica\",\"last_name\":\"Matthews\",\"email\":\"erica.matthews@sakilacustomer.org\",\"address_id\":173,\"activebool\":true,\"create_date\":\"2006-02-14\",\"last_update\":\"2013-05-26T14:49:45.738\",\"active\":0}",
         "2023-10-12T15:55:37.269+0000"
        ],
        [
         "982f62e2-7bfe-4c2b-8fa4-79af34c2ed63",
         "{\"customer_id\":170,\"store_id\":1,\"first_name\":\"Beatrice\",\"last_name\":\"Arnold\",\"email\":\"beatrice.arnold@sakilacustomer.org\",\"address_id\":174,\"activebool\":true,\"create_date\":\"2006-02-14\",\"last_update\":\"2013-05-26T14:49:45.738\",\"active\":1}",
         "2023-10-12T15:55:37.269+0000"
        ],
        [
         "801e5f20-b8f3-4c18-befd-6e2670005925",
         "{\"customer_id\":171,\"store_id\":2,\"first_name\":\"Dolores\",\"last_name\":\"Wagner\",\"email\":\"dolores.wagner@sakilacustomer.org\",\"address_id\":175,\"activebool\":true,\"create_date\":\"2006-02-14\",\"last_update\":\"2013-05-26T14:49:45.738\",\"active\":1}",
         "2023-10-12T15:55:37.269+0000"
        ],
        [
         "d26e585b-ab8a-4f6e-996c-c10c6a3fab27",
         "{\"customer_id\":172,\"store_id\":1,\"first_name\":\"Bernice\",\"last_name\":\"Willis\",\"email\":\"bernice.willis@sakilacustomer.org\",\"address_id\":176,\"activebool\":true,\"create_date\":\"2006-02-14\",\"last_update\":\"2013-05-26T14:49:45.738\",\"active\":1}",
         "2023-10-12T15:55:37.269+0000"
        ],
        [
         "8e1beca7-955b-4af4-bd25-a52ff164af1a",
         "{\"customer_id\":173,\"store_id\":1,\"first_name\":\"Audrey\",\"last_name\":\"Ray\",\"email\":\"audrey.ray@sakilacustomer.org\",\"address_id\":177,\"activebool\":true,\"create_date\":\"2006-02-14\",\"last_update\":\"2013-05-26T14:49:45.738\",\"active\":1}",
         "2023-10-12T15:55:37.269+0000"
        ],
        [
         "5ecc7c85-6104-4918-ab88-266ae390ff70",
         "{\"customer_id\":174,\"store_id\":2,\"first_name\":\"Yvonne\",\"last_name\":\"Watkins\",\"email\":\"yvonne.watkins@sakilacustomer.org\",\"address_id\":178,\"activebool\":true,\"create_date\":\"2006-02-14\",\"last_update\":\"2013-05-26T14:49:45.738\",\"active\":1}",
         "2023-10-12T15:55:37.269+0000"
        ],
        [
         "1d6f108b-dd11-4ae6-a980-548284f0c86e",
         "{\"customer_id\":175,\"store_id\":1,\"first_name\":\"Annette\",\"last_name\":\"Olson\",\"email\":\"annette.olson@sakilacustomer.org\",\"address_id\":179,\"activebool\":true,\"create_date\":\"2006-02-14\",\"last_update\":\"2013-05-26T14:49:45.738\",\"active\":1}",
         "2023-10-12T15:55:37.269+0000"
        ],
        [
         "457c695a-55b5-4578-b385-8cc72c7dbcaa",
         "{\"customer_id\":176,\"store_id\":1,\"first_name\":\"June\",\"last_name\":\"Carroll\",\"email\":\"june.carroll@sakilacustomer.org\",\"address_id\":180,\"activebool\":true,\"create_date\":\"2006-02-14\",\"last_update\":\"2013-05-26T14:49:45.738\",\"active\":1}",
         "2023-10-12T15:55:37.269+0000"
        ],
        [
         "b28fbc3b-6b02-41dc-b298-0fbda5e80d05",
         "{\"customer_id\":177,\"store_id\":2,\"first_name\":\"Samantha\",\"last_name\":\"Duncan\",\"email\":\"samantha.duncan@sakilacustomer.org\",\"address_id\":181,\"activebool\":true,\"create_date\":\"2006-02-14\",\"last_update\":\"2013-05-26T14:49:45.738\",\"active\":1}",
         "2023-10-12T15:55:37.269+0000"
        ],
        [
         "dfaec8ac-42d5-4e94-83a9-cea96afa86f1",
         "{\"customer_id\":178,\"store_id\":2,\"first_name\":\"Marion\",\"last_name\":\"Snyder\",\"email\":\"marion.snyder@sakilacustomer.org\",\"address_id\":182,\"activebool\":true,\"create_date\":\"2006-02-14\",\"last_update\":\"2013-05-26T14:49:45.738\",\"active\":1}",
         "2023-10-12T15:55:37.269+0000"
        ],
        [
         "6efeadae-27c4-4042-933f-fefb1745083b",
         "{\"customer_id\":179,\"store_id\":1,\"first_name\":\"Dana\",\"last_name\":\"Hart\",\"email\":\"dana.hart@sakilacustomer.org\",\"address_id\":183,\"activebool\":true,\"create_date\":\"2006-02-14\",\"last_update\":\"2013-05-26T14:49:45.738\",\"active\":1}",
         "2023-10-12T15:55:37.269+0000"
        ],
        [
         "7bb59e52-7811-4232-adc6-c04f2ae4ec61",
         "{\"customer_id\":180,\"store_id\":2,\"first_name\":\"Stacy\",\"last_name\":\"Cunningham\",\"email\":\"stacy.cunningham@sakilacustomer.org\",\"address_id\":184,\"activebool\":true,\"create_date\":\"2006-02-14\",\"last_update\":\"2013-05-26T14:49:45.738\",\"active\":1}",
         "2023-10-12T15:55:37.269+0000"
        ],
        [
         "7a6f9f02-63ff-43f4-894c-4370cceae6fa",
         "{\"customer_id\":181,\"store_id\":2,\"first_name\":\"Ana\",\"last_name\":\"Bradley\",\"email\":\"ana.bradley@sakilacustomer.org\",\"address_id\":185,\"activebool\":true,\"create_date\":\"2006-02-14\",\"last_update\":\"2013-05-26T14:49:45.738\",\"active\":1}",
         "2023-10-12T15:55:37.269+0000"
        ],
        [
         "0ddc890b-c084-467e-a0bd-b4ed273f6552",
         "{\"customer_id\":182,\"store_id\":1,\"first_name\":\"Renee\",\"last_name\":\"Lane\",\"email\":\"renee.lane@sakilacustomer.org\",\"address_id\":186,\"activebool\":true,\"create_date\":\"2006-02-14\",\"last_update\":\"2013-05-26T14:49:45.738\",\"active\":1}",
         "2023-10-12T15:55:37.269+0000"
        ],
        [
         "ae31d256-a449-418b-af62-a9c15505417c",
         "{\"customer_id\":183,\"store_id\":2,\"first_name\":\"Ida\",\"last_name\":\"Andrews\",\"email\":\"ida.andrews@sakilacustomer.org\",\"address_id\":187,\"activebool\":true,\"create_date\":\"2006-02-14\",\"last_update\":\"2013-05-26T14:49:45.738\",\"active\":1}",
         "2023-10-12T15:55:37.269+0000"
        ],
        [
         "db2a085f-16a6-4bf2-9844-003f6e3dbb3b",
         "{\"customer_id\":184,\"store_id\":1,\"first_name\":\"Vivian\",\"last_name\":\"Ruiz\",\"email\":\"vivian.ruiz@sakilacustomer.org\",\"address_id\":188,\"activebool\":true,\"create_date\":\"2006-02-14\",\"last_update\":\"2013-05-26T14:49:45.738\",\"active\":1}",
         "2023-10-12T15:55:37.269+0000"
        ],
        [
         "342e9a3b-5fd9-49dc-97fb-b1e51432c5fc",
         "{\"customer_id\":185,\"store_id\":1,\"first_name\":\"Roberta\",\"last_name\":\"Harper\",\"email\":\"roberta.harper@sakilacustomer.org\",\"address_id\":189,\"activebool\":true,\"create_date\":\"2006-02-14\",\"last_update\":\"2013-05-26T14:49:45.738\",\"active\":1}",
         "2023-10-12T15:55:37.269+0000"
        ],
        [
         "a6e9a13c-7908-4756-b6ae-25362a5f1f0e",
         "{\"customer_id\":186,\"store_id\":2,\"first_name\":\"Holly\",\"last_name\":\"Fox\",\"email\":\"holly.fox@sakilacustomer.org\",\"address_id\":190,\"activebool\":true,\"create_date\":\"2006-02-14\",\"last_update\":\"2013-05-26T14:49:45.738\",\"active\":1}",
         "2023-10-12T15:55:37.269+0000"
        ],
        [
         "d16fe77c-f995-4024-a2c0-1b8a62afcabd",
         "{\"customer_id\":187,\"store_id\":2,\"first_name\":\"Brittany\",\"last_name\":\"Riley\",\"email\":\"brittany.riley@sakilacustomer.org\",\"address_id\":191,\"activebool\":true,\"create_date\":\"2006-02-14\",\"last_update\":\"2013-05-26T14:49:45.738\",\"active\":1}",
         "2023-10-12T15:55:37.269+0000"
        ],
        [
         "2b8762c1-3f30-4b35-b63d-5f49d6f00bc7",
         "{\"customer_id\":188,\"store_id\":1,\"first_name\":\"Melanie\",\"last_name\":\"Armstrong\",\"email\":\"melanie.armstrong@sakilacustomer.org\",\"address_id\":192,\"activebool\":true,\"create_date\":\"2006-02-14\",\"last_update\":\"2013-05-26T14:49:45.738\",\"active\":1}",
         "2023-10-12T15:55:37.269+0000"
        ],
        [
         "1324bc2d-20ea-44d3-bfa4-e60ec0ba2497",
         "{\"customer_id\":189,\"store_id\":1,\"first_name\":\"Loretta\",\"last_name\":\"Carpenter\",\"email\":\"loretta.carpenter@sakilacustomer.org\",\"address_id\":193,\"activebool\":true,\"create_date\":\"2006-02-14\",\"last_update\":\"2013-05-26T14:49:45.738\",\"active\":1}",
         "2023-10-12T15:55:37.269+0000"
        ],
        [
         "095250bc-3ba6-4e64-9680-1a63f42051e0",
         "{\"customer_id\":190,\"store_id\":2,\"first_name\":\"Yolanda\",\"last_name\":\"Weaver\",\"email\":\"yolanda.weaver@sakilacustomer.org\",\"address_id\":194,\"activebool\":true,\"create_date\":\"2006-02-14\",\"last_update\":\"2013-05-26T14:49:45.738\",\"active\":1}",
         "2023-10-12T15:55:37.269+0000"
        ],
        [
         "5ca2b3e8-7d33-4e8e-a4ee-3be07226781d",
         "{\"customer_id\":191,\"store_id\":1,\"first_name\":\"Jeanette\",\"last_name\":\"Greene\",\"email\":\"jeanette.greene@sakilacustomer.org\",\"address_id\":195,\"activebool\":true,\"create_date\":\"2006-02-14\",\"last_update\":\"2013-05-26T14:49:45.738\",\"active\":1}",
         "2023-10-12T15:55:37.269+0000"
        ],
        [
         "1e3bc2e3-244e-4815-9ef7-51dcf48c6a28",
         "{\"customer_id\":192,\"store_id\":1,\"first_name\":\"Laurie\",\"last_name\":\"Lawrence\",\"email\":\"laurie.lawrence@sakilacustomer.org\",\"address_id\":196,\"activebool\":true,\"create_date\":\"2006-02-14\",\"last_update\":\"2013-05-26T14:49:45.738\",\"active\":1}",
         "2023-10-12T15:55:37.269+0000"
        ],
        [
         "e61fb846-544b-4e06-af80-acda2b1709aa",
         "{\"customer_id\":193,\"store_id\":2,\"first_name\":\"Katie\",\"last_name\":\"Elliott\",\"email\":\"katie.elliott@sakilacustomer.org\",\"address_id\":197,\"activebool\":true,\"create_date\":\"2006-02-14\",\"last_update\":\"2013-05-26T14:49:45.738\",\"active\":1}",
         "2023-10-12T15:55:37.269+0000"
        ],
        [
         "51e69c42-bf35-4040-8926-33487be73a77",
         "{\"customer_id\":194,\"store_id\":2,\"first_name\":\"Kristen\",\"last_name\":\"Chavez\",\"email\":\"kristen.chavez@sakilacustomer.org\",\"address_id\":198,\"activebool\":true,\"create_date\":\"2006-02-14\",\"last_update\":\"2013-05-26T14:49:45.738\",\"active\":1}",
         "2023-10-12T15:55:37.269+0000"
        ],
        [
         "81b8b62e-351a-4549-a76d-8f9fec350aa2",
         "{\"customer_id\":195,\"store_id\":1,\"first_name\":\"Vanessa\",\"last_name\":\"Sims\",\"email\":\"vanessa.sims@sakilacustomer.org\",\"address_id\":199,\"activebool\":true,\"create_date\":\"2006-02-14\",\"last_update\":\"2013-05-26T14:49:45.738\",\"active\":1}",
         "2023-10-12T15:55:37.269+0000"
        ],
        [
         "ce7cc038-a478-4bb1-9f9f-29a1d12341f3",
         "{\"customer_id\":196,\"store_id\":1,\"first_name\":\"Alma\",\"last_name\":\"Austin\",\"email\":\"alma.austin@sakilacustomer.org\",\"address_id\":200,\"activebool\":true,\"create_date\":\"2006-02-14\",\"last_update\":\"2013-05-26T14:49:45.738\",\"active\":1}",
         "2023-10-12T15:55:37.269+0000"
        ],
        [
         "dc802dd1-e6e6-4ab3-9df3-f3446daaf937",
         "{\"customer_id\":197,\"store_id\":2,\"first_name\":\"Sue\",\"last_name\":\"Peters\",\"email\":\"sue.peters@sakilacustomer.org\",\"address_id\":201,\"activebool\":true,\"create_date\":\"2006-02-14\",\"last_update\":\"2013-05-26T14:49:45.738\",\"active\":1}",
         "2023-10-12T15:55:37.269+0000"
        ],
        [
         "a4812db1-69b7-48ee-8012-b8a62ff5ba75",
         "{\"customer_id\":198,\"store_id\":2,\"first_name\":\"Elsie\",\"last_name\":\"Kelley\",\"email\":\"elsie.kelley@sakilacustomer.org\",\"address_id\":202,\"activebool\":true,\"create_date\":\"2006-02-14\",\"last_update\":\"2013-05-26T14:49:45.738\",\"active\":1}",
         "2023-10-12T15:55:37.269+0000"
        ],
        [
         "92dbc224-e3cf-4b8b-ab87-54abf81540cc",
         "{\"customer_id\":199,\"store_id\":2,\"first_name\":\"Beth\",\"last_name\":\"Franklin\",\"email\":\"beth.franklin@sakilacustomer.org\",\"address_id\":203,\"activebool\":true,\"create_date\":\"2006-02-14\",\"last_update\":\"2013-05-26T14:49:45.738\",\"active\":1}",
         "2023-10-12T15:55:37.269+0000"
        ],
        [
         "2122bcde-c3c3-40b9-91d4-502f67aa4451",
         "{\"customer_id\":200,\"store_id\":2,\"first_name\":\"Jeanne\",\"last_name\":\"Lawson\",\"email\":\"jeanne.lawson@sakilacustomer.org\",\"address_id\":204,\"activebool\":true,\"create_date\":\"2006-02-14\",\"last_update\":\"2013-05-26T14:49:45.738\",\"active\":1}",
         "2023-10-12T15:55:37.269+0000"
        ],
        [
         "37d3d4b6-0561-4886-b9b7-0cbae20b952f",
         "{\"customer_id\":201,\"store_id\":1,\"first_name\":\"Vicki\",\"last_name\":\"Fields\",\"email\":\"vicki.fields@sakilacustomer.org\",\"address_id\":205,\"activebool\":true,\"create_date\":\"2006-02-14\",\"last_update\":\"2013-05-26T14:49:45.738\",\"active\":1}",
         "2023-10-12T15:55:37.269+0000"
        ],
        [
         "4e3b8d78-5b88-499c-a96c-0a3a5c085b15",
         "{\"customer_id\":202,\"store_id\":2,\"first_name\":\"Carla\",\"last_name\":\"Gutierrez\",\"email\":\"carla.gutierrez@sakilacustomer.org\",\"address_id\":206,\"activebool\":true,\"create_date\":\"2006-02-14\",\"last_update\":\"2013-05-26T14:49:45.738\",\"active\":1}",
         "2023-10-12T15:55:37.269+0000"
        ],
        [
         "b6e8280f-c536-434a-9957-9049465cf1d6",
         "{\"customer_id\":203,\"store_id\":1,\"first_name\":\"Tara\",\"last_name\":\"Ryan\",\"email\":\"tara.ryan@sakilacustomer.org\",\"address_id\":207,\"activebool\":true,\"create_date\":\"2006-02-14\",\"last_update\":\"2013-05-26T14:49:45.738\",\"active\":1}",
         "2023-10-12T15:55:37.269+0000"
        ],
        [
         "cb6e3c3f-4fc0-43d0-993b-1336fe53eac9",
         "{\"customer_id\":204,\"store_id\":1,\"first_name\":\"Rosemary\",\"last_name\":\"Schmidt\",\"email\":\"rosemary.schmidt@sakilacustomer.org\",\"address_id\":208,\"activebool\":true,\"create_date\":\"2006-02-14\",\"last_update\":\"2013-05-26T14:49:45.738\",\"active\":1}",
         "2023-10-12T15:55:37.269+0000"
        ],
        [
         "cb9767a7-1805-4e71-9c58-e931477d9f8a",
         "{\"customer_id\":205,\"store_id\":2,\"first_name\":\"Eileen\",\"last_name\":\"Carr\",\"email\":\"eileen.carr@sakilacustomer.org\",\"address_id\":209,\"activebool\":true,\"create_date\":\"2006-02-14\",\"last_update\":\"2013-05-26T14:49:45.738\",\"active\":1}",
         "2023-10-12T15:55:37.269+0000"
        ],
        [
         "b1b60621-52c0-4922-974e-b2cf41ec5079",
         "{\"customer_id\":206,\"store_id\":1,\"first_name\":\"Terri\",\"last_name\":\"Vasquez\",\"email\":\"terri.vasquez@sakilacustomer.org\",\"address_id\":210,\"activebool\":true,\"create_date\":\"2006-02-14\",\"last_update\":\"2013-05-26T14:49:45.738\",\"active\":1}",
         "2023-10-12T15:55:37.269+0000"
        ],
        [
         "0882d0ec-af7d-4c0a-9a15-cfbd65e9eefa",
         "{\"customer_id\":207,\"store_id\":1,\"first_name\":\"Gertrude\",\"last_name\":\"Castillo\",\"email\":\"gertrude.castillo@sakilacustomer.org\",\"address_id\":211,\"activebool\":true,\"create_date\":\"2006-02-14\",\"last_update\":\"2013-05-26T14:49:45.738\",\"active\":1}",
         "2023-10-12T15:55:37.269+0000"
        ],
        [
         "e939505b-9e6a-4081-bb86-47e8a8776510",
         "{\"customer_id\":208,\"store_id\":1,\"first_name\":\"Lucy\",\"last_name\":\"Wheeler\",\"email\":\"lucy.wheeler@sakilacustomer.org\",\"address_id\":212,\"activebool\":true,\"create_date\":\"2006-02-14\",\"last_update\":\"2013-05-26T14:49:45.738\",\"active\":1}",
         "2023-10-12T15:55:37.269+0000"
        ],
        [
         "b92594b1-64f0-4d5a-9796-c93db1d8bdd1",
         "{\"customer_id\":209,\"store_id\":2,\"first_name\":\"Tonya\",\"last_name\":\"Chapman\",\"email\":\"tonya.chapman@sakilacustomer.org\",\"address_id\":213,\"activebool\":true,\"create_date\":\"2006-02-14\",\"last_update\":\"2013-05-26T14:49:45.738\",\"active\":1}",
         "2023-10-12T15:55:37.269+0000"
        ],
        [
         "32d8402e-deac-4c88-a517-d410e7c6351a",
         "{\"customer_id\":210,\"store_id\":2,\"first_name\":\"Ella\",\"last_name\":\"Oliver\",\"email\":\"ella.oliver@sakilacustomer.org\",\"address_id\":214,\"activebool\":true,\"create_date\":\"2006-02-14\",\"last_update\":\"2013-05-26T14:49:45.738\",\"active\":1}",
         "2023-10-12T15:55:37.269+0000"
        ],
        [
         "755bf6c6-e49d-4317-9304-8b65c4613f47",
         "{\"customer_id\":211,\"store_id\":1,\"first_name\":\"Stacey\",\"last_name\":\"Montgomery\",\"email\":\"stacey.montgomery@sakilacustomer.org\",\"address_id\":215,\"activebool\":true,\"create_date\":\"2006-02-14\",\"last_update\":\"2013-05-26T14:49:45.738\",\"active\":1}",
         "2023-10-12T15:55:37.269+0000"
        ],
        [
         "2804db86-6232-4489-8d9c-f9e42e2a0044",
         "{\"customer_id\":212,\"store_id\":2,\"first_name\":\"Wilma\",\"last_name\":\"Richards\",\"email\":\"wilma.richards@sakilacustomer.org\",\"address_id\":216,\"activebool\":true,\"create_date\":\"2006-02-14\",\"last_update\":\"2013-05-26T14:49:45.738\",\"active\":1}",
         "2023-10-12T15:55:37.269+0000"
        ],
        [
         "7735f504-91a9-42da-9510-e51cd97dbb3b",
         "{\"customer_id\":213,\"store_id\":1,\"first_name\":\"Gina\",\"last_name\":\"Williamson\",\"email\":\"gina.williamson@sakilacustomer.org\",\"address_id\":217,\"activebool\":true,\"create_date\":\"2006-02-14\",\"last_update\":\"2013-05-26T14:49:45.738\",\"active\":1}",
         "2023-10-12T15:55:37.269+0000"
        ],
        [
         "6fd6f000-02e1-4b64-845c-1e53e9ad4ea8",
         "{\"customer_id\":214,\"store_id\":1,\"first_name\":\"Kristin\",\"last_name\":\"Johnston\",\"email\":\"kristin.johnston@sakilacustomer.org\",\"address_id\":218,\"activebool\":true,\"create_date\":\"2006-02-14\",\"last_update\":\"2013-05-26T14:49:45.738\",\"active\":1}",
         "2023-10-12T15:55:37.269+0000"
        ],
        [
         "0608c955-552e-43bc-8afb-0f864c634030",
         "{\"customer_id\":215,\"store_id\":2,\"first_name\":\"Jessie\",\"last_name\":\"Banks\",\"email\":\"jessie.banks@sakilacustomer.org\",\"address_id\":219,\"activebool\":true,\"create_date\":\"2006-02-14\",\"last_update\":\"2013-05-26T14:49:45.738\",\"active\":1}",
         "2023-10-12T15:55:37.269+0000"
        ],
        [
         "3b61aa6c-ec6c-443f-be76-8aea70aeec8d",
         "{\"customer_id\":216,\"store_id\":1,\"first_name\":\"Natalie\",\"last_name\":\"Meyer\",\"email\":\"natalie.meyer@sakilacustomer.org\",\"address_id\":220,\"activebool\":true,\"create_date\":\"2006-02-14\",\"last_update\":\"2013-05-26T14:49:45.738\",\"active\":1}",
         "2023-10-12T15:55:37.269+0000"
        ],
        [
         "521075ec-f819-41d5-b5eb-592abd07f210",
         "{\"customer_id\":217,\"store_id\":2,\"first_name\":\"Agnes\",\"last_name\":\"Bishop\",\"email\":\"agnes.bishop@sakilacustomer.org\",\"address_id\":221,\"activebool\":true,\"create_date\":\"2006-02-14\",\"last_update\":\"2013-05-26T14:49:45.738\",\"active\":1}",
         "2023-10-12T15:55:37.269+0000"
        ],
        [
         "e4967e05-aa7f-47cf-a778-74a1a7719c09",
         "{\"customer_id\":218,\"store_id\":1,\"first_name\":\"Vera\",\"last_name\":\"Mccoy\",\"email\":\"vera.mccoy@sakilacustomer.org\",\"address_id\":222,\"activebool\":true,\"create_date\":\"2006-02-14\",\"last_update\":\"2013-05-26T14:49:45.738\",\"active\":1}",
         "2023-10-12T15:55:37.269+0000"
        ],
        [
         "f28bb701-0373-4bc9-a7de-7a1b907b811a",
         "{\"customer_id\":219,\"store_id\":2,\"first_name\":\"Willie\",\"last_name\":\"Howell\",\"email\":\"willie.howell@sakilacustomer.org\",\"address_id\":223,\"activebool\":true,\"create_date\":\"2006-02-14\",\"last_update\":\"2013-05-26T14:49:45.738\",\"active\":1}",
         "2023-10-12T15:55:37.269+0000"
        ],
        [
         "145947a0-ef29-4fd1-88ac-46a149be79a8",
         "{\"customer_id\":220,\"store_id\":2,\"first_name\":\"Charlene\",\"last_name\":\"Alvarez\",\"email\":\"charlene.alvarez@sakilacustomer.org\",\"address_id\":224,\"activebool\":true,\"create_date\":\"2006-02-14\",\"last_update\":\"2013-05-26T14:49:45.738\",\"active\":1}",
         "2023-10-12T15:55:37.269+0000"
        ],
        [
         "d7f1e82f-7f3e-4168-b211-953dad38d5d3",
         "{\"customer_id\":221,\"store_id\":1,\"first_name\":\"Bessie\",\"last_name\":\"Morrison\",\"email\":\"bessie.morrison@sakilacustomer.org\",\"address_id\":225,\"activebool\":true,\"create_date\":\"2006-02-14\",\"last_update\":\"2013-05-26T14:49:45.738\",\"active\":1}",
         "2023-10-12T15:55:37.269+0000"
        ],
        [
         "8e9227f5-7011-4b34-9cd6-e02215161674",
         "{\"customer_id\":222,\"store_id\":2,\"first_name\":\"Delores\",\"last_name\":\"Hansen\",\"email\":\"delores.hansen@sakilacustomer.org\",\"address_id\":226,\"activebool\":true,\"create_date\":\"2006-02-14\",\"last_update\":\"2013-05-26T14:49:45.738\",\"active\":1}",
         "2023-10-12T15:55:37.269+0000"
        ],
        [
         "e321fa20-4901-4782-8e29-5aecd3351780",
         "{\"customer_id\":223,\"store_id\":1,\"first_name\":\"Melinda\",\"last_name\":\"Fernandez\",\"email\":\"melinda.fernandez@sakilacustomer.org\",\"address_id\":227,\"activebool\":true,\"create_date\":\"2006-02-14\",\"last_update\":\"2013-05-26T14:49:45.738\",\"active\":1}",
         "2023-10-12T15:55:37.269+0000"
        ],
        [
         "a01681fe-288f-4645-ad78-6a6d1809c63f",
         "{\"customer_id\":224,\"store_id\":2,\"first_name\":\"Pearl\",\"last_name\":\"Garza\",\"email\":\"pearl.garza@sakilacustomer.org\",\"address_id\":228,\"activebool\":true,\"create_date\":\"2006-02-14\",\"last_update\":\"2013-05-26T14:49:45.738\",\"active\":1}",
         "2023-10-12T15:55:37.269+0000"
        ],
        [
         "5f764cef-8f99-4581-b48f-6f9354251cd9",
         "{\"customer_id\":225,\"store_id\":1,\"first_name\":\"Arlene\",\"last_name\":\"Harvey\",\"email\":\"arlene.harvey@sakilacustomer.org\",\"address_id\":229,\"activebool\":true,\"create_date\":\"2006-02-14\",\"last_update\":\"2013-05-26T14:49:45.738\",\"active\":1}",
         "2023-10-12T15:55:37.269+0000"
        ],
        [
         "2f795505-6c0d-4591-b1bb-95487edf4131",
         "{\"customer_id\":226,\"store_id\":2,\"first_name\":\"Maureen\",\"last_name\":\"Little\",\"email\":\"maureen.little@sakilacustomer.org\",\"address_id\":230,\"activebool\":true,\"create_date\":\"2006-02-14\",\"last_update\":\"2013-05-26T14:49:45.738\",\"active\":1}",
         "2023-10-12T15:55:37.269+0000"
        ],
        [
         "890c0685-4646-4d37-9f81-0ec0a39b3e6a",
         "{\"customer_id\":227,\"store_id\":1,\"first_name\":\"Colleen\",\"last_name\":\"Burton\",\"email\":\"colleen.burton@sakilacustomer.org\",\"address_id\":231,\"activebool\":true,\"create_date\":\"2006-02-14\",\"last_update\":\"2013-05-26T14:49:45.738\",\"active\":1}",
         "2023-10-12T15:55:37.269+0000"
        ],
        [
         "dedde0b8-e229-496f-8a20-86fbc13d4291",
         "{\"customer_id\":228,\"store_id\":2,\"first_name\":\"Allison\",\"last_name\":\"Stanley\",\"email\":\"allison.stanley@sakilacustomer.org\",\"address_id\":232,\"activebool\":true,\"create_date\":\"2006-02-14\",\"last_update\":\"2013-05-26T14:49:45.738\",\"active\":1}",
         "2023-10-12T15:55:37.269+0000"
        ],
        [
         "23978567-22cf-42f6-a0b5-6311be99f4c0",
         "{\"customer_id\":229,\"store_id\":1,\"first_name\":\"Tamara\",\"last_name\":\"Nguyen\",\"email\":\"tamara.nguyen@sakilacustomer.org\",\"address_id\":233,\"activebool\":true,\"create_date\":\"2006-02-14\",\"last_update\":\"2013-05-26T14:49:45.738\",\"active\":1}",
         "2023-10-12T15:55:37.269+0000"
        ],
        [
         "b1afd631-d43c-4109-ae72-3f12e43cb617",
         "{\"customer_id\":230,\"store_id\":2,\"first_name\":\"Joy\",\"last_name\":\"George\",\"email\":\"joy.george@sakilacustomer.org\",\"address_id\":234,\"activebool\":true,\"create_date\":\"2006-02-14\",\"last_update\":\"2013-05-26T14:49:45.738\",\"active\":1}",
         "2023-10-12T15:55:37.269+0000"
        ],
        [
         "7e2f3525-eb14-408d-8b39-a3642204e5a9",
         "{\"customer_id\":231,\"store_id\":1,\"first_name\":\"Georgia\",\"last_name\":\"Jacobs\",\"email\":\"georgia.jacobs@sakilacustomer.org\",\"address_id\":235,\"activebool\":true,\"create_date\":\"2006-02-14\",\"last_update\":\"2013-05-26T14:49:45.738\",\"active\":1}",
         "2023-10-12T15:55:37.269+0000"
        ],
        [
         "d6723730-14d8-490d-92af-7a36f0a3f42d",
         "{\"customer_id\":232,\"store_id\":2,\"first_name\":\"Constance\",\"last_name\":\"Reid\",\"email\":\"constance.reid@sakilacustomer.org\",\"address_id\":236,\"activebool\":true,\"create_date\":\"2006-02-14\",\"last_update\":\"2013-05-26T14:49:45.738\",\"active\":1}",
         "2023-10-12T15:55:37.269+0000"
        ],
        [
         "2d2c1f5d-64e5-4cd9-b7c3-a31c715330b8",
         "{\"customer_id\":233,\"store_id\":2,\"first_name\":\"Lillie\",\"last_name\":\"Kim\",\"email\":\"lillie.kim@sakilacustomer.org\",\"address_id\":237,\"activebool\":true,\"create_date\":\"2006-02-14\",\"last_update\":\"2013-05-26T14:49:45.738\",\"active\":1}",
         "2023-10-12T15:55:37.269+0000"
        ],
        [
         "fb7ab269-a409-4246-bbfb-fae10e7aad0d",
         "{\"customer_id\":234,\"store_id\":1,\"first_name\":\"Claudia\",\"last_name\":\"Fuller\",\"email\":\"claudia.fuller@sakilacustomer.org\",\"address_id\":238,\"activebool\":true,\"create_date\":\"2006-02-14\",\"last_update\":\"2013-05-26T14:49:45.738\",\"active\":1}",
         "2023-10-12T15:55:37.269+0000"
        ],
        [
         "24631365-1d3c-47f6-9266-874cb83df642",
         "{\"customer_id\":235,\"store_id\":1,\"first_name\":\"Jackie\",\"last_name\":\"Lynch\",\"email\":\"jackie.lynch@sakilacustomer.org\",\"address_id\":239,\"activebool\":true,\"create_date\":\"2006-02-14\",\"last_update\":\"2013-05-26T14:49:45.738\",\"active\":1}",
         "2023-10-12T15:55:37.269+0000"
        ],
        [
         "0116323c-1123-4dea-87d1-4f94e72e2953",
         "{\"customer_id\":236,\"store_id\":1,\"first_name\":\"Marcia\",\"last_name\":\"Dean\",\"email\":\"marcia.dean@sakilacustomer.org\",\"address_id\":240,\"activebool\":true,\"create_date\":\"2006-02-14\",\"last_update\":\"2013-05-26T14:49:45.738\",\"active\":1}",
         "2023-10-12T15:55:37.269+0000"
        ],
        [
         "c984c059-b25e-455c-bef3-9fca9494cea8",
         "{\"customer_id\":237,\"store_id\":1,\"first_name\":\"Tanya\",\"last_name\":\"Gilbert\",\"email\":\"tanya.gilbert@sakilacustomer.org\",\"address_id\":241,\"activebool\":true,\"create_date\":\"2006-02-14\",\"last_update\":\"2013-05-26T14:49:45.738\",\"active\":1}",
         "2023-10-12T15:55:37.269+0000"
        ],
        [
         "047fef36-cb47-4916-b73d-78c8f34966bb",
         "{\"customer_id\":238,\"store_id\":1,\"first_name\":\"Nellie\",\"last_name\":\"Garrett\",\"email\":\"nellie.garrett@sakilacustomer.org\",\"address_id\":242,\"activebool\":true,\"create_date\":\"2006-02-14\",\"last_update\":\"2013-05-26T14:49:45.738\",\"active\":1}",
         "2023-10-12T15:55:37.269+0000"
        ],
        [
         "b41ed892-d59c-4f82-8a78-32967593d0cd",
         "{\"customer_id\":239,\"store_id\":2,\"first_name\":\"Minnie\",\"last_name\":\"Romero\",\"email\":\"minnie.romero@sakilacustomer.org\",\"address_id\":243,\"activebool\":true,\"create_date\":\"2006-02-14\",\"last_update\":\"2013-05-26T14:49:45.738\",\"active\":1}",
         "2023-10-12T15:55:37.269+0000"
        ],
        [
         "a6452519-8528-4d36-bc80-eb15550150b0",
         "{\"customer_id\":240,\"store_id\":1,\"first_name\":\"Marlene\",\"last_name\":\"Welch\",\"email\":\"marlene.welch@sakilacustomer.org\",\"address_id\":244,\"activebool\":true,\"create_date\":\"2006-02-14\",\"last_update\":\"2013-05-26T14:49:45.738\",\"active\":1}",
         "2023-10-12T15:55:37.269+0000"
        ],
        [
         "024af5a3-5629-4359-833a-e4f60d2413df",
         "{\"customer_id\":241,\"store_id\":2,\"first_name\":\"Heidi\",\"last_name\":\"Larson\",\"email\":\"heidi.larson@sakilacustomer.org\",\"address_id\":245,\"activebool\":true,\"create_date\":\"2006-02-14\",\"last_update\":\"2013-05-26T14:49:45.738\",\"active\":0}",
         "2023-10-12T15:55:37.269+0000"
        ],
        [
         "a4ad4cc0-3613-40dc-823e-e316fd27d1a3",
         "{\"customer_id\":242,\"store_id\":1,\"first_name\":\"Glenda\",\"last_name\":\"Frazier\",\"email\":\"glenda.frazier@sakilacustomer.org\",\"address_id\":246,\"activebool\":true,\"create_date\":\"2006-02-14\",\"last_update\":\"2013-05-26T14:49:45.738\",\"active\":1}",
         "2023-10-12T15:55:37.269+0000"
        ],
        [
         "2b91df2d-bd6b-4c7c-89db-8df9b3b78c08",
         "{\"customer_id\":243,\"store_id\":1,\"first_name\":\"Lydia\",\"last_name\":\"Burke\",\"email\":\"lydia.burke@sakilacustomer.org\",\"address_id\":247,\"activebool\":true,\"create_date\":\"2006-02-14\",\"last_update\":\"2013-05-26T14:49:45.738\",\"active\":1}",
         "2023-10-12T15:55:37.269+0000"
        ],
        [
         "2c29387d-c41d-458a-9b6e-3b08d5e852ff",
         "{\"customer_id\":244,\"store_id\":2,\"first_name\":\"Viola\",\"last_name\":\"Hanson\",\"email\":\"viola.hanson@sakilacustomer.org\",\"address_id\":248,\"activebool\":true,\"create_date\":\"2006-02-14\",\"last_update\":\"2013-05-26T14:49:45.738\",\"active\":1}",
         "2023-10-12T15:55:37.269+0000"
        ],
        [
         "1d691153-1bef-4b93-af27-8457e55ff153",
         "{\"customer_id\":245,\"store_id\":1,\"first_name\":\"Courtney\",\"last_name\":\"Day\",\"email\":\"courtney.day@sakilacustomer.org\",\"address_id\":249,\"activebool\":true,\"create_date\":\"2006-02-14\",\"last_update\":\"2013-05-26T14:49:45.738\",\"active\":1}",
         "2023-10-12T15:55:37.269+0000"
        ],
        [
         "6be1d8d0-1595-4357-a0be-b98e49ab625c",
         "{\"customer_id\":246,\"store_id\":1,\"first_name\":\"Marian\",\"last_name\":\"Mendoza\",\"email\":\"marian.mendoza@sakilacustomer.org\",\"address_id\":250,\"activebool\":true,\"create_date\":\"2006-02-14\",\"last_update\":\"2013-05-26T14:49:45.738\",\"active\":1}",
         "2023-10-12T15:55:37.269+0000"
        ],
        [
         "e7de8f6a-1e21-4190-bacd-09f1c0626a92",
         "{\"customer_id\":247,\"store_id\":1,\"first_name\":\"Stella\",\"last_name\":\"Moreno\",\"email\":\"stella.moreno@sakilacustomer.org\",\"address_id\":251,\"activebool\":true,\"create_date\":\"2006-02-14\",\"last_update\":\"2013-05-26T14:49:45.738\",\"active\":1}",
         "2023-10-12T15:55:37.269+0000"
        ],
        [
         "7354ae7b-e495-4d4d-b987-427fa61b8eaa",
         "{\"customer_id\":248,\"store_id\":1,\"first_name\":\"Caroline\",\"last_name\":\"Bowman\",\"email\":\"caroline.bowman@sakilacustomer.org\",\"address_id\":252,\"activebool\":true,\"create_date\":\"2006-02-14\",\"last_update\":\"2013-05-26T14:49:45.738\",\"active\":1}",
         "2023-10-12T15:55:37.269+0000"
        ],
        [
         "ecee20f9-4332-46ac-bab4-810a75085dfd",
         "{\"customer_id\":249,\"store_id\":2,\"first_name\":\"Dora\",\"last_name\":\"Medina\",\"email\":\"dora.medina@sakilacustomer.org\",\"address_id\":253,\"activebool\":true,\"create_date\":\"2006-02-14\",\"last_update\":\"2013-05-26T14:49:45.738\",\"active\":1}",
         "2023-10-12T15:55:37.269+0000"
        ],
        [
         "c3b7911f-4207-4af1-9e25-f79259354c8e",
         "{\"customer_id\":250,\"store_id\":2,\"first_name\":\"Jo\",\"last_name\":\"Fowler\",\"email\":\"jo.fowler@sakilacustomer.org\",\"address_id\":254,\"activebool\":true,\"create_date\":\"2006-02-14\",\"last_update\":\"2013-05-26T14:49:45.738\",\"active\":1}",
         "2023-10-12T15:55:37.269+0000"
        ],
        [
         "dd3026b5-7cd7-452b-8fa3-587cb6640b85",
         "{\"customer_id\":251,\"store_id\":2,\"first_name\":\"Vickie\",\"last_name\":\"Brewer\",\"email\":\"vickie.brewer@sakilacustomer.org\",\"address_id\":255,\"activebool\":true,\"create_date\":\"2006-02-14\",\"last_update\":\"2013-05-26T14:49:45.738\",\"active\":1}",
         "2023-10-12T15:55:37.269+0000"
        ],
        [
         "cb171a36-3188-4ce3-a780-3cae17c8eaae",
         "{\"customer_id\":252,\"store_id\":2,\"first_name\":\"Mattie\",\"last_name\":\"Hoffman\",\"email\":\"mattie.hoffman@sakilacustomer.org\",\"address_id\":256,\"activebool\":true,\"create_date\":\"2006-02-14\",\"last_update\":\"2013-05-26T14:49:45.738\",\"active\":1}",
         "2023-10-12T15:55:37.269+0000"
        ],
        [
         "9eb14a54-298b-418b-be6b-2301e5bc3881",
         "{\"customer_id\":253,\"store_id\":1,\"first_name\":\"Terry\",\"last_name\":\"Carlson\",\"email\":\"terry.carlson@sakilacustomer.org\",\"address_id\":258,\"activebool\":true,\"create_date\":\"2006-02-14\",\"last_update\":\"2013-05-26T14:49:45.738\",\"active\":1}",
         "2023-10-12T15:55:37.269+0000"
        ],
        [
         "93440a36-d363-47cf-92b4-4e23671d87f3",
         "{\"customer_id\":254,\"store_id\":2,\"first_name\":\"Maxine\",\"last_name\":\"Silva\",\"email\":\"maxine.silva@sakilacustomer.org\",\"address_id\":259,\"activebool\":true,\"create_date\":\"2006-02-14\",\"last_update\":\"2013-05-26T14:49:45.738\",\"active\":1}",
         "2023-10-12T15:55:37.269+0000"
        ],
        [
         "25dd6411-c029-4b57-b71e-a172eea0f08c",
         "{\"customer_id\":255,\"store_id\":2,\"first_name\":\"Irma\",\"last_name\":\"Pearson\",\"email\":\"irma.pearson@sakilacustomer.org\",\"address_id\":260,\"activebool\":true,\"create_date\":\"2006-02-14\",\"last_update\":\"2013-05-26T14:49:45.738\",\"active\":1}",
         "2023-10-12T15:55:37.269+0000"
        ],
        [
         "e6c09b79-836d-4df7-8ddc-c999de787e99",
         "{\"customer_id\":256,\"store_id\":2,\"first_name\":\"Mabel\",\"last_name\":\"Holland\",\"email\":\"mabel.holland@sakilacustomer.org\",\"address_id\":261,\"activebool\":true,\"create_date\":\"2006-02-14\",\"last_update\":\"2013-05-26T14:49:45.738\",\"active\":1}",
         "2023-10-12T15:55:37.269+0000"
        ],
        [
         "2aa60b38-5ffa-418a-a0b3-03cef6b9031e",
         "{\"customer_id\":257,\"store_id\":2,\"first_name\":\"Marsha\",\"last_name\":\"Douglas\",\"email\":\"marsha.douglas@sakilacustomer.org\",\"address_id\":262,\"activebool\":true,\"create_date\":\"2006-02-14\",\"last_update\":\"2013-05-26T14:49:45.738\",\"active\":1}",
         "2023-10-12T15:55:37.269+0000"
        ],
        [
         "df559e02-5134-405c-80e2-fb7b84937b01",
         "{\"customer_id\":258,\"store_id\":1,\"first_name\":\"Myrtle\",\"last_name\":\"Fleming\",\"email\":\"myrtle.fleming@sakilacustomer.org\",\"address_id\":263,\"activebool\":true,\"create_date\":\"2006-02-14\",\"last_update\":\"2013-05-26T14:49:45.738\",\"active\":1}",
         "2023-10-12T15:55:37.269+0000"
        ],
        [
         "e357b244-abad-4e26-8044-0da1ab3d4b98",
         "{\"customer_id\":259,\"store_id\":2,\"first_name\":\"Lena\",\"last_name\":\"Jensen\",\"email\":\"lena.jensen@sakilacustomer.org\",\"address_id\":264,\"activebool\":true,\"create_date\":\"2006-02-14\",\"last_update\":\"2013-05-26T14:49:45.738\",\"active\":1}",
         "2023-10-12T15:55:37.269+0000"
        ],
        [
         "632bf515-1423-459e-9037-5d87cae5a144",
         "{\"customer_id\":260,\"store_id\":1,\"first_name\":\"Christy\",\"last_name\":\"Vargas\",\"email\":\"christy.vargas@sakilacustomer.org\",\"address_id\":265,\"activebool\":true,\"create_date\":\"2006-02-14\",\"last_update\":\"2013-05-26T14:49:45.738\",\"active\":1}",
         "2023-10-12T15:55:37.269+0000"
        ],
        [
         "b9088b85-9720-4ab7-a97c-c270037425dc",
         "{\"customer_id\":261,\"store_id\":1,\"first_name\":\"Deanna\",\"last_name\":\"Byrd\",\"email\":\"deanna.byrd@sakilacustomer.org\",\"address_id\":266,\"activebool\":true,\"create_date\":\"2006-02-14\",\"last_update\":\"2013-05-26T14:49:45.738\",\"active\":1}",
         "2023-10-12T15:55:37.269+0000"
        ],
        [
         "318fe7da-1f15-4787-a259-cc3d701d7037",
         "{\"customer_id\":262,\"store_id\":2,\"first_name\":\"Patsy\",\"last_name\":\"Davidson\",\"email\":\"patsy.davidson@sakilacustomer.org\",\"address_id\":267,\"activebool\":true,\"create_date\":\"2006-02-14\",\"last_update\":\"2013-05-26T14:49:45.738\",\"active\":1}",
         "2023-10-12T15:55:37.269+0000"
        ],
        [
         "5efa0250-adb4-47ca-8af5-aab6cb0a7e6b",
         "{\"customer_id\":263,\"store_id\":1,\"first_name\":\"Hilda\",\"last_name\":\"Hopkins\",\"email\":\"hilda.hopkins@sakilacustomer.org\",\"address_id\":268,\"activebool\":true,\"create_date\":\"2006-02-14\",\"last_update\":\"2013-05-26T14:49:45.738\",\"active\":1}",
         "2023-10-12T15:55:37.269+0000"
        ],
        [
         "1a7a18ec-d46c-406c-a7a9-bcfd0483fc33",
         "{\"customer_id\":264,\"store_id\":1,\"first_name\":\"Gwendolyn\",\"last_name\":\"May\",\"email\":\"gwendolyn.may@sakilacustomer.org\",\"address_id\":269,\"activebool\":true,\"create_date\":\"2006-02-14\",\"last_update\":\"2013-05-26T14:49:45.738\",\"active\":1}",
         "2023-10-12T15:55:37.269+0000"
        ],
        [
         "cd685b1c-0518-43c8-a87b-5b1ada915033",
         "{\"customer_id\":265,\"store_id\":2,\"first_name\":\"Jennie\",\"last_name\":\"Terry\",\"email\":\"jennie.terry@sakilacustomer.org\",\"address_id\":270,\"activebool\":true,\"create_date\":\"2006-02-14\",\"last_update\":\"2013-05-26T14:49:45.738\",\"active\":1}",
         "2023-10-12T15:55:37.269+0000"
        ],
        [
         "cc519062-6170-4e21-ac93-9e4c6ae165dd",
         "{\"customer_id\":266,\"store_id\":2,\"first_name\":\"Nora\",\"last_name\":\"Herrera\",\"email\":\"nora.herrera@sakilacustomer.org\",\"address_id\":271,\"activebool\":true,\"create_date\":\"2006-02-14\",\"last_update\":\"2013-05-26T14:49:45.738\",\"active\":1}",
         "2023-10-12T15:55:37.269+0000"
        ],
        [
         "51ad910a-aa97-4c98-8f70-4c19b620e6e3",
         "{\"customer_id\":267,\"store_id\":1,\"first_name\":\"Margie\",\"last_name\":\"Wade\",\"email\":\"margie.wade@sakilacustomer.org\",\"address_id\":272,\"activebool\":true,\"create_date\":\"2006-02-14\",\"last_update\":\"2013-05-26T14:49:45.738\",\"active\":1}",
         "2023-10-12T15:55:37.269+0000"
        ],
        [
         "e554b575-1cbe-4d14-890a-1eede3b9fd86",
         "{\"customer_id\":268,\"store_id\":1,\"first_name\":\"Nina\",\"last_name\":\"Soto\",\"email\":\"nina.soto@sakilacustomer.org\",\"address_id\":273,\"activebool\":true,\"create_date\":\"2006-02-14\",\"last_update\":\"2013-05-26T14:49:45.738\",\"active\":1}",
         "2023-10-12T15:55:37.269+0000"
        ],
        [
         "295ddb60-ba66-4f6d-9ca3-6d7742ced889",
         "{\"customer_id\":269,\"store_id\":1,\"first_name\":\"Cassandra\",\"last_name\":\"Walters\",\"email\":\"cassandra.walters@sakilacustomer.org\",\"address_id\":274,\"activebool\":true,\"create_date\":\"2006-02-14\",\"last_update\":\"2013-05-26T14:49:45.738\",\"active\":1}",
         "2023-10-12T15:55:37.269+0000"
        ],
        [
         "74b01cb9-c945-4584-964c-4f1a5bb032a6",
         "{\"customer_id\":270,\"store_id\":1,\"first_name\":\"Leah\",\"last_name\":\"Curtis\",\"email\":\"leah.curtis@sakilacustomer.org\",\"address_id\":275,\"activebool\":true,\"create_date\":\"2006-02-14\",\"last_update\":\"2013-05-26T14:49:45.738\",\"active\":1}",
         "2023-10-12T15:55:37.269+0000"
        ],
        [
         "336a3af8-a61e-4b50-b144-a95e16e0b681",
         "{\"customer_id\":271,\"store_id\":1,\"first_name\":\"Penny\",\"last_name\":\"Neal\",\"email\":\"penny.neal@sakilacustomer.org\",\"address_id\":276,\"activebool\":true,\"create_date\":\"2006-02-14\",\"last_update\":\"2013-05-26T14:49:45.738\",\"active\":0}",
         "2023-10-12T15:55:37.269+0000"
        ],
        [
         "e7c02a24-2022-4e8d-91a7-0074e6a3b44b",
         "{\"customer_id\":272,\"store_id\":1,\"first_name\":\"Kay\",\"last_name\":\"Caldwell\",\"email\":\"kay.caldwell@sakilacustomer.org\",\"address_id\":277,\"activebool\":true,\"create_date\":\"2006-02-14\",\"last_update\":\"2013-05-26T14:49:45.738\",\"active\":1}",
         "2023-10-12T15:55:37.269+0000"
        ],
        [
         "1127fafb-1142-425c-b4b6-63a303a4b211",
         "{\"customer_id\":273,\"store_id\":2,\"first_name\":\"Priscilla\",\"last_name\":\"Lowe\",\"email\":\"priscilla.lowe@sakilacustomer.org\",\"address_id\":278,\"activebool\":true,\"create_date\":\"2006-02-14\",\"last_update\":\"2013-05-26T14:49:45.738\",\"active\":1}",
         "2023-10-12T15:55:37.269+0000"
        ],
        [
         "d0c9d75e-1924-4cda-b683-6de91454deab",
         "{\"customer_id\":274,\"store_id\":1,\"first_name\":\"Naomi\",\"last_name\":\"Jennings\",\"email\":\"naomi.jennings@sakilacustomer.org\",\"address_id\":279,\"activebool\":true,\"create_date\":\"2006-02-14\",\"last_update\":\"2013-05-26T14:49:45.738\",\"active\":1}",
         "2023-10-12T15:55:37.269+0000"
        ],
        [
         "1d3a0885-afec-460b-9011-dbbea62bb0dd",
         "{\"customer_id\":275,\"store_id\":2,\"first_name\":\"Carole\",\"last_name\":\"Barnett\",\"email\":\"carole.barnett@sakilacustomer.org\",\"address_id\":280,\"activebool\":true,\"create_date\":\"2006-02-14\",\"last_update\":\"2013-05-26T14:49:45.738\",\"active\":1}",
         "2023-10-12T15:55:37.269+0000"
        ],
        [
         "2c883763-a8c9-4d2e-9f6f-56b704593a68",
         "{\"customer_id\":276,\"store_id\":1,\"first_name\":\"Brandy\",\"last_name\":\"Graves\",\"email\":\"brandy.graves@sakilacustomer.org\",\"address_id\":281,\"activebool\":true,\"create_date\":\"2006-02-14\",\"last_update\":\"2013-05-26T14:49:45.738\",\"active\":1}",
         "2023-10-12T15:55:37.269+0000"
        ],
        [
         "06360122-b6b5-4191-9c97-33f2b3678c4e",
         "{\"customer_id\":277,\"store_id\":2,\"first_name\":\"Olga\",\"last_name\":\"Jimenez\",\"email\":\"olga.jimenez@sakilacustomer.org\",\"address_id\":282,\"activebool\":true,\"create_date\":\"2006-02-14\",\"last_update\":\"2013-05-26T14:49:45.738\",\"active\":1}",
         "2023-10-12T15:55:37.269+0000"
        ],
        [
         "b7197707-bc75-4bf1-b421-61900bc282c7",
         "{\"customer_id\":278,\"store_id\":2,\"first_name\":\"Billie\",\"last_name\":\"Horton\",\"email\":\"billie.horton@sakilacustomer.org\",\"address_id\":283,\"activebool\":true,\"create_date\":\"2006-02-14\",\"last_update\":\"2013-05-26T14:49:45.738\",\"active\":1}",
         "2023-10-12T15:55:37.269+0000"
        ],
        [
         "ac581888-57e9-4eeb-926e-ec007d703718",
         "{\"customer_id\":279,\"store_id\":2,\"first_name\":\"Dianne\",\"last_name\":\"Shelton\",\"email\":\"dianne.shelton@sakilacustomer.org\",\"address_id\":284,\"activebool\":true,\"create_date\":\"2006-02-14\",\"last_update\":\"2013-05-26T14:49:45.738\",\"active\":1}",
         "2023-10-12T15:55:37.269+0000"
        ],
        [
         "0c30fa53-1655-4404-833b-5edfe085aec0",
         "{\"customer_id\":280,\"store_id\":2,\"first_name\":\"Tracey\",\"last_name\":\"Barrett\",\"email\":\"tracey.barrett@sakilacustomer.org\",\"address_id\":285,\"activebool\":true,\"create_date\":\"2006-02-14\",\"last_update\":\"2013-05-26T14:49:45.738\",\"active\":1}",
         "2023-10-12T15:55:37.269+0000"
        ],
        [
         "63939666-ac0e-4ef0-ab9e-f771704d5317",
         "{\"customer_id\":281,\"store_id\":2,\"first_name\":\"Leona\",\"last_name\":\"Obrien\",\"email\":\"leona.obrien@sakilacustomer.org\",\"address_id\":286,\"activebool\":true,\"create_date\":\"2006-02-14\",\"last_update\":\"2013-05-26T14:49:45.738\",\"active\":1}",
         "2023-10-12T15:55:37.269+0000"
        ],
        [
         "d021fba0-d572-415e-b4ff-8234bf0be9a2",
         "{\"customer_id\":282,\"store_id\":2,\"first_name\":\"Jenny\",\"last_name\":\"Castro\",\"email\":\"jenny.castro@sakilacustomer.org\",\"address_id\":287,\"activebool\":true,\"create_date\":\"2006-02-14\",\"last_update\":\"2013-05-26T14:49:45.738\",\"active\":1}",
         "2023-10-12T15:55:37.269+0000"
        ],
        [
         "539561a8-6e2c-4eb2-b9bc-530eb3729967",
         "{\"customer_id\":283,\"store_id\":1,\"first_name\":\"Felicia\",\"last_name\":\"Sutton\",\"email\":\"felicia.sutton@sakilacustomer.org\",\"address_id\":288,\"activebool\":true,\"create_date\":\"2006-02-14\",\"last_update\":\"2013-05-26T14:49:45.738\",\"active\":1}",
         "2023-10-12T15:55:37.269+0000"
        ],
        [
         "05d08217-4f64-4d36-801e-b1d822698949",
         "{\"customer_id\":284,\"store_id\":1,\"first_name\":\"Sonia\",\"last_name\":\"Gregory\",\"email\":\"sonia.gregory@sakilacustomer.org\",\"address_id\":289,\"activebool\":true,\"create_date\":\"2006-02-14\",\"last_update\":\"2013-05-26T14:49:45.738\",\"active\":1}",
         "2023-10-12T15:55:37.269+0000"
        ],
        [
         "9f10f96c-fcfe-498e-ad3e-8a635558682b",
         "{\"customer_id\":285,\"store_id\":1,\"first_name\":\"Miriam\",\"last_name\":\"Mckinney\",\"email\":\"miriam.mckinney@sakilacustomer.org\",\"address_id\":290,\"activebool\":true,\"create_date\":\"2006-02-14\",\"last_update\":\"2013-05-26T14:49:45.738\",\"active\":1}",
         "2023-10-12T15:55:37.269+0000"
        ],
        [
         "660da5b1-d812-4c6e-8c83-ac213d17a7ee",
         "{\"customer_id\":286,\"store_id\":1,\"first_name\":\"Velma\",\"last_name\":\"Lucas\",\"email\":\"velma.lucas@sakilacustomer.org\",\"address_id\":291,\"activebool\":true,\"create_date\":\"2006-02-14\",\"last_update\":\"2013-05-26T14:49:45.738\",\"active\":1}",
         "2023-10-12T15:55:37.269+0000"
        ],
        [
         "ffb6338f-8b83-41b8-9954-2dcfce955185",
         "{\"customer_id\":287,\"store_id\":2,\"first_name\":\"Becky\",\"last_name\":\"Miles\",\"email\":\"becky.miles@sakilacustomer.org\",\"address_id\":292,\"activebool\":true,\"create_date\":\"2006-02-14\",\"last_update\":\"2013-05-26T14:49:45.738\",\"active\":1}",
         "2023-10-12T15:55:37.269+0000"
        ],
        [
         "134d994f-f50a-44b9-bfb2-b32e67b39898",
         "{\"customer_id\":288,\"store_id\":1,\"first_name\":\"Bobbie\",\"last_name\":\"Craig\",\"email\":\"bobbie.craig@sakilacustomer.org\",\"address_id\":293,\"activebool\":true,\"create_date\":\"2006-02-14\",\"last_update\":\"2013-05-26T14:49:45.738\",\"active\":1}",
         "2023-10-12T15:55:37.269+0000"
        ],
        [
         "48ddfe0e-ec14-48f3-8992-176956c57e87",
         "{\"customer_id\":289,\"store_id\":1,\"first_name\":\"Violet\",\"last_name\":\"Rodriquez\",\"email\":\"violet.rodriquez@sakilacustomer.org\",\"address_id\":294,\"activebool\":true,\"create_date\":\"2006-02-14\",\"last_update\":\"2013-05-26T14:49:45.738\",\"active\":1}",
         "2023-10-12T15:55:37.269+0000"
        ],
        [
         "bfb1e042-259e-4a83-998c-23afe2856900",
         "{\"customer_id\":290,\"store_id\":1,\"first_name\":\"Kristina\",\"last_name\":\"Chambers\",\"email\":\"kristina.chambers@sakilacustomer.org\",\"address_id\":295,\"activebool\":true,\"create_date\":\"2006-02-14\",\"last_update\":\"2013-05-26T14:49:45.738\",\"active\":1}",
         "2023-10-12T15:55:37.269+0000"
        ],
        [
         "05a857dc-3129-4fb5-9b90-3230fd9bc356",
         "{\"customer_id\":291,\"store_id\":1,\"first_name\":\"Toni\",\"last_name\":\"Holt\",\"email\":\"toni.holt@sakilacustomer.org\",\"address_id\":296,\"activebool\":true,\"create_date\":\"2006-02-14\",\"last_update\":\"2013-05-26T14:49:45.738\",\"active\":1}",
         "2023-10-12T15:55:37.269+0000"
        ],
        [
         "15e283a2-650b-4190-8545-2a9062fe94e9",
         "{\"customer_id\":292,\"store_id\":2,\"first_name\":\"Misty\",\"last_name\":\"Lambert\",\"email\":\"misty.lambert@sakilacustomer.org\",\"address_id\":297,\"activebool\":true,\"create_date\":\"2006-02-14\",\"last_update\":\"2013-05-26T14:49:45.738\",\"active\":1}",
         "2023-10-12T15:55:37.269+0000"
        ],
        [
         "dda24d87-704f-4e8d-a7d4-5b899b6bc7c1",
         "{\"customer_id\":293,\"store_id\":2,\"first_name\":\"Mae\",\"last_name\":\"Fletcher\",\"email\":\"mae.fletcher@sakilacustomer.org\",\"address_id\":298,\"activebool\":true,\"create_date\":\"2006-02-14\",\"last_update\":\"2013-05-26T14:49:45.738\",\"active\":1}",
         "2023-10-12T15:55:37.269+0000"
        ],
        [
         "8ba807e5-5b04-4655-b4b5-05918a9f4327",
         "{\"customer_id\":294,\"store_id\":2,\"first_name\":\"Shelly\",\"last_name\":\"Watts\",\"email\":\"shelly.watts@sakilacustomer.org\",\"address_id\":299,\"activebool\":true,\"create_date\":\"2006-02-14\",\"last_update\":\"2013-05-26T14:49:45.738\",\"active\":1}",
         "2023-10-12T15:55:37.269+0000"
        ],
        [
         "808180b6-80f9-4d2a-a42a-15dc825c952c",
         "{\"customer_id\":295,\"store_id\":1,\"first_name\":\"Daisy\",\"last_name\":\"Bates\",\"email\":\"daisy.bates@sakilacustomer.org\",\"address_id\":300,\"activebool\":true,\"create_date\":\"2006-02-14\",\"last_update\":\"2013-05-26T14:49:45.738\",\"active\":1}",
         "2023-10-12T15:55:37.269+0000"
        ],
        [
         "907b4f2e-e2b6-4769-889b-b0398ed71bf3",
         "{\"customer_id\":296,\"store_id\":2,\"first_name\":\"Ramona\",\"last_name\":\"Hale\",\"email\":\"ramona.hale@sakilacustomer.org\",\"address_id\":301,\"activebool\":true,\"create_date\":\"2006-02-14\",\"last_update\":\"2013-05-26T14:49:45.738\",\"active\":1}",
         "2023-10-12T15:55:37.269+0000"
        ],
        [
         "dccf1dc0-516a-4b30-ac46-c643f2044898",
         "{\"customer_id\":297,\"store_id\":1,\"first_name\":\"Sherri\",\"last_name\":\"Rhodes\",\"email\":\"sherri.rhodes@sakilacustomer.org\",\"address_id\":302,\"activebool\":true,\"create_date\":\"2006-02-14\",\"last_update\":\"2013-05-26T14:49:45.738\",\"active\":1}",
         "2023-10-12T15:55:37.269+0000"
        ],
        [
         "7c5492ad-52d5-4b1f-8299-8e18ce2ea7a4",
         "{\"customer_id\":298,\"store_id\":1,\"first_name\":\"Erika\",\"last_name\":\"Pena\",\"email\":\"erika.pena@sakilacustomer.org\",\"address_id\":303,\"activebool\":true,\"create_date\":\"2006-02-14\",\"last_update\":\"2013-05-26T14:49:45.738\",\"active\":1}",
         "2023-10-12T15:55:37.269+0000"
        ],
        [
         "6ccf3713-cfc8-481b-9107-f09518504245",
         "{\"customer_id\":299,\"store_id\":2,\"first_name\":\"James\",\"last_name\":\"Gannon\",\"email\":\"james.gannon@sakilacustomer.org\",\"address_id\":304,\"activebool\":true,\"create_date\":\"2006-02-14\",\"last_update\":\"2013-05-26T14:49:45.738\",\"active\":1}",
         "2023-10-12T15:55:37.269+0000"
        ],
        [
         "bc123014-4e51-4236-bd6b-4e4e1a5bd51f",
         "{\"customer_id\":300,\"store_id\":1,\"first_name\":\"John\",\"last_name\":\"Farnsworth\",\"email\":\"john.farnsworth@sakilacustomer.org\",\"address_id\":305,\"activebool\":true,\"create_date\":\"2006-02-14\",\"last_update\":\"2013-05-26T14:49:45.738\",\"active\":1}",
         "2023-10-12T15:55:37.269+0000"
        ],
        [
         "9051a270-736f-488a-b2f1-63c93903b638",
         "{\"customer_id\":301,\"store_id\":2,\"first_name\":\"Robert\",\"last_name\":\"Baughman\",\"email\":\"robert.baughman@sakilacustomer.org\",\"address_id\":306,\"activebool\":true,\"create_date\":\"2006-02-14\",\"last_update\":\"2013-05-26T14:49:45.738\",\"active\":1}",
         "2023-10-12T15:55:37.269+0000"
        ],
        [
         "ac6fd2f2-d4a4-4f98-8ff3-9309d60e98f7",
         "{\"customer_id\":302,\"store_id\":1,\"first_name\":\"Michael\",\"last_name\":\"Silverman\",\"email\":\"michael.silverman@sakilacustomer.org\",\"address_id\":307,\"activebool\":true,\"create_date\":\"2006-02-14\",\"last_update\":\"2013-05-26T14:49:45.738\",\"active\":1}",
         "2023-10-12T15:55:37.269+0000"
        ],
        [
         "ea55cc3d-070d-40fd-87a5-a89f88026538",
         "{\"customer_id\":303,\"store_id\":2,\"first_name\":\"William\",\"last_name\":\"Satterfield\",\"email\":\"william.satterfield@sakilacustomer.org\",\"address_id\":308,\"activebool\":true,\"create_date\":\"2006-02-14\",\"last_update\":\"2013-05-26T14:49:45.738\",\"active\":1}",
         "2023-10-12T15:55:37.269+0000"
        ],
        [
         "df2317fd-38a6-4117-b7ab-5762b69b202d",
         "{\"customer_id\":304,\"store_id\":2,\"first_name\":\"David\",\"last_name\":\"Royal\",\"email\":\"david.royal@sakilacustomer.org\",\"address_id\":309,\"activebool\":true,\"create_date\":\"2006-02-14\",\"last_update\":\"2013-05-26T14:49:45.738\",\"active\":1}",
         "2023-10-12T15:55:37.269+0000"
        ],
        [
         "99eec728-de10-4f0f-8564-f4424c147e50",
         "{\"customer_id\":305,\"store_id\":1,\"first_name\":\"Richard\",\"last_name\":\"Mccrary\",\"email\":\"richard.mccrary@sakilacustomer.org\",\"address_id\":310,\"activebool\":true,\"create_date\":\"2006-02-14\",\"last_update\":\"2013-05-26T14:49:45.738\",\"active\":1}",
         "2023-10-12T15:55:37.269+0000"
        ],
        [
         "2d9b3ce4-a97c-4684-94c0-3d0ef0d15c34",
         "{\"customer_id\":306,\"store_id\":1,\"first_name\":\"Charles\",\"last_name\":\"Kowalski\",\"email\":\"charles.kowalski@sakilacustomer.org\",\"address_id\":311,\"activebool\":true,\"create_date\":\"2006-02-14\",\"last_update\":\"2013-05-26T14:49:45.738\",\"active\":1}",
         "2023-10-12T15:55:37.269+0000"
        ],
        [
         "20e85954-be74-455c-8046-7c5091f9c3db",
         "{\"customer_id\":307,\"store_id\":2,\"first_name\":\"Joseph\",\"last_name\":\"Joy\",\"email\":\"joseph.joy@sakilacustomer.org\",\"address_id\":312,\"activebool\":true,\"create_date\":\"2006-02-14\",\"last_update\":\"2013-05-26T14:49:45.738\",\"active\":1}",
         "2023-10-12T15:55:37.269+0000"
        ],
        [
         "86271eec-0826-4a0d-910f-5638cf11362c",
         "{\"customer_id\":308,\"store_id\":1,\"first_name\":\"Thomas\",\"last_name\":\"Grigsby\",\"email\":\"thomas.grigsby@sakilacustomer.org\",\"address_id\":313,\"activebool\":true,\"create_date\":\"2006-02-14\",\"last_update\":\"2013-05-26T14:49:45.738\",\"active\":1}",
         "2023-10-12T15:55:37.269+0000"
        ],
        [
         "cd7eb7e3-d48a-4c59-8f7b-c45c4367f40c",
         "{\"customer_id\":309,\"store_id\":1,\"first_name\":\"Christopher\",\"last_name\":\"Greco\",\"email\":\"christopher.greco@sakilacustomer.org\",\"address_id\":314,\"activebool\":true,\"create_date\":\"2006-02-14\",\"last_update\":\"2013-05-26T14:49:45.738\",\"active\":1}",
         "2023-10-12T15:55:37.269+0000"
        ],
        [
         "4e8f4493-da8c-44a1-99d6-00f0db964e18",
         "{\"customer_id\":310,\"store_id\":2,\"first_name\":\"Daniel\",\"last_name\":\"Cabral\",\"email\":\"daniel.cabral@sakilacustomer.org\",\"address_id\":315,\"activebool\":true,\"create_date\":\"2006-02-14\",\"last_update\":\"2013-05-26T14:49:45.738\",\"active\":1}",
         "2023-10-12T15:55:37.269+0000"
        ],
        [
         "6b2cf5f4-3dbb-4048-9a61-aac90362358c",
         "{\"customer_id\":311,\"store_id\":2,\"first_name\":\"Paul\",\"last_name\":\"Trout\",\"email\":\"paul.trout@sakilacustomer.org\",\"address_id\":316,\"activebool\":true,\"create_date\":\"2006-02-14\",\"last_update\":\"2013-05-26T14:49:45.738\",\"active\":1}",
         "2023-10-12T15:55:37.269+0000"
        ],
        [
         "5040a29f-12de-4a8e-9e1c-a1a006cdbe75",
         "{\"customer_id\":312,\"store_id\":2,\"first_name\":\"Mark\",\"last_name\":\"Rinehart\",\"email\":\"mark.rinehart@sakilacustomer.org\",\"address_id\":317,\"activebool\":true,\"create_date\":\"2006-02-14\",\"last_update\":\"2013-05-26T14:49:45.738\",\"active\":1}",
         "2023-10-12T15:55:37.269+0000"
        ],
        [
         "99f3305a-9616-4889-8755-8ed5258647e0",
         "{\"customer_id\":313,\"store_id\":2,\"first_name\":\"Donald\",\"last_name\":\"Mahon\",\"email\":\"donald.mahon@sakilacustomer.org\",\"address_id\":318,\"activebool\":true,\"create_date\":\"2006-02-14\",\"last_update\":\"2013-05-26T14:49:45.738\",\"active\":1}",
         "2023-10-12T15:55:37.269+0000"
        ],
        [
         "cef5bb1a-d003-4d68-b79b-53da75db96f9",
         "{\"customer_id\":314,\"store_id\":1,\"first_name\":\"George\",\"last_name\":\"Linton\",\"email\":\"george.linton@sakilacustomer.org\",\"address_id\":319,\"activebool\":true,\"create_date\":\"2006-02-14\",\"last_update\":\"2013-05-26T14:49:45.738\",\"active\":1}",
         "2023-10-12T15:55:37.269+0000"
        ],
        [
         "5a24c75c-d8ce-4d2d-821d-4163247110b7",
         "{\"customer_id\":315,\"store_id\":2,\"first_name\":\"Kenneth\",\"last_name\":\"Gooden\",\"email\":\"kenneth.gooden@sakilacustomer.org\",\"address_id\":320,\"activebool\":true,\"create_date\":\"2006-02-14\",\"last_update\":\"2013-05-26T14:49:45.738\",\"active\":0}",
         "2023-10-12T15:55:37.269+0000"
        ],
        [
         "fc6ab3d4-fdff-4c51-9277-bdbb5d8c9934",
         "{\"customer_id\":316,\"store_id\":1,\"first_name\":\"Steven\",\"last_name\":\"Curley\",\"email\":\"steven.curley@sakilacustomer.org\",\"address_id\":321,\"activebool\":true,\"create_date\":\"2006-02-14\",\"last_update\":\"2013-05-26T14:49:45.738\",\"active\":1}",
         "2023-10-12T15:55:37.269+0000"
        ],
        [
         "be91bb8a-aecb-4537-8e18-565790b7fbba",
         "{\"customer_id\":317,\"store_id\":2,\"first_name\":\"Edward\",\"last_name\":\"Baugh\",\"email\":\"edward.baugh@sakilacustomer.org\",\"address_id\":322,\"activebool\":true,\"create_date\":\"2006-02-14\",\"last_update\":\"2013-05-26T14:49:45.738\",\"active\":1}",
         "2023-10-12T15:55:37.269+0000"
        ],
        [
         "c6139e6f-166f-4613-acbc-74fa4523f277",
         "{\"customer_id\":318,\"store_id\":1,\"first_name\":\"Brian\",\"last_name\":\"Wyman\",\"email\":\"brian.wyman@sakilacustomer.org\",\"address_id\":323,\"activebool\":true,\"create_date\":\"2006-02-14\",\"last_update\":\"2013-05-26T14:49:45.738\",\"active\":1}",
         "2023-10-12T15:55:37.269+0000"
        ],
        [
         "b7736479-49af-4304-8f23-c90968206097",
         "{\"customer_id\":319,\"store_id\":2,\"first_name\":\"Ronald\",\"last_name\":\"Weiner\",\"email\":\"ronald.weiner@sakilacustomer.org\",\"address_id\":324,\"activebool\":true,\"create_date\":\"2006-02-14\",\"last_update\":\"2013-05-26T14:49:45.738\",\"active\":1}",
         "2023-10-12T15:55:37.269+0000"
        ],
        [
         "87cdd745-7e32-4ccd-9ec5-b9008fea5332",
         "{\"customer_id\":320,\"store_id\":2,\"first_name\":\"Anthony\",\"last_name\":\"Schwab\",\"email\":\"anthony.schwab@sakilacustomer.org\",\"address_id\":325,\"activebool\":true,\"create_date\":\"2006-02-14\",\"last_update\":\"2013-05-26T14:49:45.738\",\"active\":1}",
         "2023-10-12T15:55:37.269+0000"
        ],
        [
         "ac37d845-4e2b-4200-86e1-b7237b4456a1",
         "{\"customer_id\":321,\"store_id\":1,\"first_name\":\"Kevin\",\"last_name\":\"Schuler\",\"email\":\"kevin.schuler@sakilacustomer.org\",\"address_id\":326,\"activebool\":true,\"create_date\":\"2006-02-14\",\"last_update\":\"2013-05-26T14:49:45.738\",\"active\":1}",
         "2023-10-12T15:55:37.269+0000"
        ],
        [
         "556c7619-f8d4-42a3-b4ec-d8a9d17414f5",
         "{\"customer_id\":322,\"store_id\":1,\"first_name\":\"Jason\",\"last_name\":\"Morrissey\",\"email\":\"jason.morrissey@sakilacustomer.org\",\"address_id\":327,\"activebool\":true,\"create_date\":\"2006-02-14\",\"last_update\":\"2013-05-26T14:49:45.738\",\"active\":1}",
         "2023-10-12T15:55:37.269+0000"
        ],
        [
         "b88c1ecd-6563-4a4b-b2b7-57a013202363",
         "{\"customer_id\":323,\"store_id\":2,\"first_name\":\"Matthew\",\"last_name\":\"Mahan\",\"email\":\"matthew.mahan@sakilacustomer.org\",\"address_id\":328,\"activebool\":true,\"create_date\":\"2006-02-14\",\"last_update\":\"2013-05-26T14:49:45.738\",\"active\":1}",
         "2023-10-12T15:55:37.269+0000"
        ],
        [
         "a65f1a24-e242-4592-876e-de9e55d773e3",
         "{\"customer_id\":324,\"store_id\":2,\"first_name\":\"Gary\",\"last_name\":\"Coy\",\"email\":\"gary.coy@sakilacustomer.org\",\"address_id\":329,\"activebool\":true,\"create_date\":\"2006-02-14\",\"last_update\":\"2013-05-26T14:49:45.738\",\"active\":1}",
         "2023-10-12T15:55:37.269+0000"
        ],
        [
         "2f872fcb-f0f3-4ac8-9485-12816d470ab0",
         "{\"customer_id\":325,\"store_id\":1,\"first_name\":\"Timothy\",\"last_name\":\"Bunn\",\"email\":\"timothy.bunn@sakilacustomer.org\",\"address_id\":330,\"activebool\":true,\"create_date\":\"2006-02-14\",\"last_update\":\"2013-05-26T14:49:45.738\",\"active\":1}",
         "2023-10-12T15:55:37.269+0000"
        ],
        [
         "b326052e-714c-4436-b3a5-67c46fef6f26",
         "{\"customer_id\":326,\"store_id\":1,\"first_name\":\"Jose\",\"last_name\":\"Andrew\",\"email\":\"jose.andrew@sakilacustomer.org\",\"address_id\":331,\"activebool\":true,\"create_date\":\"2006-02-14\",\"last_update\":\"2013-05-26T14:49:45.738\",\"active\":1}",
         "2023-10-12T15:55:37.269+0000"
        ],
        [
         "6d4c7e17-63b2-454b-9650-d6f587e970d2",
         "{\"customer_id\":327,\"store_id\":2,\"first_name\":\"Larry\",\"last_name\":\"Thrasher\",\"email\":\"larry.thrasher@sakilacustomer.org\",\"address_id\":332,\"activebool\":true,\"create_date\":\"2006-02-14\",\"last_update\":\"2013-05-26T14:49:45.738\",\"active\":1}",
         "2023-10-12T15:55:37.269+0000"
        ],
        [
         "aab7938f-44dc-4ec4-b5af-403b5b0f11ba",
         "{\"customer_id\":328,\"store_id\":2,\"first_name\":\"Jeffrey\",\"last_name\":\"Spear\",\"email\":\"jeffrey.spear@sakilacustomer.org\",\"address_id\":333,\"activebool\":true,\"create_date\":\"2006-02-14\",\"last_update\":\"2013-05-26T14:49:45.738\",\"active\":1}",
         "2023-10-12T15:55:37.269+0000"
        ],
        [
         "1bc9e651-f7fe-4c04-9513-6e320c7502e7",
         "{\"customer_id\":329,\"store_id\":2,\"first_name\":\"Frank\",\"last_name\":\"Waggoner\",\"email\":\"frank.waggoner@sakilacustomer.org\",\"address_id\":334,\"activebool\":true,\"create_date\":\"2006-02-14\",\"last_update\":\"2013-05-26T14:49:45.738\",\"active\":1}",
         "2023-10-12T15:55:37.269+0000"
        ],
        [
         "f397e013-7243-44ce-b5d1-1bb06a77c2ed",
         "{\"customer_id\":330,\"store_id\":1,\"first_name\":\"Scott\",\"last_name\":\"Shelley\",\"email\":\"scott.shelley@sakilacustomer.org\",\"address_id\":335,\"activebool\":true,\"create_date\":\"2006-02-14\",\"last_update\":\"2013-05-26T14:49:45.738\",\"active\":1}",
         "2023-10-12T15:55:37.269+0000"
        ],
        [
         "ddbe637f-10a8-44dd-92fc-986cfd35a764",
         "{\"customer_id\":331,\"store_id\":1,\"first_name\":\"Eric\",\"last_name\":\"Robert\",\"email\":\"eric.robert@sakilacustomer.org\",\"address_id\":336,\"activebool\":true,\"create_date\":\"2006-02-14\",\"last_update\":\"2013-05-26T14:49:45.738\",\"active\":1}",
         "2023-10-12T15:55:37.269+0000"
        ],
        [
         "aad332bf-e865-451e-a623-7341d8d84181",
         "{\"customer_id\":332,\"store_id\":1,\"first_name\":\"Stephen\",\"last_name\":\"Qualls\",\"email\":\"stephen.qualls@sakilacustomer.org\",\"address_id\":337,\"activebool\":true,\"create_date\":\"2006-02-14\",\"last_update\":\"2013-05-26T14:49:45.738\",\"active\":1}",
         "2023-10-12T15:55:37.269+0000"
        ],
        [
         "3b70f2b8-9afa-4cc9-90b9-0bbfe11cdaa3",
         "{\"customer_id\":333,\"store_id\":2,\"first_name\":\"Andrew\",\"last_name\":\"Purdy\",\"email\":\"andrew.purdy@sakilacustomer.org\",\"address_id\":338,\"activebool\":true,\"create_date\":\"2006-02-14\",\"last_update\":\"2013-05-26T14:49:45.738\",\"active\":1}",
         "2023-10-12T15:55:37.269+0000"
        ],
        [
         "55c8bd28-2e06-474e-9578-87d8bdb91196",
         "{\"customer_id\":334,\"store_id\":2,\"first_name\":\"Raymond\",\"last_name\":\"Mcwhorter\",\"email\":\"raymond.mcwhorter@sakilacustomer.org\",\"address_id\":339,\"activebool\":true,\"create_date\":\"2006-02-14\",\"last_update\":\"2013-05-26T14:49:45.738\",\"active\":1}",
         "2023-10-12T15:55:37.269+0000"
        ],
        [
         "596af08d-3148-4394-b069-ed8307b4ded0",
         "{\"customer_id\":335,\"store_id\":1,\"first_name\":\"Gregory\",\"last_name\":\"Mauldin\",\"email\":\"gregory.mauldin@sakilacustomer.org\",\"address_id\":340,\"activebool\":true,\"create_date\":\"2006-02-14\",\"last_update\":\"2013-05-26T14:49:45.738\",\"active\":1}",
         "2023-10-12T15:55:37.269+0000"
        ],
        [
         "b8ac8cdd-94ab-4e76-939e-1de55ed07849",
         "{\"customer_id\":336,\"store_id\":1,\"first_name\":\"Joshua\",\"last_name\":\"Mark\",\"email\":\"joshua.mark@sakilacustomer.org\",\"address_id\":341,\"activebool\":true,\"create_date\":\"2006-02-14\",\"last_update\":\"2013-05-26T14:49:45.738\",\"active\":1}",
         "2023-10-12T15:55:37.269+0000"
        ],
        [
         "58dedcf8-edce-4515-ad74-0574985eb260",
         "{\"customer_id\":337,\"store_id\":1,\"first_name\":\"Jerry\",\"last_name\":\"Jordon\",\"email\":\"jerry.jordon@sakilacustomer.org\",\"address_id\":342,\"activebool\":true,\"create_date\":\"2006-02-14\",\"last_update\":\"2013-05-26T14:49:45.738\",\"active\":1}",
         "2023-10-12T15:55:37.269+0000"
        ],
        [
         "08380bf8-8b4b-49b8-a908-19d268936bc8",
         "{\"customer_id\":338,\"store_id\":1,\"first_name\":\"Dennis\",\"last_name\":\"Gilman\",\"email\":\"dennis.gilman@sakilacustomer.org\",\"address_id\":343,\"activebool\":true,\"create_date\":\"2006-02-14\",\"last_update\":\"2013-05-26T14:49:45.738\",\"active\":1}",
         "2023-10-12T15:55:37.269+0000"
        ],
        [
         "f7e91426-b9e3-40a9-818f-0f1e0ab4a201",
         "{\"customer_id\":339,\"store_id\":2,\"first_name\":\"Walter\",\"last_name\":\"Perryman\",\"email\":\"walter.perryman@sakilacustomer.org\",\"address_id\":344,\"activebool\":true,\"create_date\":\"2006-02-14\",\"last_update\":\"2013-05-26T14:49:45.738\",\"active\":1}",
         "2023-10-12T15:55:37.269+0000"
        ],
        [
         "55eae4bc-fce8-43ac-984b-158670c76221",
         "{\"customer_id\":340,\"store_id\":1,\"first_name\":\"Patrick\",\"last_name\":\"Newsom\",\"email\":\"patrick.newsom@sakilacustomer.org\",\"address_id\":345,\"activebool\":true,\"create_date\":\"2006-02-14\",\"last_update\":\"2013-05-26T14:49:45.738\",\"active\":1}",
         "2023-10-12T15:55:37.269+0000"
        ],
        [
         "43412526-bdaf-41ef-90db-23e2a87dd854",
         "{\"customer_id\":341,\"store_id\":1,\"first_name\":\"Peter\",\"last_name\":\"Menard\",\"email\":\"peter.menard@sakilacustomer.org\",\"address_id\":346,\"activebool\":true,\"create_date\":\"2006-02-14\",\"last_update\":\"2013-05-26T14:49:45.738\",\"active\":1}",
         "2023-10-12T15:55:37.269+0000"
        ],
        [
         "21e53e51-6ea2-49c9-a0c7-f1dd3ab250c3",
         "{\"customer_id\":342,\"store_id\":1,\"first_name\":\"Harold\",\"last_name\":\"Martino\",\"email\":\"harold.martino@sakilacustomer.org\",\"address_id\":347,\"activebool\":true,\"create_date\":\"2006-02-14\",\"last_update\":\"2013-05-26T14:49:45.738\",\"active\":1}",
         "2023-10-12T15:55:37.269+0000"
        ],
        [
         "14b318b4-4564-466c-9167-61e8515d2fc1",
         "{\"customer_id\":343,\"store_id\":1,\"first_name\":\"Douglas\",\"last_name\":\"Graf\",\"email\":\"douglas.graf@sakilacustomer.org\",\"address_id\":348,\"activebool\":true,\"create_date\":\"2006-02-14\",\"last_update\":\"2013-05-26T14:49:45.738\",\"active\":1}",
         "2023-10-12T15:55:37.269+0000"
        ],
        [
         "49560cc5-a24e-465b-a595-5a9eea81c429",
         "{\"customer_id\":344,\"store_id\":1,\"first_name\":\"Henry\",\"last_name\":\"Billingsley\",\"email\":\"henry.billingsley@sakilacustomer.org\",\"address_id\":349,\"activebool\":true,\"create_date\":\"2006-02-14\",\"last_update\":\"2013-05-26T14:49:45.738\",\"active\":1}",
         "2023-10-12T15:55:37.269+0000"
        ],
        [
         "678d0d4f-2bae-4b0d-9bbe-bf304261e3cc",
         "{\"customer_id\":345,\"store_id\":1,\"first_name\":\"Carl\",\"last_name\":\"Artis\",\"email\":\"carl.artis@sakilacustomer.org\",\"address_id\":350,\"activebool\":true,\"create_date\":\"2006-02-14\",\"last_update\":\"2013-05-26T14:49:45.738\",\"active\":1}",
         "2023-10-12T15:55:37.269+0000"
        ],
        [
         "e5afaa50-93d4-426b-bfc2-4f4bb08e50f1",
         "{\"customer_id\":346,\"store_id\":1,\"first_name\":\"Arthur\",\"last_name\":\"Simpkins\",\"email\":\"arthur.simpkins@sakilacustomer.org\",\"address_id\":351,\"activebool\":true,\"create_date\":\"2006-02-14\",\"last_update\":\"2013-05-26T14:49:45.738\",\"active\":1}",
         "2023-10-12T15:55:37.269+0000"
        ],
        [
         "fb60284f-8d37-48a1-894a-5c375a5e4196",
         "{\"customer_id\":347,\"store_id\":2,\"first_name\":\"Ryan\",\"last_name\":\"Salisbury\",\"email\":\"ryan.salisbury@sakilacustomer.org\",\"address_id\":352,\"activebool\":true,\"create_date\":\"2006-02-14\",\"last_update\":\"2013-05-26T14:49:45.738\",\"active\":1}",
         "2023-10-12T15:55:37.269+0000"
        ],
        [
         "09c5bde9-5248-41b3-a63c-847ee6fdaf46",
         "{\"customer_id\":348,\"store_id\":2,\"first_name\":\"Roger\",\"last_name\":\"Quintanilla\",\"email\":\"roger.quintanilla@sakilacustomer.org\",\"address_id\":353,\"activebool\":true,\"create_date\":\"2006-02-14\",\"last_update\":\"2013-05-26T14:49:45.738\",\"active\":1}",
         "2023-10-12T15:55:37.269+0000"
        ],
        [
         "ef042b00-6a17-4b7b-a5e1-c829c47b4d3b",
         "{\"customer_id\":349,\"store_id\":2,\"first_name\":\"Joe\",\"last_name\":\"Gilliland\",\"email\":\"joe.gilliland@sakilacustomer.org\",\"address_id\":354,\"activebool\":true,\"create_date\":\"2006-02-14\",\"last_update\":\"2013-05-26T14:49:45.738\",\"active\":1}",
         "2023-10-12T15:55:37.269+0000"
        ],
        [
         "48136647-9654-455b-b301-bb7b1770c7be",
         "{\"customer_id\":350,\"store_id\":1,\"first_name\":\"Juan\",\"last_name\":\"Fraley\",\"email\":\"juan.fraley@sakilacustomer.org\",\"address_id\":355,\"activebool\":true,\"create_date\":\"2006-02-14\",\"last_update\":\"2013-05-26T14:49:45.738\",\"active\":1}",
         "2023-10-12T15:55:37.269+0000"
        ],
        [
         "f5ac5bc8-78f0-4358-af48-b89a1a01e51e",
         "{\"customer_id\":351,\"store_id\":1,\"first_name\":\"Jack\",\"last_name\":\"Foust\",\"email\":\"jack.foust@sakilacustomer.org\",\"address_id\":356,\"activebool\":true,\"create_date\":\"2006-02-14\",\"last_update\":\"2013-05-26T14:49:45.738\",\"active\":1}",
         "2023-10-12T15:55:37.269+0000"
        ],
        [
         "85408a59-cc36-4f4e-9ad3-70c99bd22c83",
         "{\"customer_id\":352,\"store_id\":1,\"first_name\":\"Albert\",\"last_name\":\"Crouse\",\"email\":\"albert.crouse@sakilacustomer.org\",\"address_id\":357,\"activebool\":true,\"create_date\":\"2006-02-14\",\"last_update\":\"2013-05-26T14:49:45.738\",\"active\":1}",
         "2023-10-12T15:55:37.269+0000"
        ],
        [
         "3c276725-b1b0-4663-bbf3-ee4e002ef64a",
         "{\"customer_id\":353,\"store_id\":1,\"first_name\":\"Jonathan\",\"last_name\":\"Scarborough\",\"email\":\"jonathan.scarborough@sakilacustomer.org\",\"address_id\":358,\"activebool\":true,\"create_date\":\"2006-02-14\",\"last_update\":\"2013-05-26T14:49:45.738\",\"active\":1}",
         "2023-10-12T15:55:37.269+0000"
        ],
        [
         "a8820d7c-1f6e-465c-ac91-46756da1b5c0",
         "{\"customer_id\":354,\"store_id\":2,\"first_name\":\"Justin\",\"last_name\":\"Ngo\",\"email\":\"justin.ngo@sakilacustomer.org\",\"address_id\":359,\"activebool\":true,\"create_date\":\"2006-02-14\",\"last_update\":\"2013-05-26T14:49:45.738\",\"active\":1}",
         "2023-10-12T15:55:37.269+0000"
        ],
        [
         "8246fc2a-8a28-4258-8179-5fc25e339545",
         "{\"customer_id\":355,\"store_id\":2,\"first_name\":\"Terry\",\"last_name\":\"Grissom\",\"email\":\"terry.grissom@sakilacustomer.org\",\"address_id\":360,\"activebool\":true,\"create_date\":\"2006-02-14\",\"last_update\":\"2013-05-26T14:49:45.738\",\"active\":1}",
         "2023-10-12T15:55:37.269+0000"
        ],
        [
         "beae0795-c91b-4117-9f26-1096cab2d8db",
         "{\"customer_id\":356,\"store_id\":2,\"first_name\":\"Gerald\",\"last_name\":\"Fultz\",\"email\":\"gerald.fultz@sakilacustomer.org\",\"address_id\":361,\"activebool\":true,\"create_date\":\"2006-02-14\",\"last_update\":\"2013-05-26T14:49:45.738\",\"active\":1}",
         "2023-10-12T15:55:37.269+0000"
        ],
        [
         "64935a3e-de48-455e-afaa-8724c58bec41",
         "{\"customer_id\":357,\"store_id\":1,\"first_name\":\"Keith\",\"last_name\":\"Rico\",\"email\":\"keith.rico@sakilacustomer.org\",\"address_id\":362,\"activebool\":true,\"create_date\":\"2006-02-14\",\"last_update\":\"2013-05-26T14:49:45.738\",\"active\":1}",
         "2023-10-12T15:55:37.269+0000"
        ],
        [
         "f7616979-a08b-45cc-940e-6355cf54efae",
         "{\"customer_id\":358,\"store_id\":2,\"first_name\":\"Samuel\",\"last_name\":\"Marlow\",\"email\":\"samuel.marlow@sakilacustomer.org\",\"address_id\":363,\"activebool\":true,\"create_date\":\"2006-02-14\",\"last_update\":\"2013-05-26T14:49:45.738\",\"active\":1}",
         "2023-10-12T15:55:37.269+0000"
        ],
        [
         "085e1fd3-50ae-4fd5-ae40-1a19f272692c",
         "{\"customer_id\":359,\"store_id\":2,\"first_name\":\"Willie\",\"last_name\":\"Markham\",\"email\":\"willie.markham@sakilacustomer.org\",\"address_id\":364,\"activebool\":true,\"create_date\":\"2006-02-14\",\"last_update\":\"2013-05-26T14:49:45.738\",\"active\":1}",
         "2023-10-12T15:55:37.269+0000"
        ],
        [
         "2ebaedc4-20c8-4d25-b41d-3c3d74c403ab",
         "{\"customer_id\":360,\"store_id\":2,\"first_name\":\"Ralph\",\"last_name\":\"Madrigal\",\"email\":\"ralph.madrigal@sakilacustomer.org\",\"address_id\":365,\"activebool\":true,\"create_date\":\"2006-02-14\",\"last_update\":\"2013-05-26T14:49:45.738\",\"active\":1}",
         "2023-10-12T15:55:37.269+0000"
        ],
        [
         "a52f169b-6deb-4271-99ae-4954aa2e68f0",
         "{\"customer_id\":361,\"store_id\":2,\"first_name\":\"Lawrence\",\"last_name\":\"Lawton\",\"email\":\"lawrence.lawton@sakilacustomer.org\",\"address_id\":366,\"activebool\":true,\"create_date\":\"2006-02-14\",\"last_update\":\"2013-05-26T14:49:45.738\",\"active\":1}",
         "2023-10-12T15:55:37.269+0000"
        ],
        [
         "4ac591bc-3d77-4abb-b8f4-141594dbea61",
         "{\"customer_id\":362,\"store_id\":1,\"first_name\":\"Nicholas\",\"last_name\":\"Barfield\",\"email\":\"nicholas.barfield@sakilacustomer.org\",\"address_id\":367,\"activebool\":true,\"create_date\":\"2006-02-14\",\"last_update\":\"2013-05-26T14:49:45.738\",\"active\":1}",
         "2023-10-12T15:55:37.269+0000"
        ],
        [
         "cf62f34c-e1c1-4089-b785-0cb17289a05a",
         "{\"customer_id\":363,\"store_id\":2,\"first_name\":\"Roy\",\"last_name\":\"Whiting\",\"email\":\"roy.whiting@sakilacustomer.org\",\"address_id\":368,\"activebool\":true,\"create_date\":\"2006-02-14\",\"last_update\":\"2013-05-26T14:49:45.738\",\"active\":1}",
         "2023-10-12T15:55:37.269+0000"
        ],
        [
         "f343998d-ca9d-4740-980d-bcbbd9e660eb",
         "{\"customer_id\":364,\"store_id\":1,\"first_name\":\"Benjamin\",\"last_name\":\"Varney\",\"email\":\"benjamin.varney@sakilacustomer.org\",\"address_id\":369,\"activebool\":true,\"create_date\":\"2006-02-14\",\"last_update\":\"2013-05-26T14:49:45.738\",\"active\":1}",
         "2023-10-12T15:55:37.269+0000"
        ],
        [
         "f99f85bc-7fc8-414a-8a35-fc37c7f6d47a",
         "{\"customer_id\":365,\"store_id\":2,\"first_name\":\"Bruce\",\"last_name\":\"Schwarz\",\"email\":\"bruce.schwarz@sakilacustomer.org\",\"address_id\":370,\"activebool\":true,\"create_date\":\"2006-02-14\",\"last_update\":\"2013-05-26T14:49:45.738\",\"active\":1}",
         "2023-10-12T15:55:37.269+0000"
        ],
        [
         "950f296c-4828-47ce-99c3-94d82a5d0194",
         "{\"customer_id\":366,\"store_id\":1,\"first_name\":\"Brandon\",\"last_name\":\"Huey\",\"email\":\"brandon.huey@sakilacustomer.org\",\"address_id\":371,\"activebool\":true,\"create_date\":\"2006-02-14\",\"last_update\":\"2013-05-26T14:49:45.738\",\"active\":1}",
         "2023-10-12T15:55:37.269+0000"
        ],
        [
         "01cb8492-2684-4d82-9faa-6b36b97caab2",
         "{\"customer_id\":367,\"store_id\":1,\"first_name\":\"Adam\",\"last_name\":\"Gooch\",\"email\":\"adam.gooch@sakilacustomer.org\",\"address_id\":372,\"activebool\":true,\"create_date\":\"2006-02-14\",\"last_update\":\"2013-05-26T14:49:45.738\",\"active\":1}",
         "2023-10-12T15:55:37.269+0000"
        ],
        [
         "02c28109-111d-479e-9f0c-5117da124b08",
         "{\"customer_id\":368,\"store_id\":1,\"first_name\":\"Harry\",\"last_name\":\"Arce\",\"email\":\"harry.arce@sakilacustomer.org\",\"address_id\":373,\"activebool\":true,\"create_date\":\"2006-02-14\",\"last_update\":\"2013-05-26T14:49:45.738\",\"active\":0}",
         "2023-10-12T15:55:37.269+0000"
        ],
        [
         "d15ca63f-7843-409d-b713-6e1818088709",
         "{\"customer_id\":369,\"store_id\":2,\"first_name\":\"Fred\",\"last_name\":\"Wheat\",\"email\":\"fred.wheat@sakilacustomer.org\",\"address_id\":374,\"activebool\":true,\"create_date\":\"2006-02-14\",\"last_update\":\"2013-05-26T14:49:45.738\",\"active\":1}",
         "2023-10-12T15:55:37.269+0000"
        ],
        [
         "789da7c3-0317-477b-b60e-082d7dee5152",
         "{\"customer_id\":370,\"store_id\":2,\"first_name\":\"Wayne\",\"last_name\":\"Truong\",\"email\":\"wayne.truong@sakilacustomer.org\",\"address_id\":375,\"activebool\":true,\"create_date\":\"2006-02-14\",\"last_update\":\"2013-05-26T14:49:45.738\",\"active\":1}",
         "2023-10-12T15:55:37.269+0000"
        ],
        [
         "5c513484-9ac0-4022-9678-0449b84d0841",
         "{\"customer_id\":371,\"store_id\":1,\"first_name\":\"Billy\",\"last_name\":\"Poulin\",\"email\":\"billy.poulin@sakilacustomer.org\",\"address_id\":376,\"activebool\":true,\"create_date\":\"2006-02-14\",\"last_update\":\"2013-05-26T14:49:45.738\",\"active\":1}",
         "2023-10-12T15:55:37.269+0000"
        ],
        [
         "314b772b-c034-4df3-bb8e-5433540e2546",
         "{\"customer_id\":372,\"store_id\":2,\"first_name\":\"Steve\",\"last_name\":\"Mackenzie\",\"email\":\"steve.mackenzie@sakilacustomer.org\",\"address_id\":377,\"activebool\":true,\"create_date\":\"2006-02-14\",\"last_update\":\"2013-05-26T14:49:45.738\",\"active\":1}",
         "2023-10-12T15:55:37.269+0000"
        ],
        [
         "3025b95e-7412-4b8f-802d-bd99bdd34eba",
         "{\"customer_id\":373,\"store_id\":1,\"first_name\":\"Louis\",\"last_name\":\"Leone\",\"email\":\"louis.leone@sakilacustomer.org\",\"address_id\":378,\"activebool\":true,\"create_date\":\"2006-02-14\",\"last_update\":\"2013-05-26T14:49:45.738\",\"active\":1}",
         "2023-10-12T15:55:37.269+0000"
        ],
        [
         "ecb69601-f0b5-42f0-aa08-04ae7e6fafe8",
         "{\"customer_id\":374,\"store_id\":2,\"first_name\":\"Jeremy\",\"last_name\":\"Hurtado\",\"email\":\"jeremy.hurtado@sakilacustomer.org\",\"address_id\":379,\"activebool\":true,\"create_date\":\"2006-02-14\",\"last_update\":\"2013-05-26T14:49:45.738\",\"active\":1}",
         "2023-10-12T15:55:37.269+0000"
        ],
        [
         "72a75504-4292-4366-a4bc-6bd1f5d075c7",
         "{\"customer_id\":375,\"store_id\":2,\"first_name\":\"Aaron\",\"last_name\":\"Selby\",\"email\":\"aaron.selby@sakilacustomer.org\",\"address_id\":380,\"activebool\":true,\"create_date\":\"2006-02-14\",\"last_update\":\"2013-05-26T14:49:45.738\",\"active\":1}",
         "2023-10-12T15:55:37.269+0000"
        ],
        [
         "e897695b-c7ce-450c-b3cf-bc2560f2726b",
         "{\"customer_id\":376,\"store_id\":1,\"first_name\":\"Randy\",\"last_name\":\"Gaither\",\"email\":\"randy.gaither@sakilacustomer.org\",\"address_id\":381,\"activebool\":true,\"create_date\":\"2006-02-14\",\"last_update\":\"2013-05-26T14:49:45.738\",\"active\":1}",
         "2023-10-12T15:55:37.269+0000"
        ],
        [
         "34e3e4bc-104e-4c44-aac3-1fb6b6f1a9f7",
         "{\"customer_id\":377,\"store_id\":1,\"first_name\":\"Howard\",\"last_name\":\"Fortner\",\"email\":\"howard.fortner@sakilacustomer.org\",\"address_id\":382,\"activebool\":true,\"create_date\":\"2006-02-14\",\"last_update\":\"2013-05-26T14:49:45.738\",\"active\":1}",
         "2023-10-12T15:55:37.269+0000"
        ],
        [
         "5f4dfae3-be75-445a-8749-db3aa89e2425",
         "{\"customer_id\":378,\"store_id\":1,\"first_name\":\"Eugene\",\"last_name\":\"Culpepper\",\"email\":\"eugene.culpepper@sakilacustomer.org\",\"address_id\":383,\"activebool\":true,\"create_date\":\"2006-02-14\",\"last_update\":\"2013-05-26T14:49:45.738\",\"active\":1}",
         "2023-10-12T15:55:37.269+0000"
        ],
        [
         "71b3c62f-f1ec-4ea8-850c-a1896db6a6b2",
         "{\"customer_id\":379,\"store_id\":1,\"first_name\":\"Carlos\",\"last_name\":\"Coughlin\",\"email\":\"carlos.coughlin@sakilacustomer.org\",\"address_id\":384,\"activebool\":true,\"create_date\":\"2006-02-14\",\"last_update\":\"2013-05-26T14:49:45.738\",\"active\":1}",
         "2023-10-12T15:55:37.269+0000"
        ],
        [
         "1de63123-e954-4932-bf86-67ee84a39749",
         "{\"customer_id\":380,\"store_id\":1,\"first_name\":\"Russell\",\"last_name\":\"Brinson\",\"email\":\"russell.brinson@sakilacustomer.org\",\"address_id\":385,\"activebool\":true,\"create_date\":\"2006-02-14\",\"last_update\":\"2013-05-26T14:49:45.738\",\"active\":1}",
         "2023-10-12T15:55:37.269+0000"
        ],
        [
         "40f72c67-4af3-4e84-9c85-bf3890b3ce47",
         "{\"customer_id\":381,\"store_id\":2,\"first_name\":\"Bobby\",\"last_name\":\"Boudreau\",\"email\":\"bobby.boudreau@sakilacustomer.org\",\"address_id\":386,\"activebool\":true,\"create_date\":\"2006-02-14\",\"last_update\":\"2013-05-26T14:49:45.738\",\"active\":1}",
         "2023-10-12T15:55:37.269+0000"
        ],
        [
         "45f04e62-ca36-4dbb-952e-10ed0c6a23aa",
         "{\"customer_id\":382,\"store_id\":2,\"first_name\":\"Victor\",\"last_name\":\"Barkley\",\"email\":\"victor.barkley@sakilacustomer.org\",\"address_id\":387,\"activebool\":true,\"create_date\":\"2006-02-14\",\"last_update\":\"2013-05-26T14:49:45.738\",\"active\":1}",
         "2023-10-12T15:55:37.269+0000"
        ],
        [
         "97ce22e7-7381-463c-8b78-5b36b5a28e54",
         "{\"customer_id\":383,\"store_id\":1,\"first_name\":\"Martin\",\"last_name\":\"Bales\",\"email\":\"martin.bales@sakilacustomer.org\",\"address_id\":388,\"activebool\":true,\"create_date\":\"2006-02-14\",\"last_update\":\"2013-05-26T14:49:45.738\",\"active\":1}",
         "2023-10-12T15:55:37.269+0000"
        ],
        [
         "806a7c68-71d9-40f8-aa1a-ba43cbd95639",
         "{\"customer_id\":384,\"store_id\":2,\"first_name\":\"Ernest\",\"last_name\":\"Stepp\",\"email\":\"ernest.stepp@sakilacustomer.org\",\"address_id\":389,\"activebool\":true,\"create_date\":\"2006-02-14\",\"last_update\":\"2013-05-26T14:49:45.738\",\"active\":1}",
         "2023-10-12T15:55:37.269+0000"
        ],
        [
         "ec6ab2a7-1b1e-4fb1-9932-48be748e2808",
         "{\"customer_id\":385,\"store_id\":1,\"first_name\":\"Phillip\",\"last_name\":\"Holm\",\"email\":\"phillip.holm@sakilacustomer.org\",\"address_id\":390,\"activebool\":true,\"create_date\":\"2006-02-14\",\"last_update\":\"2013-05-26T14:49:45.738\",\"active\":1}",
         "2023-10-12T15:55:37.269+0000"
        ],
        [
         "cd716e62-0484-4753-9011-dbb2d9416640",
         "{\"customer_id\":386,\"store_id\":1,\"first_name\":\"Todd\",\"last_name\":\"Tan\",\"email\":\"todd.tan@sakilacustomer.org\",\"address_id\":391,\"activebool\":true,\"create_date\":\"2006-02-14\",\"last_update\":\"2013-05-26T14:49:45.738\",\"active\":1}",
         "2023-10-12T15:55:37.269+0000"
        ],
        [
         "5dc81672-6ea7-4306-ae43-2391ab404c75",
         "{\"customer_id\":387,\"store_id\":2,\"first_name\":\"Jesse\",\"last_name\":\"Schilling\",\"email\":\"jesse.schilling@sakilacustomer.org\",\"address_id\":392,\"activebool\":true,\"create_date\":\"2006-02-14\",\"last_update\":\"2013-05-26T14:49:45.738\",\"active\":1}",
         "2023-10-12T15:55:37.269+0000"
        ],
        [
         "9c0c60af-91cc-4d87-a2ea-65af74e8c51b",
         "{\"customer_id\":388,\"store_id\":2,\"first_name\":\"Craig\",\"last_name\":\"Morrell\",\"email\":\"craig.morrell@sakilacustomer.org\",\"address_id\":393,\"activebool\":true,\"create_date\":\"2006-02-14\",\"last_update\":\"2013-05-26T14:49:45.738\",\"active\":1}",
         "2023-10-12T15:55:37.269+0000"
        ],
        [
         "7cc80aac-3f26-4a38-928d-dffa1e72d45e",
         "{\"customer_id\":389,\"store_id\":1,\"first_name\":\"Alan\",\"last_name\":\"Kahn\",\"email\":\"alan.kahn@sakilacustomer.org\",\"address_id\":394,\"activebool\":true,\"create_date\":\"2006-02-14\",\"last_update\":\"2013-05-26T14:49:45.738\",\"active\":1}",
         "2023-10-12T15:55:37.269+0000"
        ],
        [
         "1608fed7-f59d-479c-ae95-766d1a324e08",
         "{\"customer_id\":390,\"store_id\":1,\"first_name\":\"Shawn\",\"last_name\":\"Heaton\",\"email\":\"shawn.heaton@sakilacustomer.org\",\"address_id\":395,\"activebool\":true,\"create_date\":\"2006-02-14\",\"last_update\":\"2013-05-26T14:49:45.738\",\"active\":1}",
         "2023-10-12T15:55:37.269+0000"
        ],
        [
         "f87e1759-112d-4f39-b798-c7b13ea93888",
         "{\"customer_id\":391,\"store_id\":1,\"first_name\":\"Clarence\",\"last_name\":\"Gamez\",\"email\":\"clarence.gamez@sakilacustomer.org\",\"address_id\":396,\"activebool\":true,\"create_date\":\"2006-02-14\",\"last_update\":\"2013-05-26T14:49:45.738\",\"active\":1}",
         "2023-10-12T15:55:37.269+0000"
        ],
        [
         "fd7a26a6-4e90-4e57-b86a-18fcc707890a",
         "{\"customer_id\":392,\"store_id\":2,\"first_name\":\"Sean\",\"last_name\":\"Douglass\",\"email\":\"sean.douglass@sakilacustomer.org\",\"address_id\":397,\"activebool\":true,\"create_date\":\"2006-02-14\",\"last_update\":\"2013-05-26T14:49:45.738\",\"active\":1}",
         "2023-10-12T15:55:37.269+0000"
        ],
        [
         "5e78e9aa-9920-45ad-a29c-063a719d2159",
         "{\"customer_id\":393,\"store_id\":1,\"first_name\":\"Philip\",\"last_name\":\"Causey\",\"email\":\"philip.causey@sakilacustomer.org\",\"address_id\":398,\"activebool\":true,\"create_date\":\"2006-02-14\",\"last_update\":\"2013-05-26T14:49:45.738\",\"active\":1}",
         "2023-10-12T15:55:37.269+0000"
        ],
        [
         "74714fbf-2390-4ce6-8dd8-d5278f2ae0e1",
         "{\"customer_id\":394,\"store_id\":2,\"first_name\":\"Chris\",\"last_name\":\"Brothers\",\"email\":\"chris.brothers@sakilacustomer.org\",\"address_id\":399,\"activebool\":true,\"create_date\":\"2006-02-14\",\"last_update\":\"2013-05-26T14:49:45.738\",\"active\":1}",
         "2023-10-12T15:55:37.269+0000"
        ],
        [
         "8f9699c8-ccc6-4be3-9575-51055b483917",
         "{\"customer_id\":395,\"store_id\":2,\"first_name\":\"Johnny\",\"last_name\":\"Turpin\",\"email\":\"johnny.turpin@sakilacustomer.org\",\"address_id\":400,\"activebool\":true,\"create_date\":\"2006-02-14\",\"last_update\":\"2013-05-26T14:49:45.738\",\"active\":1}",
         "2023-10-12T15:55:37.269+0000"
        ],
        [
         "16c2ceb7-901e-4d28-a8d1-76377d71d98e",
         "{\"customer_id\":396,\"store_id\":1,\"first_name\":\"Earl\",\"last_name\":\"Shanks\",\"email\":\"earl.shanks@sakilacustomer.org\",\"address_id\":401,\"activebool\":true,\"create_date\":\"2006-02-14\",\"last_update\":\"2013-05-26T14:49:45.738\",\"active\":1}",
         "2023-10-12T15:55:37.269+0000"
        ],
        [
         "610a5e87-5588-41d0-8bdc-f6ebaee66099",
         "{\"customer_id\":397,\"store_id\":1,\"first_name\":\"Jimmy\",\"last_name\":\"Schrader\",\"email\":\"jimmy.schrader@sakilacustomer.org\",\"address_id\":402,\"activebool\":true,\"create_date\":\"2006-02-14\",\"last_update\":\"2013-05-26T14:49:45.738\",\"active\":1}",
         "2023-10-12T15:55:37.269+0000"
        ],
        [
         "643b9d61-5c59-4337-9d32-4658bb60a24e",
         "{\"customer_id\":398,\"store_id\":1,\"first_name\":\"Antonio\",\"last_name\":\"Meek\",\"email\":\"antonio.meek@sakilacustomer.org\",\"address_id\":403,\"activebool\":true,\"create_date\":\"2006-02-14\",\"last_update\":\"2013-05-26T14:49:45.738\",\"active\":1}",
         "2023-10-12T15:55:37.269+0000"
        ],
        [
         "80b54083-0b5b-4c69-869a-61a165fa0897",
         "{\"customer_id\":399,\"store_id\":1,\"first_name\":\"Danny\",\"last_name\":\"Isom\",\"email\":\"danny.isom@sakilacustomer.org\",\"address_id\":404,\"activebool\":true,\"create_date\":\"2006-02-14\",\"last_update\":\"2013-05-26T14:49:45.738\",\"active\":1}",
         "2023-10-12T15:55:37.269+0000"
        ],
        [
         "aad9f2c2-934f-40bd-87d8-fe5bf6da1aad",
         "{\"customer_id\":400,\"store_id\":2,\"first_name\":\"Bryan\",\"last_name\":\"Hardison\",\"email\":\"bryan.hardison@sakilacustomer.org\",\"address_id\":405,\"activebool\":true,\"create_date\":\"2006-02-14\",\"last_update\":\"2013-05-26T14:49:45.738\",\"active\":1}",
         "2023-10-12T15:55:37.269+0000"
        ],
        [
         "6d7964da-0d0f-4934-b93c-b45f995baad3",
         "{\"customer_id\":401,\"store_id\":2,\"first_name\":\"Tony\",\"last_name\":\"Carranza\",\"email\":\"tony.carranza@sakilacustomer.org\",\"address_id\":406,\"activebool\":true,\"create_date\":\"2006-02-14\",\"last_update\":\"2013-05-26T14:49:45.738\",\"active\":1}",
         "2023-10-12T15:55:37.269+0000"
        ],
        [
         "300e5c91-ad7b-48c3-8ebd-edf2906011a6",
         "{\"customer_id\":402,\"store_id\":1,\"first_name\":\"Luis\",\"last_name\":\"Yanez\",\"email\":\"luis.yanez@sakilacustomer.org\",\"address_id\":407,\"activebool\":true,\"create_date\":\"2006-02-14\",\"last_update\":\"2013-05-26T14:49:45.738\",\"active\":1}",
         "2023-10-12T15:55:37.269+0000"
        ],
        [
         "a1627a82-f0f0-48dd-a327-1cdb353727b8",
         "{\"customer_id\":403,\"store_id\":1,\"first_name\":\"Mike\",\"last_name\":\"Way\",\"email\":\"mike.way@sakilacustomer.org\",\"address_id\":408,\"activebool\":true,\"create_date\":\"2006-02-14\",\"last_update\":\"2013-05-26T14:49:45.738\",\"active\":1}",
         "2023-10-12T15:55:37.269+0000"
        ],
        [
         "897b9703-fe32-4454-a004-45d041f456e5",
         "{\"customer_id\":404,\"store_id\":2,\"first_name\":\"Stanley\",\"last_name\":\"Scroggins\",\"email\":\"stanley.scroggins@sakilacustomer.org\",\"address_id\":409,\"activebool\":true,\"create_date\":\"2006-02-14\",\"last_update\":\"2013-05-26T14:49:45.738\",\"active\":1}",
         "2023-10-12T15:55:37.269+0000"
        ],
        [
         "80072232-843c-4f2f-8a16-6be3f21781b7",
         "{\"customer_id\":405,\"store_id\":1,\"first_name\":\"Leonard\",\"last_name\":\"Schofield\",\"email\":\"leonard.schofield@sakilacustomer.org\",\"address_id\":410,\"activebool\":true,\"create_date\":\"2006-02-14\",\"last_update\":\"2013-05-26T14:49:45.738\",\"active\":1}",
         "2023-10-12T15:55:37.269+0000"
        ],
        [
         "51c46cf4-c2c0-4d6a-bb90-ac6a46146d7d",
         "{\"customer_id\":406,\"store_id\":1,\"first_name\":\"Nathan\",\"last_name\":\"Runyon\",\"email\":\"nathan.runyon@sakilacustomer.org\",\"address_id\":411,\"activebool\":true,\"create_date\":\"2006-02-14\",\"last_update\":\"2013-05-26T14:49:45.738\",\"active\":0}",
         "2023-10-12T15:55:37.269+0000"
        ],
        [
         "7bfe085f-e38c-416a-b3fb-6064f25d101b",
         "{\"customer_id\":407,\"store_id\":1,\"first_name\":\"Dale\",\"last_name\":\"Ratcliff\",\"email\":\"dale.ratcliff@sakilacustomer.org\",\"address_id\":412,\"activebool\":true,\"create_date\":\"2006-02-14\",\"last_update\":\"2013-05-26T14:49:45.738\",\"active\":1}",
         "2023-10-12T15:55:37.269+0000"
        ],
        [
         "59abd48d-f485-4fe0-8beb-5d3c19a1ea89",
         "{\"customer_id\":408,\"store_id\":1,\"first_name\":\"Manuel\",\"last_name\":\"Murrell\",\"email\":\"manuel.murrell@sakilacustomer.org\",\"address_id\":413,\"activebool\":true,\"create_date\":\"2006-02-14\",\"last_update\":\"2013-05-26T14:49:45.738\",\"active\":1}",
         "2023-10-12T15:55:37.269+0000"
        ],
        [
         "7a8f916b-893e-4e3f-a821-58dc6eb2fd12",
         "{\"customer_id\":409,\"store_id\":2,\"first_name\":\"Rodney\",\"last_name\":\"Moeller\",\"email\":\"rodney.moeller@sakilacustomer.org\",\"address_id\":414,\"activebool\":true,\"create_date\":\"2006-02-14\",\"last_update\":\"2013-05-26T14:49:45.738\",\"active\":1}",
         "2023-10-12T15:55:37.269+0000"
        ],
        [
         "b92e7ebc-14b1-43dc-a12f-db1275eb7304",
         "{\"customer_id\":410,\"store_id\":2,\"first_name\":\"Curtis\",\"last_name\":\"Irby\",\"email\":\"curtis.irby@sakilacustomer.org\",\"address_id\":415,\"activebool\":true,\"create_date\":\"2006-02-14\",\"last_update\":\"2013-05-26T14:49:45.738\",\"active\":1}",
         "2023-10-12T15:55:37.269+0000"
        ],
        [
         "6a25ed79-7390-418d-a835-1bbc34827a13",
         "{\"customer_id\":411,\"store_id\":1,\"first_name\":\"Norman\",\"last_name\":\"Currier\",\"email\":\"norman.currier@sakilacustomer.org\",\"address_id\":416,\"activebool\":true,\"create_date\":\"2006-02-14\",\"last_update\":\"2013-05-26T14:49:45.738\",\"active\":1}",
         "2023-10-12T15:55:37.269+0000"
        ],
        [
         "e8fd922b-d3db-4365-8715-f5037e8345e0",
         "{\"customer_id\":412,\"store_id\":2,\"first_name\":\"Allen\",\"last_name\":\"Butterfield\",\"email\":\"allen.butterfield@sakilacustomer.org\",\"address_id\":417,\"activebool\":true,\"create_date\":\"2006-02-14\",\"last_update\":\"2013-05-26T14:49:45.738\",\"active\":1}",
         "2023-10-12T15:55:37.269+0000"
        ],
        [
         "2ed74701-dda0-4fee-b036-31a38c91da12",
         "{\"customer_id\":413,\"store_id\":2,\"first_name\":\"Marvin\",\"last_name\":\"Yee\",\"email\":\"marvin.yee@sakilacustomer.org\",\"address_id\":418,\"activebool\":true,\"create_date\":\"2006-02-14\",\"last_update\":\"2013-05-26T14:49:45.738\",\"active\":1}",
         "2023-10-12T15:55:37.269+0000"
        ],
        [
         "eaa92985-761c-4a83-962d-87d3f36b6859",
         "{\"customer_id\":414,\"store_id\":1,\"first_name\":\"Vincent\",\"last_name\":\"Ralston\",\"email\":\"vincent.ralston@sakilacustomer.org\",\"address_id\":419,\"activebool\":true,\"create_date\":\"2006-02-14\",\"last_update\":\"2013-05-26T14:49:45.738\",\"active\":1}",
         "2023-10-12T15:55:37.269+0000"
        ],
        [
         "a00702d2-adf7-4220-adaa-434765aebaff",
         "{\"customer_id\":415,\"store_id\":1,\"first_name\":\"Glenn\",\"last_name\":\"Pullen\",\"email\":\"glenn.pullen@sakilacustomer.org\",\"address_id\":420,\"activebool\":true,\"create_date\":\"2006-02-14\",\"last_update\":\"2013-05-26T14:49:45.738\",\"active\":1}",
         "2023-10-12T15:55:37.269+0000"
        ],
        [
         "75805140-c953-4024-9892-5ceb377e015c",
         "{\"customer_id\":416,\"store_id\":2,\"first_name\":\"Jeffery\",\"last_name\":\"Pinson\",\"email\":\"jeffery.pinson@sakilacustomer.org\",\"address_id\":421,\"activebool\":true,\"create_date\":\"2006-02-14\",\"last_update\":\"2013-05-26T14:49:45.738\",\"active\":1}",
         "2023-10-12T15:55:37.269+0000"
        ],
        [
         "a4f30751-bf33-46eb-9cb1-936121934e3c",
         "{\"customer_id\":417,\"store_id\":1,\"first_name\":\"Travis\",\"last_name\":\"Estep\",\"email\":\"travis.estep@sakilacustomer.org\",\"address_id\":422,\"activebool\":true,\"create_date\":\"2006-02-14\",\"last_update\":\"2013-05-26T14:49:45.738\",\"active\":1}",
         "2023-10-12T15:55:37.269+0000"
        ],
        [
         "2286f654-ce35-42b0-a97e-c1805641a52e",
         "{\"customer_id\":418,\"store_id\":2,\"first_name\":\"Jeff\",\"last_name\":\"East\",\"email\":\"jeff.east@sakilacustomer.org\",\"address_id\":423,\"activebool\":true,\"create_date\":\"2006-02-14\",\"last_update\":\"2013-05-26T14:49:45.738\",\"active\":1}",
         "2023-10-12T15:55:37.269+0000"
        ],
        [
         "b42b4ac1-d860-42f6-9a4f-3918c8e9ad95",
         "{\"customer_id\":419,\"store_id\":1,\"first_name\":\"Chad\",\"last_name\":\"Carbone\",\"email\":\"chad.carbone@sakilacustomer.org\",\"address_id\":424,\"activebool\":true,\"create_date\":\"2006-02-14\",\"last_update\":\"2013-05-26T14:49:45.738\",\"active\":1}",
         "2023-10-12T15:55:37.269+0000"
        ],
        [
         "6f114c45-3ad3-46e2-adfd-d966f57d8059",
         "{\"customer_id\":420,\"store_id\":1,\"first_name\":\"Jacob\",\"last_name\":\"Lance\",\"email\":\"jacob.lance@sakilacustomer.org\",\"address_id\":425,\"activebool\":true,\"create_date\":\"2006-02-14\",\"last_update\":\"2013-05-26T14:49:45.738\",\"active\":1}",
         "2023-10-12T15:55:37.269+0000"
        ],
        [
         "cc76ecf1-a95e-4ed7-828e-24eb23447a71",
         "{\"customer_id\":421,\"store_id\":1,\"first_name\":\"Lee\",\"last_name\":\"Hawks\",\"email\":\"lee.hawks@sakilacustomer.org\",\"address_id\":426,\"activebool\":true,\"create_date\":\"2006-02-14\",\"last_update\":\"2013-05-26T14:49:45.738\",\"active\":1}",
         "2023-10-12T15:55:37.269+0000"
        ],
        [
         "cfff3d3c-b3b2-4777-a83f-7a2e9d5ec9a4",
         "{\"customer_id\":422,\"store_id\":1,\"first_name\":\"Melvin\",\"last_name\":\"Ellington\",\"email\":\"melvin.ellington@sakilacustomer.org\",\"address_id\":427,\"activebool\":true,\"create_date\":\"2006-02-14\",\"last_update\":\"2013-05-26T14:49:45.738\",\"active\":1}",
         "2023-10-12T15:55:37.269+0000"
        ],
        [
         "a8eb282a-ea31-459b-b237-fea2ce03e063",
         "{\"customer_id\":423,\"store_id\":2,\"first_name\":\"Alfred\",\"last_name\":\"Casillas\",\"email\":\"alfred.casillas@sakilacustomer.org\",\"address_id\":428,\"activebool\":true,\"create_date\":\"2006-02-14\",\"last_update\":\"2013-05-26T14:49:45.738\",\"active\":1}",
         "2023-10-12T15:55:37.269+0000"
        ],
        [
         "932c3d1b-3f7b-4c66-a736-ccd5afcfb486",
         "{\"customer_id\":424,\"store_id\":2,\"first_name\":\"Kyle\",\"last_name\":\"Spurlock\",\"email\":\"kyle.spurlock@sakilacustomer.org\",\"address_id\":429,\"activebool\":true,\"create_date\":\"2006-02-14\",\"last_update\":\"2013-05-26T14:49:45.738\",\"active\":1}",
         "2023-10-12T15:55:37.269+0000"
        ],
        [
         "7322d98a-ffc8-4d42-a652-ef858d0c2071",
         "{\"customer_id\":425,\"store_id\":2,\"first_name\":\"Francis\",\"last_name\":\"Sikes\",\"email\":\"francis.sikes@sakilacustomer.org\",\"address_id\":430,\"activebool\":true,\"create_date\":\"2006-02-14\",\"last_update\":\"2013-05-26T14:49:45.738\",\"active\":1}",
         "2023-10-12T15:55:37.269+0000"
        ],
        [
         "0211090c-3594-48ea-8333-5ebea8979798",
         "{\"customer_id\":426,\"store_id\":1,\"first_name\":\"Bradley\",\"last_name\":\"Motley\",\"email\":\"bradley.motley@sakilacustomer.org\",\"address_id\":431,\"activebool\":true,\"create_date\":\"2006-02-14\",\"last_update\":\"2013-05-26T14:49:45.738\",\"active\":1}",
         "2023-10-12T15:55:37.269+0000"
        ],
        [
         "30dad659-addf-4a4a-ba1d-e9259ab63132",
         "{\"customer_id\":427,\"store_id\":2,\"first_name\":\"Jesus\",\"last_name\":\"Mccartney\",\"email\":\"jesus.mccartney@sakilacustomer.org\",\"address_id\":432,\"activebool\":true,\"create_date\":\"2006-02-14\",\"last_update\":\"2013-05-26T14:49:45.738\",\"active\":1}",
         "2023-10-12T15:55:37.269+0000"
        ],
        [
         "de42872e-5fe0-46db-a746-0d65b54a59e7",
         "{\"customer_id\":428,\"store_id\":2,\"first_name\":\"Herbert\",\"last_name\":\"Kruger\",\"email\":\"herbert.kruger@sakilacustomer.org\",\"address_id\":433,\"activebool\":true,\"create_date\":\"2006-02-14\",\"last_update\":\"2013-05-26T14:49:45.738\",\"active\":1}",
         "2023-10-12T15:55:37.269+0000"
        ],
        [
         "79b72d95-6187-41e5-85b6-78596702fbf9",
         "{\"customer_id\":429,\"store_id\":2,\"first_name\":\"Frederick\",\"last_name\":\"Isbell\",\"email\":\"frederick.isbell@sakilacustomer.org\",\"address_id\":434,\"activebool\":true,\"create_date\":\"2006-02-14\",\"last_update\":\"2013-05-26T14:49:45.738\",\"active\":1}",
         "2023-10-12T15:55:37.269+0000"
        ],
        [
         "d367aee8-cc06-47d6-9086-0580a7d7c31c",
         "{\"customer_id\":430,\"store_id\":1,\"first_name\":\"Ray\",\"last_name\":\"Houle\",\"email\":\"ray.houle@sakilacustomer.org\",\"address_id\":435,\"activebool\":true,\"create_date\":\"2006-02-14\",\"last_update\":\"2013-05-26T14:49:45.738\",\"active\":1}",
         "2023-10-12T15:55:37.269+0000"
        ],
        [
         "d75be4af-5a28-4b2a-a54c-d400ff78bab5",
         "{\"customer_id\":431,\"store_id\":2,\"first_name\":\"Joel\",\"last_name\":\"Francisco\",\"email\":\"joel.francisco@sakilacustomer.org\",\"address_id\":436,\"activebool\":true,\"create_date\":\"2006-02-14\",\"last_update\":\"2013-05-26T14:49:45.738\",\"active\":1}",
         "2023-10-12T15:55:37.269+0000"
        ],
        [
         "f6222fea-bec5-45de-b11d-23e58f1f0ccf",
         "{\"customer_id\":432,\"store_id\":1,\"first_name\":\"Edwin\",\"last_name\":\"Burk\",\"email\":\"edwin.burk@sakilacustomer.org\",\"address_id\":437,\"activebool\":true,\"create_date\":\"2006-02-14\",\"last_update\":\"2013-05-26T14:49:45.738\",\"active\":1}",
         "2023-10-12T15:55:37.269+0000"
        ],
        [
         "a923501e-22c9-401f-89f1-afffb62050c3",
         "{\"customer_id\":433,\"store_id\":1,\"first_name\":\"Don\",\"last_name\":\"Bone\",\"email\":\"don.bone@sakilacustomer.org\",\"address_id\":438,\"activebool\":true,\"create_date\":\"2006-02-14\",\"last_update\":\"2013-05-26T14:49:45.738\",\"active\":1}",
         "2023-10-12T15:55:37.269+0000"
        ],
        [
         "65f8dca1-a828-4b13-adb3-52daaf3480c9",
         "{\"customer_id\":434,\"store_id\":1,\"first_name\":\"Eddie\",\"last_name\":\"Tomlin\",\"email\":\"eddie.tomlin@sakilacustomer.org\",\"address_id\":439,\"activebool\":true,\"create_date\":\"2006-02-14\",\"last_update\":\"2013-05-26T14:49:45.738\",\"active\":1}",
         "2023-10-12T15:55:37.269+0000"
        ],
        [
         "50c91e9a-56b6-4eef-96a1-dfd71b20d6bf",
         "{\"customer_id\":435,\"store_id\":2,\"first_name\":\"Ricky\",\"last_name\":\"Shelby\",\"email\":\"ricky.shelby@sakilacustomer.org\",\"address_id\":440,\"activebool\":true,\"create_date\":\"2006-02-14\",\"last_update\":\"2013-05-26T14:49:45.738\",\"active\":1}",
         "2023-10-12T15:55:37.269+0000"
        ],
        [
         "ce59b14c-a92e-4704-a306-758da1f58962",
         "{\"customer_id\":436,\"store_id\":1,\"first_name\":\"Troy\",\"last_name\":\"Quigley\",\"email\":\"troy.quigley@sakilacustomer.org\",\"address_id\":441,\"activebool\":true,\"create_date\":\"2006-02-14\",\"last_update\":\"2013-05-26T14:49:45.738\",\"active\":1}",
         "2023-10-12T15:55:37.269+0000"
        ],
        [
         "d93094cf-aa0f-4aeb-84d7-ea7e44244189",
         "{\"customer_id\":437,\"store_id\":2,\"first_name\":\"Randall\",\"last_name\":\"Neumann\",\"email\":\"randall.neumann@sakilacustomer.org\",\"address_id\":442,\"activebool\":true,\"create_date\":\"2006-02-14\",\"last_update\":\"2013-05-26T14:49:45.738\",\"active\":1}",
         "2023-10-12T15:55:37.269+0000"
        ],
        [
         "673b7aa6-9625-4d13-978f-65003a565000",
         "{\"customer_id\":438,\"store_id\":1,\"first_name\":\"Barry\",\"last_name\":\"Lovelace\",\"email\":\"barry.lovelace@sakilacustomer.org\",\"address_id\":443,\"activebool\":true,\"create_date\":\"2006-02-14\",\"last_update\":\"2013-05-26T14:49:45.738\",\"active\":1}",
         "2023-10-12T15:55:37.269+0000"
        ],
        [
         "78f2b499-5c26-493f-8ebb-139ef2717a2c",
         "{\"customer_id\":439,\"store_id\":2,\"first_name\":\"Alexander\",\"last_name\":\"Fennell\",\"email\":\"alexander.fennell@sakilacustomer.org\",\"address_id\":444,\"activebool\":true,\"create_date\":\"2006-02-14\",\"last_update\":\"2013-05-26T14:49:45.738\",\"active\":1}",
         "2023-10-12T15:55:37.269+0000"
        ],
        [
         "04936774-e5ca-4fa5-9152-80cdeb8ae49e",
         "{\"customer_id\":440,\"store_id\":1,\"first_name\":\"Bernard\",\"last_name\":\"Colby\",\"email\":\"bernard.colby@sakilacustomer.org\",\"address_id\":445,\"activebool\":true,\"create_date\":\"2006-02-14\",\"last_update\":\"2013-05-26T14:49:45.738\",\"active\":1}",
         "2023-10-12T15:55:37.269+0000"
        ],
        [
         "a2b3c817-ea5c-41dc-a07f-6ba14650a5d3",
         "{\"customer_id\":441,\"store_id\":1,\"first_name\":\"Mario\",\"last_name\":\"Cheatham\",\"email\":\"mario.cheatham@sakilacustomer.org\",\"address_id\":446,\"activebool\":true,\"create_date\":\"2006-02-14\",\"last_update\":\"2013-05-26T14:49:45.738\",\"active\":1}",
         "2023-10-12T15:55:37.269+0000"
        ],
        [
         "c8a37540-e569-4891-ba32-735350844da8",
         "{\"customer_id\":442,\"store_id\":1,\"first_name\":\"Leroy\",\"last_name\":\"Bustamante\",\"email\":\"leroy.bustamante@sakilacustomer.org\",\"address_id\":447,\"activebool\":true,\"create_date\":\"2006-02-14\",\"last_update\":\"2013-05-26T14:49:45.738\",\"active\":1}",
         "2023-10-12T15:55:37.269+0000"
        ],
        [
         "42af4f85-0b50-4466-846b-bfc0dae3fb46",
         "{\"customer_id\":443,\"store_id\":2,\"first_name\":\"Francisco\",\"last_name\":\"Skidmore\",\"email\":\"francisco.skidmore@sakilacustomer.org\",\"address_id\":448,\"activebool\":true,\"create_date\":\"2006-02-14\",\"last_update\":\"2013-05-26T14:49:45.738\",\"active\":1}",
         "2023-10-12T15:55:37.269+0000"
        ],
        [
         "45a51aef-c1bf-40d5-b4fe-c62c9660d041",
         "{\"customer_id\":444,\"store_id\":2,\"first_name\":\"Marcus\",\"last_name\":\"Hidalgo\",\"email\":\"marcus.hidalgo@sakilacustomer.org\",\"address_id\":449,\"activebool\":true,\"create_date\":\"2006-02-14\",\"last_update\":\"2013-05-26T14:49:45.738\",\"active\":1}",
         "2023-10-12T15:55:37.269+0000"
        ],
        [
         "7a80943f-dbf0-44e6-9d5d-f9e0d171439c",
         "{\"customer_id\":445,\"store_id\":1,\"first_name\":\"Micheal\",\"last_name\":\"Forman\",\"email\":\"micheal.forman@sakilacustomer.org\",\"address_id\":450,\"activebool\":true,\"create_date\":\"2006-02-14\",\"last_update\":\"2013-05-26T14:49:45.738\",\"active\":1}",
         "2023-10-12T15:55:37.269+0000"
        ],
        [
         "fb95169b-6901-4107-9e0a-59d2790d1753",
         "{\"customer_id\":446,\"store_id\":2,\"first_name\":\"Theodore\",\"last_name\":\"Culp\",\"email\":\"theodore.culp@sakilacustomer.org\",\"address_id\":451,\"activebool\":true,\"create_date\":\"2006-02-14\",\"last_update\":\"2013-05-26T14:49:45.738\",\"active\":0}",
         "2023-10-12T15:55:37.269+0000"
        ],
        [
         "39a71b3b-4c6b-4603-a335-0c0395acb7e1",
         "{\"customer_id\":447,\"store_id\":1,\"first_name\":\"Clifford\",\"last_name\":\"Bowens\",\"email\":\"clifford.bowens@sakilacustomer.org\",\"address_id\":452,\"activebool\":true,\"create_date\":\"2006-02-14\",\"last_update\":\"2013-05-26T14:49:45.738\",\"active\":1}",
         "2023-10-12T15:55:37.269+0000"
        ],
        [
         "0fa7f5ee-512d-4390-843d-08088b217f80",
         "{\"customer_id\":448,\"store_id\":1,\"first_name\":\"Miguel\",\"last_name\":\"Betancourt\",\"email\":\"miguel.betancourt@sakilacustomer.org\",\"address_id\":453,\"activebool\":true,\"create_date\":\"2006-02-14\",\"last_update\":\"2013-05-26T14:49:45.738\",\"active\":1}",
         "2023-10-12T15:55:37.269+0000"
        ],
        [
         "92bca71f-0fd0-4a5b-8456-10684f1adc92",
         "{\"customer_id\":449,\"store_id\":2,\"first_name\":\"Oscar\",\"last_name\":\"Aquino\",\"email\":\"oscar.aquino@sakilacustomer.org\",\"address_id\":454,\"activebool\":true,\"create_date\":\"2006-02-14\",\"last_update\":\"2013-05-26T14:49:45.738\",\"active\":1}",
         "2023-10-12T15:55:37.269+0000"
        ],
        [
         "82224e84-6c2e-4bcb-9d63-9bd7d432a065",
         "{\"customer_id\":450,\"store_id\":1,\"first_name\":\"Jay\",\"last_name\":\"Robb\",\"email\":\"jay.robb@sakilacustomer.org\",\"address_id\":455,\"activebool\":true,\"create_date\":\"2006-02-14\",\"last_update\":\"2013-05-26T14:49:45.738\",\"active\":1}",
         "2023-10-12T15:55:37.269+0000"
        ],
        [
         "829e905d-e0df-4ffa-ace8-e4169b1dc577",
         "{\"customer_id\":451,\"store_id\":1,\"first_name\":\"Jim\",\"last_name\":\"Rea\",\"email\":\"jim.rea@sakilacustomer.org\",\"address_id\":456,\"activebool\":true,\"create_date\":\"2006-02-14\",\"last_update\":\"2013-05-26T14:49:45.738\",\"active\":1}",
         "2023-10-12T15:55:37.269+0000"
        ],
        [
         "f49e2446-ee72-45c0-afd4-806a7649746c",
         "{\"customer_id\":452,\"store_id\":1,\"first_name\":\"Tom\",\"last_name\":\"Milner\",\"email\":\"tom.milner@sakilacustomer.org\",\"address_id\":457,\"activebool\":true,\"create_date\":\"2006-02-14\",\"last_update\":\"2013-05-26T14:49:45.738\",\"active\":1}",
         "2023-10-12T15:55:37.269+0000"
        ],
        [
         "b1937fd7-1dc0-4687-826e-df9d11c42e42",
         "{\"customer_id\":453,\"store_id\":1,\"first_name\":\"Calvin\",\"last_name\":\"Martel\",\"email\":\"calvin.martel@sakilacustomer.org\",\"address_id\":458,\"activebool\":true,\"create_date\":\"2006-02-14\",\"last_update\":\"2013-05-26T14:49:45.738\",\"active\":1}",
         "2023-10-12T15:55:37.269+0000"
        ],
        [
         "75cb9c04-46e4-45be-922e-c473e9508049",
         "{\"customer_id\":454,\"store_id\":2,\"first_name\":\"Alex\",\"last_name\":\"Gresham\",\"email\":\"alex.gresham@sakilacustomer.org\",\"address_id\":459,\"activebool\":true,\"create_date\":\"2006-02-14\",\"last_update\":\"2013-05-26T14:49:45.738\",\"active\":1}",
         "2023-10-12T15:55:37.269+0000"
        ],
        [
         "7aea9ffd-54c3-4461-ae23-d00ca21d5755",
         "{\"customer_id\":455,\"store_id\":2,\"first_name\":\"Jon\",\"last_name\":\"Wiles\",\"email\":\"jon.wiles@sakilacustomer.org\",\"address_id\":460,\"activebool\":true,\"create_date\":\"2006-02-14\",\"last_update\":\"2013-05-26T14:49:45.738\",\"active\":1}",
         "2023-10-12T15:55:37.269+0000"
        ],
        [
         "c20b6a26-af71-44df-ab83-47ff9ebd4a52",
         "{\"customer_id\":456,\"store_id\":2,\"first_name\":\"Ronnie\",\"last_name\":\"Ricketts\",\"email\":\"ronnie.ricketts@sakilacustomer.org\",\"address_id\":461,\"activebool\":true,\"create_date\":\"2006-02-14\",\"last_update\":\"2013-05-26T14:49:45.738\",\"active\":1}",
         "2023-10-12T15:55:37.269+0000"
        ],
        [
         "ade8cd45-7c01-4a22-b544-0f8d3fe7021e",
         "{\"customer_id\":457,\"store_id\":2,\"first_name\":\"Bill\",\"last_name\":\"Gavin\",\"email\":\"bill.gavin@sakilacustomer.org\",\"address_id\":462,\"activebool\":true,\"create_date\":\"2006-02-14\",\"last_update\":\"2013-05-26T14:49:45.738\",\"active\":1}",
         "2023-10-12T15:55:37.269+0000"
        ],
        [
         "bd3158c3-2a6a-4b61-9d0d-3237c52f2fa7",
         "{\"customer_id\":458,\"store_id\":1,\"first_name\":\"Lloyd\",\"last_name\":\"Dowd\",\"email\":\"lloyd.dowd@sakilacustomer.org\",\"address_id\":463,\"activebool\":true,\"create_date\":\"2006-02-14\",\"last_update\":\"2013-05-26T14:49:45.738\",\"active\":1}",
         "2023-10-12T15:55:37.269+0000"
        ],
        [
         "1e1ef066-951f-48e0-8f37-4ee57df37309",
         "{\"customer_id\":459,\"store_id\":1,\"first_name\":\"Tommy\",\"last_name\":\"Collazo\",\"email\":\"tommy.collazo@sakilacustomer.org\",\"address_id\":464,\"activebool\":true,\"create_date\":\"2006-02-14\",\"last_update\":\"2013-05-26T14:49:45.738\",\"active\":1}",
         "2023-10-12T15:55:37.269+0000"
        ],
        [
         "9aeb2492-9b35-4a8a-b4e4-727d65dd31b2",
         "{\"customer_id\":460,\"store_id\":1,\"first_name\":\"Leon\",\"last_name\":\"Bostic\",\"email\":\"leon.bostic@sakilacustomer.org\",\"address_id\":465,\"activebool\":true,\"create_date\":\"2006-02-14\",\"last_update\":\"2013-05-26T14:49:45.738\",\"active\":1}",
         "2023-10-12T15:55:37.269+0000"
        ],
        [
         "ae1242cb-8c2b-439b-ae25-e17a0e5238db",
         "{\"customer_id\":461,\"store_id\":1,\"first_name\":\"Derek\",\"last_name\":\"Blakely\",\"email\":\"derek.blakely@sakilacustomer.org\",\"address_id\":466,\"activebool\":true,\"create_date\":\"2006-02-14\",\"last_update\":\"2013-05-26T14:49:45.738\",\"active\":1}",
         "2023-10-12T15:55:37.269+0000"
        ],
        [
         "655902a6-c240-4e7d-bd9f-d356401d2f7d",
         "{\"customer_id\":462,\"store_id\":2,\"first_name\":\"Warren\",\"last_name\":\"Sherrod\",\"email\":\"warren.sherrod@sakilacustomer.org\",\"address_id\":467,\"activebool\":true,\"create_date\":\"2006-02-14\",\"last_update\":\"2013-05-26T14:49:45.738\",\"active\":1}",
         "2023-10-12T15:55:37.269+0000"
        ],
        [
         "0280266e-1912-41da-819c-4bb95478caed",
         "{\"customer_id\":463,\"store_id\":2,\"first_name\":\"Darrell\",\"last_name\":\"Power\",\"email\":\"darrell.power@sakilacustomer.org\",\"address_id\":468,\"activebool\":true,\"create_date\":\"2006-02-14\",\"last_update\":\"2013-05-26T14:49:45.738\",\"active\":1}",
         "2023-10-12T15:55:37.269+0000"
        ],
        [
         "494c237f-4195-4cb8-b439-779c6d20c766",
         "{\"customer_id\":464,\"store_id\":1,\"first_name\":\"Jerome\",\"last_name\":\"Kenyon\",\"email\":\"jerome.kenyon@sakilacustomer.org\",\"address_id\":469,\"activebool\":true,\"create_date\":\"2006-02-14\",\"last_update\":\"2013-05-26T14:49:45.738\",\"active\":1}",
         "2023-10-12T15:55:37.269+0000"
        ],
        [
         "0bab8676-bd1c-4fda-9916-7d87b5eee139",
         "{\"customer_id\":465,\"store_id\":1,\"first_name\":\"Floyd\",\"last_name\":\"Gandy\",\"email\":\"floyd.gandy@sakilacustomer.org\",\"address_id\":470,\"activebool\":true,\"create_date\":\"2006-02-14\",\"last_update\":\"2013-05-26T14:49:45.738\",\"active\":1}",
         "2023-10-12T15:55:37.269+0000"
        ],
        [
         "f2f9bd37-7e78-4efe-b291-5e7866329943",
         "{\"customer_id\":466,\"store_id\":1,\"first_name\":\"Leo\",\"last_name\":\"Ebert\",\"email\":\"leo.ebert@sakilacustomer.org\",\"address_id\":471,\"activebool\":true,\"create_date\":\"2006-02-14\",\"last_update\":\"2013-05-26T14:49:45.738\",\"active\":1}",
         "2023-10-12T15:55:37.269+0000"
        ],
        [
         "1b6c3d99-1ad2-481c-9f23-3cb2fbd57356",
         "{\"customer_id\":467,\"store_id\":2,\"first_name\":\"Alvin\",\"last_name\":\"Deloach\",\"email\":\"alvin.deloach@sakilacustomer.org\",\"address_id\":472,\"activebool\":true,\"create_date\":\"2006-02-14\",\"last_update\":\"2013-05-26T14:49:45.738\",\"active\":1}",
         "2023-10-12T15:55:37.269+0000"
        ],
        [
         "a1700537-1ff2-4d24-97c9-0452a0826554",
         "{\"customer_id\":468,\"store_id\":1,\"first_name\":\"Tim\",\"last_name\":\"Cary\",\"email\":\"tim.cary@sakilacustomer.org\",\"address_id\":473,\"activebool\":true,\"create_date\":\"2006-02-14\",\"last_update\":\"2013-05-26T14:49:45.738\",\"active\":1}",
         "2023-10-12T15:55:37.269+0000"
        ],
        [
         "71049030-19c0-47dd-b23c-36c887f27e9f",
         "{\"customer_id\":469,\"store_id\":2,\"first_name\":\"Wesley\",\"last_name\":\"Bull\",\"email\":\"wesley.bull@sakilacustomer.org\",\"address_id\":474,\"activebool\":true,\"create_date\":\"2006-02-14\",\"last_update\":\"2013-05-26T14:49:45.738\",\"active\":1}",
         "2023-10-12T15:55:37.269+0000"
        ],
        [
         "1830a932-4a93-4343-946a-245a88e2d318",
         "{\"customer_id\":470,\"store_id\":1,\"first_name\":\"Gordon\",\"last_name\":\"Allard\",\"email\":\"gordon.allard@sakilacustomer.org\",\"address_id\":475,\"activebool\":true,\"create_date\":\"2006-02-14\",\"last_update\":\"2013-05-26T14:49:45.738\",\"active\":1}",
         "2023-10-12T15:55:37.269+0000"
        ],
        [
         "ea1cb126-76c0-485e-8826-aa0bb5b64883",
         "{\"customer_id\":471,\"store_id\":1,\"first_name\":\"Dean\",\"last_name\":\"Sauer\",\"email\":\"dean.sauer@sakilacustomer.org\",\"address_id\":476,\"activebool\":true,\"create_date\":\"2006-02-14\",\"last_update\":\"2013-05-26T14:49:45.738\",\"active\":1}",
         "2023-10-12T15:55:37.269+0000"
        ],
        [
         "6f4e4346-81f5-4ec2-91af-606acee6995f",
         "{\"customer_id\":472,\"store_id\":1,\"first_name\":\"Greg\",\"last_name\":\"Robins\",\"email\":\"greg.robins@sakilacustomer.org\",\"address_id\":477,\"activebool\":true,\"create_date\":\"2006-02-14\",\"last_update\":\"2013-05-26T14:49:45.738\",\"active\":1}",
         "2023-10-12T15:55:37.269+0000"
        ],
        [
         "d640ff40-c954-4d49-9b93-fce3224a0d43",
         "{\"customer_id\":473,\"store_id\":2,\"first_name\":\"Jorge\",\"last_name\":\"Olivares\",\"email\":\"jorge.olivares@sakilacustomer.org\",\"address_id\":478,\"activebool\":true,\"create_date\":\"2006-02-14\",\"last_update\":\"2013-05-26T14:49:45.738\",\"active\":1}",
         "2023-10-12T15:55:37.269+0000"
        ],
        [
         "cf7d71df-7797-4ab5-9e7e-7816672a5041",
         "{\"customer_id\":474,\"store_id\":2,\"first_name\":\"Dustin\",\"last_name\":\"Gillette\",\"email\":\"dustin.gillette@sakilacustomer.org\",\"address_id\":479,\"activebool\":true,\"create_date\":\"2006-02-14\",\"last_update\":\"2013-05-26T14:49:45.738\",\"active\":1}",
         "2023-10-12T15:55:37.269+0000"
        ],
        [
         "80529924-dae9-4db1-80f4-c2de057b8c99",
         "{\"customer_id\":475,\"store_id\":2,\"first_name\":\"Pedro\",\"last_name\":\"Chestnut\",\"email\":\"pedro.chestnut@sakilacustomer.org\",\"address_id\":480,\"activebool\":true,\"create_date\":\"2006-02-14\",\"last_update\":\"2013-05-26T14:49:45.738\",\"active\":1}",
         "2023-10-12T15:55:37.269+0000"
        ],
        [
         "489ff1a7-1e56-4322-9742-900ed43d5318",
         "{\"customer_id\":476,\"store_id\":1,\"first_name\":\"Derrick\",\"last_name\":\"Bourque\",\"email\":\"derrick.bourque@sakilacustomer.org\",\"address_id\":481,\"activebool\":true,\"create_date\":\"2006-02-14\",\"last_update\":\"2013-05-26T14:49:45.738\",\"active\":1}",
         "2023-10-12T15:55:37.269+0000"
        ],
        [
         "fa4e873e-b79c-4aa0-b34b-51c91de12a00",
         "{\"customer_id\":477,\"store_id\":1,\"first_name\":\"Dan\",\"last_name\":\"Paine\",\"email\":\"dan.paine@sakilacustomer.org\",\"address_id\":482,\"activebool\":true,\"create_date\":\"2006-02-14\",\"last_update\":\"2013-05-26T14:49:45.738\",\"active\":1}",
         "2023-10-12T15:55:37.269+0000"
        ],
        [
         "d5266e95-2575-45e6-8450-3e75b5cbf7aa",
         "{\"customer_id\":478,\"store_id\":1,\"first_name\":\"Lewis\",\"last_name\":\"Lyman\",\"email\":\"lewis.lyman@sakilacustomer.org\",\"address_id\":483,\"activebool\":true,\"create_date\":\"2006-02-14\",\"last_update\":\"2013-05-26T14:49:45.738\",\"active\":1}",
         "2023-10-12T15:55:37.269+0000"
        ],
        [
         "2149b5ab-8acd-49a1-857c-f9974668a458",
         "{\"customer_id\":479,\"store_id\":1,\"first_name\":\"Zachary\",\"last_name\":\"Hite\",\"email\":\"zachary.hite@sakilacustomer.org\",\"address_id\":484,\"activebool\":true,\"create_date\":\"2006-02-14\",\"last_update\":\"2013-05-26T14:49:45.738\",\"active\":1}",
         "2023-10-12T15:55:37.269+0000"
        ],
        [
         "0e881c97-23ff-4864-872c-49cc656f06ae",
         "{\"customer_id\":480,\"store_id\":1,\"first_name\":\"Corey\",\"last_name\":\"Hauser\",\"email\":\"corey.hauser@sakilacustomer.org\",\"address_id\":485,\"activebool\":true,\"create_date\":\"2006-02-14\",\"last_update\":\"2013-05-26T14:49:45.738\",\"active\":1}",
         "2023-10-12T15:55:37.269+0000"
        ],
        [
         "ab8d9647-a399-46c0-9332-0d948e6bda84",
         "{\"customer_id\":481,\"store_id\":1,\"first_name\":\"Herman\",\"last_name\":\"Devore\",\"email\":\"herman.devore@sakilacustomer.org\",\"address_id\":486,\"activebool\":true,\"create_date\":\"2006-02-14\",\"last_update\":\"2013-05-26T14:49:45.738\",\"active\":1}",
         "2023-10-12T15:55:37.269+0000"
        ],
        [
         "6a702d0f-f0e6-466b-bd49-6e0fe08e8c34",
         "{\"customer_id\":482,\"store_id\":1,\"first_name\":\"Maurice\",\"last_name\":\"Crawley\",\"email\":\"maurice.crawley@sakilacustomer.org\",\"address_id\":487,\"activebool\":true,\"create_date\":\"2006-02-14\",\"last_update\":\"2013-05-26T14:49:45.738\",\"active\":0}",
         "2023-10-12T15:55:37.269+0000"
        ],
        [
         "d52757b6-f51b-4131-bbaa-96ffe8033b50",
         "{\"customer_id\":483,\"store_id\":2,\"first_name\":\"Vernon\",\"last_name\":\"Chapa\",\"email\":\"vernon.chapa@sakilacustomer.org\",\"address_id\":488,\"activebool\":true,\"create_date\":\"2006-02-14\",\"last_update\":\"2013-05-26T14:49:45.738\",\"active\":1}",
         "2023-10-12T15:55:37.269+0000"
        ],
        [
         "8d92d67d-67cf-4e7b-9d34-0e5a8020af22",
         "{\"customer_id\":484,\"store_id\":1,\"first_name\":\"Roberto\",\"last_name\":\"Vu\",\"email\":\"roberto.vu@sakilacustomer.org\",\"address_id\":489,\"activebool\":true,\"create_date\":\"2006-02-14\",\"last_update\":\"2013-05-26T14:49:45.738\",\"active\":1}",
         "2023-10-12T15:55:37.269+0000"
        ],
        [
         "4ece4682-b7dc-491c-956a-31ccbb90e62f",
         "{\"customer_id\":485,\"store_id\":1,\"first_name\":\"Clyde\",\"last_name\":\"Tobias\",\"email\":\"clyde.tobias@sakilacustomer.org\",\"address_id\":490,\"activebool\":true,\"create_date\":\"2006-02-14\",\"last_update\":\"2013-05-26T14:49:45.738\",\"active\":1}",
         "2023-10-12T15:55:37.269+0000"
        ],
        [
         "6fb7a4a8-f801-47fd-a463-6efc99a099f4",
         "{\"customer_id\":486,\"store_id\":1,\"first_name\":\"Glen\",\"last_name\":\"Talbert\",\"email\":\"glen.talbert@sakilacustomer.org\",\"address_id\":491,\"activebool\":true,\"create_date\":\"2006-02-14\",\"last_update\":\"2013-05-26T14:49:45.738\",\"active\":1}",
         "2023-10-12T15:55:37.269+0000"
        ],
        [
         "73870d6f-25a5-4031-b796-7a3464f18301",
         "{\"customer_id\":487,\"store_id\":2,\"first_name\":\"Hector\",\"last_name\":\"Poindexter\",\"email\":\"hector.poindexter@sakilacustomer.org\",\"address_id\":492,\"activebool\":true,\"create_date\":\"2006-02-14\",\"last_update\":\"2013-05-26T14:49:45.738\",\"active\":1}",
         "2023-10-12T15:55:37.269+0000"
        ],
        [
         "059dcb5d-b14c-4123-8c6b-1ceb938d0381",
         "{\"customer_id\":488,\"store_id\":2,\"first_name\":\"Shane\",\"last_name\":\"Millard\",\"email\":\"shane.millard@sakilacustomer.org\",\"address_id\":493,\"activebool\":true,\"create_date\":\"2006-02-14\",\"last_update\":\"2013-05-26T14:49:45.738\",\"active\":1}",
         "2023-10-12T15:55:37.269+0000"
        ],
        [
         "457acb96-7735-462b-8922-a2a352e5e7e2",
         "{\"customer_id\":489,\"store_id\":1,\"first_name\":\"Ricardo\",\"last_name\":\"Meador\",\"email\":\"ricardo.meador@sakilacustomer.org\",\"address_id\":494,\"activebool\":true,\"create_date\":\"2006-02-14\",\"last_update\":\"2013-05-26T14:49:45.738\",\"active\":1}",
         "2023-10-12T15:55:37.269+0000"
        ],
        [
         "62ae1199-0052-432f-b32b-f97a80f0e5a1",
         "{\"customer_id\":490,\"store_id\":1,\"first_name\":\"Sam\",\"last_name\":\"Mcduffie\",\"email\":\"sam.mcduffie@sakilacustomer.org\",\"address_id\":495,\"activebool\":true,\"create_date\":\"2006-02-14\",\"last_update\":\"2013-05-26T14:49:45.738\",\"active\":1}",
         "2023-10-12T15:55:37.269+0000"
        ],
        [
         "1f618769-4a39-45ae-91e9-c6c6f9b1ad8e",
         "{\"customer_id\":491,\"store_id\":2,\"first_name\":\"Rick\",\"last_name\":\"Mattox\",\"email\":\"rick.mattox@sakilacustomer.org\",\"address_id\":496,\"activebool\":true,\"create_date\":\"2006-02-14\",\"last_update\":\"2013-05-26T14:49:45.738\",\"active\":1}",
         "2023-10-12T15:55:37.269+0000"
        ],
        [
         "2b07b542-2a07-4620-842b-4c05563848e7",
         "{\"customer_id\":492,\"store_id\":2,\"first_name\":\"Lester\",\"last_name\":\"Kraus\",\"email\":\"lester.kraus@sakilacustomer.org\",\"address_id\":497,\"activebool\":true,\"create_date\":\"2006-02-14\",\"last_update\":\"2013-05-26T14:49:45.738\",\"active\":1}",
         "2023-10-12T15:55:37.269+0000"
        ],
        [
         "2993eec8-2ab4-446a-b416-e4d0c72ba31e",
         "{\"customer_id\":493,\"store_id\":1,\"first_name\":\"Brent\",\"last_name\":\"Harkins\",\"email\":\"brent.harkins@sakilacustomer.org\",\"address_id\":498,\"activebool\":true,\"create_date\":\"2006-02-14\",\"last_update\":\"2013-05-26T14:49:45.738\",\"active\":1}",
         "2023-10-12T15:55:37.269+0000"
        ],
        [
         "5ecbba6d-1d03-4347-b883-451c36b9e35c",
         "{\"customer_id\":494,\"store_id\":2,\"first_name\":\"Ramon\",\"last_name\":\"Choate\",\"email\":\"ramon.choate@sakilacustomer.org\",\"address_id\":499,\"activebool\":true,\"create_date\":\"2006-02-14\",\"last_update\":\"2013-05-26T14:49:45.738\",\"active\":1}",
         "2023-10-12T15:55:37.269+0000"
        ],
        [
         "08b09d58-744b-41fb-9d52-e39764359afe",
         "{\"customer_id\":495,\"store_id\":2,\"first_name\":\"Charlie\",\"last_name\":\"Bess\",\"email\":\"charlie.bess@sakilacustomer.org\",\"address_id\":500,\"activebool\":true,\"create_date\":\"2006-02-14\",\"last_update\":\"2013-05-26T14:49:45.738\",\"active\":1}",
         "2023-10-12T15:55:37.269+0000"
        ],
        [
         "d74470a7-61e5-4d52-b671-b8263973e7df",
         "{\"customer_id\":496,\"store_id\":2,\"first_name\":\"Tyler\",\"last_name\":\"Wren\",\"email\":\"tyler.wren@sakilacustomer.org\",\"address_id\":501,\"activebool\":true,\"create_date\":\"2006-02-14\",\"last_update\":\"2013-05-26T14:49:45.738\",\"active\":1}",
         "2023-10-12T15:55:37.269+0000"
        ],
        [
         "f96f39d4-f2f1-4ff2-8425-f89be54503d8",
         "{\"customer_id\":497,\"store_id\":2,\"first_name\":\"Gilbert\",\"last_name\":\"Sledge\",\"email\":\"gilbert.sledge@sakilacustomer.org\",\"address_id\":502,\"activebool\":true,\"create_date\":\"2006-02-14\",\"last_update\":\"2013-05-26T14:49:45.738\",\"active\":1}",
         "2023-10-12T15:55:37.269+0000"
        ],
        [
         "5e92a391-3e4d-4be9-9035-1456f76f8693",
         "{\"customer_id\":498,\"store_id\":1,\"first_name\":\"Gene\",\"last_name\":\"Sanborn\",\"email\":\"gene.sanborn@sakilacustomer.org\",\"address_id\":503,\"activebool\":true,\"create_date\":\"2006-02-14\",\"last_update\":\"2013-05-26T14:49:45.738\",\"active\":1}",
         "2023-10-12T15:55:37.269+0000"
        ],
        [
         "14b27c9a-3d37-445b-b585-1630e084d45a",
         "{\"customer_id\":499,\"store_id\":2,\"first_name\":\"Marc\",\"last_name\":\"Outlaw\",\"email\":\"marc.outlaw@sakilacustomer.org\",\"address_id\":504,\"activebool\":true,\"create_date\":\"2006-02-14\",\"last_update\":\"2013-05-26T14:49:45.738\",\"active\":1}",
         "2023-10-12T15:55:37.269+0000"
        ],
        [
         "8e936c6d-bcce-4d71-9692-cedebb789a43",
         "{\"customer_id\":500,\"store_id\":1,\"first_name\":\"Reginald\",\"last_name\":\"Kinder\",\"email\":\"reginald.kinder@sakilacustomer.org\",\"address_id\":505,\"activebool\":true,\"create_date\":\"2006-02-14\",\"last_update\":\"2013-05-26T14:49:45.738\",\"active\":1}",
         "2023-10-12T15:55:37.269+0000"
        ],
        [
         "ac532355-0c90-402f-a838-c922e9174335",
         "{\"customer_id\":501,\"store_id\":1,\"first_name\":\"Ruben\",\"last_name\":\"Geary\",\"email\":\"ruben.geary@sakilacustomer.org\",\"address_id\":506,\"activebool\":true,\"create_date\":\"2006-02-14\",\"last_update\":\"2013-05-26T14:49:45.738\",\"active\":1}",
         "2023-10-12T15:55:37.269+0000"
        ],
        [
         "eb1d28ba-fd4d-4e26-a762-346024e53e03",
         "{\"customer_id\":502,\"store_id\":1,\"first_name\":\"Brett\",\"last_name\":\"Cornwell\",\"email\":\"brett.cornwell@sakilacustomer.org\",\"address_id\":507,\"activebool\":true,\"create_date\":\"2006-02-14\",\"last_update\":\"2013-05-26T14:49:45.738\",\"active\":1}",
         "2023-10-12T15:55:37.269+0000"
        ],
        [
         "792932a2-dd7b-4fab-9a46-2afe03cf82b6",
         "{\"customer_id\":503,\"store_id\":1,\"first_name\":\"Angel\",\"last_name\":\"Barclay\",\"email\":\"angel.barclay@sakilacustomer.org\",\"address_id\":508,\"activebool\":true,\"create_date\":\"2006-02-14\",\"last_update\":\"2013-05-26T14:49:45.738\",\"active\":1}",
         "2023-10-12T15:55:37.269+0000"
        ],
        [
         "75deafb0-5aba-4bf6-a08a-758d01fe3258",
         "{\"customer_id\":504,\"store_id\":1,\"first_name\":\"Nathaniel\",\"last_name\":\"Adam\",\"email\":\"nathaniel.adam@sakilacustomer.org\",\"address_id\":509,\"activebool\":true,\"create_date\":\"2006-02-14\",\"last_update\":\"2013-05-26T14:49:45.738\",\"active\":1}",
         "2023-10-12T15:55:37.269+0000"
        ],
        [
         "2cafdafc-0b12-4c18-9b73-c73e4c7c5a91",
         "{\"customer_id\":505,\"store_id\":1,\"first_name\":\"Rafael\",\"last_name\":\"Abney\",\"email\":\"rafael.abney@sakilacustomer.org\",\"address_id\":510,\"activebool\":true,\"create_date\":\"2006-02-14\",\"last_update\":\"2013-05-26T14:49:45.738\",\"active\":1}",
         "2023-10-12T15:55:37.269+0000"
        ],
        [
         "8a0ee214-dea3-449a-8a9e-bc3f3e7d2566",
         "{\"customer_id\":506,\"store_id\":2,\"first_name\":\"Leslie\",\"last_name\":\"Seward\",\"email\":\"leslie.seward@sakilacustomer.org\",\"address_id\":511,\"activebool\":true,\"create_date\":\"2006-02-14\",\"last_update\":\"2013-05-26T14:49:45.738\",\"active\":1}",
         "2023-10-12T15:55:37.269+0000"
        ],
        [
         "5a1f239c-5db8-4865-9248-a03b5523c037",
         "{\"customer_id\":507,\"store_id\":2,\"first_name\":\"Edgar\",\"last_name\":\"Rhoads\",\"email\":\"edgar.rhoads@sakilacustomer.org\",\"address_id\":512,\"activebool\":true,\"create_date\":\"2006-02-14\",\"last_update\":\"2013-05-26T14:49:45.738\",\"active\":1}",
         "2023-10-12T15:55:37.269+0000"
        ],
        [
         "08f27538-3c10-458f-b5ef-ab7d546a8872",
         "{\"customer_id\":508,\"store_id\":2,\"first_name\":\"Milton\",\"last_name\":\"Howland\",\"email\":\"milton.howland@sakilacustomer.org\",\"address_id\":513,\"activebool\":true,\"create_date\":\"2006-02-14\",\"last_update\":\"2013-05-26T14:49:45.738\",\"active\":1}",
         "2023-10-12T15:55:37.269+0000"
        ],
        [
         "f3fb6c49-68b4-4ce7-8f13-2882f943a723",
         "{\"customer_id\":509,\"store_id\":1,\"first_name\":\"Raul\",\"last_name\":\"Fortier\",\"email\":\"raul.fortier@sakilacustomer.org\",\"address_id\":514,\"activebool\":true,\"create_date\":\"2006-02-14\",\"last_update\":\"2013-05-26T14:49:45.738\",\"active\":1}",
         "2023-10-12T15:55:37.269+0000"
        ],
        [
         "802b2ddd-292d-4c13-84a3-585b6ca70332",
         "{\"customer_id\":510,\"store_id\":2,\"first_name\":\"Ben\",\"last_name\":\"Easter\",\"email\":\"ben.easter@sakilacustomer.org\",\"address_id\":515,\"activebool\":true,\"create_date\":\"2006-02-14\",\"last_update\":\"2013-05-26T14:49:45.738\",\"active\":0}",
         "2023-10-12T15:55:37.269+0000"
        ],
        [
         "fc60cf17-8fbd-404d-8988-c54dbabd5622",
         "{\"customer_id\":511,\"store_id\":1,\"first_name\":\"Chester\",\"last_name\":\"Benner\",\"email\":\"chester.benner@sakilacustomer.org\",\"address_id\":516,\"activebool\":true,\"create_date\":\"2006-02-14\",\"last_update\":\"2013-05-26T14:49:45.738\",\"active\":1}",
         "2023-10-12T15:55:37.269+0000"
        ],
        [
         "2895f455-fca5-4e40-b405-8a6623b5a93d",
         "{\"customer_id\":512,\"store_id\":1,\"first_name\":\"Cecil\",\"last_name\":\"Vines\",\"email\":\"cecil.vines@sakilacustomer.org\",\"address_id\":517,\"activebool\":true,\"create_date\":\"2006-02-14\",\"last_update\":\"2013-05-26T14:49:45.738\",\"active\":1}",
         "2023-10-12T15:55:37.269+0000"
        ],
        [
         "d3f82f68-faad-425e-a2b2-fd522675a8d4",
         "{\"customer_id\":513,\"store_id\":2,\"first_name\":\"Duane\",\"last_name\":\"Tubbs\",\"email\":\"duane.tubbs@sakilacustomer.org\",\"address_id\":519,\"activebool\":true,\"create_date\":\"2006-02-14\",\"last_update\":\"2013-05-26T14:49:45.738\",\"active\":1}",
         "2023-10-12T15:55:37.269+0000"
        ],
        [
         "1abc4bda-c821-43b7-b7a7-8b5b9335bd96",
         "{\"customer_id\":514,\"store_id\":2,\"first_name\":\"Franklin\",\"last_name\":\"Troutman\",\"email\":\"franklin.troutman@sakilacustomer.org\",\"address_id\":520,\"activebool\":true,\"create_date\":\"2006-02-14\",\"last_update\":\"2013-05-26T14:49:45.738\",\"active\":1}",
         "2023-10-12T15:55:37.269+0000"
        ],
        [
         "560f2cd9-4884-45cc-a2c7-58bcf6a19e3d",
         "{\"customer_id\":515,\"store_id\":1,\"first_name\":\"Andre\",\"last_name\":\"Rapp\",\"email\":\"andre.rapp@sakilacustomer.org\",\"address_id\":521,\"activebool\":true,\"create_date\":\"2006-02-14\",\"last_update\":\"2013-05-26T14:49:45.738\",\"active\":1}",
         "2023-10-12T15:55:37.269+0000"
        ],
        [
         "bb55c378-2030-454e-841a-8a3b1e66e8cf",
         "{\"customer_id\":516,\"store_id\":2,\"first_name\":\"Elmer\",\"last_name\":\"Noe\",\"email\":\"elmer.noe@sakilacustomer.org\",\"address_id\":522,\"activebool\":true,\"create_date\":\"2006-02-14\",\"last_update\":\"2013-05-26T14:49:45.738\",\"active\":1}",
         "2023-10-12T15:55:37.269+0000"
        ],
        [
         "b99b451e-a6eb-4f33-830d-b9b48cfc4a9b",
         "{\"customer_id\":517,\"store_id\":2,\"first_name\":\"Brad\",\"last_name\":\"Mccurdy\",\"email\":\"brad.mccurdy@sakilacustomer.org\",\"address_id\":523,\"activebool\":true,\"create_date\":\"2006-02-14\",\"last_update\":\"2013-05-26T14:49:45.738\",\"active\":1}",
         "2023-10-12T15:55:37.269+0000"
        ],
        [
         "dc3669c1-29da-4070-97f3-e81c08c66e84",
         "{\"customer_id\":518,\"store_id\":1,\"first_name\":\"Gabriel\",\"last_name\":\"Harder\",\"email\":\"gabriel.harder@sakilacustomer.org\",\"address_id\":524,\"activebool\":true,\"create_date\":\"2006-02-14\",\"last_update\":\"2013-05-26T14:49:45.738\",\"active\":1}",
         "2023-10-12T15:55:37.269+0000"
        ],
        [
         "8327370f-8b51-4d98-a85a-0b72ef01fd7b",
         "{\"customer_id\":519,\"store_id\":2,\"first_name\":\"Ron\",\"last_name\":\"Deluca\",\"email\":\"ron.deluca@sakilacustomer.org\",\"address_id\":525,\"activebool\":true,\"create_date\":\"2006-02-14\",\"last_update\":\"2013-05-26T14:49:45.738\",\"active\":1}",
         "2023-10-12T15:55:37.269+0000"
        ],
        [
         "5c29c2ba-4756-41bc-b637-36d9f2c632c7",
         "{\"customer_id\":520,\"store_id\":2,\"first_name\":\"Mitchell\",\"last_name\":\"Westmoreland\",\"email\":\"mitchell.westmoreland@sakilacustomer.org\",\"address_id\":526,\"activebool\":true,\"create_date\":\"2006-02-14\",\"last_update\":\"2013-05-26T14:49:45.738\",\"active\":1}",
         "2023-10-12T15:55:37.269+0000"
        ],
        [
         "134329ae-0751-40cc-9649-0f2bb5c2bddb",
         "{\"customer_id\":521,\"store_id\":2,\"first_name\":\"Roland\",\"last_name\":\"South\",\"email\":\"roland.south@sakilacustomer.org\",\"address_id\":527,\"activebool\":true,\"create_date\":\"2006-02-14\",\"last_update\":\"2013-05-26T14:49:45.738\",\"active\":1}",
         "2023-10-12T15:55:37.269+0000"
        ],
        [
         "0acce8e3-73fd-47bd-824b-c1e7241c34b8",
         "{\"customer_id\":522,\"store_id\":2,\"first_name\":\"Arnold\",\"last_name\":\"Havens\",\"email\":\"arnold.havens@sakilacustomer.org\",\"address_id\":528,\"activebool\":true,\"create_date\":\"2006-02-14\",\"last_update\":\"2013-05-26T14:49:45.738\",\"active\":1}",
         "2023-10-12T15:55:37.269+0000"
        ],
        [
         "eeb6dbd0-24c2-4b98-a76d-419e024f5bcc",
         "{\"customer_id\":523,\"store_id\":1,\"first_name\":\"Harvey\",\"last_name\":\"Guajardo\",\"email\":\"harvey.guajardo@sakilacustomer.org\",\"address_id\":529,\"activebool\":true,\"create_date\":\"2006-02-14\",\"last_update\":\"2013-05-26T14:49:45.738\",\"active\":1}",
         "2023-10-12T15:55:37.269+0000"
        ],
        [
         "937ae093-7f63-478e-83e4-a98ae9715246",
         "{\"customer_id\":525,\"store_id\":2,\"first_name\":\"Adrian\",\"last_name\":\"Clary\",\"email\":\"adrian.clary@sakilacustomer.org\",\"address_id\":531,\"activebool\":true,\"create_date\":\"2006-02-14\",\"last_update\":\"2013-05-26T14:49:45.738\",\"active\":1}",
         "2023-10-12T15:55:37.269+0000"
        ],
        [
         "da617b77-8a1a-4af9-81ef-baaed9b3ae5d",
         "{\"customer_id\":526,\"store_id\":2,\"first_name\":\"Karl\",\"last_name\":\"Seal\",\"email\":\"karl.seal@sakilacustomer.org\",\"address_id\":532,\"activebool\":true,\"create_date\":\"2006-02-14\",\"last_update\":\"2013-05-26T14:49:45.738\",\"active\":1}",
         "2023-10-12T15:55:37.269+0000"
        ],
        [
         "2ae0bada-b367-463f-a021-621b784610b8",
         "{\"customer_id\":527,\"store_id\":1,\"first_name\":\"Cory\",\"last_name\":\"Meehan\",\"email\":\"cory.meehan@sakilacustomer.org\",\"address_id\":533,\"activebool\":true,\"create_date\":\"2006-02-14\",\"last_update\":\"2013-05-26T14:49:45.738\",\"active\":1}",
         "2023-10-12T15:55:37.269+0000"
        ],
        [
         "acf06ba2-2175-4e74-b748-d323e54abce1",
         "{\"customer_id\":528,\"store_id\":1,\"first_name\":\"Claude\",\"last_name\":\"Herzog\",\"email\":\"claude.herzog@sakilacustomer.org\",\"address_id\":534,\"activebool\":true,\"create_date\":\"2006-02-14\",\"last_update\":\"2013-05-26T14:49:45.738\",\"active\":1}",
         "2023-10-12T15:55:37.269+0000"
        ],
        [
         "343f9afb-b31d-45f5-9f64-2810a1cbb5a5",
         "{\"customer_id\":529,\"store_id\":2,\"first_name\":\"Erik\",\"last_name\":\"Guillen\",\"email\":\"erik.guillen@sakilacustomer.org\",\"address_id\":535,\"activebool\":true,\"create_date\":\"2006-02-14\",\"last_update\":\"2013-05-26T14:49:45.738\",\"active\":1}",
         "2023-10-12T15:55:37.269+0000"
        ],
        [
         "42a31653-ffc4-4e40-9854-41cb38cc5f82",
         "{\"customer_id\":530,\"store_id\":2,\"first_name\":\"Darryl\",\"last_name\":\"Ashcraft\",\"email\":\"darryl.ashcraft@sakilacustomer.org\",\"address_id\":536,\"activebool\":true,\"create_date\":\"2006-02-14\",\"last_update\":\"2013-05-26T14:49:45.738\",\"active\":1}",
         "2023-10-12T15:55:37.269+0000"
        ],
        [
         "d9d5652b-4461-4b0c-b44d-7edc01debc70",
         "{\"customer_id\":531,\"store_id\":2,\"first_name\":\"Jamie\",\"last_name\":\"Waugh\",\"email\":\"jamie.waugh@sakilacustomer.org\",\"address_id\":537,\"activebool\":true,\"create_date\":\"2006-02-14\",\"last_update\":\"2013-05-26T14:49:45.738\",\"active\":1}",
         "2023-10-12T15:55:37.269+0000"
        ],
        [
         "d77d68bc-000d-4ce7-a665-16ff3bd42d4b",
         "{\"customer_id\":532,\"store_id\":2,\"first_name\":\"Neil\",\"last_name\":\"Renner\",\"email\":\"neil.renner@sakilacustomer.org\",\"address_id\":538,\"activebool\":true,\"create_date\":\"2006-02-14\",\"last_update\":\"2013-05-26T14:49:45.738\",\"active\":1}",
         "2023-10-12T15:55:37.269+0000"
        ],
        [
         "57cf67db-a9e7-4f5e-9f3d-4a50c417241e",
         "{\"customer_id\":533,\"store_id\":1,\"first_name\":\"Jessie\",\"last_name\":\"Milam\",\"email\":\"jessie.milam@sakilacustomer.org\",\"address_id\":539,\"activebool\":true,\"create_date\":\"2006-02-14\",\"last_update\":\"2013-05-26T14:49:45.738\",\"active\":1}",
         "2023-10-12T15:55:37.269+0000"
        ],
        [
         "bc991be5-4e8c-46ad-9027-23a911e56ec0",
         "{\"customer_id\":534,\"store_id\":1,\"first_name\":\"Christian\",\"last_name\":\"Jung\",\"email\":\"christian.jung@sakilacustomer.org\",\"address_id\":540,\"activebool\":true,\"create_date\":\"2006-02-14\",\"last_update\":\"2013-05-26T14:49:45.738\",\"active\":0}",
         "2023-10-12T15:55:37.269+0000"
        ],
        [
         "08c272e0-f932-446f-831a-b2a697745e3c",
         "{\"customer_id\":535,\"store_id\":1,\"first_name\":\"Javier\",\"last_name\":\"Elrod\",\"email\":\"javier.elrod@sakilacustomer.org\",\"address_id\":541,\"activebool\":true,\"create_date\":\"2006-02-14\",\"last_update\":\"2013-05-26T14:49:45.738\",\"active\":1}",
         "2023-10-12T15:55:37.269+0000"
        ],
        [
         "ddc244c0-31be-45b4-889c-ddea2ec51062",
         "{\"customer_id\":536,\"store_id\":2,\"first_name\":\"Fernando\",\"last_name\":\"Churchill\",\"email\":\"fernando.churchill@sakilacustomer.org\",\"address_id\":542,\"activebool\":true,\"create_date\":\"2006-02-14\",\"last_update\":\"2013-05-26T14:49:45.738\",\"active\":1}",
         "2023-10-12T15:55:37.269+0000"
        ],
        [
         "f2ceff78-9c4e-4dfb-be85-dd480e6a7a2a",
         "{\"customer_id\":537,\"store_id\":2,\"first_name\":\"Clinton\",\"last_name\":\"Buford\",\"email\":\"clinton.buford@sakilacustomer.org\",\"address_id\":543,\"activebool\":true,\"create_date\":\"2006-02-14\",\"last_update\":\"2013-05-26T14:49:45.738\",\"active\":1}",
         "2023-10-12T15:55:37.269+0000"
        ],
        [
         "af75f9db-cae3-4529-af3c-246f186699e4",
         "{\"customer_id\":538,\"store_id\":2,\"first_name\":\"Ted\",\"last_name\":\"Breaux\",\"email\":\"ted.breaux@sakilacustomer.org\",\"address_id\":544,\"activebool\":true,\"create_date\":\"2006-02-14\",\"last_update\":\"2013-05-26T14:49:45.738\",\"active\":1}",
         "2023-10-12T15:55:37.269+0000"
        ],
        [
         "0d0213fc-4edc-4eac-8c0b-1e79eba78524",
         "{\"customer_id\":539,\"store_id\":1,\"first_name\":\"Mathew\",\"last_name\":\"Bolin\",\"email\":\"mathew.bolin@sakilacustomer.org\",\"address_id\":545,\"activebool\":true,\"create_date\":\"2006-02-14\",\"last_update\":\"2013-05-26T14:49:45.738\",\"active\":1}",
         "2023-10-12T15:55:37.269+0000"
        ],
        [
         "6ffded95-fdef-42a3-b071-6055ca805300",
         "{\"customer_id\":540,\"store_id\":1,\"first_name\":\"Tyrone\",\"last_name\":\"Asher\",\"email\":\"tyrone.asher@sakilacustomer.org\",\"address_id\":546,\"activebool\":true,\"create_date\":\"2006-02-14\",\"last_update\":\"2013-05-26T14:49:45.738\",\"active\":1}",
         "2023-10-12T15:55:37.269+0000"
        ],
        [
         "e97b3de8-b5e4-44ec-b70c-be0efc8ab344",
         "{\"customer_id\":541,\"store_id\":2,\"first_name\":\"Darren\",\"last_name\":\"Windham\",\"email\":\"darren.windham@sakilacustomer.org\",\"address_id\":547,\"activebool\":true,\"create_date\":\"2006-02-14\",\"last_update\":\"2013-05-26T14:49:45.738\",\"active\":1}",
         "2023-10-12T15:55:37.269+0000"
        ],
        [
         "14196f11-6cfc-4c0c-86ad-1f6c248c2aba",
         "{\"customer_id\":542,\"store_id\":2,\"first_name\":\"Lonnie\",\"last_name\":\"Tirado\",\"email\":\"lonnie.tirado@sakilacustomer.org\",\"address_id\":548,\"activebool\":true,\"create_date\":\"2006-02-14\",\"last_update\":\"2013-05-26T14:49:45.738\",\"active\":1}",
         "2023-10-12T15:55:37.269+0000"
        ],
        [
         "397a0b90-6f72-4da7-92f9-4b663e057864",
         "{\"customer_id\":543,\"store_id\":1,\"first_name\":\"Lance\",\"last_name\":\"Pemberton\",\"email\":\"lance.pemberton@sakilacustomer.org\",\"address_id\":549,\"activebool\":true,\"create_date\":\"2006-02-14\",\"last_update\":\"2013-05-26T14:49:45.738\",\"active\":1}",
         "2023-10-12T15:55:37.269+0000"
        ],
        [
         "a2819973-d67c-410c-ab61-a2290842c9e0",
         "{\"customer_id\":544,\"store_id\":2,\"first_name\":\"Cody\",\"last_name\":\"Nolen\",\"email\":\"cody.nolen@sakilacustomer.org\",\"address_id\":550,\"activebool\":true,\"create_date\":\"2006-02-14\",\"last_update\":\"2013-05-26T14:49:45.738\",\"active\":1}",
         "2023-10-12T15:55:37.269+0000"
        ],
        [
         "2356ab73-c8c1-4bde-9660-4ea66fa91102",
         "{\"customer_id\":545,\"store_id\":2,\"first_name\":\"Julio\",\"last_name\":\"Noland\",\"email\":\"julio.noland@sakilacustomer.org\",\"address_id\":551,\"activebool\":true,\"create_date\":\"2006-02-14\",\"last_update\":\"2013-05-26T14:49:45.738\",\"active\":1}",
         "2023-10-12T15:55:37.269+0000"
        ],
        [
         "c76052d6-2ae1-4376-b314-8ada153ea5ae",
         "{\"customer_id\":546,\"store_id\":1,\"first_name\":\"Kelly\",\"last_name\":\"Knott\",\"email\":\"kelly.knott@sakilacustomer.org\",\"address_id\":552,\"activebool\":true,\"create_date\":\"2006-02-14\",\"last_update\":\"2013-05-26T14:49:45.738\",\"active\":1}",
         "2023-10-12T15:55:37.269+0000"
        ],
        [
         "b9597cda-688f-4f2f-8af0-c81ae7bb274f",
         "{\"customer_id\":547,\"store_id\":1,\"first_name\":\"Kurt\",\"last_name\":\"Emmons\",\"email\":\"kurt.emmons@sakilacustomer.org\",\"address_id\":553,\"activebool\":true,\"create_date\":\"2006-02-14\",\"last_update\":\"2013-05-26T14:49:45.738\",\"active\":1}",
         "2023-10-12T15:55:37.269+0000"
        ],
        [
         "bb2ebce2-9058-49fe-aec3-aefd412b0541",
         "{\"customer_id\":548,\"store_id\":1,\"first_name\":\"Allan\",\"last_name\":\"Cornish\",\"email\":\"allan.cornish@sakilacustomer.org\",\"address_id\":554,\"activebool\":true,\"create_date\":\"2006-02-14\",\"last_update\":\"2013-05-26T14:49:45.738\",\"active\":1}",
         "2023-10-12T15:55:37.269+0000"
        ],
        [
         "a0dbdb81-353b-4281-a1f1-8456ceb09f73",
         "{\"customer_id\":549,\"store_id\":1,\"first_name\":\"Nelson\",\"last_name\":\"Christenson\",\"email\":\"nelson.christenson@sakilacustomer.org\",\"address_id\":555,\"activebool\":true,\"create_date\":\"2006-02-14\",\"last_update\":\"2013-05-26T14:49:45.738\",\"active\":1}",
         "2023-10-12T15:55:37.269+0000"
        ],
        [
         "7a0cc83d-ea0a-4bc3-a7ee-f4416371792e",
         "{\"customer_id\":550,\"store_id\":2,\"first_name\":\"Guy\",\"last_name\":\"Brownlee\",\"email\":\"guy.brownlee@sakilacustomer.org\",\"address_id\":556,\"activebool\":true,\"create_date\":\"2006-02-14\",\"last_update\":\"2013-05-26T14:49:45.738\",\"active\":1}",
         "2023-10-12T15:55:37.269+0000"
        ],
        [
         "3ca1aae8-5f11-4a3b-86c5-3de07edc3f20",
         "{\"customer_id\":551,\"store_id\":2,\"first_name\":\"Clayton\",\"last_name\":\"Barbee\",\"email\":\"clayton.barbee@sakilacustomer.org\",\"address_id\":557,\"activebool\":true,\"create_date\":\"2006-02-14\",\"last_update\":\"2013-05-26T14:49:45.738\",\"active\":1}",
         "2023-10-12T15:55:37.269+0000"
        ],
        [
         "c1b1049f-6b02-4f35-8661-b6cd6ccf10bf",
         "{\"customer_id\":552,\"store_id\":2,\"first_name\":\"Hugh\",\"last_name\":\"Waldrop\",\"email\":\"hugh.waldrop@sakilacustomer.org\",\"address_id\":558,\"activebool\":true,\"create_date\":\"2006-02-14\",\"last_update\":\"2013-05-26T14:49:45.738\",\"active\":1}",
         "2023-10-12T15:55:37.269+0000"
        ],
        [
         "dd289d9a-e152-4ee6-9a06-821255f1e755",
         "{\"customer_id\":553,\"store_id\":1,\"first_name\":\"Max\",\"last_name\":\"Pitt\",\"email\":\"max.pitt@sakilacustomer.org\",\"address_id\":559,\"activebool\":true,\"create_date\":\"2006-02-14\",\"last_update\":\"2013-05-26T14:49:45.738\",\"active\":1}",
         "2023-10-12T15:55:37.269+0000"
        ],
        [
         "3d835806-c6f8-4b05-a2a7-ef7ff9e71f86",
         "{\"customer_id\":554,\"store_id\":1,\"first_name\":\"Dwayne\",\"last_name\":\"Olvera\",\"email\":\"dwayne.olvera@sakilacustomer.org\",\"address_id\":560,\"activebool\":true,\"create_date\":\"2006-02-14\",\"last_update\":\"2013-05-26T14:49:45.738\",\"active\":1}",
         "2023-10-12T15:55:37.269+0000"
        ],
        [
         "64ce816c-f4d0-4f5a-a791-49aecd9873dc",
         "{\"customer_id\":555,\"store_id\":1,\"first_name\":\"Dwight\",\"last_name\":\"Lombardi\",\"email\":\"dwight.lombardi@sakilacustomer.org\",\"address_id\":561,\"activebool\":true,\"create_date\":\"2006-02-14\",\"last_update\":\"2013-05-26T14:49:45.738\",\"active\":1}",
         "2023-10-12T15:55:37.269+0000"
        ],
        [
         "a414ca6d-3cbe-4b43-8d6a-4efa8c7723ca",
         "{\"customer_id\":556,\"store_id\":2,\"first_name\":\"Armando\",\"last_name\":\"Gruber\",\"email\":\"armando.gruber@sakilacustomer.org\",\"address_id\":562,\"activebool\":true,\"create_date\":\"2006-02-14\",\"last_update\":\"2013-05-26T14:49:45.738\",\"active\":1}",
         "2023-10-12T15:55:37.269+0000"
        ],
        [
         "ab3d4637-790d-4d69-a0e8-8811e144500f",
         "{\"customer_id\":557,\"store_id\":1,\"first_name\":\"Felix\",\"last_name\":\"Gaffney\",\"email\":\"felix.gaffney@sakilacustomer.org\",\"address_id\":563,\"activebool\":true,\"create_date\":\"2006-02-14\",\"last_update\":\"2013-05-26T14:49:45.738\",\"active\":1}",
         "2023-10-12T15:55:37.269+0000"
        ],
        [
         "06087fb1-bc6b-44ac-9d90-80af2c77628f",
         "{\"customer_id\":558,\"store_id\":1,\"first_name\":\"Jimmie\",\"last_name\":\"Eggleston\",\"email\":\"jimmie.eggleston@sakilacustomer.org\",\"address_id\":564,\"activebool\":true,\"create_date\":\"2006-02-14\",\"last_update\":\"2013-05-26T14:49:45.738\",\"active\":0}",
         "2023-10-12T15:55:37.269+0000"
        ],
        [
         "9a669ca4-2fc1-4efb-b52c-c1e8b6930215",
         "{\"customer_id\":559,\"store_id\":2,\"first_name\":\"Everett\",\"last_name\":\"Banda\",\"email\":\"everett.banda@sakilacustomer.org\",\"address_id\":565,\"activebool\":true,\"create_date\":\"2006-02-14\",\"last_update\":\"2013-05-26T14:49:45.738\",\"active\":1}",
         "2023-10-12T15:55:37.269+0000"
        ],
        [
         "d1dab645-91e2-463a-bfbb-29716a26d1d1",
         "{\"customer_id\":560,\"store_id\":1,\"first_name\":\"Jordan\",\"last_name\":\"Archuleta\",\"email\":\"jordan.archuleta@sakilacustomer.org\",\"address_id\":566,\"activebool\":true,\"create_date\":\"2006-02-14\",\"last_update\":\"2013-05-26T14:49:45.738\",\"active\":1}",
         "2023-10-12T15:55:37.269+0000"
        ],
        [
         "2cda5698-644f-4e67-a731-16686fa08407",
         "{\"customer_id\":561,\"store_id\":2,\"first_name\":\"Ian\",\"last_name\":\"Still\",\"email\":\"ian.still@sakilacustomer.org\",\"address_id\":567,\"activebool\":true,\"create_date\":\"2006-02-14\",\"last_update\":\"2013-05-26T14:49:45.738\",\"active\":1}",
         "2023-10-12T15:55:37.269+0000"
        ],
        [
         "8e98fe19-8557-4d5a-97aa-c5c9532c3da2",
         "{\"customer_id\":562,\"store_id\":1,\"first_name\":\"Wallace\",\"last_name\":\"Slone\",\"email\":\"wallace.slone@sakilacustomer.org\",\"address_id\":568,\"activebool\":true,\"create_date\":\"2006-02-14\",\"last_update\":\"2013-05-26T14:49:45.738\",\"active\":1}",
         "2023-10-12T15:55:37.269+0000"
        ],
        [
         "517a7d1f-a6ad-4ffc-b9df-a1ead8eef6c6",
         "{\"customer_id\":563,\"store_id\":2,\"first_name\":\"Ken\",\"last_name\":\"Prewitt\",\"email\":\"ken.prewitt@sakilacustomer.org\",\"address_id\":569,\"activebool\":true,\"create_date\":\"2006-02-14\",\"last_update\":\"2013-05-26T14:49:45.738\",\"active\":1}",
         "2023-10-12T15:55:37.269+0000"
        ],
        [
         "757e134d-0db0-4c6a-b04f-adb1648c3299",
         "{\"customer_id\":564,\"store_id\":2,\"first_name\":\"Bob\",\"last_name\":\"Pfeiffer\",\"email\":\"bob.pfeiffer@sakilacustomer.org\",\"address_id\":570,\"activebool\":true,\"create_date\":\"2006-02-14\",\"last_update\":\"2013-05-26T14:49:45.738\",\"active\":1}",
         "2023-10-12T15:55:37.269+0000"
        ],
        [
         "e72eec68-0d71-4b90-9920-3097a252d359",
         "{\"customer_id\":565,\"store_id\":2,\"first_name\":\"Jaime\",\"last_name\":\"Nettles\",\"email\":\"jaime.nettles@sakilacustomer.org\",\"address_id\":571,\"activebool\":true,\"create_date\":\"2006-02-14\",\"last_update\":\"2013-05-26T14:49:45.738\",\"active\":1}",
         "2023-10-12T15:55:37.269+0000"
        ],
        [
         "a5dfcd46-6c7d-4587-baf2-bd2dafc355bf",
         "{\"customer_id\":566,\"store_id\":1,\"first_name\":\"Casey\",\"last_name\":\"Mena\",\"email\":\"casey.mena@sakilacustomer.org\",\"address_id\":572,\"activebool\":true,\"create_date\":\"2006-02-14\",\"last_update\":\"2013-05-26T14:49:45.738\",\"active\":1}",
         "2023-10-12T15:55:37.269+0000"
        ],
        [
         "168d123f-bc38-4838-bce8-19ae35d7345b",
         "{\"customer_id\":567,\"store_id\":2,\"first_name\":\"Alfredo\",\"last_name\":\"Mcadams\",\"email\":\"alfredo.mcadams@sakilacustomer.org\",\"address_id\":573,\"activebool\":true,\"create_date\":\"2006-02-14\",\"last_update\":\"2013-05-26T14:49:45.738\",\"active\":1}",
         "2023-10-12T15:55:37.269+0000"
        ],
        [
         "0fa4dcc7-3284-4d33-9a48-3ca0aff84d10",
         "{\"customer_id\":568,\"store_id\":2,\"first_name\":\"Alberto\",\"last_name\":\"Henning\",\"email\":\"alberto.henning@sakilacustomer.org\",\"address_id\":574,\"activebool\":true,\"create_date\":\"2006-02-14\",\"last_update\":\"2013-05-26T14:49:45.738\",\"active\":1}",
         "2023-10-12T15:55:37.269+0000"
        ],
        [
         "2f685d7d-87a8-4969-abea-90dc6c881b34",
         "{\"customer_id\":569,\"store_id\":2,\"first_name\":\"Dave\",\"last_name\":\"Gardiner\",\"email\":\"dave.gardiner@sakilacustomer.org\",\"address_id\":575,\"activebool\":true,\"create_date\":\"2006-02-14\",\"last_update\":\"2013-05-26T14:49:45.738\",\"active\":1}",
         "2023-10-12T15:55:37.269+0000"
        ],
        [
         "42880ddc-4737-43c3-81cf-d1cc884c7df8",
         "{\"customer_id\":570,\"store_id\":2,\"first_name\":\"Ivan\",\"last_name\":\"Cromwell\",\"email\":\"ivan.cromwell@sakilacustomer.org\",\"address_id\":576,\"activebool\":true,\"create_date\":\"2006-02-14\",\"last_update\":\"2013-05-26T14:49:45.738\",\"active\":1}",
         "2023-10-12T15:55:37.269+0000"
        ],
        [
         "e763c1d1-e0ee-42c2-af47-9b75441f0acd",
         "{\"customer_id\":571,\"store_id\":2,\"first_name\":\"Johnnie\",\"last_name\":\"Chisholm\",\"email\":\"johnnie.chisholm@sakilacustomer.org\",\"address_id\":577,\"activebool\":true,\"create_date\":\"2006-02-14\",\"last_update\":\"2013-05-26T14:49:45.738\",\"active\":1}",
         "2023-10-12T15:55:37.269+0000"
        ],
        [
         "7b1beccf-055d-43dc-8ea1-70133159f1ee",
         "{\"customer_id\":572,\"store_id\":1,\"first_name\":\"Sidney\",\"last_name\":\"Burleson\",\"email\":\"sidney.burleson@sakilacustomer.org\",\"address_id\":578,\"activebool\":true,\"create_date\":\"2006-02-14\",\"last_update\":\"2013-05-26T14:49:45.738\",\"active\":1}",
         "2023-10-12T15:55:37.269+0000"
        ],
        [
         "f6411d3a-a063-434c-bc37-3ab69b1dff07",
         "{\"customer_id\":573,\"store_id\":1,\"first_name\":\"Byron\",\"last_name\":\"Box\",\"email\":\"byron.box@sakilacustomer.org\",\"address_id\":579,\"activebool\":true,\"create_date\":\"2006-02-14\",\"last_update\":\"2013-05-26T14:49:45.738\",\"active\":1}",
         "2023-10-12T15:55:37.269+0000"
        ],
        [
         "be425aa1-daeb-425f-bc1b-cb4003c1e340",
         "{\"customer_id\":574,\"store_id\":2,\"first_name\":\"Julian\",\"last_name\":\"Vest\",\"email\":\"julian.vest@sakilacustomer.org\",\"address_id\":580,\"activebool\":true,\"create_date\":\"2006-02-14\",\"last_update\":\"2013-05-26T14:49:45.738\",\"active\":1}",
         "2023-10-12T15:55:37.269+0000"
        ],
        [
         "1d54d547-8393-4c30-8450-1957b90bfd1f",
         "{\"customer_id\":575,\"store_id\":2,\"first_name\":\"Isaac\",\"last_name\":\"Oglesby\",\"email\":\"isaac.oglesby@sakilacustomer.org\",\"address_id\":581,\"activebool\":true,\"create_date\":\"2006-02-14\",\"last_update\":\"2013-05-26T14:49:45.738\",\"active\":1}",
         "2023-10-12T15:55:37.269+0000"
        ],
        [
         "2323ec79-f020-461d-aa15-97835b6e8297",
         "{\"customer_id\":576,\"store_id\":2,\"first_name\":\"Morris\",\"last_name\":\"Mccarter\",\"email\":\"morris.mccarter@sakilacustomer.org\",\"address_id\":582,\"activebool\":true,\"create_date\":\"2006-02-14\",\"last_update\":\"2013-05-26T14:49:45.738\",\"active\":1}",
         "2023-10-12T15:55:37.269+0000"
        ],
        [
         "0aae322a-7581-4d54-91b9-af82fe5a77e3",
         "{\"customer_id\":577,\"store_id\":2,\"first_name\":\"Clifton\",\"last_name\":\"Malcolm\",\"email\":\"clifton.malcolm@sakilacustomer.org\",\"address_id\":583,\"activebool\":true,\"create_date\":\"2006-02-14\",\"last_update\":\"2013-05-26T14:49:45.738\",\"active\":1}",
         "2023-10-12T15:55:37.269+0000"
        ],
        [
         "58242212-fc4e-49d7-91c4-7431ffba0e77",
         "{\"customer_id\":578,\"store_id\":2,\"first_name\":\"Willard\",\"last_name\":\"Lumpkin\",\"email\":\"willard.lumpkin@sakilacustomer.org\",\"address_id\":584,\"activebool\":true,\"create_date\":\"2006-02-14\",\"last_update\":\"2013-05-26T14:49:45.738\",\"active\":1}",
         "2023-10-12T15:55:37.269+0000"
        ],
        [
         "8c3bc7ae-9d6e-4136-baf1-5780e3ad3aba",
         "{\"customer_id\":579,\"store_id\":2,\"first_name\":\"Daryl\",\"last_name\":\"Larue\",\"email\":\"daryl.larue@sakilacustomer.org\",\"address_id\":585,\"activebool\":true,\"create_date\":\"2006-02-14\",\"last_update\":\"2013-05-26T14:49:45.738\",\"active\":1}",
         "2023-10-12T15:55:37.269+0000"
        ],
        [
         "bcfb18e7-b82c-45ef-a6d4-e57985a979f1",
         "{\"customer_id\":580,\"store_id\":1,\"first_name\":\"Ross\",\"last_name\":\"Grey\",\"email\":\"ross.grey@sakilacustomer.org\",\"address_id\":586,\"activebool\":true,\"create_date\":\"2006-02-14\",\"last_update\":\"2013-05-26T14:49:45.738\",\"active\":1}",
         "2023-10-12T15:55:37.269+0000"
        ],
        [
         "d973189d-6ac8-48a1-a5e1-95bcb6f87557",
         "{\"customer_id\":581,\"store_id\":1,\"first_name\":\"Virgil\",\"last_name\":\"Wofford\",\"email\":\"virgil.wofford@sakilacustomer.org\",\"address_id\":587,\"activebool\":true,\"create_date\":\"2006-02-14\",\"last_update\":\"2013-05-26T14:49:45.738\",\"active\":1}",
         "2023-10-12T15:55:37.269+0000"
        ],
        [
         "245d8850-9c67-4ff1-9250-33f68c30da04",
         "{\"customer_id\":582,\"store_id\":2,\"first_name\":\"Andy\",\"last_name\":\"Vanhorn\",\"email\":\"andy.vanhorn@sakilacustomer.org\",\"address_id\":588,\"activebool\":true,\"create_date\":\"2006-02-14\",\"last_update\":\"2013-05-26T14:49:45.738\",\"active\":1}",
         "2023-10-12T15:55:37.269+0000"
        ],
        [
         "811a0a31-c6b9-4c67-8f64-edae384c2c7f",
         "{\"customer_id\":583,\"store_id\":1,\"first_name\":\"Marshall\",\"last_name\":\"Thorn\",\"email\":\"marshall.thorn@sakilacustomer.org\",\"address_id\":589,\"activebool\":true,\"create_date\":\"2006-02-14\",\"last_update\":\"2013-05-26T14:49:45.738\",\"active\":1}",
         "2023-10-12T15:55:37.269+0000"
        ],
        [
         "179418e5-38cd-453c-80dd-a4e7d9757797",
         "{\"customer_id\":584,\"store_id\":2,\"first_name\":\"Salvador\",\"last_name\":\"Teel\",\"email\":\"salvador.teel@sakilacustomer.org\",\"address_id\":590,\"activebool\":true,\"create_date\":\"2006-02-14\",\"last_update\":\"2013-05-26T14:49:45.738\",\"active\":1}",
         "2023-10-12T15:55:37.269+0000"
        ],
        [
         "ec9f1871-6fa7-4d91-82dd-7d51101601e6",
         "{\"customer_id\":585,\"store_id\":1,\"first_name\":\"Perry\",\"last_name\":\"Swafford\",\"email\":\"perry.swafford@sakilacustomer.org\",\"address_id\":591,\"activebool\":true,\"create_date\":\"2006-02-14\",\"last_update\":\"2013-05-26T14:49:45.738\",\"active\":1}",
         "2023-10-12T15:55:37.269+0000"
        ],
        [
         "81c4b34f-8c3a-4cdb-b853-7cdf364000b3",
         "{\"customer_id\":586,\"store_id\":1,\"first_name\":\"Kirk\",\"last_name\":\"Stclair\",\"email\":\"kirk.stclair@sakilacustomer.org\",\"address_id\":592,\"activebool\":true,\"create_date\":\"2006-02-14\",\"last_update\":\"2013-05-26T14:49:45.738\",\"active\":1}",
         "2023-10-12T15:55:37.269+0000"
        ],
        [
         "a0c54498-b0be-4ca7-9fd8-73a1404ce60b",
         "{\"customer_id\":587,\"store_id\":1,\"first_name\":\"Sergio\",\"last_name\":\"Stanfield\",\"email\":\"sergio.stanfield@sakilacustomer.org\",\"address_id\":593,\"activebool\":true,\"create_date\":\"2006-02-14\",\"last_update\":\"2013-05-26T14:49:45.738\",\"active\":1}",
         "2023-10-12T15:55:37.269+0000"
        ],
        [
         "990340aa-5422-4847-897d-dbdc66f09cb3",
         "{\"customer_id\":588,\"store_id\":1,\"first_name\":\"Marion\",\"last_name\":\"Ocampo\",\"email\":\"marion.ocampo@sakilacustomer.org\",\"address_id\":594,\"activebool\":true,\"create_date\":\"2006-02-14\",\"last_update\":\"2013-05-26T14:49:45.738\",\"active\":1}",
         "2023-10-12T15:55:37.269+0000"
        ],
        [
         "b6a8f34c-2027-4590-ad14-e69e72a00b6a",
         "{\"customer_id\":589,\"store_id\":1,\"first_name\":\"Tracy\",\"last_name\":\"Herrmann\",\"email\":\"tracy.herrmann@sakilacustomer.org\",\"address_id\":595,\"activebool\":true,\"create_date\":\"2006-02-14\",\"last_update\":\"2013-05-26T14:49:45.738\",\"active\":1}",
         "2023-10-12T15:55:37.269+0000"
        ],
        [
         "12085f87-8c3f-4ed4-bf99-70ec174c04d2",
         "{\"customer_id\":590,\"store_id\":2,\"first_name\":\"Seth\",\"last_name\":\"Hannon\",\"email\":\"seth.hannon@sakilacustomer.org\",\"address_id\":596,\"activebool\":true,\"create_date\":\"2006-02-14\",\"last_update\":\"2013-05-26T14:49:45.738\",\"active\":1}",
         "2023-10-12T15:55:37.269+0000"
        ],
        [
         "f39e4e6b-5e25-42f2-997d-9760e5a808c8",
         "{\"customer_id\":591,\"store_id\":1,\"first_name\":\"Kent\",\"last_name\":\"Arsenault\",\"email\":\"kent.arsenault@sakilacustomer.org\",\"address_id\":597,\"activebool\":true,\"create_date\":\"2006-02-14\",\"last_update\":\"2013-05-26T14:49:45.738\",\"active\":1}",
         "2023-10-12T15:55:37.269+0000"
        ],
        [
         "6443cfce-3275-40ea-9dd6-fba1b1197e68",
         "{\"customer_id\":592,\"store_id\":1,\"first_name\":\"Terrance\",\"last_name\":\"Roush\",\"email\":\"terrance.roush@sakilacustomer.org\",\"address_id\":598,\"activebool\":true,\"create_date\":\"2006-02-14\",\"last_update\":\"2013-05-26T14:49:45.738\",\"active\":0}",
         "2023-10-12T15:55:37.269+0000"
        ],
        [
         "bfe0762a-dfbc-4778-87b7-e92dfcc23b6a",
         "{\"customer_id\":593,\"store_id\":2,\"first_name\":\"Rene\",\"last_name\":\"Mcalister\",\"email\":\"rene.mcalister@sakilacustomer.org\",\"address_id\":599,\"activebool\":true,\"create_date\":\"2006-02-14\",\"last_update\":\"2013-05-26T14:49:45.738\",\"active\":1}",
         "2023-10-12T15:55:37.269+0000"
        ],
        [
         "97f42609-113a-42f5-8680-f09c52a2e6e0",
         "{\"customer_id\":594,\"store_id\":1,\"first_name\":\"Eduardo\",\"last_name\":\"Hiatt\",\"email\":\"eduardo.hiatt@sakilacustomer.org\",\"address_id\":600,\"activebool\":true,\"create_date\":\"2006-02-14\",\"last_update\":\"2013-05-26T14:49:45.738\",\"active\":1}",
         "2023-10-12T15:55:37.269+0000"
        ],
        [
         "5e21e61e-8243-4f41-aea4-713ecb78716f",
         "{\"customer_id\":595,\"store_id\":1,\"first_name\":\"Terrence\",\"last_name\":\"Gunderson\",\"email\":\"terrence.gunderson@sakilacustomer.org\",\"address_id\":601,\"activebool\":true,\"create_date\":\"2006-02-14\",\"last_update\":\"2013-05-26T14:49:45.738\",\"active\":1}",
         "2023-10-12T15:55:37.269+0000"
        ],
        [
         "f36342bd-a6f9-4eb4-a15a-6d574fdb56a5",
         "{\"customer_id\":596,\"store_id\":1,\"first_name\":\"Enrique\",\"last_name\":\"Forsythe\",\"email\":\"enrique.forsythe@sakilacustomer.org\",\"address_id\":602,\"activebool\":true,\"create_date\":\"2006-02-14\",\"last_update\":\"2013-05-26T14:49:45.738\",\"active\":1}",
         "2023-10-12T15:55:37.269+0000"
        ],
        [
         "94503810-2be2-4c41-9071-c2b9308a5e12",
         "{\"customer_id\":597,\"store_id\":1,\"first_name\":\"Freddie\",\"last_name\":\"Duggan\",\"email\":\"freddie.duggan@sakilacustomer.org\",\"address_id\":603,\"activebool\":true,\"create_date\":\"2006-02-14\",\"last_update\":\"2013-05-26T14:49:45.738\",\"active\":1}",
         "2023-10-12T15:55:37.269+0000"
        ],
        [
         "358de6db-0971-40e9-b4e4-d0827d404aa8",
         "{\"customer_id\":598,\"store_id\":1,\"first_name\":\"Wade\",\"last_name\":\"Delvalle\",\"email\":\"wade.delvalle@sakilacustomer.org\",\"address_id\":604,\"activebool\":true,\"create_date\":\"2006-02-14\",\"last_update\":\"2013-05-26T14:49:45.738\",\"active\":1}",
         "2023-10-12T15:55:37.269+0000"
        ],
        [
         "563f9a51-c7cb-4ed0-b9b0-8ae537380f6e",
         "{\"customer_id\":599,\"store_id\":2,\"first_name\":\"Austin\",\"last_name\":\"Cintron\",\"email\":\"austin.cintron@sakilacustomer.org\",\"address_id\":605,\"activebool\":true,\"create_date\":\"2006-02-14\",\"last_update\":\"2013-05-26T14:49:45.738\",\"active\":1}",
         "2023-10-12T15:55:37.269+0000"
        ]
       ],
       "datasetInfos": [],
       "dbfsResultPath": null,
       "isJsonSchema": true,
       "metadata": {},
       "overflow": false,
       "plotOptions": {
        "customPlotOptions": {},
        "displayType": "table",
        "pivotAggregation": null,
        "pivotColumns": null,
        "xColumns": null,
        "yColumns": null
       },
       "removedWidgets": [],
       "schema": [
        {
         "metadata": "{}",
         "name": "_airbyte_ab_id",
         "type": "\"string\""
        },
        {
         "metadata": "{}",
         "name": "_airbyte_data",
         "type": "\"string\""
        },
        {
         "metadata": "{}",
         "name": "_airbyte_emitted_at",
         "type": "\"timestamp\""
        }
       ],
       "type": "table"
      }
     },
     "output_type": "display_data"
    }
   ],
   "source": [
    "display(df)"
   ]
  },
  {
   "cell_type": "code",
   "execution_count": 0,
   "metadata": {
    "application/vnd.databricks.v1+cell": {
     "cellMetadata": {},
     "inputWidgets": {},
     "nuid": "7a040538-3a14-4816-81ab-555768e606ed",
     "showTitle": false,
     "title": ""
    }
   },
   "outputs": [],
   "source": []
  }
 ],
 "metadata": {
  "application/vnd.databricks.v1+notebook": {
   "dashboards": [],
   "language": "python",
   "notebookMetadata": {
    "mostRecentlyExecutedCommandWithImplicitDF": {
     "commandId": 252075659377877,
     "dataframes": [
      "_sqldf"
     ]
    },
    "pythonIndentUnit": 4
   },
   "notebookName": "initial_setup",
   "widgets": {}
  }
 },
 "nbformat": 4,
 "nbformat_minor": 0
}
